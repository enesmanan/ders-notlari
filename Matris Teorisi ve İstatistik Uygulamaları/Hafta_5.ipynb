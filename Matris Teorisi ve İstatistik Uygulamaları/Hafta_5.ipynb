{
 "cells": [
  {
   "cell_type": "markdown",
   "id": "5a596612-c434-40de-acff-62d549335a0b",
   "metadata": {},
   "source": [
    "## Bir Matrisin Rankı\n",
    "Matrislerde rank, matrisin boyutunu ve sıfırdan farklı satır sayısını veren bir sayıdır. Bir matrisin çözüm kümesinin boyutunu belirler ve matrisin çözülebilir olup olmadığını gösterir. Ayrıca matrisin sütunlarının doğrusal bağımlılığını da belirler. \n",
    "\n",
    "Bir matrisin rankı, lineer denklem sistemlerinin çözülebilirliğini, matrisin tersinin varlığını ve matrisin boyutuna bağlı olarak alt uzay boyutunu belirlemek için oldukça önemlidir."
   ]
  },
  {
   "cell_type": "markdown",
   "id": "26d9d0bf-02f9-4b06-b79a-5e54265edd23",
   "metadata": {},
   "source": [
    "<b>Tanım:</b> Bir kare matrisin determinantı sıfır ise o matrise <b>\"Tekil Matris\"</b>, değilse <b>\"Tekil Olmayan Matris\"</b> adı verilir."
   ]
  },
  {
   "cell_type": "markdown",
   "id": "aa3452bc-cf01-49cf-9d15-9bd9990a5631",
   "metadata": {},
   "source": [
    "<b>NOT:</b> $(nxn)$'lik bir kare matrisin mertebesi $n$'dir."
   ]
  },
  {
   "cell_type": "markdown",
   "id": "8f892f79-6b82-424b-84b7-424870be361a",
   "metadata": {},
   "source": [
    "<b>Tanım:</b> $(nxm)$'lik bir matrisin rankı; bu matrisin içerdiği tekil olmayan en büyük alt kare matrisin mertebesidir. $A$ matrisinin rankı $rank(A)$ ile gösterilir. Eğer $A$ matrisi sıfır matris değilse $$1≤ rank(A)≤min\\{n,m\\}$$ eşitliği doğrudur."
   ]
  },
  {
   "cell_type": "markdown",
   "id": "71e92f31-4ddd-41b1-9d03-094c8521c18a",
   "metadata": {},
   "source": [
    "<b>Örnek:</b> Aşağıdaki matrisin rankını bulalım.\n",
    "\n",
    "$\n",
    "A = \\begin{bmatrix}\n",
    "1 & -2 & -1 \\\\\n",
    "-3 & 3 & 0 \\\\\n",
    "2 & 2 & 4 \\\\\n",
    "\\end{bmatrix}\n",
    "$\n"
   ]
  },
  {
   "cell_type": "markdown",
   "id": "e9461ee5-176d-4f19-8d0f-c8a7cafd7728",
   "metadata": {},
   "source": [
    "<b>Çözüm:</b> Bu matris 1 tane 3 mertebesinden, 9 tane 2 mertebesinden ve yine 9 tane 1 mertebesinden alt kare matris içerir."
   ]
  },
  {
   "cell_type": "markdown",
   "id": "dbe224e1-f636-41ca-ae16-286518807f6c",
   "metadata": {},
   "source": [
    "A<sub>1</sub><sup>(3)</sup>=\n",
    "$\\begin{bmatrix}\n",
    "-3 & 3 & -1 \\\\\n",
    "0 & -3 & 0 \\\\\n",
    "2 & 2 & 4 \\\\\n",
    "\\end{bmatrix}$\n",
    "$\\to det$(A<sub>1</sub><sup>(3)</sup>) $=0$ Tekil matristir."
   ]
  },
  {
   "cell_type": "markdown",
   "id": "ccd43f1a-7ffa-453d-9e7e-d6913b841161",
   "metadata": {},
   "source": [
    "A<sub>1</sub><sup>(2)</sup>=\n",
    "$\\begin{bmatrix}\n",
    "-3 & 3 \\\\\n",
    "2 & 2 \\\\\n",
    "\\end{bmatrix}$\n",
    "$\\to det A$'nın 1. satır ve 3. sutunu silinerek elde edildi.\n",
    "$\\to det$(A<sub>1</sub><sup>(2)</sup>) $=(-3).2-(3.2)=-12$ Tekil değildir."
   ]
  },
  {
   "cell_type": "markdown",
   "id": "34c2c889-1d3e-479c-b0b8-66088e3c8b72",
   "metadata": {},
   "source": [
    "$\\begin{bmatrix}\n",
    "-3 & 0  \\\\\n",
    "2 & 4  \\\\\n",
    "\\end{bmatrix} \\xrightarrow[]{1.satır 2.sutun silindi}\n",
    "\\begin{bmatrix}\n",
    "3 & 0  \\\\\n",
    "2 & 4 \\\\\n",
    "\\end{bmatrix} \\xrightarrow[]{1.satır 1.sutun silindi}\n",
    "\\begin{bmatrix}\n",
    "1 & -2 \\\\\n",
    "2 & 2 \\\\\n",
    "\\end{bmatrix} \\xrightarrow[]{2.satır 3.sutun silindi}\n",
    "\\begin{bmatrix}\n",
    "1 & -1 \\\\\n",
    "2 & 4 \\\\\n",
    "\\end{bmatrix} \\xrightarrow[]{2.satır 2.sutun silindi}\n",
    "\\begin{bmatrix}\n",
    "-2 & 1  \\\\\n",
    "2 & 4  \\\\\n",
    "\\end{bmatrix} \\xrightarrow[]{2.satır 1.sutun silindi}\n",
    "\\begin{bmatrix}\n",
    "1 & -2  \\\\\n",
    "-3 & 3  \\\\\n",
    "\\end{bmatrix} \\xrightarrow[]{3.satır 3.sutun silindi}\n",
    "\\begin{bmatrix}\n",
    "1 & -1  \\\\\n",
    "-3 & 0  \\\\\n",
    "\\end{bmatrix} \\xrightarrow[]{3.satır 2.sutun silindi}\n",
    "\\begin{bmatrix}\n",
    "-2 & -1  \\\\\n",
    "3 & 0  \\\\\n",
    "\\end{bmatrix} \\xrightarrow[]{3.satır 1.sutun silindi}$$rank(A)=2$"
   ]
  },
  {
   "cell_type": "markdown",
   "id": "5d9211ae-4065-4a6b-8c86-d15c86c5ac24",
   "metadata": {},
   "source": [
    "<b>NOT:</b> Sırasıyla A<sub>1</sub><sup>(3)</sup>,A<sub>1</sub><sup>(2)</sup>,A<sub>2</sub><sup>(2)</sup>,...,A<sub>9</sub><sup>(2)</sup>'nın determinantına bakılırken ilk tekil olmayan matris A<sub>1</sub><sup>(2)</sup> tespit edildiğinde durup $A$ matrisinin rankı $2$'dir denir.\n",
    "\n",
    "$$rank(A)=2$$"
   ]
  },
  {
   "cell_type": "markdown",
   "id": "7801ec60-bfc3-480f-8d70-88dd0fcc4acf",
   "metadata": {},
   "source": [
    "### Python İle Çözümü"
   ]
  },
  {
   "cell_type": "code",
   "execution_count": 1,
   "id": "8b72e74d-53bc-4e28-aa9c-59b063a154a1",
   "metadata": {},
   "outputs": [
    {
     "name": "stdout",
     "output_type": "stream",
     "text": [
      "Matrisin rankı: 2\n"
     ]
    }
   ],
   "source": [
    "import numpy as np\n",
    "\n",
    "A = np.array([[1, -2, -1], \n",
    "              [-3, 3, 0], \n",
    "              [2, 2, 4]])\n",
    "\n",
    "rank_A = np.linalg.matrix_rank(A)\n",
    "\n",
    "print(\"Matrisin rankı:\", rank_A)"
   ]
  },
  {
   "cell_type": "markdown",
   "id": "2d26b1d7-57f6-43f4-9f8a-4dfa88902ebb",
   "metadata": {},
   "source": [
    "## Alıştırma"
   ]
  },
  {
   "cell_type": "markdown",
   "id": "b1142d18-fe55-48c1-8698-f144f86c7c6a",
   "metadata": {},
   "source": [
    "<b>Soru:</b> Aşağıdaki matrisin rankını bulunuz. Bu soruyu el ile kendiniz çözünüz.\n",
    "\n",
    "$\n",
    "C = \\begin{bmatrix}\n",
    "2 & 1  \\\\\n",
    "4 & 3 \\\\\n",
    "\\end{bmatrix}\n",
    "$\n"
   ]
  },
  {
   "cell_type": "markdown",
   "id": "9d84b764-c246-4c42-bcba-8c5f5b87e60d",
   "metadata": {},
   "source": [
    "### Python İle Çözümü"
   ]
  },
  {
   "cell_type": "code",
   "execution_count": 2,
   "id": "0c952519-b0d2-481e-88a1-c4c825f95395",
   "metadata": {},
   "outputs": [
    {
     "name": "stdout",
     "output_type": "stream",
     "text": [
      "Matris tekil değil.\n",
      "Matrisin rankı: 2\n"
     ]
    }
   ],
   "source": [
    "import numpy as np\n",
    "\n",
    "C = np.array([[2, 1],\n",
    "              [4, 3]])\n",
    "\n",
    "det_C = np.linalg.det(C)\n",
    "\n",
    "if det_C == 0:\n",
    "    print(\"Matris tekil.\")\n",
    "else:\n",
    "    print(\"Matris tekil değil.\")\n",
    "\n",
    "rank_C = np.linalg.matrix_rank(C)\n",
    "\n",
    "print(\"Matrisin rankı:\", rank_C)"
   ]
  }
 ],
 "metadata": {
  "kernelspec": {
   "display_name": "Python 3 (ipykernel)",
   "language": "python",
   "name": "python3"
  },
  "language_info": {
   "codemirror_mode": {
    "name": "ipython",
    "version": 3
   },
   "file_extension": ".py",
   "mimetype": "text/x-python",
   "name": "python",
   "nbconvert_exporter": "python",
   "pygments_lexer": "ipython3",
   "version": "3.9.16"
  }
 },
 "nbformat": 4,
 "nbformat_minor": 5
}
