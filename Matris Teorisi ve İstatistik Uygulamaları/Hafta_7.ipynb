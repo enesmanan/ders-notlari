{
 "cells": [
  {
   "cell_type": "markdown",
   "id": "b465af3b-f89e-47e4-9f5c-e85eee2e5bc7",
   "metadata": {},
   "source": [
    "## Homojen Lineer Denklem Sistemleri\n",
    "\n",
    "$AX=b$ biçimindeki lineer deklem sistemlerinde $b=0$ olduğu zaman yani $AX=0$, homojen lineer deklem denir. Bu tür sistemlerin daima bir çözümü vardır, bu nedenle tuarlıdırlar.\n",
    "\n",
    "Homojen lineer denklem sistemleri her zaman için **sıfır** çözümüne sahiptir. Sıfırdan farklı çözümlerde çözüm kümesinde yer alabilir.\n",
    "\n",
    "$AX=0$ $\\to$ Tek çözüm veya sonuz çözüm çıkar. Eğer tek çözüm çıkarsa çözüm mutlaka sıfır çözümüdür. Sonsuz çözüm çıkarsa sıfır çözümden farklı çözümlere sahiptir demektir.\n",
    "\n",
    "**Not:Denklem sayısı ve bilinmeyen sayısı ile çözümün ilişkisi.** \n",
    "\n",
    "Denklem sayısı $\\to$ $n$\n",
    "\n",
    "Bilinmeyen sayısı $\\to$ $m$\n",
    "\n",
    "1)$m>n$ kesinlikle sonsuz çözüm vardır.\n",
    "\n",
    "2)$m=n$ sonsuz veya tek çözüm olabilir.\n",
    "\n",
    "3)$m<n$ sonsuz veya tek çözüm olabilir.\n",
    "\n",
    "**Not:** Pivot sayısı gerçek denklem sayısını söyler."
   ]
  },
  {
   "cell_type": "markdown",
   "id": "4dd06bd9-2ded-49c8-885b-492093a6dc61",
   "metadata": {},
   "source": [
    "<b>Örnek:</b> Aşağıdaki homojen lineer deklem sisteminin çözüm kümesini araştıralım.\n",
    "\n",
    "$x+2y-z=0$\n",
    "\n",
    "$2x+5y+2z=0$\n",
    "\n",
    "$x+4y+7z=0$"
   ]
  },
  {
   "cell_type": "markdown",
   "id": "3a42a1df-6405-402e-8bf9-707b3853bc44",
   "metadata": {},
   "source": [
    "<b>Çözüm:</b> Sorunun cevabını bulmak için önce denklem sistemini matris formuna yazalım.\n",
    "\n",
    "$\n",
    "\\begin{bmatrix}\n",
    "1 & 1 & 1 \\\\\n",
    "2 & -1 & 1 \\\\\n",
    "3 & 4 & 5\n",
    "\\end{bmatrix}\n",
    "\\begin{bmatrix}\n",
    "x \\\\\n",
    "y \\\\\n",
    "z\n",
    "\\end{bmatrix}\n",
    "=\n",
    "\\begin{bmatrix}\n",
    "0 \\\\\n",
    "0 \\\\\n",
    "0\n",
    "\\end{bmatrix}\n",
    "$\n",
    "\n",
    "Bu matrisi eşelon formuna getirmek için satır işlemleri yapalım.\n",
    "\n",
    "$\n",
    "\\begin{bmatrix}\n",
    "1 & 1 & 1 \\\\\n",
    "0 & -3 & -1 \\\\\n",
    "0 & 0 & -2\n",
    "\\end{bmatrix}\n",
    "\\begin{bmatrix}\n",
    "x \\\\\n",
    "y \\\\\n",
    "z\n",
    "\\end{bmatrix}\n",
    "=\n",
    "\\begin{bmatrix}\n",
    "0 \\\\\n",
    "0 \\\\\n",
    "0\n",
    "\\end{bmatrix}\n",
    "$\n",
    "\n",
    "Bu eşelon formundan son denklemden başlayarak geriye doğru çözelim.\n",
    "\n",
    "$\n",
    "-2z=0 \\implies z=0\n",
    "$\n",
    "\n",
    "$\n",
    "-3y-z=0 \\implies y=0\n",
    "$\n",
    "\n",
    "$\n",
    "x+y+z=0 \\implies x=0\n",
    "$\n",
    "\n",
    "Böylece, denklem sisteminin tek çözümü **X=0**'dır. Yani, çözüm kümesi şöyledir:\n",
    "\n",
    "$\n",
    "C=\\{(0,0,0)\\}\n",
    "$"
   ]
  },
  {
   "cell_type": "markdown",
   "id": "86b2903d-9e74-43de-851c-0d6af55d5a0e",
   "metadata": {},
   "source": [
    "<hr style=\"border: 0.5px solid gray; margin: 25px 0;\">"
   ]
  },
  {
   "cell_type": "markdown",
   "id": "add29fa7-8db7-4b3a-9041-a336fd6e45bf",
   "metadata": {},
   "source": [
    "## Karakteristik Polinom ve Karakteristik Denklem"
   ]
  },
  {
   "cell_type": "markdown",
   "id": "5172c758-987b-4fc3-aaff-dbb02f73795f",
   "metadata": {},
   "source": [
    "Karakteristik polinom, bir kare matrisin özdeğerlerini bulmaya yarayan bir polinomdur. Bir $n \\times n$ kare matrisin karakteristik polinomu şöyle tanımlanır:\n",
    "\n",
    "$$\n",
    "\\det(A - \\lambda I),\n",
    "$$\n",
    "\n",
    "burada $A$ matrisin kendisi, $\\lambda$ ise bilinmeyen bir sabittir ve $I$ birim matristir. Bu ifade, $A$ matrisinin $n$ boyutlu vektör uzayında bir lineer dönüşüm olarak düşünülebileceğinden, $A$ matrisinin özdeğerlerini bulmak için kullanılır.\n",
    "\n",
    "<b>Örnek:</b> Aşağıdaki $3x3$ kare matrisin karakteristik polinomu şöyle hesaplanabilir:\n",
    "\n",
    "$\n",
    "A = \\begin{bmatrix}\n",
    "1 & 2 & 3 \\\\\n",
    "4 & 5 & 6 \\\\\n",
    "7 & 8 & 9\n",
    "\\end{bmatrix}\n",
    "$\n",
    "\n",
    "$\n",
    "\\begin{aligned}\n",
    "\\det(A - \\lambda I) &= \\begin{vmatrix}\n",
    "1-\\lambda & 2 & 3 \\\\\n",
    "4 & 5-\\lambda & 6 \\\\\n",
    "7 & 8 & 9-\\lambda\n",
    "\\end{vmatrix} \\\\\n",
    "&= (1-\\lambda)\\begin{vmatrix}\n",
    "5-\\lambda & 6 \\\\\n",
    "8 & 9-\\lambda\n",
    "\\end{vmatrix} - 2\\begin{vmatrix}\n",
    "4 & 6 \\\\\n",
    "7 & 9-\\lambda\n",
    "\\end{vmatrix} + 3\\begin{vmatrix}\n",
    "4 & 5-\\lambda \\\\\n",
    "7 & 8\n",
    "\\end{vmatrix} \\\\\n",
    "&= (1-\\lambda)((5-\\lambda)(9-\\lambda) - 8 \\cdot 6) - 2((4 \\cdot (9-\\lambda)) - (7 \\cdot 6)) + 3((4 \\cdot 8) - (7 \\cdot (5-\\lambda))) \\\\\n",
    "&= -\\lambda^3 + 15\\lambda^2 - 18\\lambda \\\\\n",
    "&= -\\lambda(\\lambda - 3)(\\lambda - 12)\n",
    "\\end{aligned}\n",
    "$\n",
    "\n",
    "Böylece, matrisin özdeğerleri $\\lambda = 0, 3, 12$ olarak bulunur.\n"
   ]
  },
  {
   "cell_type": "markdown",
   "id": "97feaee1-d742-40c8-8ce7-2ac96fa28acb",
   "metadata": {},
   "source": [
    "<b>Örnek:</b> Matrisinin karakteristik polinomunu bulunuz.\n",
    "\n",
    "$\n",
    "A = \\begin{bmatrix}\n",
    "1 & 3 \\\\\n",
    "-2 & 1 \\\\\n",
    "\\end{bmatrix}\n",
    "$"
   ]
  },
  {
   "cell_type": "markdown",
   "id": "36cfa30c-c49e-4710-9546-e1a55faa0233",
   "metadata": {},
   "source": [
    "<b>Çözüm:</b>\n",
    "\n",
    "$\n",
    "\\det(A - \\lambda I) = \\begin{vmatrix}\n",
    "1 - \\lambda & 3 \\\\\n",
    "-2 & 1 - \\lambda \\\\\n",
    "\\end{vmatrix}\n",
    "$\n",
    "\n",
    "Bu determinantı açarsak,\n",
    "\n",
    "$\n",
    "\\det(A - \\lambda I) = (1 - \\lambda)^2 + 6\n",
    "$\n",
    "\n",
    "Bu polinomun kökleri yoktur, çünkü herhangi bir $\\lambda$ değeri için polinomun değeri sıfırdan büyüktür. Bu nedenle, matrisin karakteristik polinomu şöyledir:\n",
    "\n",
    "$\n",
    "p(\\lambda) = (1 - \\lambda)^2 + 6\n",
    "$"
   ]
  },
  {
   "cell_type": "markdown",
   "id": "df8b2c92-b1bc-40b3-9d1e-54281fb009fc",
   "metadata": {},
   "source": [
    "<hr style=\"border: 0.5px solid gray; margin: 25px 0;\">"
   ]
  },
  {
   "cell_type": "markdown",
   "id": "428b59db-f91f-4509-9057-a46448452bc2",
   "metadata": {},
   "source": [
    "## Cayley Hamilton Teoremi\n",
    "\n",
    "Bir matrisin karakteristik polinomunu kullanarak aynı matrisin polinomunu hesaplamamıza olanak tanıyan bir teoremdir. Bu teoreme göre, her kare matris, kendi karakteristik polinomunun üzerinde sıfır olacak şekilde yazılabilir. Yani, bir kare matrisin karakteristik polinomu $p(\\lambda)$ ise, $p(A) = 0$ olur."
   ]
  },
  {
   "cell_type": "markdown",
   "id": "5adeb8e6-e938-46d2-a17a-9e1c8aa4783b",
   "metadata": {},
   "source": [
    "<b>Örnek:</b> Matrisinin tersini Cayley Hamilton teoreminin kullanarak elde ediniz.\n",
    "\n",
    "$\n",
    "A = \\begin{bmatrix}\n",
    "1 & 3 \\\\\n",
    "-2 & 1 \\\\\n",
    "\\end{bmatrix}\n",
    "$"
   ]
  },
  {
   "cell_type": "markdown",
   "id": "5cf9be2e-2125-4a3b-8695-5de546fe1f7e",
   "metadata": {},
   "source": [
    "<b>Çözüm:</b> Adım adım çözüm \n",
    "\n",
    "Cayley Hamilton teoremine göre, her kare matris kendi karakteristik denklemini sağlar. Yani, $A$ bir $n \\times n$ matris ise ve $I_n$ birim matris ise, $A$'nın karakteristik polinomu şöyle tanımlanır:\n",
    "\n",
    "$$p_A(\\lambda) = \\det(\\lambda I_n - A)$$\n",
    "\n",
    "Bu polinomun kökleri $A$'nın özdeğerleridir. Teoreme göre, $p_A(A) = 0$ olur. Bu da şu anlama gelir:\n",
    "\n",
    "$$\\det(A I_n - A) = 0$$\n",
    "\n",
    "Bu formülü kullanarak, $A$'nın tersini elde etmek için şu adımları izleyebiliriz:\n",
    "\n",
    "1. $A$'nın karakteristik polinomunu bul: $p_A(\\lambda) = \\det(\\lambda I_2 - A) = \\begin{vmatrix} \\lambda - 1 & -3 \\\\ 2 & \\lambda - 1 \\\\ \\end{vmatrix} = (\\lambda - 1)^2 + 6 = \\lambda^2 - 2\\lambda + 7$\n",
    "2. $p_A(A) = 0$ olduğunu kullanarak, $A$'yı karakteristik polinomunun katsayıları ile ifade et: $p_A(A) = A^2 - 2A + 7I_2 = 0 \\implies A^2 - 2A = -7I_2$\n",
    "3. Her iki tarafı da $-7$ ile bölerek, $A^{-1}$'i elde et: $\\frac{1}{-7}(A^2 - 2A) = I_2 \\implies A^{-1} = \\frac{1}{-7}(2A - A^2)$\n",
    "4. Sonucu basitleştirerek, doğru cevabı kontrol et: $A^{-1} = \\frac{1}{-7}\\begin{bmatrix} 2 & 6 \\\\ -4 & 2 \\\\ \\end{bmatrix} - \\frac{1}{-7}\\begin{bmatrix} 1 & 9 \\\\ -6 & 1 \\\\ \\end{bmatrix} = \\frac{1}{7}\\begin{bmatrix} -1 & -3 \\\\ 2 & -1 \\\\ \\end{bmatrix} + \\frac{1}{7}\\begin{bmatrix} 1 & 9 \\\\ -6 & 1 \\\\ \\end{bmatrix} = \\frac{1}{7}\\begin{bmatrix} 0 & 6 \\\\ -4 & 0 \\\\ \\end{bmatrix} = \\begin{bmatrix} \\frac{1}{7} & -\\frac{3}{7} \\\\ \\frac{2}{7} & \\frac{1}{7} \\\\ \\end{bmatrix}$"
   ]
  },
  {
   "cell_type": "markdown",
   "id": "e4a90041-b169-41a4-b34a-58aed9f4bd2c",
   "metadata": {},
   "source": [
    "<hr style=\"border: 0.5px solid gray; margin: 25px 0;\">"
   ]
  }
 ],
 "metadata": {
  "kernelspec": {
   "display_name": "Python 3 (ipykernel)",
   "language": "python",
   "name": "python3"
  },
  "language_info": {
   "codemirror_mode": {
    "name": "ipython",
    "version": 3
   },
   "file_extension": ".py",
   "mimetype": "text/x-python",
   "name": "python",
   "nbconvert_exporter": "python",
   "pygments_lexer": "ipython3",
   "version": "3.9.16"
  }
 },
 "nbformat": 4,
 "nbformat_minor": 5
}
