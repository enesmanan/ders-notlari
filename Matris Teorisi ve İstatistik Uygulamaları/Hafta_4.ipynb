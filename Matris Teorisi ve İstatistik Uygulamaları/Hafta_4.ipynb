{
 "cells": [
  {
   "cell_type": "markdown",
   "id": "6b9c069d-c8bb-4df9-9ade-c6caa6d794dc",
   "metadata": {},
   "source": [
    "## Örnek Sorular\n",
    "Bu örnek soruları el ile çözmek pratik için iyi olabilir, buradaki çözümler Python ile olacaktır."
   ]
  },
  {
   "cell_type": "markdown",
   "id": "4d40b432-2f43-4474-9534-6c9014bb0f79",
   "metadata": {},
   "source": [
    "<b>Soru1:</b> \n",
    "\n",
    "$\n",
    "A = \\begin{bmatrix}\n",
    "2 & -2 & 4  \\\\\n",
    "1 & 2 & 8 \\\\\n",
    "0 & 6 & 2 \\\\\n",
    "\\end{bmatrix}\n",
    "$\n",
    "\n",
    "$det(A)=|A|=?$\n",
    "\n",
    "Eğer varsa $A^{-1}=?$"
   ]
  },
  {
   "cell_type": "markdown",
   "id": "b847c61f-2322-420c-88f9-a26592397f65",
   "metadata": {},
   "source": [
    "<b>Çözüm:</b> "
   ]
  },
  {
   "cell_type": "code",
   "execution_count": 1,
   "id": "14cb44ec-29e4-48fc-a60c-0d6aad684204",
   "metadata": {},
   "outputs": [
    {
     "name": "stdout",
     "output_type": "stream",
     "text": [
      "A'nın determinantı: -59.999999999999986\n",
      "A'nın tersi:\n",
      " [[ 0.73333333 -0.46666667  0.4       ]\n",
      " [ 0.03333333 -0.06666667  0.2       ]\n",
      " [-0.1         0.2        -0.1       ]]\n"
     ]
    }
   ],
   "source": [
    "import numpy as np\n",
    "\n",
    "A = np.array([[2,-2,4],\n",
    "              [1,2,8],\n",
    "              [0,6,2]])\n",
    "det_A = np.linalg.det(A)\n",
    "print('A\\'nın determinantı:', det_A)\n",
    "\n",
    "if det_A != 0:\n",
    "    A_ters = np.linalg.inv(A)\n",
    "    print('A\\'nın tersi:\\n', A_ters)\n",
    "else:\n",
    "    print('A terslenebilir değil çünkü determinantı sıfırdır.')\n"
   ]
  },
  {
   "cell_type": "markdown",
   "id": "0fc6ab3e-e5d6-47b8-bce3-1acc19f16f42",
   "metadata": {},
   "source": [
    "<hr style=\"border: 0.5px solid gray; margin: 25px 0;\">"
   ]
  },
  {
   "cell_type": "markdown",
   "id": "08ca994d-a27d-4b9a-8136-11a6468afab2",
   "metadata": {},
   "source": [
    "<b>Soru2:</b> \n",
    "\n",
    "$\n",
    "B = \\begin{bmatrix}\n",
    "2 & 1 \\\\\n",
    "0 & 4 \\\\\n",
    "\\end{bmatrix}\n",
    "$\n",
    "\n",
    "$det(A)=|A|=?$\n",
    "\n",
    "Eğer varsa $A^{-1}=?$"
   ]
  },
  {
   "cell_type": "code",
   "execution_count": 2,
   "id": "6496ddc5-d3b0-4c10-b01b-28ea65097e23",
   "metadata": {},
   "outputs": [
    {
     "name": "stdout",
     "output_type": "stream",
     "text": [
      "A'nın determinantı: 7.999999999999998\n",
      "A'nın tersi:\n",
      " [[ 0.5   -0.125]\n",
      " [ 0.     0.25 ]]\n"
     ]
    }
   ],
   "source": [
    "import numpy as np\n",
    "\n",
    "A = np.array([[2,1],\n",
    "              [0,4]])\n",
    "det_A = np.linalg.det(A)\n",
    "print('A\\'nın determinantı:', det_A)\n",
    "\n",
    "if det_A != 0:\n",
    "    A_ters = np.linalg.inv(A)\n",
    "    print('A\\'nın tersi:\\n', A_ters)\n",
    "else:\n",
    "    print('A terslenebilir değil çünkü determinantı sıfırdır.')\n"
   ]
  }
 ],
 "metadata": {
  "kernelspec": {
   "display_name": "Python 3 (ipykernel)",
   "language": "python",
   "name": "python3"
  },
  "language_info": {
   "codemirror_mode": {
    "name": "ipython",
    "version": 3
   },
   "file_extension": ".py",
   "mimetype": "text/x-python",
   "name": "python",
   "nbconvert_exporter": "python",
   "pygments_lexer": "ipython3",
   "version": "3.9.16"
  }
 },
 "nbformat": 4,
 "nbformat_minor": 5
}
