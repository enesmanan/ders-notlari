{
 "cells": [
  {
   "attachments": {},
   "cell_type": "markdown",
   "id": "17fce2b8-03ab-4459-89d1-39dddb059845",
   "metadata": {},
   "source": [
    "# Toplama İşlemi"
   ]
  },
  {
   "cell_type": "code",
   "execution_count": 1,
   "id": "c792f35a-fb39-4004-bcdd-046071087a6c",
   "metadata": {},
   "outputs": [
    {
     "name": "stdout",
     "output_type": "stream",
     "text": [
      "[[ 8 10 12]\n",
      " [14 16 18]]\n"
     ]
    }
   ],
   "source": [
    "import numpy as np\n",
    "\n",
    "def matris_topla(matris1, matris2):\n",
    "    if matris1.shape == matris2.shape:\n",
    "        toplam_matrisi = matris1 + matris2\n",
    "        return toplam_matrisi\n",
    "    else:\n",
    "        print('Boyutlar aynı olmadığı için toplama işlemi yapılamaz.')\n",
    "        \n",
    "\n",
    "matris1 = np.array([[1, 2, 3], \n",
    "                    [4, 5, 6]])\n",
    "\n",
    "matris2 = np.array([[7, 8, 9], \n",
    "                    [10, 11, 12]])\n",
    "\n",
    "print(matris_topla(matris1, matris2))"
   ]
  },
  {
   "attachments": {},
   "cell_type": "markdown",
   "id": "e5669c7b-6868-48b4-8ea7-54c787e918f7",
   "metadata": {},
   "source": [
    "# Çıkarma İşlemi"
   ]
  },
  {
   "cell_type": "code",
   "execution_count": 2,
   "id": "f1532970-7f69-4f52-b0fb-214f1317dbad",
   "metadata": {},
   "outputs": [
    {
     "name": "stdout",
     "output_type": "stream",
     "text": [
      "[[-6 -6 -6]\n",
      " [-6 -6 -6]]\n"
     ]
    }
   ],
   "source": [
    "import numpy as np\n",
    "\n",
    "def matris_cikar(matris1, matris2):\n",
    "    if matris1.shape == matris2.shape:\n",
    "        cikarma_matrisi = matris1 - matris2\n",
    "        return cikarma_matrisi\n",
    "    else:\n",
    "        print('Boyutlar aynı olmadığı için çıkarma işlemi yapılamaz.')\n",
    "\n",
    "matris1 = np.array([[1, 2, 3], \n",
    "                    [4, 5, 6]])\n",
    "\n",
    "matris2 = np.array([[7, 8, 9], \n",
    "                    [10, 11, 12]])\n",
    "\n",
    "print(matris_cikar(matris1, matris2))"
   ]
  },
  {
   "attachments": {},
   "cell_type": "markdown",
   "id": "983d21cf-89d2-400c-a2b8-ea58f25a23c1",
   "metadata": {},
   "source": [
    "# Skaler İle Çarpma"
   ]
  },
  {
   "cell_type": "code",
   "execution_count": 3,
   "id": "5cc9e9fa-9a64-40a9-b22f-0eb2a08d0e5a",
   "metadata": {},
   "outputs": [
    {
     "name": "stdout",
     "output_type": "stream",
     "text": [
      "[[ 3  6  9]\n",
      " [12 15 18]]\n"
     ]
    }
   ],
   "source": [
    "import numpy as np\n",
    "\n",
    "def matris_carp_skaler(matris, skaler):\n",
    "    carpim_matrisi = skaler * matris\n",
    "    return carpim_matrisi\n",
    "\n",
    "matris = np.array([[1, 2, 3], \n",
    "                    [4, 5, 6]])\n",
    "\n",
    "skaler = 3\n",
    "\n",
    "\n",
    "print(matris_carp_skaler(matris, skaler))"
   ]
  },
  {
   "attachments": {},
   "cell_type": "markdown",
   "id": "8f328c40-e72a-4ca2-8721-9371f6f48833",
   "metadata": {},
   "source": [
    "# Çarpma İşlemi"
   ]
  },
  {
   "cell_type": "code",
   "execution_count": 4,
   "id": "f6868cb1-7ab6-4a66-9651-8f4fd8210451",
   "metadata": {},
   "outputs": [
    {
     "name": "stdout",
     "output_type": "stream",
     "text": [
      "[[19 22]\n",
      " [43 50]]\n"
     ]
    }
   ],
   "source": [
    "import numpy as np\n",
    "\n",
    "def matris_carp(matris1, matris2):\n",
    "    matris_carpimi = np.dot(matris1, matris2)\n",
    "    return matris_carpimi\n",
    "\n",
    "\n",
    "matris1 = np.array([[1, 2], \n",
    "                    [3, 4]])\n",
    "\n",
    "matris2 = np.array([[5, 6], \n",
    "                    [7, 8]])\n",
    "\n",
    "print(matris_carp(matris1, matris2))"
   ]
  },
  {
   "attachments": {},
   "cell_type": "markdown",
   "id": "7426e42f-5808-4876-a50f-b36c4b4a3e22",
   "metadata": {},
   "source": [
    "# Determinant Hesabı"
   ]
  },
  {
   "cell_type": "code",
   "execution_count": 5,
   "id": "9a81a259-cc59-4af6-9db2-9ccad848f14a",
   "metadata": {},
   "outputs": [
    {
     "name": "stdout",
     "output_type": "stream",
     "text": [
      "-2.0000000000000004\n"
     ]
    }
   ],
   "source": [
    "import numpy as np\n",
    "\n",
    "def determinant(matris):\n",
    "    det = np.linalg.det(matris)\n",
    "    return det\n",
    "\n",
    "matris = np.array([[1, 2], \n",
    "                   [3, 4]])\n",
    "\n",
    "print(determinant(matris))"
   ]
  },
  {
   "attachments": {},
   "cell_type": "markdown",
   "id": "7acac672-46a9-4f81-8888-0060c4751c01",
   "metadata": {},
   "source": [
    "# Minör Hesabı"
   ]
  },
  {
   "cell_type": "code",
   "execution_count": 6,
   "id": "9ec52a89-f043-4b92-b471-caf9493f89ad",
   "metadata": {},
   "outputs": [
    {
     "name": "stdout",
     "output_type": "stream",
     "text": [
      "-7.999999999999998\n"
     ]
    }
   ],
   "source": [
    "import numpy as np\n",
    "\n",
    "def matris_minor(matris, row, col):\n",
    "    # belirtilen satır ve sütun matristen atılır\n",
    "    minor_matris = np.delete(np.delete(matris, row-1, axis=0), col-1, axis=1)\n",
    "    # geriye kalan matrisin determinantı minöre eşittir\n",
    "    minor = np.linalg.det(minor_matris)\n",
    "    return minor\n",
    "\n",
    "\n",
    "matris = np.array([[1, 2, 3], \n",
    "                   [2, 1, 5], \n",
    "                   [-1, 4, 2]])\n",
    "\n",
    "print(matris_minor(matris, 2, 1))"
   ]
  },
  {
   "attachments": {},
   "cell_type": "markdown",
   "id": "a56c4f8d-939d-426f-82c7-a34f2b253d3f",
   "metadata": {},
   "source": [
    "# Kofaktör Hesabı"
   ]
  },
  {
   "cell_type": "code",
   "execution_count": 7,
   "id": "753ff02d-3522-48b7-be78-824122e7c3d7",
   "metadata": {},
   "outputs": [
    {
     "name": "stdout",
     "output_type": "stream",
     "text": [
      "[[ 18.   2. -32.]\n",
      " [ -9.  11.  13.]\n",
      " [  9.  -5.  -1.]]\n"
     ]
    }
   ],
   "source": [
    "import numpy as np\n",
    "\n",
    "def kofaktor(matris):\n",
    "    boyut = matris.shape[0] # Matrisin boyutunu al\n",
    "    \n",
    "    # Eğer matris 1x1 boyutundaysa, kofaktörü 1 olarak dön\n",
    "    if boyut == 1:\n",
    "        return np.array([[1]])\n",
    "\n",
    "    # Kofaktör matrisi için boş bir matris oluştur\n",
    "    kofaktor_matrisi = np.zeros((boyut, boyut))\n",
    "\n",
    "    # Her bir elemanın kofaktörünü hesapla\n",
    "    for i in range(boyut):\n",
    "        for j in range(boyut):\n",
    "            # Matrisin i. satırını ve j. sütununu silerek minör matrisi oluştur\n",
    "            minordeki_determinant = np.linalg.det(np.delete(np.delete(matris, i, axis=0), j, axis=1))\n",
    "            # İşaretlendirme kuralı uygula\n",
    "            isaret = (-1) ** (i + j)\n",
    "            # Kofaktör matrisindeki i,j elemanını hesapla\n",
    "            kofaktor_matrisi[i, j] = isaret * minordeki_determinant\n",
    "\n",
    "    return kofaktor_matrisi\n",
    "\n",
    "matris = np.array([[1, 2, -1], \n",
    "                   [3, 5, 2], \n",
    "                   [7, 1, 4]])\n",
    "\n",
    "\n",
    "print(kofaktor(matris))"
   ]
  },
  {
   "attachments": {},
   "cell_type": "markdown",
   "id": "01cf9257-4157-40e5-b687-f2168de27a29",
   "metadata": {},
   "source": [
    "# Satır Eşdeğerliği"
   ]
  },
  {
   "cell_type": "code",
   "execution_count": 8,
   "id": "2a0eaff7-1a18-40bf-b0f5-4f9291eb8c98",
   "metadata": {},
   "outputs": [
    {
     "name": "stdout",
     "output_type": "stream",
     "text": [
      "False\n"
     ]
    }
   ],
   "source": [
    "import numpy as np\n",
    "\n",
    "def satir_esdeger_mi(matris1, matris2):\n",
    "    rank_matris1 = np.linalg.matrix_rank(matris1)\n",
    "    rank_matris2 = np.linalg.matrix_rank(matris2)\n",
    "    if rank_matris1 == rank_matris2:\n",
    "        return True\n",
    "    else:\n",
    "        return False\n",
    "    \n",
    "matris1 = np.array([[1, 2, 3], \n",
    "                    [4, 5, 6], \n",
    "                    [7, 8, 9]])\n",
    "\n",
    "matris2 = np.array([[4, 5, 6], \n",
    "                    [1, 2, 3], \n",
    "                    [7, 8, 4]])\n",
    "\n",
    "print(satir_esdeger_mi(matris1, matris2))"
   ]
  },
  {
   "attachments": {},
   "cell_type": "markdown",
   "id": "2932f63a-ea23-467b-b189-1f2728b3f6eb",
   "metadata": {},
   "source": [
    "# Matrislerin Tersi"
   ]
  },
  {
   "cell_type": "code",
   "execution_count": 9,
   "id": "1012379f-b39e-4d48-9deb-2b0d24892d35",
   "metadata": {},
   "outputs": [
    {
     "name": "stdout",
     "output_type": "stream",
     "text": [
      "[[ 0.71428571 -0.42857143]\n",
      " [-0.14285714  0.28571429]]\n"
     ]
    }
   ],
   "source": [
    "import numpy as np\n",
    "\n",
    "def ters_matris(matris):\n",
    "    if np.linalg.det(matris) == 0: # det=0 sa ters yok\n",
    "        print('Matrisin tersi yoktur.')\n",
    "    else:\n",
    "        Ters_matris = np.linalg.inv(matris)\n",
    "        return Ters_matris \n",
    "\n",
    "\n",
    "matris = np.array([[2, 3], \n",
    "                   [1, 5]])\n",
    "\n",
    "print(ters_matris(matris))"
   ]
  },
  {
   "attachments": {},
   "cell_type": "markdown",
   "id": "6372a86c-af59-45ba-9cd7-3062b10dbc99",
   "metadata": {},
   "source": [
    "# Matrisin Rankı"
   ]
  },
  {
   "cell_type": "code",
   "execution_count": 10,
   "id": "005ce3b8-3b0b-4c0f-bc84-8e79a3de239c",
   "metadata": {},
   "outputs": [
    {
     "name": "stdout",
     "output_type": "stream",
     "text": [
      "Matris tekil değil.\n",
      "2\n"
     ]
    }
   ],
   "source": [
    "import numpy as np\n",
    "\n",
    "def rank_matris(matris):\n",
    "    det = np.linalg.det(matris)\n",
    "\n",
    "    if det == 0:\n",
    "        print(\"Matris tekil.\")\n",
    "    else:\n",
    "        print(\"Matris tekil değil.\")\n",
    "    rank = np.linalg.matrix_rank(matris)\n",
    "    return  rank\n",
    "\n",
    "matris = np.array([[2, 1],\n",
    "                   [4, 3]])\n",
    "\n",
    "print(rank_matris(matris))"
   ]
  },
  {
   "attachments": {},
   "cell_type": "markdown",
   "id": "70943ae2-0333-46a8-bc75-923e0e847747",
   "metadata": {},
   "source": [
    "# Lineer Denklem Sistemleri"
   ]
  },
  {
   "cell_type": "code",
   "execution_count": 11,
   "id": "5646cec6-b6cf-46f2-a511-88ab80abf116",
   "metadata": {},
   "outputs": [
    {
     "name": "stdout",
     "output_type": "stream",
     "text": [
      "[0.59090909 0.36363636]\n"
     ]
    }
   ],
   "source": [
    "import numpy as np\n",
    "\n",
    "def lineer_denklem(A, b):\n",
    "    cozum = np.linalg.solve(A, b)\n",
    "    return cozum\n",
    "\n",
    "# Katsayılar matrisi A ve sabitler matrisi b'yi tanımla\n",
    "A = np.array([[2, 5], \n",
    "              [4, -1]])\n",
    "\n",
    "b = np.array([3, 2])\n",
    "\n",
    "print(lineer_denklem(A, b))"
   ]
  },
  {
   "attachments": {},
   "cell_type": "markdown",
   "id": "959d511e-f44c-400b-bf74-4a3603a2826f",
   "metadata": {},
   "source": [
    "# Gauss Yoketme Metodu"
   ]
  },
  {
   "cell_type": "code",
   "execution_count": 12,
   "id": "3e8f6b84-9be4-4ff1-83b0-323f5f85cf71",
   "metadata": {},
   "outputs": [
    {
     "name": "stdout",
     "output_type": "stream",
     "text": [
      "[1.0, 2.0, -3.0]\n"
     ]
    }
   ],
   "source": [
    "import numpy as np\n",
    "\n",
    "def gauss_elimination(A):\n",
    "    n = len(A)\n",
    "\n",
    "    # Her sütun için\n",
    "    for i in range(n):\n",
    "        # Sıfır olmayan ilk elemanı 1 yapmak için satırı bölelim\n",
    "        pivot = A[i][i]\n",
    "        for j in range(i, n+1):\n",
    "            A[i][j] /= pivot\n",
    "\n",
    "        # Altındaki elemanları sıfırlamak için satır işlemleri yapalım\n",
    "        for k in range(i+1, n):\n",
    "            factor = A[k][i]\n",
    "            for j in range(i, n+1):\n",
    "                A[k][j] -= factor * A[i][j]\n",
    "\n",
    "    # Geriye doğru çözüm yapalım\n",
    "    x = [0] * n # Çözüm kümesini tutacak bir liste oluşturalım\n",
    "    for i in range(n-1, -1, -1): # Son satırdan başlayarak yukarı doğru ilerleyelim\n",
    "        x[i] = A[i][n] # Sağ taraftaki değeri alalım\n",
    "        for j in range(i+1, n): # Üstündeki elemanları çıkartalım\n",
    "            x[i] -= A[i][j] * x[j]\n",
    "\n",
    "    # Çözüm kümesini döndürelim\n",
    "    return x\n",
    "\n",
    "A = [[2, 1, -2, 10],\n",
    "     [3, 2, 2, 1],\n",
    "     [5, 4, 3, 4]]\n",
    "\n",
    "x = gauss_elimination(A)\n",
    "\n",
    "print(x)"
   ]
  },
  {
   "attachments": {},
   "cell_type": "markdown",
   "id": "9fbe580e-3acd-4d95-b982-db20070e45ca",
   "metadata": {},
   "source": [
    "# Homojen Lineer Denklem "
   ]
  },
  {
   "cell_type": "code",
   "execution_count": 13,
   "id": "794ac97f-aeb2-4821-aa5d-037b59be9c25",
   "metadata": {},
   "outputs": [
    {
     "name": "stdout",
     "output_type": "stream",
     "text": [
      "Sıfır Çözüm.\n"
     ]
    }
   ],
   "source": [
    "import numpy as np\n",
    "\n",
    "# Homojen lineer denklem sistemi AX = 0 şeklinde verilsin\n",
    "# A matrisi katsayıları içersin\n",
    "A = np.array([[1, 2, -3],\n",
    "              [2, 5, 2],\n",
    "              [3, -1, 7]])\n",
    "\n",
    "# A matrisinin determinantını hesaplayalım\n",
    "det = np.linalg.det(A)\n",
    "\n",
    "# Determinant sıfırsa, sistem tekillik olabilir\n",
    "if det == 0:\n",
    "    # A matrisinin özdeğerlerini ve özvektörlerini bulalım\n",
    "    eigenvalues, eigenvectors = np.linalg.eig(A)\n",
    "    # Sıfır olmayan bir özdeğer varsa, sistem sonsuz çözüme sahiptir\n",
    "    if any(eigenvalues != 0):\n",
    "        print(\"Sonsuz Çözüm.\")\n",
    "    # Tüm özdeğerler sıfırsa, sistem sadece aşikar çözüme sahiptir\n",
    "    else:\n",
    "        print(\"Tekil Çözüm.\")\n",
    "# Determinant sıfır değilse, sistem tekil değildir ve sadece aşikar çözüme sahiptir\n",
    "else:\n",
    "    print(\"Sıfır Çözüm.\")"
   ]
  },
  {
   "attachments": {},
   "cell_type": "markdown",
   "id": "3d9c47c1-ce0a-4f15-94f8-8f2b88cae7c8",
   "metadata": {},
   "source": [
    "# Özdeğer ve Özvektör "
   ]
  },
  {
   "cell_type": "code",
   "execution_count": 1,
   "id": "aeb9fc58-4999-46cc-aa63-dc66712bf78c",
   "metadata": {},
   "outputs": [
    {
     "name": "stdout",
     "output_type": "stream",
     "text": [
      "Özdeğerler:\n",
      "3.0\n",
      "-2.0\n",
      "\n",
      "Özvektörler:\n",
      "[-4  1]\n",
      "[1 1]\n"
     ]
    }
   ],
   "source": [
    "import numpy as np\n",
    "\n",
    "A = np.array([[2, -4], \n",
    "              [-1, -1]])\n",
    "\n",
    "# Özdeğerleri ve özvektörleri bulma\n",
    "eigenvalues, eigenvectors = np.linalg.eig(A)\n",
    "\n",
    "print(\"Özdeğerler:\")\n",
    "for eigenvalue in eigenvalues:\n",
    "    print(eigenvalue)\n",
    "\n",
    "print(\"\\nÖzvektörler:\")\n",
    "for i in range(len(eigenvectors)):              # eigenvectors[0, i]\n",
    "    normalized_eigenvector = eigenvectors[:, i] / eigenvectors[1, i]\n",
    "    print(normalized_eigenvector.astype(int))"
   ]
  },
  {
   "attachments": {},
   "cell_type": "markdown",
   "id": "4cf6a49b-a2e0-4f20-add9-64cd527283b4",
   "metadata": {},
   "source": [
    "# Vektör Büyüklüğü/Şiddeti"
   ]
  },
  {
   "cell_type": "code",
   "execution_count": 2,
   "id": "68c2c3e4-161d-426c-b62b-efbf78eaa480",
   "metadata": {},
   "outputs": [
    {
     "name": "stdout",
     "output_type": "stream",
     "text": [
      "Birim vektör değildir\n",
      "Vekötürun şiddeti: \n",
      " √ 25 = 5.0\n"
     ]
    }
   ],
   "source": [
    "import math\n",
    "\n",
    "def vektor_buyukluk(vektor):\n",
    "    kare_toplam = sum([x**2 for x in vektor])\n",
    "    buyukluk = math.sqrt(kare_toplam)\n",
    "\n",
    "    if buyukluk == 1:\n",
    "        print('Vektör birim vektördür.')\n",
    "    else:\n",
    "        print('Birim vektör değildir')\n",
    "\n",
    "    print('Vekötürun şiddeti: \\n', '√', kare_toplam, '=', buyukluk)\n",
    "\n",
    "# Örnek kullanım\n",
    "vektor = [4,3,0]\n",
    "vektor_buyukluk(vektor)"
   ]
  },
  {
   "attachments": {},
   "cell_type": "markdown",
   "id": "ec7b295c-ee4c-4b2c-b41d-6d97d233d190",
   "metadata": {},
   "source": [
    "## NumPy ile Vektör Büyüklüğü/Şiddeti"
   ]
  },
  {
   "cell_type": "code",
   "execution_count": 3,
   "id": "5972aba4-d050-4303-9c1a-81dd11faa6a7",
   "metadata": {},
   "outputs": [
    {
     "data": {
      "text/plain": [
       "2.23606797749979"
      ]
     },
     "execution_count": 3,
     "metadata": {},
     "output_type": "execute_result"
    }
   ],
   "source": [
    "import numpy as np\n",
    "x = np.array([1, 2, 0])\n",
    "np.linalg.norm(x)"
   ]
  },
  {
   "attachments": {},
   "cell_type": "markdown",
   "id": "c1cb24c0-3d13-4325-93a4-751af0effea5",
   "metadata": {},
   "source": [
    "# İki Vektörün Skaler Çarpılması"
   ]
  },
  {
   "cell_type": "code",
   "execution_count": 4,
   "id": "5e8e6d8c-286a-45dc-9aca-3a5d75eea51a",
   "metadata": {},
   "outputs": [
    {
     "name": "stdout",
     "output_type": "stream",
     "text": [
      "Skaler Çarpım: 32\n"
     ]
    }
   ],
   "source": [
    "def vektor_carp(vektor1, vektor2):\n",
    "    if len(vektor1) != len(vektor2):\n",
    "        return None\n",
    "    \n",
    "    skaler_carpim = 0\n",
    "    for i in range(len(vektor1)):\n",
    "        skaler_carpim += vektor1[i] * vektor2[i]\n",
    "        \n",
    "    return skaler_carpim\n",
    "\n",
    "# Örnek kullanım\n",
    "vektor1 = [1, 2, 3]\n",
    "vektor2 = [4, 5, 6]\n",
    "skaler_carpim = vektor_carp(vektor1, vektor2)\n",
    "\n",
    "print(\"Skaler Çarpım:\", skaler_carpim)"
   ]
  },
  {
   "attachments": {},
   "cell_type": "markdown",
   "id": "9884a38c-29c4-4324-bf4e-61f75e7da27e",
   "metadata": {},
   "source": [
    "## NumPy ile İki Vektörün Skaler Çarpılması"
   ]
  },
  {
   "cell_type": "code",
   "execution_count": 5,
   "id": "aea77b99-49b5-4927-8055-2507ade69c7d",
   "metadata": {},
   "outputs": [
    {
     "name": "stdout",
     "output_type": "stream",
     "text": [
      "Skaler Çarpım: 32\n"
     ]
    }
   ],
   "source": [
    "import numpy as np\n",
    "vektor1 = np.array([1, 2, 3])\n",
    "vektor2 = np.array([4, 5, 6])\n",
    "skaler_carpim = np.dot(vektor1, vektor2)\n",
    "print(\"Skaler Çarpım:\", skaler_carpim)"
   ]
  },
  {
   "attachments": {},
   "cell_type": "markdown",
   "id": "229ccfe7-222f-4e4c-a5c1-8e9bfc7e859b",
   "metadata": {},
   "source": [
    "# İki Vektör Arasındaki Açı"
   ]
  },
  {
   "cell_type": "code",
   "execution_count": 6,
   "id": "74a07832-d27a-4c03-9c09-2250ab9994ea",
   "metadata": {},
   "outputs": [
    {
     "name": "stdout",
     "output_type": "stream",
     "text": [
      "Radyan Açı: 0.7016741237876035\n",
      "Derece Açı: 40.202965886569764\n"
     ]
    }
   ],
   "source": [
    "import math\n",
    "\n",
    "def vektor_acisi(vektor1, vektor2):\n",
    "    if len(vektor1) != len(vektor2):\n",
    "        return None\n",
    "    \n",
    "    dot_product = sum([vektor1[i] * vektor2[i] for i in range(len(vektor1))])\n",
    "    magnitude1 = math.sqrt(sum([x**2 for x in vektor1]))\n",
    "    magnitude2 = math.sqrt(sum([x**2 for x in vektor2]))\n",
    "    \n",
    "    cos_theta = dot_product / (magnitude1 * magnitude2)\n",
    "    radian_aci = math.acos(cos_theta)\n",
    "    derece_aci = math.degrees(radian_aci)\n",
    "    \n",
    "    return radian_aci, derece_aci\n",
    "\n",
    "# Örnek kullanım\n",
    "vektor1 = [2, 1, 1]\n",
    "vektor2 = [3, -1, 2]\n",
    "radian_aci, derece_aci = vektor_acisi(vektor1, vektor2)\n",
    "\n",
    "print(\"Radyan Açı:\", radian_aci)\n",
    "print(\"Derece Açı:\", derece_aci)"
   ]
  },
  {
   "attachments": {},
   "cell_type": "markdown",
   "id": "0ffa82b7-9ac8-41da-94e4-8e0b0188a732",
   "metadata": {},
   "source": [
    "# Vektörel Çarpım"
   ]
  },
  {
   "cell_type": "code",
   "execution_count": 8,
   "id": "7b8cba53-769e-48f3-96bf-098b5d5359c8",
   "metadata": {},
   "outputs": [
    {
     "name": "stdout",
     "output_type": "stream",
     "text": [
      "Vektörel Çarpım vektörü: [-3, 6, -3]\n"
     ]
    }
   ],
   "source": [
    "def vektorel_carpim(vektor1, vektor2):\n",
    "    if len(vektor1) != 3 or len(vektor2) != 3:\n",
    "        return None\n",
    "    \n",
    "    vektorel_carpim = [\n",
    "        vektor1[1] * vektor2[2] - vektor1[2] * vektor2[1],\n",
    "        vektor1[2] * vektor2[0] - vektor1[0] * vektor2[2],\n",
    "        vektor1[0] * vektor2[1] - vektor1[1] * vektor2[0]\n",
    "    ]\n",
    "    \n",
    "    return vektorel_carpim\n",
    "\n",
    "# Örnek kullanım\n",
    "vektor1 = [1, 2, 3]\n",
    "vektor2 = [4, 5, 6]\n",
    "vektorel_carpim = vektorel_carpim(vektor1, vektor2)\n",
    "\n",
    "print(\"Vektörel Çarpım vektörü:\", vektorel_carpim)"
   ]
  }
 ],
 "metadata": {
  "kernelspec": {
   "display_name": "Python 3 (ipykernel)",
   "language": "python",
   "name": "python3"
  },
  "language_info": {
   "codemirror_mode": {
    "name": "ipython",
    "version": 3
   },
   "file_extension": ".py",
   "mimetype": "text/x-python",
   "name": "python",
   "nbconvert_exporter": "python",
   "pygments_lexer": "ipython3",
   "version": "3.9.16"
  }
 },
 "nbformat": 4,
 "nbformat_minor": 5
}
