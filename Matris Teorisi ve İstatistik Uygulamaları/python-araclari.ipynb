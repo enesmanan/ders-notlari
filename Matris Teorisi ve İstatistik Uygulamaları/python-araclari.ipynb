{
 "cells": [
  {
   "cell_type": "markdown",
   "id": "17fce2b8-03ab-4459-89d1-39dddb059845",
   "metadata": {},
   "source": [
    "# Toplama İşlemi"
   ]
  },
  {
   "cell_type": "code",
   "execution_count": 1,
   "id": "c792f35a-fb39-4004-bcdd-046071087a6c",
   "metadata": {},
   "outputs": [
    {
     "name": "stdout",
     "output_type": "stream",
     "text": [
      "[[ 8 10 12]\n",
      " [14 16 18]]\n"
     ]
    }
   ],
   "source": [
    "import numpy as np\n",
    "\n",
    "def matris_topla(matris1, matris2):\n",
    "    if matris1.shape == matris2.shape:\n",
    "        toplam_matrisi = matris1 + matris2\n",
    "        return toplam_matrisi\n",
    "    else:\n",
    "        print('Boyutlar aynı olmadığı için toplama işlemi yapılamaz.')\n",
    "        \n",
    "\n",
    "matris1 = np.array([[1, 2, 3], \n",
    "                    [4, 5, 6]])\n",
    "\n",
    "matris2 = np.array([[7, 8, 9], \n",
    "                    [10, 11, 12]])\n",
    "\n",
    "print(matris_topla(matris1, matris2))"
   ]
  },
  {
   "cell_type": "markdown",
   "id": "e5669c7b-6868-48b4-8ea7-54c787e918f7",
   "metadata": {},
   "source": [
    "# Çıkarma İşlemi"
   ]
  },
  {
   "cell_type": "code",
   "execution_count": 2,
   "id": "f1532970-7f69-4f52-b0fb-214f1317dbad",
   "metadata": {},
   "outputs": [
    {
     "name": "stdout",
     "output_type": "stream",
     "text": [
      "[[-6 -6 -6]\n",
      " [-6 -6 -6]]\n"
     ]
    }
   ],
   "source": [
    "import numpy as np\n",
    "\n",
    "def matris_cikar(matris1, matris2):\n",
    "    if matris1.shape == matris2.shape:\n",
    "        cikarma_matrisi = matris1 - matris2\n",
    "        return cikarma_matrisi\n",
    "    else:\n",
    "        print('Boyutlar aynı olmadığı için çıkarma işlemi yapılamaz.')\n",
    "\n",
    "matris1 = np.array([[1, 2, 3], \n",
    "                    [4, 5, 6]])\n",
    "\n",
    "matris2 = np.array([[7, 8, 9], \n",
    "                    [10, 11, 12]])\n",
    "\n",
    "print(matris_cikar(matris1, matris2))"
   ]
  },
  {
   "cell_type": "markdown",
   "id": "983d21cf-89d2-400c-a2b8-ea58f25a23c1",
   "metadata": {},
   "source": [
    "# Skaler İle Çarpma"
   ]
  },
  {
   "cell_type": "code",
   "execution_count": 3,
   "id": "5cc9e9fa-9a64-40a9-b22f-0eb2a08d0e5a",
   "metadata": {},
   "outputs": [
    {
     "name": "stdout",
     "output_type": "stream",
     "text": [
      "[[ 3  6  9]\n",
      " [12 15 18]]\n"
     ]
    }
   ],
   "source": [
    "import numpy as np\n",
    "\n",
    "def matris_carp_skaler(matris, skaler):\n",
    "    carpim_matrisi = skaler * matris\n",
    "    return carpim_matrisi\n",
    "\n",
    "matris = np.array([[1, 2, 3], \n",
    "                    [4, 5, 6]])\n",
    "\n",
    "skaler = 3\n",
    "\n",
    "\n",
    "print(matris_carp_skaler(matris, skaler))"
   ]
  },
  {
   "cell_type": "markdown",
   "id": "8f328c40-e72a-4ca2-8721-9371f6f48833",
   "metadata": {},
   "source": [
    "# Çarpma İşlemi"
   ]
  },
  {
   "cell_type": "code",
   "execution_count": 4,
   "id": "f6868cb1-7ab6-4a66-9651-8f4fd8210451",
   "metadata": {},
   "outputs": [
    {
     "name": "stdout",
     "output_type": "stream",
     "text": [
      "[[19 22]\n",
      " [43 50]]\n"
     ]
    }
   ],
   "source": [
    "import numpy as np\n",
    "\n",
    "def matris_carp(matris1, matris2):\n",
    "    matris_carpimi = np.dot(matris1, matris2)\n",
    "    return matris_carpimi\n",
    "\n",
    "\n",
    "matris1 = np.array([[1, 2], \n",
    "                    [3, 4]])\n",
    "\n",
    "matris2 = np.array([[5, 6], \n",
    "                    [7, 8]])\n",
    "\n",
    "print(matris_carp(matris1, matris2))"
   ]
  },
  {
   "cell_type": "markdown",
   "id": "7426e42f-5808-4876-a50f-b36c4b4a3e22",
   "metadata": {},
   "source": [
    "# Determinant Hesabı"
   ]
  },
  {
   "cell_type": "code",
   "execution_count": 5,
   "id": "9a81a259-cc59-4af6-9db2-9ccad848f14a",
   "metadata": {},
   "outputs": [
    {
     "name": "stdout",
     "output_type": "stream",
     "text": [
      "-2.0000000000000004\n"
     ]
    }
   ],
   "source": [
    "import numpy as np\n",
    "\n",
    "def determinant(matris):\n",
    "    det = np.linalg.det(matris)\n",
    "    return det\n",
    "\n",
    "matris = np.array([[1, 2], \n",
    "                   [3, 4]])\n",
    "\n",
    "print(determinant(matris))"
   ]
  },
  {
   "cell_type": "markdown",
   "id": "7acac672-46a9-4f81-8888-0060c4751c01",
   "metadata": {},
   "source": [
    "# Minör Hesabı"
   ]
  },
  {
   "cell_type": "code",
   "execution_count": 6,
   "id": "9ec52a89-f043-4b92-b471-caf9493f89ad",
   "metadata": {},
   "outputs": [
    {
     "name": "stdout",
     "output_type": "stream",
     "text": [
      "-7.999999999999998\n"
     ]
    }
   ],
   "source": [
    "import numpy as np\n",
    "\n",
    "def matris_minor(matris, row, col):\n",
    "    # belirtilen satır ve sütun matristen atılır\n",
    "    minor_matris = np.delete(np.delete(matris, row-1, axis=0), col-1, axis=1)\n",
    "    # geriye kalan matrisin determinantı minöre eşittir\n",
    "    minor = np.linalg.det(minor_matris)\n",
    "    return minor\n",
    "\n",
    "\n",
    "matris = np.array([[1, 2, 3], \n",
    "                   [2, 1, 5], \n",
    "                   [-1, 4, 2]])\n",
    "\n",
    "print(matris_minor(matris, 2, 1))"
   ]
  },
  {
   "cell_type": "markdown",
   "id": "a56c4f8d-939d-426f-82c7-a34f2b253d3f",
   "metadata": {},
   "source": [
    "# Kofaktör Hesabı"
   ]
  },
  {
   "cell_type": "code",
   "execution_count": 7,
   "id": "753ff02d-3522-48b7-be78-824122e7c3d7",
   "metadata": {},
   "outputs": [
    {
     "name": "stdout",
     "output_type": "stream",
     "text": [
      "[[ 18.   2. -32.]\n",
      " [ -9.  11.  13.]\n",
      " [  9.  -5.  -1.]]\n"
     ]
    }
   ],
   "source": [
    "import numpy as np\n",
    "\n",
    "def kofaktor(matris):\n",
    "    boyut = matris.shape[0] # Matrisin boyutunu al\n",
    "    \n",
    "    # Eğer matris 1x1 boyutundaysa, kofaktörü 1 olarak dön\n",
    "    if boyut == 1:\n",
    "        return np.array([[1]])\n",
    "\n",
    "    # Kofaktör matrisi için boş bir matris oluştur\n",
    "    kofaktor_matrisi = np.zeros((boyut, boyut))\n",
    "\n",
    "    # Her bir elemanın kofaktörünü hesapla\n",
    "    for i in range(boyut):\n",
    "        for j in range(boyut):\n",
    "            # Matrisin i. satırını ve j. sütununu silerek minör matrisi oluştur\n",
    "            minordeki_determinant = np.linalg.det(np.delete(np.delete(matris, i, axis=0), j, axis=1))\n",
    "            # İşaretlendirme kuralı uygula\n",
    "            isaret = (-1) ** (i + j)\n",
    "            # Kofaktör matrisindeki i,j elemanını hesapla\n",
    "            kofaktor_matrisi[i, j] = isaret * minordeki_determinant\n",
    "\n",
    "    return kofaktor_matrisi\n",
    "\n",
    "matris = np.array([[1, 2, -1], \n",
    "                   [3, 5, 2], \n",
    "                   [7, 1, 4]])\n",
    "\n",
    "\n",
    "print(kofaktor(matris))"
   ]
  },
  {
   "cell_type": "markdown",
   "id": "01cf9257-4157-40e5-b687-f2168de27a29",
   "metadata": {},
   "source": [
    "# Satır Eşdeğerliği"
   ]
  },
  {
   "cell_type": "code",
   "execution_count": 8,
   "id": "2a0eaff7-1a18-40bf-b0f5-4f9291eb8c98",
   "metadata": {},
   "outputs": [
    {
     "name": "stdout",
     "output_type": "stream",
     "text": [
      "False\n"
     ]
    }
   ],
   "source": [
    "def satir_esdeger_mi(matris1, matris2):\n",
    "    rank_matris1 = np.linalg.matrix_rank(matris1)\n",
    "    rank_matris2 = np.linalg.matrix_rank(matris2)\n",
    "    if rank_matris1 == rank_matris2:\n",
    "        return True\n",
    "    else:\n",
    "        return False\n",
    "    \n",
    "matris1 = np.array([[1, 2, 3], \n",
    "                    [4, 5, 6], \n",
    "                    [7, 8, 9]])\n",
    "\n",
    "matris2 = np.array([[4, 5, 6], \n",
    "                    [1, 2, 3], \n",
    "                    [7, 8, 4]])\n",
    "\n",
    "print(satir_esdeger_mi(matris1, matris2))"
   ]
  },
  {
   "cell_type": "markdown",
   "id": "2932f63a-ea23-467b-b189-1f2728b3f6eb",
   "metadata": {},
   "source": [
    "# Matrislerin Tersi"
   ]
  },
  {
   "cell_type": "code",
   "execution_count": 9,
   "id": "1012379f-b39e-4d48-9deb-2b0d24892d35",
   "metadata": {},
   "outputs": [
    {
     "name": "stdout",
     "output_type": "stream",
     "text": [
      "[[ 0.71428571 -0.42857143]\n",
      " [-0.14285714  0.28571429]]\n"
     ]
    }
   ],
   "source": [
    "import numpy as np\n",
    "\n",
    "def ters_matris(matris):\n",
    "    if np.linalg.det(matris) == 0: # det=0 sa ters yok\n",
    "        print('Matrisin tersi yoktur.')\n",
    "    else:\n",
    "        Ters_matris = np.linalg.inv(matris)\n",
    "        return Ters_matris \n",
    "\n",
    "\n",
    "matris = np.array([[2, 3], \n",
    "                   [1, 5]])\n",
    "\n",
    "print(ters_matris(matris))"
   ]
  },
  {
   "cell_type": "markdown",
   "id": "6372a86c-af59-45ba-9cd7-3062b10dbc99",
   "metadata": {},
   "source": [
    "# Matrisin Rankı"
   ]
  },
  {
   "cell_type": "code",
   "execution_count": 10,
   "id": "005ce3b8-3b0b-4c0f-bc84-8e79a3de239c",
   "metadata": {},
   "outputs": [
    {
     "name": "stdout",
     "output_type": "stream",
     "text": [
      "Matris tekil değil.\n",
      "2\n"
     ]
    }
   ],
   "source": [
    "import numpy as np\n",
    "\n",
    "def rank_matris(matris):\n",
    "    det = np.linalg.det(matris)\n",
    "\n",
    "    if det == 0:\n",
    "        print(\"Matris tekil.\")\n",
    "    else:\n",
    "        print(\"Matris tekil değil.\")\n",
    "    rank = np.linalg.matrix_rank(matris)\n",
    "    return  rank\n",
    "\n",
    "matris = np.array([[2, 1],\n",
    "                   [4, 3]])\n",
    "\n",
    "print(rank_matris(matris))"
   ]
  },
  {
   "cell_type": "markdown",
   "id": "70943ae2-0333-46a8-bc75-923e0e847747",
   "metadata": {},
   "source": [
    "# Lineer Denklem Sistemleri"
   ]
  },
  {
   "cell_type": "code",
   "execution_count": 11,
   "id": "5646cec6-b6cf-46f2-a511-88ab80abf116",
   "metadata": {},
   "outputs": [
    {
     "name": "stdout",
     "output_type": "stream",
     "text": [
      "[0.59090909 0.36363636]\n"
     ]
    }
   ],
   "source": [
    "import numpy as np\n",
    "\n",
    "def lineer_denklem(A, b):\n",
    "    cozum = np.linalg.solve(A, b)\n",
    "    return cozum\n",
    "\n",
    "# Katsayılar matrisi A ve sabitler matrisi b'yi tanımla\n",
    "A = np.array([[2, 5], \n",
    "              [4, -1]])\n",
    "\n",
    "b = np.array([3, 2])\n",
    "\n",
    "print(lineer_denklem(A, b))"
   ]
  },
  {
   "cell_type": "markdown",
   "id": "959d511e-f44c-400b-bf74-4a3603a2826f",
   "metadata": {},
   "source": [
    "# Gauss Yoketme Metodu"
   ]
  },
  {
   "cell_type": "code",
   "execution_count": 12,
   "id": "3e8f6b84-9be4-4ff1-83b0-323f5f85cf71",
   "metadata": {},
   "outputs": [
    {
     "name": "stdout",
     "output_type": "stream",
     "text": [
      "[1.0, 2.0, -3.0]\n"
     ]
    }
   ],
   "source": [
    "def gauss_elimination(A):\n",
    "    n = len(A)\n",
    "\n",
    "    # Her sütun için\n",
    "    for i in range(n):\n",
    "        # Sıfır olmayan ilk elemanı 1 yapmak için satırı bölelim\n",
    "        pivot = A[i][i]\n",
    "        for j in range(i, n+1):\n",
    "            A[i][j] /= pivot\n",
    "\n",
    "        # Altındaki elemanları sıfırlamak için satır işlemleri yapalım\n",
    "        for k in range(i+1, n):\n",
    "            factor = A[k][i]\n",
    "            for j in range(i, n+1):\n",
    "                A[k][j] -= factor * A[i][j]\n",
    "\n",
    "    # Geriye doğru çözüm yapalım\n",
    "    x = [0] * n # Çözüm kümesini tutacak bir liste oluşturalım\n",
    "    for i in range(n-1, -1, -1): # Son satırdan başlayarak yukarı doğru ilerleyelim\n",
    "        x[i] = A[i][n] # Sağ taraftaki değeri alalım\n",
    "        for j in range(i+1, n): # Üstündeki elemanları çıkartalım\n",
    "            x[i] -= A[i][j] * x[j]\n",
    "\n",
    "    # Çözüm kümesini döndürelim\n",
    "    return x\n",
    "\n",
    "A = [[2, 1, -2, 10],\n",
    "     [3, 2, 2, 1],\n",
    "     [5, 4, 3, 4]]\n",
    "\n",
    "x = gauss_elimination(A)\n",
    "\n",
    "print(x)"
   ]
  },
  {
   "cell_type": "markdown",
   "id": "9fbe580e-3acd-4d95-b982-db20070e45ca",
   "metadata": {},
   "source": [
    "# Homojen Lineer Denklem "
   ]
  },
  {
   "cell_type": "code",
   "execution_count": 13,
   "id": "794ac97f-aeb2-4821-aa5d-037b59be9c25",
   "metadata": {},
   "outputs": [
    {
     "name": "stdout",
     "output_type": "stream",
     "text": [
      "Sıfır Çözüm.\n"
     ]
    }
   ],
   "source": [
    "import numpy as np\n",
    "\n",
    "# Homojen lineer denklem sistemi AX = 0 şeklinde verilsin\n",
    "# A matrisi katsayıları içersin\n",
    "A = np.array([[1, 2, -3],\n",
    "              [2, 5, 2],\n",
    "              [3, -1, 7]])\n",
    "\n",
    "# A matrisinin determinantını hesaplayalım\n",
    "det = np.linalg.det(A)\n",
    "\n",
    "# Determinant sıfırsa, sistem tekillik olabilir\n",
    "if det == 0:\n",
    "    # A matrisinin özdeğerlerini ve özvektörlerini bulalım\n",
    "    eigenvalues, eigenvectors = np.linalg.eig(A)\n",
    "    # Sıfır olmayan bir özdeğer varsa, sistem sonsuz çözüme sahiptir\n",
    "    if any(eigenvalues != 0):\n",
    "        print(\"Sonsuz Çözüm.\")\n",
    "    # Tüm özdeğerler sıfırsa, sistem sadece aşikar çözüme sahiptir\n",
    "    else:\n",
    "        print(\"Tekil Çözüm.\")\n",
    "# Determinant sıfır değilse, sistem tekil değildir ve sadece aşikar çözüme sahiptir\n",
    "else:\n",
    "    print(\"Sıfır Çözüm.\")"
   ]
  }
 ],
 "metadata": {
  "kernelspec": {
   "display_name": "Python 3 (ipykernel)",
   "language": "python",
   "name": "python3"
  },
  "language_info": {
   "codemirror_mode": {
    "name": "ipython",
    "version": 3
   },
   "file_extension": ".py",
   "mimetype": "text/x-python",
   "name": "python",
   "nbconvert_exporter": "python",
   "pygments_lexer": "ipython3",
   "version": "3.9.16"
  }
 },
 "nbformat": 4,
 "nbformat_minor": 5
}
