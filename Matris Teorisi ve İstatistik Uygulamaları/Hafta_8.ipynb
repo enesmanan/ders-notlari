{
 "cells": [
  {
   "cell_type": "markdown",
   "id": "c567f998-fae9-4729-a48d-0c36e3f945ad",
   "metadata": {},
   "source": [
    "## Örnek Sorular\n",
    "El ile kendiniz çözünüz, burada Python ile çözümleri verilmiştir."
   ]
  },
  {
   "cell_type": "markdown",
   "id": "a2dcb335-4582-4760-ac8c-6c4f384db236",
   "metadata": {},
   "source": [
    "**Soru1:** Aşağıda verilen matrisin rankını bulalım.\n",
    "\n",
    "$\n",
    "A = \\begin{bmatrix}\n",
    "2 & 8 & 6 \\\\\n",
    "1 & 4 & -1 \\\\\n",
    "0 & 2 & 1\n",
    "\\end{bmatrix}\n",
    "$"
   ]
  },
  {
   "cell_type": "markdown",
   "id": "e5a0e03c-b20a-4aa6-bfc7-0ea8ed2c0e08",
   "metadata": {},
   "source": [
    "### Python İle Çözüm"
   ]
  },
  {
   "cell_type": "code",
   "execution_count": 1,
   "id": "0910bc49-6687-48b7-8f3c-4f114f02b8b0",
   "metadata": {},
   "outputs": [
    {
     "name": "stdout",
     "output_type": "stream",
     "text": [
      "Matrisin rankı: 3\n"
     ]
    }
   ],
   "source": [
    "import numpy as np\n",
    "\n",
    "A = np.array([[2, 8, 6],\n",
    "              [1, 4, -1],\n",
    "              [0, 2, 1]])\n",
    "\n",
    "rank = np.linalg.matrix_rank(A)\n",
    "\n",
    "print(\"Matrisin rankı:\", rank)"
   ]
  },
  {
   "cell_type": "markdown",
   "id": "a2c5d28d-f288-447c-b499-e6a7ac329c9b",
   "metadata": {},
   "source": [
    "<hr style=\"border: 0.5px solid gray; margin: 25px 0;\">"
   ]
  },
  {
   "cell_type": "markdown",
   "id": "43e0fd13-aaa8-49e3-9a01-315abc06ebf7",
   "metadata": {},
   "source": [
    "**Soru2:** Cayley Hamilton Teoremine dayalı olarak $B^{-1}$'i bulalım.\n",
    "\n",
    "$\n",
    "B = \\begin{bmatrix}\n",
    "2 & 1 & 3 \\\\\n",
    "3 & 1 & 0 \\\\\n",
    "0 & 2 & 4\n",
    "\\end{bmatrix}\n",
    "$"
   ]
  },
  {
   "cell_type": "markdown",
   "id": "4d944a12-4c00-4bc5-80dd-01daa12e27cf",
   "metadata": {},
   "source": [
    "### Python İle Çözüm"
   ]
  },
  {
   "cell_type": "code",
   "execution_count": 2,
   "id": "22c7aa60-6ab4-439d-b089-c02a5c1d3b6f",
   "metadata": {},
   "outputs": [
    {
     "name": "stdout",
     "output_type": "stream",
     "text": [
      "[[ 0.28571429  0.14285714 -0.21428571]\n",
      " [-0.85714286  0.57142857  0.64285714]\n",
      " [ 0.42857143 -0.28571429 -0.07142857]]\n"
     ]
    }
   ],
   "source": [
    "import numpy as np\n",
    "\n",
    "B = np.array([[2, 1, 3], \n",
    "              [3, 1, 0], \n",
    "              [0, 2, 4]])\n",
    "\n",
    "# karakteristik polinom\n",
    "P = np.poly(B)\n",
    "\n",
    "# matrisin tersi\n",
    "ters_matris = np.linalg.inv(B)\n",
    "\n",
    "print(ters_matris)"
   ]
  }
 ],
 "metadata": {
  "kernelspec": {
   "display_name": "Python 3 (ipykernel)",
   "language": "python",
   "name": "python3"
  },
  "language_info": {
   "codemirror_mode": {
    "name": "ipython",
    "version": 3
   },
   "file_extension": ".py",
   "mimetype": "text/x-python",
   "name": "python",
   "nbconvert_exporter": "python",
   "pygments_lexer": "ipython3",
   "version": "3.9.16"
  }
 },
 "nbformat": 4,
 "nbformat_minor": 5
}
