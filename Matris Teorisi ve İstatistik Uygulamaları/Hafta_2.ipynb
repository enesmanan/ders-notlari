{
 "cells": [
  {
   "cell_type": "markdown",
   "id": "8ae44ab0-c36a-410e-9246-7aaaeacd5d2c",
   "metadata": {},
   "source": [
    "## Matrislerin Boyutları ve Eleman Kümesi Belirleme"
   ]
  },
  {
   "cell_type": "markdown",
   "id": "9a547690-30c8-4280-a242-c6f9e8eba6a6",
   "metadata": {},
   "source": [
    "<b>Tanım:</b> $nxm$ mertebesinden yazılabilecek matrisler kümesi $M_{n,m}(F)$ ile gösterilir. Burada $F$, matrisin elemanlarının hangi kümeye ait olğunu gösterir. Ayrıca, $M_{n}(F)$, $nxm$'lik kare matrisler kümesini ifade eder.  "
   ]
  },
  {
   "cell_type": "markdown",
   "id": "52879ee3-25bf-407d-98b6-61769a627cff",
   "metadata": {},
   "source": [
    "## Matrislerin Eşitliği"
   ]
  },
  {
   "cell_type": "markdown",
   "id": "b83bb5cb-e2df-4832-b53a-54180c2155a6",
   "metadata": {},
   "source": [
    "Matrislerin eşitliği, iki veya daha fazla matrisin aynı boyutta olması ve her bir öğelerinin karşılıklı olarak eşit olması durumudur."
   ]
  },
  {
   "cell_type": "markdown",
   "id": "35488543-8f2a-4415-be69-4b37d1a2a9e5",
   "metadata": {},
   "source": [
    "<b>Tanım:</b> $A$ ve $B$ matrislerinin <b>\"Eşit Matrisler\"</b> olması demek $a_{i,j} = b_{i,j}$ ($\\forall i,j$ için) ve metebelerinin aynı olması demektir. Bu durum $A=B$ ile gerçekleşir.             "
   ]
  },
  {
   "cell_type": "markdown",
   "id": "758ffbd6-7606-4ae8-9bd3-ddb5c8758a2d",
   "metadata": {},
   "source": [
    "Örnek:"
   ]
  },
  {
   "cell_type": "markdown",
   "id": "4befed06-daf7-4052-9193-a2a5f4a0a4ed",
   "metadata": {},
   "source": [
    "$\n",
    "A = \\begin{bmatrix}\n",
    "1 & 0 & 0 \\\\\n",
    "0 & 1 & 0 \\\\\n",
    "0 & 0 & 1\n",
    "\\end{bmatrix}, \\quad\n",
    "B = \\begin{bmatrix}\n",
    "1 & 1 & 1 \\\\\n",
    "1 & 1 & 1 \\\\\n",
    "1 & 1 & 1\n",
    "\\end{bmatrix}\n",
    "$\n",
    "\n",
    "$\n",
    "X = \\begin{bmatrix}\n",
    "2 & 2 & 2 \\\\\n",
    "2 & 2 & 2 \\\\\n",
    "2 & 2 & 2\n",
    "\\end{bmatrix}, \\quad\n",
    "Y = \\begin{bmatrix}\n",
    "3 & 3 & 3 \\\\\n",
    "3 & 3 & 3 \\\\\n",
    "3 & 3 & 3\n",
    "\\end{bmatrix}\n",
    "$\n"
   ]
  },
  {
   "cell_type": "markdown",
   "id": "af6a106d-52ad-43ad-bd03-9293cdba0637",
   "metadata": {},
   "source": [
    "## Matrislerde İşlemler"
   ]
  },
  {
   "cell_type": "markdown",
   "id": "81589dfd-c0d3-4a26-9d15-11da03c7789e",
   "metadata": {},
   "source": [
    "Sayı kümeleri üzerinde yaptığımız toplama, çıkarma, çarpma ve bölme işlemleri matrisler üzerinde çok kısıtlı olarak yapılabiliyor."
   ]
  },
  {
   "cell_type": "markdown",
   "id": "a6e4822f-e91e-45d0-99c8-05bdfa3fe647",
   "metadata": {},
   "source": [
    "### Matrislerde Toplama İşlemi"
   ]
  },
  {
   "cell_type": "markdown",
   "id": "de51ec05-0218-4504-af92-4736b544cf8a",
   "metadata": {},
   "source": [
    "Boyutlar aynı olmalı. Aynı satır ve sutundaki elemanlar toplanır. Matrislerde toplama işleminin değişme ve birleşme özellikleri vardır."
   ]
  },
  {
   "cell_type": "markdown",
   "id": "3b9d4dc5-b236-43da-ad36-758bf1142a15",
   "metadata": {},
   "source": [
    "<b>Tanım:</b> $A \\in M_{n,m}(F)$ ve $B \\in M_{n,m}(F)$ olmak üzere bu iki matrisin toplamı $C$ ile gösterilsin. Bu durumdas $C = A+B$ işlemi; $i \\in \\left\\{ 1,2,3,\\ldots,n \\right\\}$ ve $j \\in \\left\\{ 1,2,3,\\ldots,m \\right\\}$ için $c_{i,j}=a_{i,j}+b_{i,j}$ şeklinde tanımlanır. ($a_{i,j} \\in F$; $b_{i,j} \\in F$, $c_{i,j} \\in F$ )"
   ]
  },
  {
   "cell_type": "markdown",
   "id": "e3cf47b3-07cb-40fb-9803-f6060f2979a7",
   "metadata": {},
   "source": [
    "### Özellikler:\n",
    "+ Değişme özelliği: $A + B = B + A$\n",
    "+ Birleşme özelliği: $A + (B + C) = (A + B) + C$\n",
    "+ Kapalılık özelliği: $A$ ve $B$ matrisleri aynı boyutta ise, $A + B$ de aynı boyutta bir matristir.\n",
    "+ Etkisiz eleman: Sıfır matrisi O, herhangi bir matrisin A toplamına etki etmez. Yani, $A + O = O + A = A$"
   ]
  },
  {
   "cell_type": "markdown",
   "id": "1b9b9b31-5142-47b7-b308-74ef47359856",
   "metadata": {},
   "source": [
    "Örnek:"
   ]
  },
  {
   "cell_type": "markdown",
   "id": "3b5e665a-09cf-43e9-a5c8-29e65d753bf4",
   "metadata": {},
   "source": [
    "$\n",
    "A = \\begin{bmatrix}\n",
    "2 & 3 & 4  \\\\\n",
    "5 & -1 & -6 \\\\\n",
    "\\end{bmatrix}\n",
    "$\n",
    "<b>,</b>\n",
    "$\n",
    "B = \\begin{bmatrix}\n",
    "2 & 3 & 4  \\\\\n",
    "5 & -1 & -6 \\\\\n",
    "\\end{bmatrix}\n",
    "$\n",
    "<b>ise</b>\n"
   ]
  },
  {
   "cell_type": "markdown",
   "id": "182d262d-3a64-47e0-86fe-b39fdaefdbdb",
   "metadata": {},
   "source": [
    "$C=A+B=$\n",
    "$\n",
    "\\begin{bmatrix}\n",
    "2+1 & 3+0 & 4+0  \\\\\n",
    "5+2 & -1+(-6) & -6+(-3) \\\\\n",
    "\\end{bmatrix}\n",
    "$\n",
    "=\n",
    "$\n",
    "\\begin{bmatrix}\n",
    "3 & 3 & 4  \\\\\n",
    "7 & -7 & 3 \\\\\n",
    "\\end{bmatrix}\n",
    "$"
   ]
  },
  {
   "cell_type": "markdown",
   "id": "976525c9-4386-4a7d-ba37-4536b24394ba",
   "metadata": {},
   "source": [
    "### Matrislerde Çıkarma İşlemi"
   ]
  },
  {
   "cell_type": "markdown",
   "id": "eaeaf2b5-a071-450b-a779-bdacf89f30f1",
   "metadata": {},
   "source": [
    "Boyutlar aynı olmalı. Aynı satır ve sutundaki elemanlar toplanır. Matrislerde çıkarma işleminin değişme özelliği yoktur."
   ]
  },
  {
   "cell_type": "markdown",
   "id": "288d2867-1ff6-4120-a3e8-3a6837f6205c",
   "metadata": {},
   "source": [
    "<b>Tanım:</b> $A \\in M_{n,m}(F)$ ve $B \\in M_{n,m}(F)$ olmak üzere bu iki matrisin farkı $C$ ile gösterilsin. Bu durumdas $C = A-B$ işlemi; $i \\in \\left\\{ 1,2,3,\\ldots,n \\right\\}$ ve $j \\in \\left\\{ 1,2,3,\\ldots,m \\right\\}$ için $c_{i,j}=a_{i,j}-b_{i,j}$ şeklinde tanımlanır. ($a_{i,j} \\in F$; $b_{i,j} \\in F$, $c_{i,j} \\in F$ )"
   ]
  },
  {
   "cell_type": "markdown",
   "id": "e8d6ab1c-3d76-475c-865e-2bee7e9e236f",
   "metadata": {},
   "source": [
    "### Özellikler:\n",
    "+ Kapalılık özelliği: $A$ ve $B$ matrisleri aynı boyutta ise, $A - B$ de aynı boyutta bir matristir.\n",
    "+ Değişme özelliği yoktur: $A - B ≠ B - A$\n",
    "+ Birleşme özelliği: $A - (B + C) = (A - B) - C$\n",
    "+ Etkisiz eleman: Sıfır matrisi $O$, herhangi bir matrisin $A$ farkına etki etmez. Yani, $A - O = O - A = A$"
   ]
  },
  {
   "cell_type": "markdown",
   "id": "86427087-407f-4cae-96c6-ef93a8fff53b",
   "metadata": {},
   "source": [
    "Örnek:"
   ]
  },
  {
   "cell_type": "markdown",
   "id": "335c6dae-2de2-4484-9cdd-54b1eaadf7ff",
   "metadata": {},
   "source": [
    "$\n",
    "A = \\begin{bmatrix}\n",
    "2 & 3 & 4  \\\\\n",
    "5 & -1 & -6 \\\\\n",
    "\\end{bmatrix}\n",
    "$\n",
    "<b>,</b>\n",
    "$\n",
    "B = \\begin{bmatrix}\n",
    "2 & 3 & 4  \\\\\n",
    "5 & -1 & -6 \\\\\n",
    "\\end{bmatrix}\n",
    "$\n",
    "<b>ise</b>\n"
   ]
  },
  {
   "cell_type": "markdown",
   "id": "66b1dd45-12ce-47ed-86ce-dfaa45267447",
   "metadata": {},
   "source": [
    "$C=A-B=$\n",
    "$\n",
    "\\begin{bmatrix}\n",
    "2-1 & 3-0 & 4-0  \\\\\n",
    "5-2 & -1-(-6) & -6-(-3) \\\\\n",
    "\\end{bmatrix}\n",
    "$\n",
    "=\n",
    "$\n",
    "\\begin{bmatrix}\n",
    "1 & 3 & 4  \\\\\n",
    "3 & 5 & 9 \\\\\n",
    "\\end{bmatrix}\n",
    "$"
   ]
  },
  {
   "cell_type": "markdown",
   "id": "b1091fb4-0ba0-4db4-8ebf-7a38182bb440",
   "metadata": {},
   "source": [
    "### Skaler Çarpma İşlemi"
   ]
  },
  {
   "cell_type": "markdown",
   "id": "0274124f-de95-4b8e-ba87-6ea7b7d201e1",
   "metadata": {},
   "source": [
    "Bir matrisin tüm elemanlarının belirli bir sayı ile çarpılmasıdır. Bu işlem sonucunda, her bir matris elemanı, verilen sayı ile çarpılmış halini alır."
   ]
  },
  {
   "cell_type": "markdown",
   "id": "86c673ca-ff64-491b-a5b3-2941ea42dadc",
   "metadata": {},
   "source": [
    "<b>Tanım:</b> $A \\in M_{n,m}(F)$ ve $c \\in F$ ise $A$ matrisinin $c$ skaleri ile çarpımına <b>\"Skaler Çarpım\"</b> adı verilir ve bu çarpım $B$ ile gösterilirse ($B=cA=Ac$); $i \\in \\left\\{ 1,2,3,\\ldots,n \\right\\}$ ve $j \\in \\left\\{ 1,2,3,\\ldots,m \\right\\}$ için $b_{i,j}:=c.a_{i,j}$ şeklinde tanımlanır. Burada $B \\in M_{n,m}(F)$."
   ]
  },
  {
   "cell_type": "markdown",
   "id": "083ee9b0-8865-4015-a6f5-b5518b2ebbf3",
   "metadata": {},
   "source": [
    "### Özellikler:\n",
    "+ Değişme özelliği: $c x A = A x c$\n",
    "+ Dağılma özelliği: $c x (A + B) = c x A + c x B$\n",
    "+ Birim eleman: $1 x A = A$\n",
    "+ Sıfır eleman: $0 x A = O$"
   ]
  },
  {
   "cell_type": "markdown",
   "id": "a3a3fb06-c2f0-4f4b-848b-4bd7b1136acd",
   "metadata": {},
   "source": [
    "Örnek:"
   ]
  },
  {
   "cell_type": "markdown",
   "id": "b7f436a6-a979-4dc7-9876-96a2904b742e",
   "metadata": {},
   "source": [
    "$\n",
    "A = \\begin{bmatrix}\n",
    "12 & 6 \\\\\n",
    "3 & 1 \\\\\n",
    "\\end{bmatrix}\n",
    "$\n",
    "$=>$\n",
    "$1/3xA=$\n",
    "$\n",
    " \\begin{bmatrix}\n",
    "12/3 & 6/3 \\\\\n",
    "3/3 & 1/3 \\\\\n",
    "\\end{bmatrix}\n",
    "$\n",
    "=\n",
    "$\n",
    "\\begin{bmatrix}\n",
    "4 & 2 \\\\\n",
    "1 & 1/3 \\\\\n",
    "\\end{bmatrix}\n",
    "$"
   ]
  },
  {
   "cell_type": "markdown",
   "id": "b2a19ed6-a63b-4ccd-9582-f3a597fffd81",
   "metadata": {},
   "source": [
    "### Noktasal Skaler Çarpım"
   ]
  },
  {
   "cell_type": "markdown",
   "id": "5afec679-2d18-4b80-b626-e5246e9146ec",
   "metadata": {},
   "source": [
    "Matrislerde noktasal skaler çarpım, bir matrisin her bir ögesinin aynı sayı (skaler) ile çarpılmasıdır."
   ]
  },
  {
   "cell_type": "markdown",
   "id": "3d5d72be-0050-48c9-9c92-709338f993db",
   "metadata": {},
   "source": [
    "<b>Tanım:</b> $A ve B \\in M_{1,m}(\\text {IR})$ olsun $A$ ve $B$ matrislerinin (vektörlerinin) noktasal (skaler) çarpımı $<A,B>$ ile gösterilir be bu sonuç $D$ ile gösterilirse ($D:=<A,B>$)\n",
    "\n",
    "$D=<A,B>= \\sum\\limits_{i=1}^m a_{1,i} b_{1,i} \\in \\text {IR}$ şeklinde tanımlanır."
   ]
  },
  {
   "cell_type": "markdown",
   "id": "c90c90f4-e18c-482d-88bc-78fcb566a3a4",
   "metadata": {},
   "source": [
    "Örnek:"
   ]
  },
  {
   "cell_type": "markdown",
   "id": "4f04c2da-bb70-4980-931e-32eb5757c57f",
   "metadata": {},
   "source": [
    "$\n",
    "A = \\begin{bmatrix}\n",
    "2 & 8 & -1  \\\\\n",
    "\\end{bmatrix}\n",
    "$\n",
    ",\n",
    "$\n",
    "B = \\begin{bmatrix}\n",
    "1 & 2 & 0  \\\\\n",
    "\\end{bmatrix}\n",
    "$ \n",
    "ise\n",
    "= \n",
    "$(2x1)+(8x2)+(-1x0)= 2+16+0=18$"
   ]
  },
  {
   "cell_type": "markdown",
   "id": "3761a4e8-bb02-4ef4-8350-eb95f6de4e27",
   "metadata": {},
   "source": [
    "### Noktasal skaler çarpım ile skaler çarpım arasındaki fark:\n",
    "+ Noktasal skaler çarpım, iki vektörün birbirine dik olan bileşenlerinin çarpılması ve toplanmasıyla elde edilen bir işlemdir. Sonucu bir skalerdir (bir sayı).\n",
    "+ Skaler çarpım ise, bir vektörün her bir ögesinin aynı sayı (skaler) ile çarpılmasıyla elde edilen bir işlemdir. Sonucu yine bir vektördür."
   ]
  },
  {
   "cell_type": "markdown",
   "id": "da67286a-f215-4039-9af8-21cd39e799a7",
   "metadata": {},
   "source": [
    "### Matrislerde Çarpma İşlemi"
   ]
  },
  {
   "cell_type": "markdown",
   "id": "2327c26f-96d6-463b-97b4-2ef6cb86e52c",
   "metadata": {},
   "source": [
    "Matrislerde çarpma işlemi, iki matrisin çarpılması sonucunda yeni bir matrisin oluşturulması işlemidir. Bu işlem, matrisler arasında belirli bir uyum sağlanması durumunda gerçekleştirilebilir.\n",
    "\n",
    "İki matrisin çarpılabilmesi için, sol taraftaki matrisin sütun sayısı sağ taraftaki matrisin satır sayısına eşit olmalıdır. Yani, eğer $A$ matrisi $m \\times n$ boyutunda ve $B$ matrisi $n \\times p$ boyutunda ise, $A$ ve $B$ matrisleri çarpılabilir ve sonuç olarak $C$ matrisi elde edilir. Bu durumda, $C$ matrisi $m \\times p$ boyutunda olur.\n",
    "\n",
    "Matris çarpımı, aşağıdaki gibi hesaplanır:\n",
    "\n",
    "$$C_{i,j} = \\sum_{k=1}^{n} A_{i,k}B_{k,j}$$\n",
    "\n",
    "Burada $C_{i,j}$, $C$ matrisinin $i$'inci satır ve $j$'inci sütunundaki elemanı ifade eder. $A_{i,k}$, $A$ matrisinin $i$'inci satır ve $k$'inci sütunundaki elemanıdır. $B_{k,j}$, $B$ matrisinin $k$'inci satır ve $j$'inci sütunundaki elemanıdır.\n"
   ]
  },
  {
   "cell_type": "markdown",
   "id": "4ed89f25-5e49-42f8-aeb5-be5d3720256f",
   "metadata": {},
   "source": [
    "### Özellikleri:\n",
    "+ Çarpma işlemi, matrisler arasında dağılma özelliği gösterir. Yani, $(A+B)C = AC+BC$ ve $A(B+C) = AB+AC$ şeklinde dağılma özelliği vardır.\n",
    "\n",
    "+ Çarpma işlemi, matrisler arasında birleşme özelliği gösterir. Yani, $A(BC) = (AB)C$ şeklinde birleşme özelliği vardır.\n",
    "\n",
    "+ Çarpma işlemi, matrisler arasında işlem yapılan matrislerin sırasını değiştirme özelliğine sahiptir. Yani, $AB \\neq BA$ genellikle geçerlidir.\n",
    "\n",
    "+ Çarpma işlemi, bir matris ile bir skaler (sabit sayı) arasında işlem yapılabilir. Bu durumda, her elemanı skalerle çarpılır. Örneğin, $kA$ matrisi, $A$ matrisinin her elemanını $k$ ile çarpılarak elde edilir.\n",
    "\n",
    "+ Bir matris, kendisi ile çarpıldığında kare matris haline gelir. Yani, $AA=A^2$ şeklinde ifade edilebilir.\n",
    "\n",
    "+ Bir matris, 0 matrisi ile çarpıldığında 0 matrisi elde edilir. Yani, $A\\mathbf{0} = \\mathbf{0}$ şeklinde ifade edilebilir."
   ]
  },
  {
   "cell_type": "markdown",
   "id": "8eec1fd8-3587-483c-a179-099d4e832395",
   "metadata": {},
   "source": [
    "Örnek:"
   ]
  },
  {
   "cell_type": "markdown",
   "id": "333ad41b-1be4-4e05-a2b0-6ec23e70d2af",
   "metadata": {},
   "source": [
    "\n",
    "$\n",
    "A = \\begin{bmatrix}\n",
    "\\color{red}2 & \\color{red}3 & \\color{red}4 \\\\\n",
    "\\color{blue}5 & \\color{blue}-1 & \\color{blue}-6 \\\\\n",
    "\\end{bmatrix}_{\\color{red}2\\times 3},\\quad\n",
    "B = \\begin{bmatrix}\n",
    "\\color{green}1 & \\color{green}2 \\\\\n",
    "\\color{purple}-3 & \\color{purple}4 \\\\\n",
    "\\color{orange}4 & \\color{orange}-2 \\\\\n",
    "\\end{bmatrix}_{\\color{green}3\\times 2}\n",
    "$\n",
    "\n",
    "Bu matrislerin çarpımı:\n",
    "\n",
    "$\n",
    "C = AB = \\begin{bmatrix}\n",
    "2\\cdot1 + 3\\cdot(-3) + 4\\cdot4 & 2\\cdot2 + 3\\cdot4 + 4\\cdot(-2) \\\\\n",
    "5\\cdot1 + (-1)\\cdot(-3) + (-6)\\cdot4 & 5\\cdot2 + (-1)\\cdot4 + (-6)\\cdot(-2) \\\\\n",
    "\\end{bmatrix}\n",
    "= \\begin{bmatrix}\n",
    "9 & 8 \\\\\n",
    "-16 & 18 \\\\\n",
    "\\end{bmatrix}_{2\\times 2}\n",
    "$"
   ]
  },
  {
   "cell_type": "markdown",
   "id": "afdbf6cd-9867-4bfc-8786-e04350924ac9",
   "metadata": {},
   "source": [
    "+ İlk matrisin sutun sayısı, ikinci matrisin satır sayısına eşit olmalıdır.\n",
    "+ Matris çarpımında boyutların aynı olması gibi bir kural yoktur."
   ]
  },
  {
   "cell_type": "markdown",
   "id": "e9b04e03-dc91-47d8-b5dc-177689c39427",
   "metadata": {},
   "source": [
    "## Python Uygulamaları"
   ]
  }
 ],
 "metadata": {
  "kernelspec": {
   "display_name": "Python 3 (ipykernel)",
   "language": "python",
   "name": "python3"
  },
  "language_info": {
   "codemirror_mode": {
    "name": "ipython",
    "version": 3
   },
   "file_extension": ".py",
   "mimetype": "text/x-python",
   "name": "python",
   "nbconvert_exporter": "python",
   "pygments_lexer": "ipython3",
   "version": "3.9.16"
  }
 },
 "nbformat": 4,
 "nbformat_minor": 5
}
