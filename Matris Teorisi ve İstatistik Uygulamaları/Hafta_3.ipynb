{
 "cells": [
  {
   "cell_type": "markdown",
   "id": "a5a9a45e-3e59-492e-b40e-81a3c2c00be4",
   "metadata": {},
   "source": [
    "# Determinant\n",
    "Determinant, kare bir matris ile ilişkili özel bir sayıdır. Bir A matrisin determinant’ı $det(A)$ ya da $|A|$ şeklinde gösterilir ve aşağıdaki şekilde tanımlanır:\n",
    "\n",
    "$2x2$'lik bir $A$ kare matrisinin determinantı;\n",
    "\n",
    "$\n",
    "|A| = \\begin{vmatrix}\n",
    "a_{11} & a_{12}  \\\\\n",
    "a_{21} & a_{22} \\\\\n",
    "\\end{vmatrix}\n",
    "$=\n",
    "$a_{1,1}. a_{2,2} - a_{1,2}. a_{2,1}$ \n",
    "\n",
    "Determinant, matrisin tersini bulmak, doğrusal denklemleri çözmek, alan ve hacim hesaplamaları gibi birçok alanda kullanılır."
   ]
  },
  {
   "cell_type": "markdown",
   "id": "06a29c28-6a45-471a-ad38-b75bc53e6149",
   "metadata": {},
   "source": [
    "+ Sadece kare matrislerin determinantı vardır.\n",
    "+ Bir kare matrisin determinantı, o matirisi bir sayıya eşleyen fonksiyondur.\n",
    "+ Determinant hesabı sonucunda çıkan sayı denklem sistemi çözülebilir mi çözülemez mi, yorum yapmamızı sağlar.\n",
    "+ Determinant bir matrisin tersinin varlığı hakkında bilgi verir."
   ]
  },
  {
   "cell_type": "markdown",
   "id": "748ab900-2569-43a0-921f-85d8178a9508",
   "metadata": {},
   "source": [
    "# Determinant Hesaplama\n"
   ]
  },
  {
   "cell_type": "markdown",
   "id": "1a020a08-5393-4342-99e8-dc04fdbf08d8",
   "metadata": {},
   "source": [
    "## $1x1$ matrislerin determinantı\n",
    "Kendisine eşittir.\n",
    "\n",
    "Örneğin, $[a]$ matrisinin determinantı $det([a])=a$ şeklindedir."
   ]
  },
  {
   "cell_type": "markdown",
   "id": "1f85bea9-4799-4a87-88e9-a02937be8161",
   "metadata": {},
   "source": [
    "## $2x2$ matrislerin determinantı\n",
    "$2x2$ matrislerin determinantı, aşağıdaki formülle hesaplanır:\n",
    "\n",
    "$\n",
    "|A| = \\begin{vmatrix}\n",
    "a & b  \\\\\n",
    "c & d  \\\\\n",
    "\\end{vmatrix}\n",
    "$\n",
    "$\n",
    "= det(A)= a.d-b.c \n",
    "$\n"
   ]
  },
  {
   "cell_type": "markdown",
   "id": "7d86073f-a1e7-4008-ac55-6b70264fb12b",
   "metadata": {},
   "source": [
    "## $3x3$ matrislerin determinantı\n",
    "[Sarrus yöntemi](https://tr.wikipedia.org/wiki/Sarrus_kural%C4%B1) ile hesaplanır, bu yöntem Fransız matematikçi Pierre Frédéric Sarrus tarafından keşfedilmiştir. \n",
    "\n",
    "$3x3$ bir matrisin determinantını bulmak için önce ilk iki sütundaki elemanlar matrisin altına tekrar yazılır ve aşağıdaki formülle hesaplanır;\n",
    "\n",
    "$\n",
    "|A| = \\begin{vmatrix}\n",
    "a & b & c \\\\\n",
    "d & e & f \\\\\n",
    "g & h & k \\\\\n",
    "\\end{vmatrix}\n",
    "$\n",
    "$\\to$\n",
    "$\n",
    "\\begin{vmatrix}\n",
    "a & b & c \\\\\n",
    "d & e & f \\\\\n",
    "g & h & k \\\\\n",
    "a & b & c \\\\\n",
    "d & e & f \\\\\n",
    "\\end{vmatrix}\n",
    "$\n",
    "$\n",
    "= det(A)=  (a.e.k + d.h.c + g.b.f) - (c.e.g + f.h.a + k.b.d)\n",
    "$\n"
   ]
  },
  {
   "cell_type": "markdown",
   "id": "f00ebbc5-ab43-47a6-9ca4-0caacd888308",
   "metadata": {},
   "source": [
    "## $4x4, 5x5, 6x6, ...$ matrislerin determinantı"
   ]
  },
  {
   "cell_type": "markdown",
   "id": "a4fe8125-c4ec-41ea-bc20-0010f13a52b5",
   "metadata": {
    "tags": []
   },
   "source": [
    "## Minör\n",
    "Matrislerde bir elemanın minörü, o elemanın bulunduğu satır ve sütunun çıkarılması sonucu kalan alt matrisin determinantıdır.\n",
    "\n",
    "<b>Tanım:</b> Bir kare matrisin $i$'inci satırı ve $j$'inci sütunu silinince geriye kalan kare matrisin determinantına, $a_{i,j}$ elemanının minörü adı verilir. Bu, $M_{i,j}$ ile gösterilir."
   ]
  },
  {
   "cell_type": "markdown",
   "id": "96cf7978-9a9e-42e8-a84f-bf612e6816e2",
   "metadata": {},
   "source": [
    "### Minör hesaplama\n",
    "örnek: $a_{21}$ elemanının minörü kaçtır? \n",
    "\n",
    "$\n",
    "A = \\begin{bmatrix}\n",
    "1 & 2 & 3 \\\\\n",
    "2 & 1 & 5 \\\\\n",
    "-1 & 4 & 2 \\\\\n",
    "\\end{bmatrix}_{3\\times3}\n",
    "$\n"
   ]
  },
  {
   "cell_type": "markdown",
   "id": "a520df4b-62f9-4983-b659-41ffe3613f83",
   "metadata": {},
   "source": [
    "Çözüm: 2. satır ve 1. sutun matristen atılır. Geriye kalan alt matrisin determinantı minörü verir.\n",
    "\n",
    "$\n",
    "\\begin{vmatrix}\n",
    "2 & 3  \\\\\n",
    "4 & 2  \\\\\n",
    "\\end{vmatrix}\n",
    "$\n",
    "$\\to$\n",
    "$2.2-3.4= 4-12= -8$"
   ]
  },
  {
   "cell_type": "markdown",
   "id": "f1693655-2640-45ed-8148-4b37b837fa64",
   "metadata": {
    "jp-MarkdownHeadingCollapsed": true,
    "tags": []
   },
   "source": [
    "## Kofaktör \n",
    "Kofaktör, bir matrisin herhangi bir elemanının bulunduğu satır ve sütun silinerek elde edilen matrisin işaretli determinantına denir. Bu işlem bütün elemanlar için tekrarlanır ve yerlerine konulursa elde edilen yeni matris kofaktör matris olarak bilinir.\n",
    "\n",
    "<b>Tanım:</b> Bir matrisin  $a_{i,j}$ elamanına karşılık gelen $(-1)^{i+j}$ ifadesine, bu $a_{i,j}$ elemanının kofaktörü denir ve $K_{i,j}=(-1)^{i+j}$ şeklinde gösterilir."
   ]
  },
  {
   "cell_type": "markdown",
   "id": "18ff54f7-f25e-4cf9-9b0d-c960015c10c4",
   "metadata": {
    "tags": []
   },
   "source": [
    "## Kofaktör hesaplama\n",
    "<b>örnek:</b> $a_{31}$ elemanının kofaktörü kaçtır? \n",
    "\n",
    "$\n",
    "A = \\begin{bmatrix}\n",
    "1 & 2 & -1 \\\\\n",
    "3 & 5 & 2 \\\\\n",
    "7 & 1 & 4 \\\\\n",
    "\\end{bmatrix}_{3\\times3}\n",
    "$\n"
   ]
  },
  {
   "cell_type": "markdown",
   "id": "bdf07a76-a939-4900-9dbf-8b3a8f2f770c",
   "metadata": {},
   "source": [
    "<b>Çözüm:</b> -1 üzeri 3 ile 1 toplanır. 3. satır 1. sütundaki elemanın minörü ile çarpılır (3. satır ve 1. sütun atılır)."
   ]
  },
  {
   "cell_type": "markdown",
   "id": "1f7d66e4-cd23-4798-81e4-a20ffd2795b9",
   "metadata": {},
   "source": [
    "$(-1)^{3+1}$\n",
    ".\n",
    "$\n",
    "\\begin{vmatrix}\n",
    "2 & -1  \\\\\n",
    "5 & 2  \\\\\n",
    "\\end{vmatrix}\n",
    "$\n",
    "$ \\to$ \n",
    "$1.(4-(-5))=9$"
   ]
  },
  {
   "cell_type": "markdown",
   "id": "c1ac87f6-669d-4ddb-b0de-17cfb77a65c6",
   "metadata": {},
   "source": [
    "## Laplace Açılımı ile Determinant Hesabı\n",
    "$nxm$'lik bir $A$ kare matrisinin determinantı, $i$'inci satıra göre Laplace açılımı ile aşağıdaki gibi hesaplanır:\n",
    "\n",
    "$$det(A)=|A|= \\sum_{j=1}^{n} a_{i,j}.K_{i,j}.M_{i,j}$$\n",
    "\n",
    "$$i=eleman, K=kofaktor, M=minor $$"
   ]
  },
  {
   "cell_type": "markdown",
   "id": "d133f4c0-07d2-4c2a-b2f5-d124a1f48cdd",
   "metadata": {},
   "source": [
    "Örnek: $detA=?$\n",
    "\n",
    "$\n",
    "A = \\begin{bmatrix}\n",
    "1 & 2 & 1 & 0\\\\\n",
    "3 & 0 & 2 & -1\\\\\n",
    "4 & 1 & 3 & 2\\\\\n",
    "0 & 2 & 0 & 0\\\\\n",
    "\\end{bmatrix}_{4\\times4}\n",
    "$"
   ]
  },
  {
   "cell_type": "markdown",
   "id": "32bb28af-72d6-4d1e-a61b-09d5542e7293",
   "metadata": {},
   "source": [
    "Çözüm: İşlem kolaylığı için içinde bol sıfır olan satır veya sutun seçilir. 4. satırda bolca sıfır olduğu için onu seçiyoruz. 2 dışındaki matrisin 4. satrırının elemanları sıfır olduğundan dolayı çarpmada gideceklerdir dolayısıyla sadece 2 elemanının minörünü ve kofaktörünü hesaplamak bizi sonuca götürecektir. \n",
    "\n",
    "$elemanxkofaktorxminor= 2 x $$(-1)^{4+2}$ x $\n",
    "\\begin{vmatrix}\n",
    "1 & 1 & 0  \\\\\n",
    "3 & 2 & -1  \\\\\n",
    "4 & 3 & 2  \\\\\n",
    "\\end{vmatrix}\n",
    "$\n",
    "$=-6$"
   ]
  },
  {
   "cell_type": "markdown",
   "id": "7aad4479-6d90-4f18-928c-8deb6c37ce63",
   "metadata": {},
   "source": [
    "2. sutun ve 4. satırı matristen attığımız için sarrus yöntemi ile minör hesaplanabilir. Bu hesabın sonucu $-6$ çıkar. Matrisin 4. satırına göre Laplace Açılımı yaparak determinantı hesapladık."
   ]
  },
  {
   "cell_type": "markdown",
   "id": "8b939682-6e8e-451c-9898-b593948bccb5",
   "metadata": {},
   "source": [
    "## Determinant özellikleri\n",
    "\n",
    "1. Matrisin determinantı, matrisin satırlarının veya sütunlarının lineer bağımlılığına bağlıdır. Eğer matrisin bir satırı veya sütunu, diğer satırların veya sütunların doğrusal kombinasyonu olarak ifade edilebilirse, matrisin determinantı sıfırdır.\n",
    "\n",
    "2. Bir matriste tamamen 0'lardan oluşan satır veya sütun bulunuyorsa o matrisin determinantı 0'dır.\n",
    "\n",
    "3. Bir matriste bir satır veya sütun, başka bir satır veya sütunun aynısı veya iki katı ise determinant 0 olur.\n",
    "\n",
    "4. Bir matriste iki satır veya iki sütun yer değiştirirse bunun sonucunda determinantın işareti değişir.\n",
    "\n",
    "5. Bir satır veya sütunun bir sayı ile çarpılması, matrisin determinantınında o sayı ile çarpılmasını gerektirir.\n",
    "\n",
    "6. ⭐ Bir satır bir başka satıra eklenir veya çıkartılırsa, bir saır bir sayi ile çarpılıp diğer bir satıra eklenir veya çıkartılırsa determinant değişmez. (Sütun için geçerli değildir.)\n",
    "\n",
    "7. Köşegen matris, alt üçgen matris ve üst üçgen matrislerde determinant köşegendeki elemanların çarpımına eşittir.\n",
    "\n",
    "8. Bir matrisin transpozesinin determinantı, orijinal matrisin determinantına eşittir. Yani, $det(A) = det(A^T)$.\n",
    "\n",
    "9. Bir matrisin tersi varsa, determinantı sıfırdan farklıdır ve matrisin tersi, matrisin kofaktörlerinin transpozesinin, determinantının tersi ile çarpımına eşittir.\n",
    "\n",
    "10. $det(A.B)= detA.detB$\n",
    "\n",
    "11. $det(A^n)=(detA)^n$\n",
    "\n",
    "12. $det(k.A)=k^{satirsayisi}.detA=k^n.detA$"
   ]
  },
  {
   "cell_type": "markdown",
   "id": "c8a2c3fe-38c6-45c6-8fe0-9a2e3a6399be",
   "metadata": {},
   "source": [
    "<hr>"
   ]
  },
  {
   "cell_type": "markdown",
   "id": "c6e5e9ff-64b6-4f07-adb7-ef024c39eb9f",
   "metadata": {},
   "source": [
    "## Elemanter Satır İşlemleri\n",
    "\n",
    "### Satırı Skaler ile Çarpma\n",
    "\n",
    "Bir matrisin herhangi bir satırındaki tüm elemanları belirli bir sayıyla çarpmak, o satırı bu sayıya göre ölçeklendirir. Örneğin, aşağıdaki matrisin ilk satırını 2 ile çarparsak:\n",
    "\n",
    "$\n",
    "\\begin{bmatrix}\n",
    "1 & 2 & 3 \\\\\n",
    "4 & 5 & 6 \\\\\n",
    "7 & 8 & 9 \\\\\n",
    "\\end{bmatrix}\n",
    "\\to\n",
    "\\begin{bmatrix}\n",
    "2 & 4 & 6 \\\\\n",
    "4 & 5 & 6 \\\\\n",
    "7 & 8 & 9 \\\\\n",
    "\\end{bmatrix}\n",
    "$\n",
    "\n",
    "### Satırın Bir Katını Başka Bir Satıra Ekleme\n",
    "\n",
    "Bir matrisin bir satırının bir katını başka bir satıra eklemek, matrisin bu iki satırının toplamına eşit olan yeni bir matris oluşturur. Örneğin, aşağıdaki matrisin ilk satırının 2 katını 2. satıra eklersek:\n",
    "\n",
    "$\n",
    "\\begin{bmatrix}\n",
    "1 & 2 & 3 \\\\\n",
    "4 & 5 & 6 \\\\\n",
    "7 & 8 & 9 \\\\\n",
    "\\end{bmatrix}\n",
    "\\to\n",
    "\\begin{bmatrix}\n",
    "1 & 2 & 3 \\\\\n",
    "6 & 9 & 12 \\\\\n",
    "7 & 8 & 9 \\\\\n",
    "\\end{bmatrix}\n",
    "$\n",
    "\n",
    "### İki Satırın Yerlerini Birbiri ile Değiştirme\n",
    "\n",
    "İki satırın yerlerini birbiri ile değiştirmek, matrisin iki satırını yer değiştirerek yeni bir matris oluşturur. Örneğin, aşağıdaki matrisin 1. ve 2. satırlarını birbiri ile değiştirirsek:\n",
    "\n",
    "$\n",
    "\\begin{bmatrix}\n",
    "1 & 2 & 3 \\\\\n",
    "4 & 5 & 6 \\\\\n",
    "7 & 8 & 9 \\\\\n",
    "\\end{bmatrix}\n",
    "\\to\n",
    "\\begin{bmatrix}\n",
    "4 & 5 & 6 \\\\\n",
    "1 & 2 & 3 \\\\\n",
    "7 & 8 & 9 \\\\\n",
    "\\end{bmatrix}\n",
    "$\n"
   ]
  },
  {
   "cell_type": "markdown",
   "id": "e8151f61-c4cb-4a73-8305-7321b0006aff",
   "metadata": {},
   "source": [
    "<hr style=\"border: 0.5px solid gray; margin: 25px 0;\">"
   ]
  },
  {
   "cell_type": "markdown",
   "id": "002c89b8-5cd1-41da-ab9d-42c5be5c5128",
   "metadata": {},
   "source": [
    "## Matrislerde Satır Eşdeğerliği\n",
    "<b>Tanım:</b> Bir $A$ matrisinin üzerinde elemanter satır işlemlerinden bir veya daha fazlasının uygulanması sonucunda elde edilen matris $B$ ile gösterilsin. $B$ matrisi $A$ matrisinin <b>\"satır eşdeğeridir\"</b> denir ve $A \\sim B$ ile gösterilir."
   ]
  },
  {
   "cell_type": "markdown",
   "id": "9ee85eee-bfeb-4e07-9e9b-d5133de55f0e",
   "metadata": {},
   "source": [
    "Örnek: \n",
    "$$\n",
    "A = \\begin{bmatrix} \n",
    "1 & 2 & 3 \\\\ \n",
    "4 & 5 & 6 \\\\\n",
    "7 & 8 & 9 \\\\\n",
    "\\end{bmatrix} \n",
    "\\to\n",
    "B = \\begin{bmatrix} \n",
    "4 & 5 & 6 \\\\\n",
    "1 & 2 & 3 \\\\ \n",
    "7 & 8 & 9 \\\\\n",
    "\\end{bmatrix} \n",
    "$$\n",
    "\n",
    "Matris $A$'nın 1. satırı ile 2. satırları yer değiştirdiğinde ortaya çıkan $B$ matrisi, $A$ matrisi ile satır eşdeğeridir."
   ]
  },
  {
   "cell_type": "markdown",
   "id": "3730070a-12e3-48e4-a229-535e9a8332fa",
   "metadata": {},
   "source": [
    "<hr style=\"border: 0.5px solid gray; margin: 25px 0;\">"
   ]
  },
  {
   "cell_type": "markdown",
   "id": "e7377933-b410-4079-8f6d-6db864ac2151",
   "metadata": {},
   "source": [
    "## Matrislerin Tersi\n",
    "<b>Tanım:</b> \"Bir kare matrisi aynı mertebeden hangi kare matrisle çarparsak birim matrisi elde ederiz?\" sorusunun cevabı varsa, bu matrise <b>ters matris</b> denir. Bir $A$ kare matrisinin eğer tersi varsa bu ters matris $A^{-1}$ ile gösterilir ve $AA^{-1}=I$'dır. $I$, $A$ matrisleriyle aynı mertebeden birim matristir.\n",
    "\n",
    "Bir kare matrisin tersini bulmak için pek çok yol mevcuttur. Bunlardan biri elemanter satır işlemleri ile ters bulmaktır."
   ]
  },
  {
   "cell_type": "markdown",
   "id": "42a2ac68-140e-40da-9f37-bfddbfd928f1",
   "metadata": {},
   "source": [
    "<b>Teorem:</b> $[A|I]$, $A$ matrisinin sağına aynı mertebeden birim matrisin eklenmiş halini göstersin. $[A|I]$ genişletilmiş matrisine elemanter satır işlemleri uygulanarak elde edilecek $[I|B]$ formundaki satır eşdeğer matriste yer alan $B = A^{-1}$'dir."
   ]
  },
  {
   "cell_type": "markdown",
   "id": "537d22c1-3f8d-4ab4-8532-ae69548a58f9",
   "metadata": {},
   "source": [
    "#### Not: $[A|I] \\sim  [I|B] \\to B = A^{-1}$"
   ]
  },
  {
   "cell_type": "markdown",
   "id": "3bdbf917-2537-4624-8105-0c4ee4a5b809",
   "metadata": {},
   "source": [
    "Örnek: Aşağıdaki $A$ matrisinin tersini elemanter satır işlemlerine dayalı olarak elde edelim.\n",
    "\n",
    "$\n",
    "A = \\begin{bmatrix}\n",
    "2 & 3 \\\\\n",
    "1 & 5 \\\\\n",
    "\\end{bmatrix}\n",
    "$"
   ]
  },
  {
   "cell_type": "markdown",
   "id": "55f897a5-1b1c-48f3-be36-90c8e530a8c6",
   "metadata": {},
   "source": [
    "Çözüm: $[A|I] = \n",
    "\\begin{vmatrix}\n",
    "2 & 3 |1 & 0 \\\\\n",
    "1 & 5 |0 & 1  \\\\\n",
    "\\end{vmatrix}\n",
    "$\n",
    "\n",
    "Oluşturulsun. Bu matrisin sol tarafına birim matris oluşturulacak şekilde elemanter satır işlemleri uygulayalım: Önce 2 elemanını 1, sonra 1 elemanını 0, daha sonra 5 elemanını 1 ve en son olarak 3 elemanını 0 haline getirecek elemanter satır işlemlerini uygulamalıyız."
   ]
  },
  {
   "cell_type": "markdown",
   "id": "e3d11187-c426-474b-ba5e-2479ae1184db",
   "metadata": {},
   "source": [
    "$\n",
    "\\begin{vmatrix}\n",
    "2 & 3 |1 & 0 \\\\\n",
    "1 & 5 |0 & 1  \\\\\n",
    "\\end{vmatrix}\n",
    "$\n",
    "$\\to$\n",
    "$\n",
    "\\begin{vmatrix}\n",
    "1 & 3/2 |1/2 & 0 \\\\\n",
    "1 & 5   |0 & 1  \\\\\n",
    "\\end{vmatrix}\n",
    "$\n",
    "$\\to$\n",
    "$\n",
    "\\begin{vmatrix}\n",
    "1 & 3/2 |1/2 & 0 \\\\\n",
    "0 & 7/2 |1/2 & 1  \\\\\n",
    "\\end{vmatrix}\n",
    "$\n",
    "$\\to$\n",
    "$\n",
    "\\begin{vmatrix}\n",
    "1 & 3/2 |1/2 & 0 \\\\\n",
    "0 & 1   |-1/7 & 2/7  \\\\\n",
    "\\end{vmatrix}\n",
    "$\n",
    "$\\to$\n",
    "$\n",
    "\\begin{vmatrix}\n",
    "1 & 0 | 5/7 & -3/7 \\\\\n",
    "0 & 1 | -1/7 & 2/7  \\\\\n",
    "\\end{vmatrix}\n",
    "$\n",
    "$\\to$\n",
    "$[I|A^{-1}]$"
   ]
  },
  {
   "cell_type": "markdown",
   "id": "73fd786c-76a1-4358-89a1-ff8c7f5a6ed7",
   "metadata": {},
   "source": [
    "Sonuç olarak,\n",
    "\n",
    "$A^{-1} = \\begin{bmatrix}\n",
    "\\frac{5}{7} & -\\frac{3}{7} \\\\\n",
    "-\\frac{1}{7} & \\frac{2}{7} \\\\\n",
    "\\end{bmatrix}$ \n",
    "elde edilir."
   ]
  },
  {
   "cell_type": "markdown",
   "id": "057a05b6-c9fb-44a5-aa9a-fde755674a03",
   "metadata": {},
   "source": [
    "### Önemli Not: Solda birim matris elde edilirken; önce 1 oluşutulur, sonra 1 elemanının bulunduğu sütunlar diğer elemanlar sırayla sıfırlancak şekilde elemanter satır işlemleri yapılır. Bu kural sutunlarda sırayla uygulanır. Örneğin,\n",
    "\n",
    "$[A|I] = \n",
    "\\begin{vmatrix}\n",
    "a & d & g|1 & 0 & 0\\\\\n",
    "b & e & h|0 & 1 & 0\\\\\n",
    "c & f & i|0 & 0 & 1\\\\\n",
    "\\end{vmatrix}\n",
    "$"
   ]
  },
  {
   "cell_type": "markdown",
   "id": "9e09edbc-02e0-4fc4-a839-f294a8019481",
   "metadata": {},
   "source": [
    "1. Adım: $a$ elemanını $1$ yapacak elemanter satır işlemini yap.\n",
    "2. Adım: $b$ elemanını $0$ yapacak elemanter satır işlemini yap.\n",
    "3. Adım: $c$ elemanını $0$ yapacak elemanter satır işlemini yap.\n",
    "4. Adım: $e$ elemanını $1$ yapacak elemanter satır işlemini yap.\n",
    "5. Adım: $d$ elemanını $0$ yapacak elemanter satır işlemini yap.\n",
    "6. Adım: $f$ elemanını $0$ yapacak elemanter satır işlemini yap.\n",
    "7. Adım: $i$ elemanını $1$ yapacak elemanter satır işlemini yap.\n",
    "8. Adım: $g$ elemanını $0$ yapacak elemanter satır işlemini yap.\n",
    "9. Adım: $h$ elemanını $0$ yapacak elemanter satır işlemini yap."
   ]
  },
  {
   "cell_type": "markdown",
   "id": "4f2a4fe5-c1c0-48f0-9a19-2650860bd8dc",
   "metadata": {},
   "source": [
    "## Bir Matrisin Tersinin Olma Şartları\n",
    "\n",
    "+ Matris kare bir matris olmalıdır. Yani, $A m x n$ boyutunda bir matris ise, $m = n$ olmalıdır.\n",
    "+ Matrisin determinantının sıfır olmaması gerekir $det(A) ≠ 0$ Eğer bir matrisin determinantı sıfır ise, o matris tekil (singular) olarak adlandırılır ve tersi yoktur veya tanımsızdır."
   ]
  },
  {
   "cell_type": "markdown",
   "id": "25ea521e-0c03-457b-9f42-a6d87518cd3c",
   "metadata": {},
   "source": [
    "## Ters Matris Özellikleri\n",
    "\n",
    "+ Bir matrisin tersi yalnızca tek bir tane olabilir veya hiç olmayabilir.\n",
    "+ Ters matris, birim matris ile çarpıldığında her zaman birim matrisi verir: $A x A^{-1} = A^{-1} x A = I$.\n",
    "+ Bir matrisin tersi varsa, o matrisin determinantı sıfırdan farklıdır. Bu nedenle, bir matrisin determinantı sıfır ise, tersi yoktur.\n",
    "+ Bir matrisin tersinin tersi kendisidir.\n",
    "+ Birim matrisin tersi kendisidir.\n",
    "+ Bir matrisin tersinin transpozu, transpozunun tersine eşittir.\n",
    "+ Bir matrisin tersi varsa, sıfırdan farklı bir reel sayı ile çarpımının tersi, tersinin reel sayının çarpmaya göre tersi ile çarpımına eşittir.\n",
    "+ İki ya da daha fazla matrisin tersi varsa, çarpımlarının da tersi vardır ve matrislerin terslerinin ters sırada çarpımına eşittir."
   ]
  },
  {
   "cell_type": "markdown",
   "id": "894188ca-58cb-4183-b4c2-4ace8f2f2752",
   "metadata": {},
   "source": [
    "<hr style=\"border: 0.5px solid gray; margin: 25px 0;\">"
   ]
  },
  {
   "cell_type": "markdown",
   "id": "a53824c2-59f6-4a55-a96d-3374a6d2b0dc",
   "metadata": {},
   "source": [
    "## Python Uygulamaları"
   ]
  },
  {
   "cell_type": "markdown",
   "id": "b8b28978-6277-498b-bf58-9e2e7f313f59",
   "metadata": {},
   "source": [
    "### Determinant\n",
    "Python'da determinant hesaplamak için `linalg.det` metodu kullanılabilir. Bu metod determinantı hesaplamak için arka planda <b>LU</b> ayrıştırması yöntemini kullanır. LU ayrıştırması yapıldıktan sonra matrisin determinantı üst üçgensel matrisin çapraz elemanlarının çarpımına eşit gelir."
   ]
  },
  {
   "cell_type": "code",
   "execution_count": 1,
   "id": "75422ab7-58f9-4cbd-894e-ffa35b661302",
   "metadata": {},
   "outputs": [
    {
     "name": "stdout",
     "output_type": "stream",
     "text": [
      "1x1 matrisin determinantı: 4.999999999999999\n",
      "2x2 matrisin determinantı: 1.999999999999998\n",
      "3x3 matrisin determinantı: 3.000000000000001\n",
      "4x4 matrisin determinantı: 1.0\n"
     ]
    }
   ],
   "source": [
    "import numpy as np\n",
    "\n",
    "matris1 = np.array([[5]]) # 1x1 boyutunda matris\n",
    "\n",
    "matris2 = np.array([[4, 3], # 2x2 boyutunda matris\n",
    "                    [6, 5]]) \n",
    "\n",
    "matris3 = np.array([[6, 5, 1],  # 3x3 boyutunda matris\n",
    "                    [4, 3, 2], \n",
    "                    [3, 2, 1]])\n",
    "\n",
    "matris4 = np.array([[1, 2, 3, 4], # 4x4 boyutunda matris\n",
    "                    [0, 1, 2, 3], \n",
    "                    [0, 0, 1, 2], \n",
    "                    [0, 0, 0, 1]]) \n",
    "\n",
    "matrisler = [matris1, matris2, matris3, matris4]\n",
    "\n",
    "for matris in matrisler:\n",
    "    boyut = matris.shape[0]\n",
    "    determinant = np.linalg.det(matris)\n",
    "    print(f'{boyut}x{boyut} matrisin determinantı: {determinant}')"
   ]
  },
  {
   "cell_type": "markdown",
   "id": "70ff24a2-3ef9-4edf-b534-49226351e6ae",
   "metadata": {},
   "source": [
    "### Minör\n",
    "Python'da minör hesabı için yerleşik bir metod yoktur. Minörü hesaplayabimek için `delete` metodu ile ilgili satır ve sütun matristen atılır geriye kalan matrisin determinantı bize minörü verecektir."
   ]
  },
  {
   "cell_type": "code",
   "execution_count": 2,
   "id": "8b9fe067-325a-4bb2-802f-9e814e04b6f9",
   "metadata": {
    "tags": []
   },
   "outputs": [
    {
     "name": "stdout",
     "output_type": "stream",
     "text": [
      "[[2 3]\n",
      " [4 2]] \n",
      " Minör=  -7.999999999999998\n"
     ]
    }
   ],
   "source": [
    "import numpy as np\n",
    "\n",
    "matris = np.array([[1, 2, 3], \n",
    "                   [2, 1, 5], \n",
    "                   [-1, 4, 2]])\n",
    "\n",
    "# 2. satır 1. sütuna göre minörü hesaplayalım\n",
    "# 2. satır ve 1. sütun matristen atılır\n",
    "minor_matris = np.delete(np.delete(matris, 1, axis=0), 0, axis=1)\n",
    "\n",
    "# geriye kalan matrisin determinantı minöre eşittir\n",
    "minor = np.linalg.det(minor_matris)\n",
    "\n",
    "print(minor_matris, '\\n','Minör= ', minor)"
   ]
  },
  {
   "cell_type": "markdown",
   "id": "92ab4efb-1802-46eb-b8f0-149413bb711d",
   "metadata": {},
   "source": [
    "### Kofaktör\n",
    "Python'da bir kofaktör matrisi oluşturmak için yerleşik bir metod yoktur. Kofaktör hesabı oluşturmak için bir fonksiyon tanımladık. Bu fonksiyon ilk olarak matrisin boyutunu alır, sadece kare matrislerin kofaktörü olduğu için ilk indisi almak yeterlidir. Akabinde matrisin boyutunun 1x1 olup olmadığı kontol eder devamında boş bir matris oluşturur. For döngüleri ile matrisin her bir elemanının kofaktörü hesaplanır. Dıştaki for döngüsü matrisin satırlarını, içteki for döngüsü ise sütunlarını tarar ve kofaktör hesabını yapar. En sonunda kofaktör matrisini döndürür."
   ]
  },
  {
   "cell_type": "code",
   "execution_count": 3,
   "id": "adffa893-05c4-49c9-8323-76d06c199202",
   "metadata": {},
   "outputs": [
    {
     "name": "stdout",
     "output_type": "stream",
     "text": [
      "[[ 18.   2. -32.]\n",
      " [ -9.  11.  13.]\n",
      " [  9.  -5.  -1.]]\n"
     ]
    }
   ],
   "source": [
    "import numpy as np\n",
    "matris = np.array([[1, 2, -1], \n",
    "                   [3, 5, 2], \n",
    "                   [7, 1, 4]])\n",
    "\n",
    "def kofaktor(matris):\n",
    "    boyut = matris.shape[0] # Matrisin boyutunu al\n",
    "    \n",
    "    # Eğer matris 1x1 boyutundaysa, kofaktörü 1 olarak dön\n",
    "    if boyut == 1:\n",
    "        return np.array([[1]])\n",
    "\n",
    "    # Kofaktör matrisi için boş bir matris oluştur\n",
    "    kofaktor_matrisi = np.zeros((boyut, boyut))\n",
    "\n",
    "    # Her bir elemanın kofaktörünü hesapla\n",
    "    for i in range(boyut):\n",
    "        for j in range(boyut):\n",
    "            # Matrisin i. satırını ve j. sütununu silerek minör matrisi oluştur\n",
    "            minordeki_determinant = np.linalg.det(np.delete(np.delete(matris, i, axis=0), j, axis=1))\n",
    "            # İşaretlendirme kuralı uygula\n",
    "            isaret = (-1) ** (i + j)\n",
    "            # Kofaktör matrisindeki i,j elemanını hesapla\n",
    "            kofaktor_matrisi[i, j] = isaret * minordeki_determinant\n",
    "\n",
    "    return kofaktor_matrisi\n",
    "\n",
    "print(kofaktor(matris))"
   ]
  },
  {
   "cell_type": "markdown",
   "id": "6e72e0dd-6d93-46ed-a9eb-976e91a0ae85",
   "metadata": {},
   "source": [
    "### Laplace Açılımı ile Determinant Hesabı \n",
    "Laplace açılımı ile determinanat hesaplamak için özyineli bir fonksiyon tanımladık. Bu durumda determinant fonksiyonu kendisini matrisin alt matrislerine uygulayarak çağırır. Fonksiyon parametre olarak hesaplanacak matrisi alır. Öncelikle matrisin boyutunu belirler ve matris boyutu 1 ise matrisin tek elemanını determinant olarak döndürür. Daha sonra, matris boyutu 2 veya daha büyükse, Laplace Açılımı yöntemini kullanarak matrisin determinantını hesaplar."
   ]
  },
  {
   "cell_type": "code",
   "execution_count": 4,
   "id": "07a23b6b-86a1-4580-8067-611553ed9c0d",
   "metadata": {},
   "outputs": [
    {
     "name": "stdout",
     "output_type": "stream",
     "text": [
      "-6\n"
     ]
    }
   ],
   "source": [
    "import numpy as np\n",
    "\n",
    "matris = np.array([[1, 2, 1, 0], \n",
    "                   [3, 0, 2, -1], \n",
    "                   [4, 1, 3, 2],\n",
    "                   [0, 2, 0, 0]])\n",
    "\n",
    "def laplace_det(matris):\n",
    "    boyut = len(matris) # matrisin boyutu\n",
    "    \n",
    "    if boyut == 1: # boyut 1 ise determinant kensisine eşittir\n",
    "        return matris[0][0]\n",
    "    \n",
    "    # Matris 2x2 ise formülü uygula\n",
    "    elif boyut == 2:\n",
    "        return matris[0][0]*matris[1][1] - matris[0][1]*matris[1][0]\n",
    "    \n",
    "    # Boyut 2'den büyükse Laplace açılımı kullanılabilir\n",
    "    else:\n",
    "        det = 0\n",
    "        for j in range(boyut):\n",
    "            isaret = (-1) ** j # işaret kuralı\n",
    "            \n",
    "            # Alt matrisi hesapla\n",
    "            alt_matris = np.delete(matris, 0, axis=0)\n",
    "            alt_matris = np.delete(alt_matris, j, axis=1)\n",
    "            \n",
    "            # Alt matrisin determinantı\n",
    "            alt_det = laplace_det(alt_matris)\n",
    "            \n",
    "            # Kofaktörü hesapla ve topla\n",
    "            det += isaret * matris[0][j] * alt_det\n",
    "            \n",
    "        return det\n",
    "\n",
    "print(laplace_det(matris))"
   ]
  },
  {
   "cell_type": "markdown",
   "id": "f033505a-405a-498e-8dbb-dec9a2949bfe",
   "metadata": {},
   "source": [
    "### Elemanter Satır İşlemleri"
   ]
  },
  {
   "cell_type": "code",
   "execution_count": 5,
   "id": "e8d955ca-6d84-4902-9334-99276e1de488",
   "metadata": {},
   "outputs": [
    {
     "name": "stdout",
     "output_type": "stream",
     "text": [
      "[[2 4 6]\n",
      " [4 5 6]\n",
      " [7 8 9]]\n"
     ]
    }
   ],
   "source": [
    "import numpy as np\n",
    "matris = np.array([[1, 2, 3], [4, 5, 6], [7, 8, 9]])\n",
    "# İlk satırı 2 ile çarpıyoruz\n",
    "matris[0] = matris[0] * 2\n",
    "print(matris)"
   ]
  },
  {
   "cell_type": "code",
   "execution_count": 6,
   "id": "d5603046-7202-4e4a-9a3e-f796fd864493",
   "metadata": {},
   "outputs": [
    {
     "name": "stdout",
     "output_type": "stream",
     "text": [
      "[[ 1  2  3]\n",
      " [ 6  9 12]\n",
      " [ 7  8  9]]\n"
     ]
    }
   ],
   "source": [
    "import numpy as np\n",
    "matris = np.array([[1, 2, 3], [4, 5, 6], [7, 8, 9]])\n",
    "# İlk satırın 2 katını 2. satıra ekliyoruz\n",
    "matris[1] = matris[1] + matris[0] * 2\n",
    "print(matris)"
   ]
  },
  {
   "cell_type": "code",
   "execution_count": 7,
   "id": "00c61331-3459-402a-ab45-30af24cdfb3f",
   "metadata": {},
   "outputs": [
    {
     "name": "stdout",
     "output_type": "stream",
     "text": [
      "[[4 5 6]\n",
      " [1 2 3]\n",
      " [7 8 9]]\n"
     ]
    }
   ],
   "source": [
    "import numpy as np\n",
    "matris = np.array([[1, 2, 3], [4, 5, 6], [7, 8, 9]])\n",
    "# 1. ve 2. satırları birbiri ile değiştiriyoruz\n",
    "matris[[0, 1]] = matris[[1, 0]]\n",
    "print(matris)"
   ]
  },
  {
   "cell_type": "markdown",
   "id": "89494bf3-3548-4afa-b178-de0349c24156",
   "metadata": {},
   "source": [
    "### Matrislerde Satır Eşdeğerliği\n",
    "Matrislerin satır eşdeğerliğini kontrol etmek için, matrislerin ranklarını `linalg.matrix_rank` metodu ile hesaplayalım ve karşılaştıralım. Eğer ranklar eşlit çıkarsa matrisler satır eşdeğeridir."
   ]
  },
  {
   "cell_type": "code",
   "execution_count": 8,
   "id": "ca73755c-b570-4d22-8c07-2dea2b826740",
   "metadata": {},
   "outputs": [
    {
     "name": "stdout",
     "output_type": "stream",
     "text": [
      "2 2\n",
      "Matrisler satır eşdeğeridir.\n"
     ]
    }
   ],
   "source": [
    "import numpy as np\n",
    "\n",
    "A = np.array([[1, 2, 3], \n",
    "              [4, 5, 6], \n",
    "              [7, 8, 9]])\n",
    "\n",
    "B = np.array([[4, 5, 6], \n",
    "              [1, 2, 3], \n",
    "              [7, 8, 9]])\n",
    "\n",
    "# Matrislerin ranklarını hesaplıyoruz\n",
    "rank_A = np.linalg.matrix_rank(A)\n",
    "rank_B = np.linalg.matrix_rank(B)\n",
    "\n",
    "print(rank_A, rank_B)\n",
    "\n",
    "# Ranklar eşitse matrisler satır eşdeğeridir\n",
    "if rank_A == rank_B:\n",
    "    print(\"Matrisler satır eşdeğeridir.\")\n",
    "else:\n",
    "    print(\"Matrisler satır eşdeğer eşdeğeridir.\")"
   ]
  },
  {
   "cell_type": "markdown",
   "id": "37a8ad04-fdbf-4a72-856d-bd14051a5eb5",
   "metadata": {},
   "source": [
    "### Matrislerin Tersi\n",
    "Python'da bir matrisin tersini almak için `linalg.inv()` metodu kullanılabilir. Eğer bir matrisin determinantı sıfırsa o matrisin tersi yoktur. Bu nedenden dolayı tersi alınacak matrisin determinantı kontrol edilmelidir."
   ]
  },
  {
   "cell_type": "code",
   "execution_count": 9,
   "id": "8387c7ea-ce94-46f9-b3ab-deb8507309ff",
   "metadata": {},
   "outputs": [
    {
     "name": "stdout",
     "output_type": "stream",
     "text": [
      "[[ 0.71428571 -0.42857143]\n",
      " [-0.14285714  0.28571429]]\n"
     ]
    }
   ],
   "source": [
    "import numpy as np\n",
    "\n",
    "A = np.array([[2, 3], \n",
    "              [1, 5]])\n",
    "\n",
    "if np.linalg.det(A) == 0:\n",
    "    print('Matrisin tersi yoktur.')\n",
    "else:\n",
    "    Ters_matris = np.linalg.inv(A)\n",
    "    print(Ters_matris)                                                                                "
   ]
  },
  {
   "cell_type": "markdown",
   "id": "7916b351-f6af-4855-a7c5-5dcddcf61ae1",
   "metadata": {},
   "source": [
    "## Alıştırmalar:\n",
    "\n",
    "#### 1. Python'da verilen bir matrisin determinantını, minörünü ve kofaktörünü hesaplayan bir fonksiyon yazınız.\n",
    "#### 2. Elemanter satır işlemleri nelerdir ve ne işe yararlar?\n",
    "#### 3. Laplace Açılımı hangi durumlarda kullanılır ve kullanım avantajları nelerdir?\n",
    "#### 4. Elemanter satır işlemleri ile hangi matris işlemleri yapılabilir?\n",
    "#### 5. Her matrisin tersi bulunabilir mi ve bununla ilgili hangi teoremler ve kanıtlar vardır?"
   ]
  }
 ],
 "metadata": {
  "kernelspec": {
   "display_name": "Python 3 (ipykernel)",
   "language": "python",
   "name": "python3"
  },
  "language_info": {
   "codemirror_mode": {
    "name": "ipython",
    "version": 3
   },
   "file_extension": ".py",
   "mimetype": "text/x-python",
   "name": "python",
   "nbconvert_exporter": "python",
   "pygments_lexer": "ipython3",
   "version": "3.9.16"
  }
 },
 "nbformat": 4,
 "nbformat_minor": 5
}
