{
 "cells": [
  {
   "cell_type": "markdown",
   "id": "a5a9a45e-3e59-492e-b40e-81a3c2c00be4",
   "metadata": {},
   "source": [
    "# Determinant\n",
    "Determinant, kare bir matris ile ilişkili özel bir sayıdır. Bir A matrisin determinant’ı $det(A)$ ya da $|A|$ şeklinde gösterilir ve aşağıdaki şekilde tanımlanır:\n",
    "\n",
    "$2x2$'lik bir $A$ kare matrisinin determinantı;\n",
    "\n",
    "$\n",
    "|A| = \\begin{vmatrix}\n",
    "a_{11} & a_{12}  \\\\\n",
    "a_{21} & a_{22} \\\\\n",
    "\\end{vmatrix}\n",
    "$=\n",
    "$a_{1,1}. a_{2,2} - a_{1,2}. a_{2,1}$ \n",
    "\n",
    "Determinant, matrisin tersini bulmak, doğrusal denklemleri çözmek, alan ve hacim hesaplamaları gibi birçok alanda kullanılır."
   ]
  },
  {
   "cell_type": "markdown",
   "id": "06a29c28-6a45-471a-ad38-b75bc53e6149",
   "metadata": {},
   "source": [
    "+ Sadece kare matrislerin determinantı vardır.\n",
    "+ Bir kare matrisin determinantı, o matirisi bir sayıya eşleyen fonksiyondur.\n",
    "+ Determinant hesabı sonucunda çıkan sayı denklem sistemi çözülebilir mi çözülemez mi, yorum yapmamızı sağlar.\n",
    "+ Determinant bir matrisin tersinin varlığı hakkında bilgi verir."
   ]
  },
  {
   "cell_type": "markdown",
   "id": "748ab900-2569-43a0-921f-85d8178a9508",
   "metadata": {},
   "source": [
    "# Determinant Hesaplama\n"
   ]
  },
  {
   "cell_type": "markdown",
   "id": "1a020a08-5393-4342-99e8-dc04fdbf08d8",
   "metadata": {},
   "source": [
    "## $1x1$ matrislerin determinantı\n",
    "Kendisine eşittir.\n",
    "\n",
    "Örneğin, $[a]$ matrisinin determinantı $det([a])=a$ şeklindedir."
   ]
  },
  {
   "cell_type": "markdown",
   "id": "1f85bea9-4799-4a87-88e9-a02937be8161",
   "metadata": {},
   "source": [
    "## $2x2$ matrislerin determinantı\n",
    "$2x2$ matrislerin determinantı, aşağıdaki formülle hesaplanır:\n",
    "\n",
    "$\n",
    "|A| = \\begin{vmatrix}\n",
    "a & b  \\\\\n",
    "c & d  \\\\\n",
    "\\end{vmatrix}\n",
    "$\n",
    "$\n",
    "= det(A)= a.d-b.c \n",
    "$\n"
   ]
  },
  {
   "cell_type": "markdown",
   "id": "7d86073f-a1e7-4008-ac55-6b70264fb12b",
   "metadata": {},
   "source": [
    "## $3x3$ matrislerin determinantı\n",
    "[Sarrus yöntemi](https://tr.wikipedia.org/wiki/Sarrus_kural%C4%B1) ile hesaplanır, bu yöntem Fransız matematikçi Pierre Frédéric Sarrus tarafından keşfedilmiştir. \n",
    "\n",
    "$3x3$ bir matrisin determinantını bulmak için önce ilk iki sütundaki elemanlar matrisin altına tekrar yazılır ve aşağıdaki formülle hesaplanır;\n",
    "\n",
    "$\n",
    "|A| = \\begin{vmatrix}\n",
    "a & b & c \\\\\n",
    "d & e & f \\\\\n",
    "g & h & k \\\\\n",
    "\\end{vmatrix}\n",
    "$\n",
    "$\\to$\n",
    "$\n",
    "\\begin{vmatrix}\n",
    "a & b & c \\\\\n",
    "d & e & f \\\\\n",
    "g & h & k \\\\\n",
    "a & b & c \\\\\n",
    "d & e & f \\\\\n",
    "\\end{vmatrix}\n",
    "$\n",
    "$\n",
    "= det(A)=  (a.e.k + d.h.c + g.b.f) - (c.e.g + f.h.a + k.b.d)\n",
    "$\n"
   ]
  },
  {
   "cell_type": "markdown",
   "id": "f00ebbc5-ab43-47a6-9ca4-0caacd888308",
   "metadata": {},
   "source": [
    "## $4x4, 5x5, 6x6, ...$ matrislerin determinantı"
   ]
  },
  {
   "cell_type": "markdown",
   "id": "f1693655-2640-45ed-8148-4b37b837fa64",
   "metadata": {},
   "source": [
    "## Kofaktör \n",
    "Kofaktör, bir matrisin herhangi bir elemanının bulunduğu satır ve sütun silinerek elde edilen matrisin işaretli determinantına denir. Bu işlem bütün elemanlar için tekrarlanır ve yerlerine konulursa elde edilen yeni matris kofaktör matris olarak bilinir.\n",
    "\n",
    "<b>Tanım:</b> Bir matrisin  $a_{i,j}$ elamanına karşılık gelen $(-1)^{i+j}$ ifadesine, bu $a_{i,j}$ elemanının kofaktörü denir ve $K_{i,j}=(-1)^{i+j}$ şeklinde gösterilir."
   ]
  },
  {
   "cell_type": "markdown",
   "id": "18ff54f7-f25e-4cf9-9b0d-c960015c10c4",
   "metadata": {},
   "source": [
    "## Kofaktör hesaplama\n",
    "örnek: $a_{31}$ elemanının kofaktörü kaçtır? \n",
    "\n",
    "$\n",
    "A = \\begin{bmatrix}\n",
    "1 & 2 & -1 \\\\\n",
    "3 & 5 & 2 \\\\\n",
    "7 & 1 & 4 \\\\\n",
    "\\end{bmatrix}_{3\\times3}\n",
    "$\n"
   ]
  },
  {
   "cell_type": "markdown",
   "id": "bdf07a76-a939-4900-9dbf-8b3a8f2f770c",
   "metadata": {},
   "source": [
    "Çözüm: -1 üzeri 3 ile 1 toplanır. 3. satır 1. sütundaki elemanın minörü ile çarpılır (3. satır ve 1. sütun atılır)."
   ]
  },
  {
   "cell_type": "markdown",
   "id": "1f7d66e4-cd23-4798-81e4-a20ffd2795b9",
   "metadata": {},
   "source": [
    "$(-1)^{3+1}$\n",
    ".\n",
    "$\n",
    "\\begin{vmatrix}\n",
    "2 & -1  \\\\\n",
    "5 & 2  \\\\\n",
    "\\end{vmatrix}\n",
    "$\n",
    "$ \\to$ \n",
    "$1.(4-(-5))=9$"
   ]
  },
  {
   "cell_type": "markdown",
   "id": "a4fe8125-c4ec-41ea-bc20-0010f13a52b5",
   "metadata": {},
   "source": [
    "## Minör\n",
    "Matrislerde bir elemanın minörü, o elemanın bulunduğu satır ve sütunun çıkarılması sonucu kalan alt matrisin determinantıdır.\n",
    "\n",
    "<b>Tanım:</b> Bir kare matrisin $i$'inci satırı ve $j$'inci sütunu silinince geriye kalan kare matrisin determinantına, $a_{i,j}$ elemanının minörü adı verilir. Bu, $M_{i,j}$ ile gösterilir."
   ]
  },
  {
   "cell_type": "markdown",
   "id": "96cf7978-9a9e-42e8-a84f-bf612e6816e2",
   "metadata": {},
   "source": [
    "### Minör hesaplama\n",
    "örnek: $a_{21}$ elemanının minörü kaçtır? \n",
    "\n",
    "$\n",
    "A = \\begin{bmatrix}\n",
    "1 & 2 & 3 \\\\\n",
    "2 & 1 & 5 \\\\\n",
    "-1 & 4 & 2 \\\\\n",
    "\\end{bmatrix}_{3\\times3}\n",
    "$\n"
   ]
  },
  {
   "cell_type": "markdown",
   "id": "a520df4b-62f9-4983-b659-41ffe3613f83",
   "metadata": {},
   "source": [
    "Çözüm: 2. satır ve 1. sutun matristen atılır. Geriye kalan alt matrisin determinantı minörü verir.\n",
    "\n",
    "$\n",
    "\\begin{vmatrix}\n",
    "2 & 3  \\\\\n",
    "4 & 2  \\\\\n",
    "\\end{vmatrix}\n",
    "$\n",
    "$\\to$\n",
    "$2.2-3.4= 4-12= -8$"
   ]
  },
  {
   "cell_type": "markdown",
   "id": "c1ac87f6-669d-4ddb-b0de-17cfb77a65c6",
   "metadata": {},
   "source": [
    "## Laplace Açılımı ile Determinant Hesabı\n",
    "$nxm$'lik bir $A$ kare matrisinin determinantı, $i$'inci satıra göre Laplace açılımı ile aşağıdaki gibi hesaplanır:\n",
    "\n",
    "$$det(A)=|A|= \\sum_{j=1}^{n} a_{i,j}.K_{i,j}.M_{i,j}$$\n",
    "\n",
    "$$i=eleman, K=kofaktor, M=minor $$"
   ]
  },
  {
   "cell_type": "markdown",
   "id": "d133f4c0-07d2-4c2a-b2f5-d124a1f48cdd",
   "metadata": {},
   "source": [
    "Örnek: $detA=?$\n",
    "\n",
    "$\n",
    "A = \\begin{bmatrix}\n",
    "1 & 2 & 1 & 0\\\\\n",
    "3 & 0 & 2 & -1\\\\\n",
    "4 & 1 & 3 & 2\\\\\n",
    "0 & 2 & 0 & 0\\\\\n",
    "\\end{bmatrix}_{4\\times4}\n",
    "$"
   ]
  },
  {
   "cell_type": "markdown",
   "id": "32bb28af-72d6-4d1e-a61b-09d5542e7293",
   "metadata": {},
   "source": [
    "Çözüm: İşlem kolaylığı için içinde bol sıfır olan satır veya sutun seçilir. 4. satırda bolca sıfır olduğu için onu seçiyoruz. 2 dışındaki matrisin 4. satrırının elemanları sıfır olduğundan dolayı çarpmada gideceklerdir dolayısıyla sadece 2 elemanının minörünü ve kofaktörünü hesaplamak bizi sonuca götürecektir. \n",
    "\n",
    "$elemanxkofaktorxminor= 2x$$(-1)^{4+2}$x$\n",
    "\\begin{vmatrix}\n",
    "1 & 1 & 0  \\\\\n",
    "3 & 2 & -1  \\\\\n",
    "4 & 3 & 2  \\\\\n",
    "\\end{vmatrix}\n",
    "$\n",
    "$=-6$"
   ]
  },
  {
   "cell_type": "markdown",
   "id": "7aad4479-6d90-4f18-928c-8deb6c37ce63",
   "metadata": {},
   "source": [
    "2. sutun ve 4. satırı matristen attığımız için sarrus yöntemi ile minör hesaplanabilir. Bu hesabın sonucu $-6$ çıkar. Matrisin 4. satırına göre Laplace Açılımı yaparak determinantı hesapladık."
   ]
  },
  {
   "cell_type": "markdown",
   "id": "8b939682-6e8e-451c-9898-b593948bccb5",
   "metadata": {},
   "source": [
    "## Determinant özellikleri\n",
    "\n",
    "1. Matrisin determinantı, matrisin satırlarının veya sütunlarının lineer bağımlılığına bağlıdır. Eğer matrisin bir satırı veya sütunu, diğer satırların veya sütunların doğrusal kombinasyonu olarak ifade edilebilirse, matrisin determinantı sıfırdır.\n",
    "\n",
    "2. Bir matriste tamamen 0'lardan oluşan satır veya sütun bulunuyorsa o matrisin determinantı 0'dır.\n",
    "\n",
    "3. Bir matriste bir satır veya sütun, başka bir satır veya sütunun aynısı veya iki katı ise determinant 0 olur.\n",
    "\n",
    "4. Bir matriste iki satır veya iki sütun yer değiştirirse bunun sonucunda determinantın işareti değişir.\n",
    "\n",
    "5. Bir satır veya sütunun bir sayı ile çarpılması, matrisin determinantınında o sayı ile çarpılmasını gerektirir.\n",
    "\n",
    "6. ⭐ Bir satır bir başka satıra eklenir veya çıkartılırsa, bir saır bir sayi ile çarpılıp diğer bir satıra eklenir veya çıkartılırsa determinant değişmez. (Sütun için geçerli değildir.)\n",
    "\n",
    "7. Köşegen matris, alt üçgen matris ve üst üçgen matrislerde determinant köşegendeki elemanların çarpımına eşittir.\n",
    "\n",
    "8. Bir matrisin transpozesinin determinantı, orijinal matrisin determinantına eşittir. Yani, $det(A) = det(A^T)$.\n",
    "\n",
    "9. Bir matrisin tersi varsa, determinantı sıfırdan farklıdır ve matrisin tersi, matrisin kofaktörlerinin transpozesinin, determinantının tersi ile çarpımına eşittir.\n",
    "\n",
    "10. $det(A.B)= detA.detB$\n",
    "\n",
    "11. $det(A^n)=(detA)^n$\n",
    "\n",
    "12. $det(k.A)=k^{satirsayisi}.detA=k^n.detA$"
   ]
  },
  {
   "cell_type": "markdown",
   "id": "c8a2c3fe-38c6-45c6-8fe0-9a2e3a6399be",
   "metadata": {},
   "source": [
    "<hr>"
   ]
  },
  {
   "cell_type": "markdown",
   "id": "c6e5e9ff-64b6-4f07-adb7-ef024c39eb9f",
   "metadata": {},
   "source": [
    "## Elemanter Satır İşlemleri\n",
    "\n",
    "### Satırı Skaler ile Çarpma\n",
    "\n",
    "Bir matrisin herhangi bir satırındaki tüm elemanları belirli bir sayıyla çarpmak, o satırı bu sayıya göre ölçeklendirir. Örneğin, aşağıdaki matrisin ilk satırını 2 ile çarparsak:\n",
    "\n",
    "$$\n",
    "\\begin{bmatrix}\n",
    "1 & 2 & 3 \\\\\n",
    "4 & 5 & 6 \\\\\n",
    "7 & 8 & 9 \\\\\n",
    "\\end{bmatrix}\n",
    "\\to\n",
    "\\begin{bmatrix}\n",
    "2 & 4 & 6 \\\\\n",
    "4 & 5 & 6 \\\\\n",
    "7 & 8 & 9 \\\\\n",
    "\\end{bmatrix}\n",
    "$$\n",
    "\n",
    "### Satırın Bir Katını Başka Bir Satıra Ekleme\n",
    "\n",
    "Bir matrisin bir satırının bir katını başka bir satıra eklemek, matrisin bu iki satırının toplamına eşit olan yeni bir matris oluşturur. Örneğin, aşağıdaki matrisin ilk satırının 2 katını 2. satıra eklersek:\n",
    "\n",
    "$$\n",
    "\\begin{bmatrix}\n",
    "1 & 2 & 3 \\\\\n",
    "4 & 5 & 6 \\\\\n",
    "7 & 8 & 9 \\\\\n",
    "\\end{bmatrix}\n",
    "\\to\n",
    "\\begin{bmatrix}\n",
    "1 & 2 & 3 \\\\\n",
    "6 & 9 & 12 \\\\\n",
    "7 & 8 & 9 \\\\\n",
    "\\end{bmatrix}\n",
    "$$\n",
    "\n",
    "### İki Satırın Yerlerini Birbiri ile Değiştirme\n",
    "\n",
    "İki satırın yerlerini birbiri ile değiştirmek, matrisin iki satırını yer değiştirerek yeni bir matris oluşturur. Örneğin, aşağıdaki matrisin 1. ve 2. satırlarını birbiri ile değiştirirsek:\n",
    "\n",
    "$$\n",
    "\\begin{bmatrix}\n",
    "1 & 2 & 3 \\\\\n",
    "4 & 5 & 6 \\\\\n",
    "7 & 8 & 9 \\\\\n",
    "\\end{bmatrix}\n",
    "\\to\n",
    "\\begin{bmatrix}\n",
    "4 & 5 & 6 \\\\\n",
    "1 & 2 & 3 \\\\\n",
    "7 & 8 & 9 \\\\\n",
    "\\end{bmatrix}\n",
    "$$\n"
   ]
  },
  {
   "cell_type": "markdown",
   "id": "e8151f61-c4cb-4a73-8305-7321b0006aff",
   "metadata": {},
   "source": [
    "<hr style=\"border: 0.5px solid gray; margin: 25px 0;\">"
   ]
  },
  {
   "cell_type": "markdown",
   "id": "002c89b8-5cd1-41da-ab9d-42c5be5c5128",
   "metadata": {},
   "source": [
    "## Matrislerde Satır Eşdeğerliği\n",
    "<b>Tanım:</b> Bir $A$ matrisinin üzerinde elemanter satır işlemlerinden bir veya daha fazlasının uygulanması sonucunda elde edilen matris $B$ ile gösterilsin. $B$ matrisi $A$ matrisinin <b>\"satır eşdeğeridir\"</b> denir ve $A \\sim B$ ile gösterilir."
   ]
  },
  {
   "cell_type": "markdown",
   "id": "9ee85eee-bfeb-4e07-9e9b-d5133de55f0e",
   "metadata": {},
   "source": [
    "Örnek: \n",
    "$$\n",
    "A = \\begin{bmatrix} \n",
    "1 & 2 & 3 \\\\ \n",
    "4 & 5 & 6 \\\\\n",
    "7 & 8 & 9 \\\\\n",
    "\\end{bmatrix} \n",
    "\\to\n",
    "B = \\begin{bmatrix} \n",
    "4 & 5 & 6 \\\\\n",
    "1 & 2 & 3 \\\\ \n",
    "7 & 8 & 9 \\\\\n",
    "\\end{bmatrix} \n",
    "$$\n",
    "\n",
    "Matris $A$'nın 1. satırı ile 2. satırları yer değiştirdiğinde ortaya çıkan $B$ matrisi, $A$ matrisi ile satır eşdeğeridir."
   ]
  },
  {
   "cell_type": "markdown",
   "id": "3730070a-12e3-48e4-a229-535e9a8332fa",
   "metadata": {},
   "source": [
    "<hr style=\"border: 0.5px solid gray; margin: 25px 0;\">"
   ]
  },
  {
   "cell_type": "markdown",
   "id": "e7377933-b410-4079-8f6d-6db864ac2151",
   "metadata": {},
   "source": [
    "## Matrislerin Tersi\n",
    "<b>Tanım:</b> \"Bir kare matrisi aynı mertebeden hangi kare matrisle çarparsak birim matrisi elde ederiz?\" sorusunun cevabı varsa, bu matrise <b>ters matris</b> denir. Bir $A$ kare matrisinin eğer tersi varsa bu ters matris $A^{-1}$ ile gösterilir ve $AA^{-1}=I$'dır. $I$, $A$ matrisleriyle aynı mertebeden birim matristir.\n",
    "\n",
    "Bir kare matrisin tersini bulmak için pek çok yol mevcuttur. Bunlardan biri elemanter satır işlemleri ile ters bulmaktır."
   ]
  },
  {
   "cell_type": "markdown",
   "id": "42a2ac68-140e-40da-9f37-bfddbfd928f1",
   "metadata": {},
   "source": [
    "<b>Teorem:</b> $[A|I]$, $A$ matrisinin sağına aynı mertebeden birim matrisin eklenmiş halini göstersin. $[A|I]$ genişletilmiş matrisine elemanter satır işlemleri uygulanarak elde edilecek $[I|B]$ formundaki satır eşdeğer matriste yer alan $B = A^{-1}$'dir."
   ]
  },
  {
   "cell_type": "markdown",
   "id": "3bdbf917-2537-4624-8105-0c4ee4a5b809",
   "metadata": {},
   "source": [
    "Örnek: Aşağıdaki $A$ matrisinin tersini elemanter satır işlemlerine dayalı olarak elde edelim.\n",
    "\n",
    "$\n",
    "A = \\begin{bmatrix}\n",
    "2 & 3 \\\\\n",
    "1 & 5 \\\\\n",
    "\\end{bmatrix}\n",
    "$"
   ]
  },
  {
   "cell_type": "markdown",
   "id": "55f897a5-1b1c-48f3-be36-90c8e530a8c6",
   "metadata": {},
   "source": []
  },
  {
   "cell_type": "markdown",
   "id": "89bbd830-9cb2-4101-8a1e-ca15d627fbc8",
   "metadata": {},
   "source": []
  },
  {
   "cell_type": "markdown",
   "id": "057a05b6-c9fb-44a5-aa9a-fde755674a03",
   "metadata": {},
   "source": [
    "Bir kare matrisin tersi, çarpımı sonucu birim matrisi veren bir matristir. Örneğin, $A$ bir kare matris olmak üzere, tersi $A^{-1}$ ise $AA^{-1}=A^{-1}A=I$, burada $I$ birim matrisi ve çarpma işlemi matris çarpımıdır. Tersi olan bir matrisin bulunabilmesi için, matrisin determinantının sıfır olmaması gerekmektedir. Ayrıca, bazı matrislerin tersi olmayabilir."
   ]
  },
  {
   "cell_type": "markdown",
   "id": "0ff8e83d-7b83-49ac-a822-45e8b576bf4a",
   "metadata": {},
   "source": []
  },
  {
   "cell_type": "markdown",
   "id": "9e09edbc-02e0-4fc4-a839-f294a8019481",
   "metadata": {},
   "source": []
  },
  {
   "cell_type": "markdown",
   "id": "a53824c2-59f6-4a55-a96d-3374a6d2b0dc",
   "metadata": {},
   "source": []
  },
  {
   "cell_type": "markdown",
   "id": "b8b28978-6277-498b-bf58-9e2e7f313f59",
   "metadata": {},
   "source": []
  },
  {
   "cell_type": "markdown",
   "id": "119cd53b-378e-4826-99ac-70a766ca281f",
   "metadata": {},
   "source": []
  },
  {
   "cell_type": "markdown",
   "id": "38fdcfc7-eb48-4028-bb28-0ab28ab4d134",
   "metadata": {},
   "source": []
  },
  {
   "cell_type": "markdown",
   "id": "bd7d6ed1-47c9-40d7-8f6e-095e7e26095b",
   "metadata": {},
   "source": []
  },
  {
   "cell_type": "markdown",
   "id": "6f3082dd-c7f4-48c7-9435-6f02623f1654",
   "metadata": {},
   "source": []
  },
  {
   "cell_type": "markdown",
   "id": "e79ce54c-4940-4992-9e29-c7dc39612a1e",
   "metadata": {},
   "source": []
  },
  {
   "cell_type": "markdown",
   "id": "357d2811-ad5d-466d-98ae-b914688d9c43",
   "metadata": {},
   "source": [
    "$$\n",
    "\\begin{vmatrix}\n",
    "a_{11} & a_{12} & a_{13} \\\\\n",
    "a_{21} & a_{22} & a_{23} \\\\\n",
    "a_{31} & a_{32} & a_{33}\n",
    "\\end{vmatrix}\n",
    "$$"
   ]
  },
  {
   "cell_type": "markdown",
   "id": "2898b24e-0b1a-41e3-ad32-61912c3fbb54",
   "metadata": {},
   "source": [
    "$\n",
    "\\det(A) = \\begin{vmatrix}\n",
    "a_{1,1} & a_{1,2} & a_{1,3} \\\\\n",
    "a_{2,1} & a_{2,2} & a_{2,3} \\\\\n",
    "a_{3,1} & a_{3,2} & a_{3,3} \\\\\n",
    "\\end{vmatrix}\n",
    "= a_{1,1}(a_{2,2}a_{3,3} - a_{2,3}a_{3,2}) - a_{1,2}(a_{2,1}a_{3,2}\n",
    "$"
   ]
  }
 ],
 "metadata": {
  "kernelspec": {
   "display_name": "Python 3 (ipykernel)",
   "language": "python",
   "name": "python3"
  },
  "language_info": {
   "codemirror_mode": {
    "name": "ipython",
    "version": 3
   },
   "file_extension": ".py",
   "mimetype": "text/x-python",
   "name": "python",
   "nbconvert_exporter": "python",
   "pygments_lexer": "ipython3",
   "version": "3.9.16"
  }
 },
 "nbformat": 4,
 "nbformat_minor": 5
}
