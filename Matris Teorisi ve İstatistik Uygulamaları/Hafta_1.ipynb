{
 "cells": [
  {
   "cell_type": "markdown",
   "id": "19091e92-faf5-4c89-81d0-5180522590d2",
   "metadata": {},
   "source": [
    "# MATRİS TEORİSİ VE İSTATİSTİK UYGULAMALARI\n",
    "## Matris Nedir?\n",
    "[Matris](https://tr.wikipedia.org/wiki/Matris_(matematik)), bir veya daha fazla satır ve sütundan oluşan bir tablodur. Genellikle gerçek sayılar veya karmaşık sayılar gibi matematiksel nesnelerden oluşur. Verileri düzenlemek ve matematiksel işlemleri daha kolay hale getirmek için yaygın olarak kullanılırlar."
   ]
  },
  {
   "cell_type": "markdown",
   "id": "8fa5ac01-5168-46d6-9321-fc808be13ac8",
   "metadata": {},
   "source": [
    "### Tarihçesi\n",
    "Matrislerin kökeni, matematiksel teorilerin birçok alanında bulunabilir ve tarihi binlerce yıl öncesine kadar uzanmaktadır.\n",
    "\n",
    "Modern matris teorisi, 19. yüzyılın sonlarında matematikçi [Arthur Cayley](http://www.bumatematikozelders.com/altsayfa/unlu_matematikciler/arthur_cayley.pdf) tarafından başlatıldı. Cayley, matrislerin köklerinin determinantlara dayandığını keşfetti ve matrislerin lineer denklem sistemlerini çözmede çok önemli bir araç olduğunu gösterdi. (Lineer denklem sistemleri, birbirine bağlı birden fazla lineer denklemin aynı anda çözümünü ifade eder. Genellikle, m adet denklemin n adet değişkeni vardır ve bu denklemler matris formunda yazılabilir. Matrisler, bu denklem sistemlerinin çözümünde önemli bir araç olarak ortaya çıktı.)\n",
    "\n",
    "Matris terimi isim olarak ilk defa [J.J.Syvester](https://tr.wikipedia.org/wiki/James_Joseph_Sylvester) adlı İngiliz matematikçisi tarafından kullanılmıştır.\n",
    "\n",
    "Günümüze gelindiğinde matris teorisi, lineer cebirin önemli bir aracı haline geldi. Matrisler, bilgisayar grafikleri, yapay zeka, veri bilimi, istatistik, makine öğrenmesi, görüntü işleme, mühendislik ve daha birçok alanda kullanılmaktadır. "
   ]
  },
  {
   "cell_type": "markdown",
   "id": "ded2fc96-7be1-4dc7-a9e5-fc62e7661758",
   "metadata": {},
   "source": [
    "### Matematiksel Tanımı\n",
    "<b>Tanım:</b> $i \\in \\left\\{ 1,2,3,\\ldots,n \\right\\}$, $j\\in \\left\\{ 1,2,3,\\ldots,m \\right\\}$ ve $a_{i,j}$ $\\in$ $F$ olmak üzere tüm $a_{i,j}$ elamanlarının aşağıdaki düzende ifade edilmesi ile ortaya çıkan yapıya; <b>\"nxm'lik matris\"</b> adı verilir. \n",
    "\n",
    "Matrisler A, B, C ... gibi büyük harflerle isimlendirilir."
   ]
  },
  {
   "cell_type": "markdown",
   "id": "cfa8236c-4064-4a64-87ac-536144ad9c24",
   "metadata": {},
   "source": [
    "$\n",
    "A = \\begin{bmatrix}\n",
    "a_{11} & a_{12} & \\dots & a_{1m} \\\\\n",
    "a_{21} & a_{22} & \\dots & a_{2m} \\\\\n",
    "\\vdots & \\vdots & \\ddots & \\vdots \\\\\n",
    "a_{n1} & a_{n2} & \\dots & a_{nm}\n",
    "\\end{bmatrix}\n",
    "$\n",
    "\n",
    "- Matrisin boyutu: $n \\times m$\n",
    "- Matrisin elemanları: $a_{ij}, i \\in {1,2,\\dots,n}, j \\in {1,2,\\dots,m}$\n",
    "- Matrisin $i$'inci satırı: $[a_{i1}, a_{i2}, \\dots, a_{im}]$\n",
    "- Matrisin $j$'inci sütunu: $[a_{1j}, a_{2j}, \\dots, a_{nj}]$\n"
   ]
  },
  {
   "cell_type": "markdown",
   "id": "c8ca6b96-84d9-45ef-88af-2a16df5ea784",
   "metadata": {},
   "source": [
    "## Matris Çeşitleri\n",
    "\n",
    "### 1. Sıfır Matris\n",
    "Matrisin içerisindeki bütün elemanlar 0 ise buna <b>sıfır matrisi</b> nedir.\n",
    "\n",
    "Örnek:\n",
    "\n",
    "$\n",
    "A = \\begin{bmatrix}\n",
    "0 & 0 & 0 \\\\\n",
    "\\end{bmatrix}_{1\\times3}\n",
    "$\n",
    "\n",
    "$\n",
    "B = \\begin{bmatrix}\n",
    "0 & 0 & 0 \\\\\n",
    "0 & 0 & 0 \\\\\n",
    "\\end{bmatrix}_{2\\times3}\n",
    "$\n",
    "\n",
    "\n"
   ]
  },
  {
   "cell_type": "markdown",
   "id": "983d8edd-8d45-4487-b9c9-5bcd3d540c94",
   "metadata": {},
   "source": [
    "#### Özellikleri:\n",
    "\n",
    "+ Bir matrisin sıfır matrisi ile toplamı matrisi değiştirmez.\n",
    "+ Bir matristen sıfır matrisi çıkarılırsa matris değişmez.\n",
    "+ Bir matrisin sıfır matrisi ile çarpımı sıfır matrisine eşittir."
   ]
  },
  {
   "cell_type": "markdown",
   "id": "6b45bf11-b8a2-4dc0-8c56-393ee8e13420",
   "metadata": {},
   "source": [
    "### 2. Kare Matris\n",
    "Satır sayısı sütun sayısına eşit $(n=m)$ olan matrise <b>kare matris</b> denir.\n",
    "\n",
    "#### Özellikleri:\n",
    "- Boyutları (satır ve sütun sayıları) aynıdır.\n",
    "- Sadece kare matrislerin tersi alınabilir ve tersi de bir kare matristir.\n",
    "- İki kare matrisin çarpımı yine kare matristir.\n",
    "- Determinantları sıfırdan farklıdır.\n",
    "- Sadece kare matrislerde köşegen vardır."
   ]
  },
  {
   "cell_type": "markdown",
   "id": "d8b8df23-bb2d-4d05-90e6-dd359ec0ccd7",
   "metadata": {},
   "source": [
    "Örnek:\n",
    "\n",
    "$\n",
    "A = \\begin{bmatrix}\n",
    "3\\\\\n",
    "\\end{bmatrix}_{1\\times1}\n",
    "$\n",
    "\n",
    "$\n",
    "B = \\begin{bmatrix}\n",
    "1 & 3 & 8 \\\\\n",
    "5 & 2 & 9 \\\\\n",
    "4 & 2 & 6 \\\\\n",
    "\\end{bmatrix}_{3\\times3}\n",
    "$"
   ]
  },
  {
   "cell_type": "markdown",
   "id": "ed8d80ff-2c8a-4cbf-8a30-c0e5190c942e",
   "metadata": {},
   "source": [
    "### 2.1 Birim Matris\n",
    "Birim matris köşegendeki elemanları 1, diğer bütün elemanları 0 olan matristir.\n",
    "\n",
    "<b>Tanım:</b> Bir kare matriste, $\\forall i,j$ için $a_{i,j} = 1$ ve $a_{i,j} = 0$ ($i \\neq j$ için) ise bu matrise <b>birim matris</b> adı verilir. Birim Matris $I$ ile gösterilir. Matrisin boyutu belirtilmek istendiğinde ise $I_n$ şeklinde gösterilir, burada $n$ matrisin boyutunu ifade eder."
   ]
  },
  {
   "cell_type": "markdown",
   "id": "070a4a06-10d4-4a50-9e75-ae2e21a515af",
   "metadata": {},
   "source": [
    "Örnek:\n",
    "\n",
    "$I_3 = \\begin{bmatrix}\n",
    "1 & 0 & 0 \\\\\n",
    "0 & 1 & 0 \\\\\n",
    "0 & 0 & 1 \\\\\n",
    "\\end{bmatrix}$\n",
    "\n",
    "$I_3$ matrisinin 1'lerinin konumları:\n",
    "\n",
    "- $a_{11}$\n",
    "- $a_{22}$\n",
    "- $a_{33}$\n"
   ]
  },
  {
   "cell_type": "markdown",
   "id": "1209d987-e845-49b0-9c55-d62156170998",
   "metadata": {},
   "source": [
    "#### Özellikleri:\n",
    "+ Çarpmada etkisizdir. Bir matrisle birim matrisi çarptığımızda yine matrisin kendisi çıkar.\n",
    "    + $AxI=A$ , $IxA=A$ \n",
    "+ Bir matrisin tersini bulmamızı sağlar.\n",
    "    + $A.A^{-1} = A^{-1}.A = I$"
   ]
  },
  {
   "cell_type": "markdown",
   "id": "6c29fea7-2143-46af-bc4a-6b29961a7944",
   "metadata": {},
   "source": [
    "### 2.2 Simetrik Matris\n",
    "Köşegenin alt tarafında kalan ve üst tarafında kalan sayılar birbiri ile aynıdır.\n",
    "\n",
    "<b>Tanım:</b> Bir kare matriste, $\\forall i,j$ için $a_{i,j} = a_{j,i}$ ise bu matrise <b>simetrik matris</b> adı verilir."
   ]
  },
  {
   "cell_type": "markdown",
   "id": "4050a9ac-8f1a-46b7-b938-ecdb4da825bd",
   "metadata": {},
   "source": [
    "Örnek:\n",
    "\n",
    "$\n",
    "A = \\begin{bmatrix}\n",
    "0 & \\color{blue}2 & \\color{orange}3 \\\\\n",
    "\\color{blue}2 & 4 & \\color{purple}-4 \\\\\n",
    "\\color{orange}3 & \\color{purple}-4 & 9 \\\\\n",
    "\\end{bmatrix}_{3\\times3}\n",
    "$\n"
   ]
  },
  {
   "cell_type": "markdown",
   "id": "04731584-76c5-4e69-a2af-71c504a9e05b",
   "metadata": {},
   "source": [
    "### 2.3 Yarı Simetrik Matris\n",
    "Bir matrisin yarı simetrik olması, matrisin transpozunun kendisine eşit olan bir matris olmasıdır.\n",
    "\n",
    "<b>Tanım:</b> Bir kare matriste, $\\forall i,j$ için $a_{i,j} = 0$ ve $a_{i,j} = -a_{i,j}$ ($i \\neq j$ için) ise bu matrise <b>yarı simetrik matris</b> adı verilir."
   ]
  },
  {
   "cell_type": "markdown",
   "id": "960d6a5c-ad1c-4fb5-9a6f-86d76ed35c0f",
   "metadata": {},
   "source": [
    "Örnek: \n",
    "\n",
    "$\n",
    "C = \\begin{bmatrix}\n",
    "0 & \\color{blue}5 & \\color{orange}-2 & \\color{purple}3 \\\\\n",
    "\\color{blue}-5 & 0 & \\color{brown}-1 & \\color{green}8 \\\\\n",
    "\\color{orange}2 & \\color{brown}1 & 0 & \\color{teal}-3 \\\\\n",
    "\\color{purple}-3 & \\color{green}-8 & \\color{teal}3 & 0 \\\\\n",
    "\\end{bmatrix}\n",
    "$\n"
   ]
  },
  {
   "cell_type": "markdown",
   "id": "c406f67d-f39f-4786-a735-ba576a123bcc",
   "metadata": {},
   "source": [
    "### 2.4 Üst Üçgen Matris\n",
    "Üst üçgen matris, alt üçgenindeki tüm elemanlar sıfır olan bir kare matristir. Yani sadece ana köşegenin altında yer alan elemanlar farklı (sıfır olmayan) değerlere sahiptir. \n",
    "\n",
    "<b>Tanım:</b> Bir kare matriste, $i>j$ için $a_{i,j} = 0$ ise bu matrislere <b>üst üçgen matris</b> adı verilir."
   ]
  },
  {
   "cell_type": "markdown",
   "id": "f5f3d920-4a87-4281-b126-9621128c42ba",
   "metadata": {
    "tags": []
   },
   "source": [
    "Örnek:\n",
    "\n",
    "$\n",
    "A = \\begin{bmatrix}\n",
    "1 & 2 & 3 \\\\\n",
    "0 & 4 & 5 \\\\\n",
    "0 & 0 & 6 \\\\\n",
    "\\end{bmatrix}_{3\\times3}\n",
    "$\n"
   ]
  },
  {
   "cell_type": "markdown",
   "id": "165c11d8-8352-45af-aa65-5c78ebc62c93",
   "metadata": {},
   "source": [
    "### 2.5 Alt Üçgen Matris\n",
    "Alt üçgen matris, köşegenin alt tarafında yer alan elemanlarının sıfır olduğu kare bir matristir. Başka bir deyişle, köşegenin üzerindeki tüm elemanlar sıfırdır. \n",
    "\n",
    "<b>Tanım:</b> Bir kare matriste, $i<j$ için $a_{i,j} = 0$ ise bu matrislere <b>alt üçgen matris</b> adı verilir."
   ]
  },
  {
   "cell_type": "markdown",
   "id": "f1631b25-07dd-4518-a798-4885d2279757",
   "metadata": {},
   "source": [
    "Örnek:\n",
    "\n",
    "$\n",
    "A = \\begin{bmatrix}\n",
    "2 & 0 & 0 \\\\\n",
    "6 & 1 & 0 \\\\\n",
    "2 & 0 & 4 \\\\\n",
    "\\end{bmatrix}_{3\\times3}\n",
    "$"
   ]
  },
  {
   "cell_type": "markdown",
   "id": "e017d633-5d99-4dfd-b338-129a8cc84e94",
   "metadata": {},
   "source": [
    "### 2.6 Diagonal Matris\n",
    "Sadece ana köşegeninde (sol üstten sağ alta doğru) elemanları olan bir kare matristir. Ana köşegen dışındaki tüm elemanlar sıfırdır. \n",
    "\n",
    "<b>Tanım:</b> Bir kare matriste, $\\forall i \\neq j$ için $a_{i,j} = 0$ ise bu tür matrislere <b>diagonal matris</b> adı verilir."
   ]
  },
  {
   "cell_type": "markdown",
   "id": "e1c86816-cf6a-4d77-b900-9e9d8756f4ff",
   "metadata": {},
   "source": [
    "Örnek:\n",
    "\n",
    "$\n",
    "D = \\begin{bmatrix}\n",
    "3 & 0 & 0 \\\\\n",
    "0 & -2 & 0 \\\\\n",
    "0 & 0 & 1 \\\\\n",
    "\\end{bmatrix}\n",
    "$\n"
   ]
  },
  {
   "cell_type": "markdown",
   "id": "36bc2e92-7f53-44c5-87ee-13da57c01af1",
   "metadata": {},
   "source": [
    "<hr>"
   ]
  },
  {
   "cell_type": "markdown",
   "id": "1fa8b91a-5e1d-4b41-9ffc-417705c7a67d",
   "metadata": {},
   "source": [
    "<b>Not:</b> Bir matrisin elemanları $a_{i,j}$ ile gösteriliyor olsun. O zaman bu matris $A = A_{n,m} = { \\{a_{i,j}\\}}_{nxm}$ notasyonları ile ifade edilebilir."
   ]
  },
  {
   "cell_type": "markdown",
   "id": "119658a8-c543-4f77-8f01-8425e2b5db61",
   "metadata": {},
   "source": [
    "$\n",
    "B = B_{n,m} = { \\{b_{i,j}\\}}_{nxm}= \\begin{bmatrix}\n",
    "b_{1,1} & b_{1,2} & \\cdots & b_{1,m} \\\\\n",
    "b_{2,1} & b_{2,2} & \\cdots & b_{2,m} \\\\\n",
    "\\vdots & \\vdots & \\ddots & \\vdots \\\\\n",
    "b_{n,1} & b_{n,2} & \\cdots & b_{n,m}\n",
    "\\end{bmatrix}\n",
    "$"
   ]
  },
  {
   "cell_type": "markdown",
   "id": "2f53e5bc-403f-4d11-917a-1f2345ee2203",
   "metadata": {},
   "source": [
    "<hr style=\"border: 0.5px solid gray; margin: 25px 0;\">\n"
   ]
  },
  {
   "cell_type": "markdown",
   "id": "430c4731-39ba-4aac-88a2-74de56b059d4",
   "metadata": {},
   "source": [
    "## Python Programlama Dilinde Matrisler\n"
   ]
  },
  {
   "cell_type": "markdown",
   "id": "5dbdc947-c21f-4f7d-a39b-04ab60833977",
   "metadata": {},
   "source": [
    "### Python\n",
    "\n",
    "[Python](https://en.wikipedia.org/wiki/Python_(programming_language)) Guido van Rossum tarafından 1989'da tasarlanıyor. Sanıldığının üzere adını piton yılanından değil, komedi grubu olan Monty Python'dan alıyor. Python nesne yönelimli, yüksek seviyeli ve yorumsal bir dildir. Dünyada, en çok kullanılan programlama dillerinden birisidir. Özellikle veri bilimi, makine öğrenimi, bilimsel hesaplamalar, veri analizi, yapay zeka vb. gibi bir çok alanda yaygın olarak kullanılır.\n",
    "\n",
    "Python dilinin gücü büyük oranda topluluk desteğinden gelmekte, neredeyse aklınıza gelen her şey için geliştirilmiş bir kütüphane var. Bu geniş kütüphane desteğinden ve yaygın kullanımından dolayı bizimde tercihimiz Python dili oldu.\n",
    "\n",
    "[Python](https://docs.python.org/3/) temellerini tekrar etmek istersen [buraya](https://github.com/enesmanan/python_documentation) bakabilirsin."
   ]
  },
  {
   "cell_type": "markdown",
   "id": "a2ad2e2d-ca54-4df7-9f92-9e32be6f4c46",
   "metadata": {},
   "source": [
    "### Python Dilinde Matris Oluşturmak\n",
    "\n",
    "Python'da matris oluşturmak için yerleşik bir veri yapısı yoktur. Genellikle, iç içe geçmiş listeler kullanılarak matris tanımlanır. Liste tek boyutlu bir veri yapısı olmasına karşın matrisler iki boyutludur.\n",
    "\n",
    "Listeler köşeli parantezler `[ ]` içinde yer alan sıralanmış elemanlar kümesidir. Listeler üzerinde işlemler yapılabilir yani elemanları eklenebilir, silinebilir veya değiştirilebilirdir. <b>Listelerin elemanları herhangi bir veri tipi olabilirken matrisler sadece sayılardan oluşabilir.</b>"
   ]
  },
  {
   "cell_type": "code",
   "execution_count": 12,
   "id": "64e8ed2e-6415-4f9c-a621-bf70def1fd3b",
   "metadata": {},
   "outputs": [
    {
     "name": "stdout",
     "output_type": "stream",
     "text": [
      "Liste: ['Elma', 123, 12.4, True]\n",
      "3. eleman: 12.4\n"
     ]
    }
   ],
   "source": [
    "# liste oluşturma\n",
    "liste = ['Elma',123, 12.4, True] # farklı veri tiplerinden oluşabilir\n",
    "\n",
    "# listeyi ekrana bastırma\n",
    "print('Liste:', liste)\n",
    "# listenin 3. elemanını ekrana bastırma\n",
    "print('3. eleman:', liste[2]) # indeksler 0'dan başladığı için 3. eleman 2. indekse denk gelir"
   ]
  },
  {
   "cell_type": "code",
   "execution_count": 14,
   "id": "14411b69-f3dd-43b9-a437-5d9fb08e1772",
   "metadata": {},
   "outputs": [
    {
     "name": "stdout",
     "output_type": "stream",
     "text": [
      "Matris = [[1, 2, 3, 4], [5, 6, 7, 8], [9, 10, 11, 12]]\n",
      "2. satır 4. eleman: 8\n"
     ]
    }
   ],
   "source": [
    "# 3x4 matris oluşturma\n",
    "Matris = [\n",
    "  [1, 2, 3, 4],\n",
    "  [5, 6, 7, 8],\n",
    "  [9, 10, 11, 12]\n",
    "]\n",
    "\n",
    "# Matrisi bastırma\n",
    "print(\"Matris =\", Matris)\n",
    "# 2. satırın 4. elemanını bastırma\n",
    "print('2. satır 4. eleman:', Matris[1][3])"
   ]
  },
  {
   "cell_type": "markdown",
   "id": "691d94b3-be89-4167-af7b-07fd683fe3e6",
   "metadata": {},
   "source": [
    "### Matematiksel İşlemler\n",
    "2 boyutlu listeler ile matrisler oluşturabiliyoruz. Peki bu matrisleri kullanarak matematiksel işlemler yapmak istersek ne olacak?\n",
    "\n",
    "Farz edelimki aşağıda tanımlanmış olan matris1 ve matris2 isimlerindeki matrisleri toplama işlemine tabi tutmak isteyelim."
   ]
  },
  {
   "cell_type": "code",
   "execution_count": 1,
   "id": "f22b58d8-29b9-4220-9116-9eeae0a6e618",
   "metadata": {},
   "outputs": [],
   "source": [
    "# matrislerin tanımlanması\n",
    "matris1 = [[1, 2, 3, 4], [5, 6, 7, 8], [9, 10, 11, 12]]\n",
    "matris2 = [[1, 2, 3, 4], [5, 6, 7, 8], [9, 10, 11, 12]]"
   ]
  },
  {
   "cell_type": "code",
   "execution_count": 2,
   "id": "0ea8f05e-e8ab-4ea6-817b-246d2b89fe7d",
   "metadata": {},
   "outputs": [
    {
     "data": {
      "text/plain": [
       "[[1, 2, 3, 4],\n",
       " [5, 6, 7, 8],\n",
       " [9, 10, 11, 12],\n",
       " [1, 2, 3, 4],\n",
       " [5, 6, 7, 8],\n",
       " [9, 10, 11, 12]]"
      ]
     },
     "execution_count": 2,
     "metadata": {},
     "output_type": "execute_result"
    }
   ],
   "source": [
    "# toplama işlemi\n",
    "matris1 + matris2"
   ]
  },
  {
   "cell_type": "markdown",
   "id": "ac3d7f16-c992-4789-89d5-bc759cb26dc9",
   "metadata": {},
   "source": [
    "Çıktıya baktığımız zaman matrisleri toplamak yerine birleştirdi. Bunun sebebi salt Python'da liste veri yapısında + operatörü toplama değil birleştirme işlemi yapar. Toplama işlemini gerçekleştirmek için kendimizin bir fonksiyon yazması gerekir."
   ]
  },
  {
   "cell_type": "code",
   "execution_count": 3,
   "id": "c5f62969-9d8b-4718-a7b8-f25ef46d14bf",
   "metadata": {},
   "outputs": [],
   "source": [
    "# matris toplamı yapan fonksiyon\n",
    "def matris_topla(matris1, matris2):\n",
    "    # her iki matrisin de boyutlarının aynı olduğunu kontrol etme\n",
    "    if len(matris1) != len(matris2) or len(matris1[0]) != len(matris2[0]):\n",
    "        return None\n",
    "    \n",
    "    # boş bir matris tanımlama ve iki matrisi toplama işlemi\n",
    "    toplam = []\n",
    "    for i in range(len(matris1)):\n",
    "        satir = []\n",
    "        for j in range(len(matris1[0])):\n",
    "            satir.append(matris1[i][j] + matris2[i][j])\n",
    "        toplam.append(satir)\n",
    "    \n",
    "    return toplam"
   ]
  },
  {
   "cell_type": "code",
   "execution_count": 4,
   "id": "6d1d0fac-e634-4d70-9d66-0c4436c86069",
   "metadata": {},
   "outputs": [
    {
     "name": "stdout",
     "output_type": "stream",
     "text": [
      "[[2, 4, 6, 8], [10, 12, 14, 16], [18, 20, 22, 24]]\n"
     ]
    }
   ],
   "source": [
    "# fonksiyona parametrelerini verelim ve toplam matrisini ekrana bastıralım\n",
    "toplam_matrisi = matris_topla(matris1, matris2)\n",
    "print(toplam_matrisi)"
   ]
  },
  {
   "cell_type": "markdown",
   "id": "14ecec6d-5f82-4153-bb8a-0d5d4f698730",
   "metadata": {},
   "source": [
    "Çıktıya baktığımız zaman bu sefer iki matrisi topladı. Peki biz her matematiksel işlem yapacağımız zaman bu şekilde fonksiyonlar mı yazmamız gerekecek? İşte Python'ın alemetif harikası burada devreye giriyor. Python'ın çok boyutlu dizilerde işlemler yapmak için yazılmış NumPy adındaki kütüphanesinden faydalanacağız."
   ]
  },
  {
   "cell_type": "markdown",
   "id": "5f5c0dcd-ad0d-481a-b616-f757028f5d4d",
   "metadata": {},
   "source": [
    "### NumPy\n",
    "[NumPy](https://numpy.org/) (Numerical Python) Python’ın yetersiz kaldığı bazı yüksek hacimli sayısal hesaplamalardan dolayı ortaya çıkan bir kütüphanedir. Kütüphanenin büyük bir kısmı hızlı hesaplamalar yapabilmesi için C/C++ ile yazılmıştır. NumPy matrisleri ve çok boyutlu dizi işlemlerini döngü kullanmadan işleyebilir, genel istatistiksel işlemleri hızlı bir şekilde gerçekleştirebilir. [kaynak](https://medium.com/@enesmanan768/veri-bilimi-i%CC%87%C3%A7in-temel-python-k%C3%BCt%C3%BCphaneleri-c898a41ffa4d)"
   ]
  },
  {
   "cell_type": "code",
   "execution_count": null,
   "id": "efb430c0-73c4-405b-8767-74b958c6a343",
   "metadata": {},
   "outputs": [],
   "source": []
  },
  {
   "cell_type": "code",
   "execution_count": null,
   "id": "7a8e4a11-ae00-4b17-afc5-a74adb0f9c0f",
   "metadata": {},
   "outputs": [],
   "source": []
  },
  {
   "cell_type": "code",
   "execution_count": null,
   "id": "b566c23f-f0c4-4e07-9ec5-821af1ec4cd0",
   "metadata": {},
   "outputs": [],
   "source": []
  }
 ],
 "metadata": {
  "kernelspec": {
   "display_name": "Python 3 (ipykernel)",
   "language": "python",
   "name": "python3"
  },
  "language_info": {
   "codemirror_mode": {
    "name": "ipython",
    "version": 3
   },
   "file_extension": ".py",
   "mimetype": "text/x-python",
   "name": "python",
   "nbconvert_exporter": "python",
   "pygments_lexer": "ipython3",
   "version": "3.9.16"
  }
 },
 "nbformat": 4,
 "nbformat_minor": 5
}
