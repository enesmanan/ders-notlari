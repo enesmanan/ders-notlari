{
 "cells": [
  {
   "cell_type": "markdown",
   "id": "c8967b3f-c39b-489e-b6cf-ed63979d9a04",
   "metadata": {
    "tags": []
   },
   "source": [
    "# Introduction to Operations Research 3. Hafta"
   ]
  },
  {
   "cell_type": "markdown",
   "id": "709cbfd0-839b-46b4-8af0-b9406cc3c423",
   "metadata": {
    "tags": []
   },
   "source": [
    "# Doğrusal Programlama\n",
    " \n",
    "Doğrusal programlama, kaynakların optimum kullanımını araştıran bir matematiksel yöntemdir. Bir doğrusal programlama modeli, kaynakları belirli bir alana daraltan \"kısıt denklemlerini\" ve sonuçta ulaşılmak istenen \"amaç fonksiyonunu\" içermelidir.\n",
    "\n",
    "Bu teknik, birçok gerçek dünya problemine uygulanabilir ve özellikle endüstri, işletme ve mühendislik alanlarında yaygın olarak kullanılır. Genellikle, bir doğrusal programlama problemi, birçok değişkenin bulunduğu bir sistemi optimize etmek için kullanılır. Örneğin, bir şirketin karını maksimize etmek için üretim planını optimize etmek gibi."
   ]
  },
  {
   "cell_type": "markdown",
   "id": "a564db7c-f448-4239-9e0d-df982296b3fa",
   "metadata": {},
   "source": [
    "## Doğrusal (Linear) Fonksiyon nedir?\n",
    "\n",
    "Doğrusal fonksiyon, $x$ değişkenine sahip ve derecesi en fazla bir olan bir polinom fonksiyondur. Yani aşağıdaki denklemi sağlayan fonksiyondur. $f(x) = ax + b$. Burada $x$, bir değişkendir. Bir doğrusal fonksiyonun grafiğinin tüm noktalarının kümesi, kartezyen koordinat sistemindeki $(x, f(x))$ koordinatlarında bulunan bir doğrudur. Bu tür fonksiyonlara doğrusal denir.\n",
    "\n",
    "Örnek linear fonksiyonlar:\n",
    "+ $f(x) = 4x + 2$\n",
    "+ $g(x) = 5x - 7$\n",
    "+ $h(x) = 5x$\n",
    "+ $t(x) = -7$"
   ]
  },
  {
   "cell_type": "markdown",
   "id": "b7e97426-8342-4fe5-bbfe-0768ef6ec6f5",
   "metadata": {},
   "source": [
    "## Doğrusal Eşitsizlik (Linear inequality) Nedir?\n",
    "\n",
    "Linear inequality, iki doğrusal ifadenin eşit olmadığını gösteren bir eşitsizliktir. Eşitsizlik sembolleri olarak $<$ (küçüktür), $>$ (büyüktür), $≤$ (küçük eşittir), $≥$ (büyük eşittir) ve $≠$ (eşit değildir) kullanılır. Doğrusal eşitsizlikleri çözmek için eşitliklerde olduğu gibi aynı işlemleri yapabilirsiniz.\n",
    "\n",
    "Örneğin doğrusal eşitsizlikler: \n",
    "+ $2x + 3 < 5$ \n",
    "+ $x - 4 ≥ 0$ \n",
    "+ $y + 2 ≠ 7$ "
   ]
  },
  {
   "cell_type": "markdown",
   "id": "12fcc2f0-a2ad-4409-aaf3-8097f3c452ad",
   "metadata": {},
   "source": [
    "## Doğrusal Programlama Etmenleri"
   ]
  },
  {
   "cell_type": "markdown",
   "id": "b16750d7-5e8c-4b08-ad93-ffa031d555b2",
   "metadata": {},
   "source": [
    "| Doğrusal Programlama Etmenleri | Açıklama |\n",
    "| --- | --- |\n",
    "| Karar Değişkenleri | Doğrusal programlama probleminde optimize edilecek amaç fonksiyonunu hesaplamak için kullanılan değişkenlerdir. Bu değişkenlerin değeri, modelin koşullarına bağlıdır ve belirlenmesi gereken bilinmeyenleri temsil eder. Her karar değişkeni ile bir işaret kısıtlaması (sıfırdan büyük veya eşit, yani ≥0, sıfırdan küçük veya eşit, yani ≤0) ilişkilendirilebilir.|\n",
    "| Amaç Fonksiyonu | Doğrusal programlama probleminin ana hedefidir. Bu, belirli karar değişkenlerinin belirli bir kombinasyonunu kullanan bir lineer fonksiyondur. Hedef, ya maksimize edilmek istenen bir kazanç ya da minimize edilmek istenen bir maliyettir. |\n",
    "| Kısıtlamalar | Doğrusal programlama probleminde, karar değişkenlerinin değerlerinin koşullarını ifade eden sınırlamalardır. Bu sınırlamalar, lineer denklemler ya da eşitsizlikler şeklinde ifade edilirler. |\n",
    "| Lineer Denklem Sistemleri | Doğrusal programlama problemlerindeki kısıtlamalar genellikle lineer denklem sistemleri olarak yazılır. Bu denklemler, lineer cebirsel denklemlerdir ve genellikle matris denklemleri olarak temsil edilirler. |\n",
    "| Çözücü | Doğrusal programlama problemlerinin çözümünde kullanılan matematiksel bir araçtır. Bu araç, doğrusal programlama problemindeki amaç fonksiyonunu optimize etmek için uygun bir yöntem kullanır. Çözücüler, genellikle matematiksel programlama yazılımlarında mevcuttur ve doğru sonuçları elde etmek için kullanıcının ihtiyaçlarına ve modelin karmaşıklığına göre seçilirler. |\n"
   ]
  },
  {
   "cell_type": "markdown",
   "id": "23416b4d-6ee7-469d-b959-dfdc52d17152",
   "metadata": {},
   "source": [
    "## Doğrusal Programlama Varsayımları Nelerdir?\n",
    "\n",
    "1. <b>Doğrusallık -Sabit Orantılılık- (Proportionality):</b> Modeldeki amaç fonksiyonu ve kısıt denklemleri doğrusal olmalıdır. Bir başka deyişle karar değişkenleri birinci dereceden olmalıdır. İşletmenin girdileri ile çıktıları arasında doğrusal bir ilişkinin olduğunu gösterir. Ayrıca amaç fonksiyonu katsayılarının da faaliyet düzeyi ile orantılı olarak arttığını işaret eder.\n",
    "\n",
    "2. <b>Pozitiflik -Negatif Olmama- (Non-negativity):</b> Modelde yer alan tüm karar değişkenleri sıfır ya da sıfırdan büyük değer almalıdır. Bu varsayım karar değişkenlerinin fiziksel olarak anlamlı olmasını sağlar.\n",
    "\n",
    "3. <b>Bölünebilirlik (Divisibility):</b> Bu varsayım her bir karar değişkeninin kesirli değerler almasına izin verir. Ancak bazı problemlerde bu varsayım ortadan kalkabilir ve karar değişkenlerinin sadece tam sayılı değerler almasına izin verilebilir. Bu durumda tam sayılı programlama yöntemleri kullanılabilir.\n",
    "\n",
    "4. <b>Toplanabilirlik (Additivity):</b> Modeli oluşturan amaç ve kısıt fonksiyonları ilişkin oldukları faaliyetlerin bireysel katkılarından oluşur. Bu varsayım etkileşim veya sinerji etkilerini göz ardı eder.\n",
    "\n",
    "5. <b>Kesinlik (Certainty):</b>  Modeli oluşturan tüm parametreler modelin hesaplandığı dönem boyunca sabit kaldığı ve değişmediği varsayımıdır. Modelin parametrelerinde meydana gelebilecek değişiklikler ise duyarlılık analizi ile açıklanabilir."
   ]
  },
  {
   "cell_type": "markdown",
   "id": "64b5710d-47b6-429b-80f6-8736b7f9804a",
   "metadata": {},
   "source": [
    "<hr style='border: 0.5px solid gray; margin: 25px 0;'>"
   ]
  },
  {
   "cell_type": "markdown",
   "id": "8954422c-4b39-4c07-8641-ce82d82d32d3",
   "metadata": {},
   "source": [
    "## Yazılı Problemi Doğrusal Programlama Modeline Dönüştürme\n",
    "\n",
    "1. <b>Karar değişkenleri belirlenir</b> ($x_1,x_2,x_3...$)\n",
    "2. <b>Tablo verilmediyse tablo oluşturulur</b>\n",
    "3. <b>Amaç fonksiyonu yazılır</b> ($P=3x_1+4x_2$ max veya min olması için $x_1$ ve $x_2$ belirlemeye çalışırız)\n",
    "4. <b>Kısıt fonksiyonları ve negatif olmayan kısıtlar yazılır</b> ($2x_1+x_2≤20 ...$)\n",
    "5. <b>Çözüm yöntemine karar verilir</b> (grafik yöntemi, simplex metodu...)"
   ]
  },
  {
   "cell_type": "markdown",
   "id": "65cc3670-17c3-4d05-a63e-5f59fc794442",
   "metadata": {},
   "source": [
    "<b>Örnek:</b> Bir oyuncak firması, pilli ve pilsiz oyuncak arabalar üretmektedir. Firma oyuncak arabaları üretirken $M_1,M_2,M_3$ makinelerini kullanmaktadır. Pilsiz oyuncak araba üretilirken bir günde $M_1$'in $2$ saat, $M_2$'nin $1$ saat ve $M_3$'ün $1$ saat çalışması gerekmektedir. Pilli oyuncak araba üretilirken ise bir günde $M_1$'in $1$ saat, $M_2$'ni $2$ saat, $M_3$'ün $1$ saat çalışması gerekmektedir. $M_1,M_2,M_3$ makinelerinin günlük çalışma saatleri sırasıyla en fazla $6,8 ve 7$'dir. Firma üretilen bir adet pilsiz oyuncak arabadan $40 TL$, bir adet pilli oyuncak arabadan ise $60 TL$ kar elde etmektedir. Oyuncak firması günlük karını en büyük yapmak için her bir arabadan kaç tane üretmelidir? \n",
    "\n",
    "Bu bilgilere göre problemi doğrusal programlama biçiminde modelleyiniz."
   ]
  },
  {
   "cell_type": "markdown",
   "id": "1daab279-3378-426f-bacb-055b90999603",
   "metadata": {},
   "source": [
    "<b>Çözüm:</b>\n",
    "\n",
    "Karar değişkenleri: $x_1=$ pilli , $x_2=$ pilsiz\n",
    "\n",
    "Amaç fonksiyonu: $P=60x_1+40x_2$ $\\to$ maksimum olmasını istiyoruz\n",
    "\n",
    "Kısıt fonksiyonları: Tablodan bakılarak oluşturulur\n",
    "- $x_1+2x_2≤6$\n",
    "- $2x_1+x_2≤8$\n",
    "- $x_1+x_2≤7$\n",
    "\n",
    "Negatif olmayan kısıtlar: $x_1≥0, x_2 ≥0$"
   ]
  },
  {
   "cell_type": "markdown",
   "id": "6b86c19f-2235-49d8-8a60-f7972c9a4977",
   "metadata": {},
   "source": [
    "<div style=\"float: left;\">\n",
    "    <table>\n",
    "        <thead>\n",
    "            <tr>\n",
    "                <th style=\"width: 25%;\">Tablo</th>\n",
    "                <th style=\"width: 18%;\">$M_1$</th>\n",
    "                <th style=\"width: 18%;\">$M_2$</th>\n",
    "                <th style=\"width: 18%;\">$M_3$</th>\n",
    "                <th style=\"width: 21%;\">Kar</th>\n",
    "            </tr>\n",
    "        </thead>\n",
    "        <tbody>\n",
    "            <tr>\n",
    "                <td style=\"width: 25%;\">Pilli $x_1$</td>\n",
    "                <td style=\"width: 18%;\">1</td>\n",
    "                <td style=\"width: 18%;\">2</td>\n",
    "                <td style=\"width: 18%;\">1</td>\n",
    "                <td style=\"width: 21%;\">60 TL</td>\n",
    "            </tr>\n",
    "            <tr>\n",
    "                <td style=\"width: 25%;\">Pilsiz $x_2$</td>\n",
    "                <td style=\"width: 18%;\">2</td>\n",
    "                <td style=\"width: 18%;\">1</td>\n",
    "                <td style=\"width: 18%;\">1</td>\n",
    "                <td style=\"width: 21%;\">40 TL</td>\n",
    "            </tr>\n",
    "            <tr>\n",
    "                <td style=\"width: 25%;\">max çalışma süresi</td>\n",
    "                <td style=\"width: 18%;\">6</td>\n",
    "                <td style=\"width: 18%;\">8</td>\n",
    "                <td style=\"width: 18%;\">7</td>\n",
    "                <td style=\"width: 21%;\"></td>\n",
    "            </tr>\n",
    "        </tbody>\n",
    "    </table>\n",
    "</div>\n"
   ]
  },
  {
   "cell_type": "markdown",
   "id": "d9e02825-a8de-43b1-bb78-95fb3bffe0fe",
   "metadata": {},
   "source": [
    "<hr style='border: 0.5px solid gray; margin: 25px 0;'>"
   ]
  },
  {
   "cell_type": "markdown",
   "id": "0b4324a3-e711-4e6b-b6b6-94b1593fce91",
   "metadata": {},
   "source": [
    "# Doğrusal Programlama Modelinin Grafik Yöntemi İle Çözümü"
   ]
  },
  {
   "cell_type": "markdown",
   "id": "8e96fffe-4f53-43c1-b046-62df19583645",
   "metadata": {},
   "source": [
    "İki değişkenli bir doğrusal programlama problemi için uygulanabilir bir yöntemdir. Bu yöntemde amaç fonksiyonu ve kısıtlamalar doğrusal denklemler olarak ifade edilir ve grafik olarak çizilir. Problemdeki tüm kısıtlamaların sağlandığı uygun çözüm bölgesi belirlenir ve bu bölgenin uç noktalarında amaç fonksiyonunun değeri hesaplanır. Amaç fonksiyonu maksimizasyon ise en büyük değere sahip olan uç nokta, minimizasyon ise en küçük değere sahip olan uç nokta optimum çözümü verir.\n",
    "\n",
    "Grafik yöntemi, problemi basitleştirir ve çözüm sürecini görsel hale getirir. Ancak, büyük boyutlu problemlerde kullanışsız olabilir."
   ]
  },
  {
   "cell_type": "markdown",
   "id": "9917c2f0-9dfb-46f4-8225-bad87949e22a",
   "metadata": {},
   "source": [
    "## Doğrusal Programlamanın Temel Teoremleri\n",
    "\n",
    "***Teorem-1:*** Bir doğrusal programlama modelinde eğer amaç fonksiyonunun en iyi çözüm değeri (optimal value) var ise, bu değer mutlaka çözüm bölgesinin (feasible region) bir veya daha fazla köşe noktasında gerçekleşir.\n",
    "\n",
    "***Teorem-2:*** En iyi çözümün varlığı (existence of optimal solutions):\n",
    "\n",
    "+ <b>1.Madde</b> Eğer doğrusal programlama modelinin çözüm bölgesi sınırlı ise bu durumda amaç fonksiyonunun maksimum ve minimum değeri her zaman var olur.\n",
    "+ <b>2.Madde</b> Eğer doğrusal programlama modelinin çözüm bölgesi sınırsız ise ve amaç fonksiyonundaki katsayılar pozitif ise minumum değer mevcut olurken maksimum değer mevcut olmaz.\n",
    "+ <b>3.Madde</b> Eğer doğrusal programlama modelinin çözüm bölgesi boş küme ise ne maksimum ne de minimum değeri yoktur."
   ]
  },
  {
   "cell_type": "markdown",
   "id": "440ef852-bcf1-44bb-b0a6-8a9ad5b0953b",
   "metadata": {},
   "source": [
    "## Grafik İle Çözümde Adımlar:\n",
    "\n",
    "+ <b>1.Adım</b> Çözüm bölgesi çizilir.\n",
    "+ <b>2.Adım</b> Köşe koordinatları bulunur.\n",
    "+ <b>3.Adım</b> Köşe noktaları için amaç fonksiyonunun aldığı değerleri gösteren bir tablo yapılır.\n",
    "+ <b>4.Adım</b> Bu tablodan en iyi çözüm belirlenir."
   ]
  },
  {
   "cell_type": "markdown",
   "id": "d425da1c-e5ab-4705-aa30-18940b9d3249",
   "metadata": {},
   "source": [
    "<b>Örnek:</b> Aşağıdaki tanımlı doğrusal programlama modelinin grafiksel yöntem ile uygun çözüm alanını belirleyerek en iyi çözüm değerini bulunuz.\n",
    "\n",
    "$P: \\max z=3x+2y$\n",
    "\n",
    "$2x+3y\\leq 12$\n",
    "\n",
    "$2x+y\\leq 8$\n",
    "\n",
    "$x\\geq 0$ , $y\\geq 0$\n"
   ]
  },
  {
   "cell_type": "markdown",
   "id": "eb893460-660a-402e-8ec5-29f7e0dd6677",
   "metadata": {},
   "source": [
    "<b>Çözüm:</b>\n",
    "Eşitsizliklere 0 vererek eksenleri kestikleri yerleri bul. Önce $x$'e 0 ver sonra $y$'ye 0 ver. Kordinat düzleminde yerine koy."
   ]
  },
  {
   "cell_type": "markdown",
   "id": "8efaf207-f80e-4953-a781-709a2fe928ea",
   "metadata": {},
   "source": [
    "$2x+3y\\leq 12$ için:\n",
    "\n",
    "<div style=\"float: left;\">\n",
    "    <table>\n",
    "        <thead>\n",
    "            <tr>\n",
    "                <th style=\"width: 50px;\">x</th>\n",
    "                <th style=\"width: 50px;\">y</th>\n",
    "            </tr>\n",
    "        </thead>\n",
    "        <tbody>\n",
    "            <tr>\n",
    "                <td style=\"width: 50px;\">0</td>\n",
    "                <td style=\"width: 50px;\">4</td>\n",
    "            </tr>\n",
    "            <tr>\n",
    "                <td style=\"width: 50px;\">6</td>\n",
    "                <td style=\"width: 50px;\">0</td>\n",
    "            </tr>\n",
    "        </tbody>\n",
    "    </table>\n",
    "</div>\n",
    "\n",
    "$\\to$ $x$ ve $y$'ye sırası ile 0 ver\n",
    "\n",
    "$\\to$ $x$ sıfırken $y$ 4\n",
    "\n",
    "$\\to$ $y$ sıfırken $x$ 6\n",
    "\n",
    "$x\\geq 0$ , $y\\geq 0$ $\\to$ Bu ikisinin varlığı, çözümün her zaman koodinat bölgesinin 1. bölgesinde olmasını zorunlu kılar.\n",
    "\n",
    "$2x+y\\leq 8$ için:\n",
    "\n",
    "<div style=\"float: left;\">\n",
    "    <table>\n",
    "        <thead>\n",
    "            <tr>\n",
    "                <th style=\"width: 50px;\">x</th>\n",
    "                <th style=\"width: 50px;\">y</th>\n",
    "            </tr>\n",
    "        </thead>\n",
    "        <tbody>\n",
    "            <tr>\n",
    "                <td style=\"width: 50px;\">0</td>\n",
    "                <td style=\"width: 50px;\">8</td>\n",
    "            </tr>\n",
    "            <tr>\n",
    "                <td style=\"width: 50px;\">4</td>\n",
    "                <td style=\"width: 50px;\">0</td>\n",
    "            </tr>\n",
    "        </tbody>\n",
    "    </table>\n",
    "</div>"
   ]
  },
  {
   "cell_type": "markdown",
   "id": "7a5e88c1-0490-42b0-8530-8eccea5e8f46",
   "metadata": {},
   "source": [
    "<b>Grafiği çiz:</b> Çıkan noktalara göre grafiği çiz ve bölgeleri numaralandır. Grafikte $x=X_1$ ve $y=X_2$ olarak isimlendirilmiş.\n",
    "\n",
    "![grafik](Resimler/grafikcozum.png)"
   ]
  },
  {
   "cell_type": "markdown",
   "id": "58b946a8-8445-48fa-924b-4925d6c1dd9f",
   "metadata": {},
   "source": [
    "<b>Bölgeyi belirle:</b> Eşitsizliklerde değerlere 0 ver ve sağlayan bölgeleri yaz.\n",
    "\n",
    "$2x+3y\\leq 12$ $\\to$ 0 verdiğimizde 1. ve 2. bölge sağlıyor\n",
    "\n",
    "$2x+y\\leq 8$ $\\to$ 0 verdiğimizde 1. ve 2. bölge sağlıyor\n",
    "\n",
    "İkisinde de ortak olan 1 numaralı bölgedir. Dolayısıyla uygun çözüm alanı (çözüm bölgesi) 1. numaralı bölgedir."
   ]
  },
  {
   "cell_type": "markdown",
   "id": "a70cfd89-bbde-4a28-95ac-c62ae04902f5",
   "metadata": {},
   "source": [
    "<b>Köşe noktalarını belirle:</b> Grafikte $A,B,C,D$ ile gösterilenler köşe noktalarıdır.\n",
    "\n",
    "Kesişme noktası (grafikte $A$ ile gösterilmiş) bulmak için:\n",
    "\n",
    "$2x+3y= 12$\n",
    "\n",
    "$2x+y= 8$\n",
    "\n",
    "Eşitsizlikler eşitlik olarak yazılır, $x$ ve $y$ bulunur. ($x=3$, $y=2$)"
   ]
  },
  {
   "cell_type": "markdown",
   "id": "2d4efb8c-cc01-4454-ab9e-b1acc089c062",
   "metadata": {},
   "source": [
    "<b>Amaç fonksiyonunun aldığı değerleri gösteren bir tablo yap:</b>\n",
    "\n",
    "![grafiktablo](Resimler/grafiktablo.png)\n",
    "\n",
    "#### Tablodan ve grafikten de görüleceği üzere cevap maksimum <b>13</b> çıkıyor."
   ]
  },
  {
   "cell_type": "markdown",
   "id": "227300f2-4058-4291-9324-fa1274df1d8c",
   "metadata": {},
   "source": [
    "<hr style='border: 0.5px solid gray; margin: 25px 0;'>"
   ]
  },
  {
   "cell_type": "markdown",
   "id": "5beb320b-341f-4dfb-8f1d-544add397d4d",
   "metadata": {},
   "source": [
    "### Kullanılan Kaynaklar\n",
    "[Kaynak1](https://tr.wikipedia.org/wiki/Do%C4%9Frusal_programlama), [Kaynak2](https://tr.wikipedia.org/wiki/Do%C4%9Frusal_fonksiyon_(kalk%C3%BCl%C3%BCs)), [Kaynak3](https://www.ekolar.com/dogrusal-programlama/), [Kaynak4](https://www.youtube.com/watch?v=D7_DHhpIF4M&list=PLcNWqzWzYG2tMf8yy0_m1q4VLkNiHqurz&index=2), [Kaynak5](https://www.youtube.com/watch?v=2ux6vnrAuY4&list=PLcNWqzWzYG2tMf8yy0_m1q4VLkNiHqurz&index=12), \n",
    "\n",
    "[Öneri Kaynak1](https://www.matematiksel.org/diyet-problemi-ve-dogrusal-programlama/), [Öneri Kaynak2](https://www.youtube.com/watch?v=jinOTSB6_eE&list=PLcNWqzWzYG2tMf8yy0_m1q4VLkNiHqurz&index=3), [Öneri Kaynak3](https://drive.google.com/file/d/1QOywNOev-kmPsn7vvnDH0gQXyujsHw8L/view)"
   ]
  }
 ],
 "metadata": {
  "kernelspec": {
   "display_name": "Python 3 (ipykernel)",
   "language": "python",
   "name": "python3"
  },
  "language_info": {
   "codemirror_mode": {
    "name": "ipython",
    "version": 3
   },
   "file_extension": ".py",
   "mimetype": "text/x-python",
   "name": "python",
   "nbconvert_exporter": "python",
   "pygments_lexer": "ipython3",
   "version": "3.9.16"
  }
 },
 "nbformat": 4,
 "nbformat_minor": 5
}
