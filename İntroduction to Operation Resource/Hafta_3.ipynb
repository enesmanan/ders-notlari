{
 "cells": [
  {
   "cell_type": "markdown",
   "id": "c8967b3f-c39b-489e-b6cf-ed63979d9a04",
   "metadata": {},
   "source": [
    "# Introduction to Operations Research 3. Hafta"
   ]
  },
  {
   "cell_type": "markdown",
   "id": "709cbfd0-839b-46b4-8af0-b9406cc3c423",
   "metadata": {
    "tags": []
   },
   "source": [
    "# Doğrusal Programlama\n",
    " \n",
    "Doğrusal programlama, kaynakların optimum kullanımını araştıran bir matematiksel yöntemdir. Bir doğrusal programlama modeli, kaynakları belirli bir alana daraltan \"kısıt denklemlerini\" ve sonuçta ulaşılmak istenen \"amaç fonksiyonunu\" içermelidir.\n",
    "\n",
    "Bu teknik, birçok gerçek dünya problemine uygulanabilir ve özellikle endüstri, işletme ve mühendislik alanlarında yaygın olarak kullanılır. Genellikle, bir doğrusal programlama problemi, birçok değişkenin bulunduğu bir sistemi optimize etmek için kullanılır. Örneğin, bir şirketin karını maksimize etmek için üretim planını optimize etmek gibi."
   ]
  },
  {
   "cell_type": "markdown",
   "id": "a564db7c-f448-4239-9e0d-df982296b3fa",
   "metadata": {},
   "source": [
    "## Doğrusal (Linear) Fonksiyon nedir?\n",
    "\n",
    "Doğrusal fonksiyon, $x$ değişkenine sahip ve derecesi en fazla bir olan bir polinom fonksiyondur. Yani aşağıdaki denklemi sağlayan fonksiyondur. $f(x) = ax + b$. Burada $x$, bir değişkendir. Bir doğrusal fonksiyonun grafiğinin tüm noktalarının kümesi, kartezyen koordinat sistemindeki $(x, f(x))$ koordinatlarında bulunan bir doğrudur. Bu tür fonksiyonlara doğrusal denir.\n",
    "\n",
    "Örnek linear fonksiyonlar:\n",
    "+ $f(x) = 4x + 2$\n",
    "+ $g(x) = 5x - 7$\n",
    "+ $h(x) = 5x$\n",
    "+ $t(x) = -7$"
   ]
  },
  {
   "cell_type": "markdown",
   "id": "b7e97426-8342-4fe5-bbfe-0768ef6ec6f5",
   "metadata": {},
   "source": [
    "## Doğrusal Eşitsizlik (Linear inequality) Nedir?\n",
    "\n",
    "Linear inequality, iki doğrusal ifadenin eşit olmadığını gösteren bir eşitsizliktir. Eşitsizlik sembolleri olarak $<$ (küçüktür), $>$ (büyüktür), $≤$ (küçük eşittir), $≥$ (büyük eşittir) ve $≠$ (eşit değildir) kullanılır. Doğrusal eşitsizlikleri çözmek için eşitliklerde olduğu gibi aynı işlemleri yapabilirsiniz.\n",
    "\n",
    "Örneğin doğrusal eşitsizlikler: \n",
    "+ $2x + 3 < 5$ \n",
    "+ $x - 4 ≥ 0$ \n",
    "+ $y + 2 ≠ 7$ "
   ]
  },
  {
   "cell_type": "markdown",
   "id": "12fcc2f0-a2ad-4409-aaf3-8097f3c452ad",
   "metadata": {},
   "source": [
    "## Doğrusal Programlama Etmenleri"
   ]
  },
  {
   "cell_type": "markdown",
   "id": "b16750d7-5e8c-4b08-ad93-ffa031d555b2",
   "metadata": {},
   "source": [
    "| Doğrusal Programlama Etmenleri | Açıklama |\n",
    "| --- | --- |\n",
    "| Karar Değişkenleri | Doğrusal programlama probleminde optimize edilecek amaç fonksiyonunu hesaplamak için kullanılan değişkenlerdir. Bu değişkenlerin değeri, modelin koşullarına bağlıdır ve belirlenmesi gereken bilinmeyenleri temsil eder. Her karar değişkeni ile bir işaret kısıtlaması (sıfırdan büyük veya eşit, yani ≥0, sıfırdan küçük veya eşit, yani ≤0) ilişkilendirilebilir.|\n",
    "| Amaç Fonksiyonu | Doğrusal programlama probleminin ana hedefidir. Bu, belirli karar değişkenlerinin belirli bir kombinasyonunu kullanan bir lineer fonksiyondur. Hedef, ya maksimize edilmek istenen bir kazanç ya da minimize edilmek istenen bir maliyettir. |\n",
    "| Kısıtlamalar | Doğrusal programlama probleminde, karar değişkenlerinin değerlerinin koşullarını ifade eden sınırlamalardır. Bu sınırlamalar, lineer denklemler ya da eşitsizlikler şeklinde ifade edilirler. |\n",
    "| Lineer Denklem Sistemleri | Doğrusal programlama problemlerindeki kısıtlamalar genellikle lineer denklem sistemleri olarak yazılır. Bu denklemler, lineer cebirsel denklemlerdir ve genellikle matris denklemleri olarak temsil edilirler. |\n",
    "| Çözücü | Doğrusal programlama problemlerinin çözümünde kullanılan matematiksel bir araçtır. Bu araç, doğrusal programlama problemindeki amaç fonksiyonunu optimize etmek için uygun bir yöntem kullanır. Çözücüler, genellikle matematiksel programlama yazılımlarında mevcuttur ve doğru sonuçları elde etmek için kullanıcının ihtiyaçlarına ve modelin karmaşıklığına göre seçilirler. |\n"
   ]
  },
  {
   "cell_type": "markdown",
   "id": "23416b4d-6ee7-469d-b959-dfdc52d17152",
   "metadata": {},
   "source": [
    "## Doğrusal Programlama Varsayımları Nelerdir?\n",
    "\n",
    "1. <b>Doğrusallık -Sabit Orantılılık- (Proportionality):</b> Modeldeki amaç fonksiyonu ve kısıt denklemleri doğrusal olmalıdır. Bir başka deyişle karar değişkenleri birinci dereceden olmalıdır. İşletmenin girdileri ile çıktıları arasında doğrusal bir ilişkinin olduğunu gösterir. Ayrıca amaç fonksiyonu katsayılarının da faaliyet düzeyi ile orantılı olarak arttığını işaret eder.\n",
    "\n",
    "2. <b>Pozitiflik -Negatif Olmama- (Non-negativity):</b> Modelde yer alan tüm karar değişkenleri sıfır ya da sıfırdan büyük değer almalıdır. Bu varsayım karar değişkenlerinin fiziksel olarak anlamlı olmasını sağlar.\n",
    "\n",
    "3. <b>Bölünebilirlik (Divisibility):</b> Bu varsayım her bir karar değişkeninin kesirli değerler almasına izin verir. Ancak bazı problemlerde bu varsayım ortadan kalkabilir ve karar değişkenlerinin sadece tam sayılı değerler almasına izin verilebilir. Bu durumda tam sayılı programlama yöntemleri kullanılabilir.\n",
    "\n",
    "4. <b>Toplanabilirlik (Additivity):</b> Modeli oluşturan amaç ve kısıt fonksiyonları ilişkin oldukları faaliyetlerin bireysel katkılarından oluşur. Bu varsayım etkileşim veya sinerji etkilerini göz ardı eder.\n",
    "\n",
    "5. <b>Kesinlik (Certainty):</b>  Modeli oluşturan tüm parametreler modelin hesaplandığı dönem boyunca sabit kaldığı ve değişmediği varsayımıdır. Modelin parametrelerinde meydana gelebilecek değişiklikler ise duyarlılık analizi ile açıklanabilir."
   ]
  },
  {
   "cell_type": "markdown",
   "id": "64b5710d-47b6-429b-80f6-8736b7f9804a",
   "metadata": {},
   "source": [
    "<hr style='border: 0.5px solid gray; margin: 25px 0;'>"
   ]
  },
  {
   "cell_type": "markdown",
   "id": "8954422c-4b39-4c07-8641-ce82d82d32d3",
   "metadata": {},
   "source": [
    "## Yazılı Problemi Doğrusal Programlama Modeline Dönüştürme\n",
    "\n",
    "1. <b>Karar değişkenleri belirlenir</b> ($x_1,x_2,x_3...$)\n",
    "2. <b>Tablo verilmediyse tablo oluşturulur</b>\n",
    "3. <b>Amaç fonksiyonu yazılır</b> ($P=3x_1+4x_2$ max veya min olması için $x_1$ ve $x_2$ belirlemeye çalışırız)\n",
    "4. <b>Kısıt fonksiyonları ve negatif olmayan kısıtlar yazılır</b> ($2x_1+x_2≤20 ...$)\n",
    "5. <b>Çözüm yöntemine karar verilir</b> (grafik yöntemi, simplex metodu...)"
   ]
  },
  {
   "cell_type": "markdown",
   "id": "65cc3670-17c3-4d05-a63e-5f59fc794442",
   "metadata": {},
   "source": [
    "<b>Örnek:</b> Bir oyuncak firması, pilli ve pilsiz oyuncak arabalar üretmektedir. Firma oyuncak arabaları üretirken $M_1,M_2,M_3$ makinelerini kullanmaktadır. Pilsiz oyuncak araba üretilirken bir günde $M_1$'in $2$ saat, $M_2$'nin $1$ saat ve $M_3$'ün $1$ saat çalışması gerekmektedir. Pilli oyuncak araba üretilirken ise bir günde $M_1$'in $1$ saat, $M_2$'ni $2$ saat, $M_3$'ün $1$ saat çalışması gerekmektedir. $M_1,M_2,M_3$ makinelerinin günlük çalışma saatleri sırasıyla en fazla $6,8 ve 7$'dir. Firma üretilen bir adet pilsiz oyuncak arabadan $40 TL$, bir adet pilli oyuncak arabadan ise $60 TL$ kar elde etmektedir. Oyuncak firması günlük karını en büyük yapmak için her bir arabadan kaç tane üretmelidir? \n",
    "\n",
    "Bu bilgilere göre problemi doğrusal programlama biçiminde modelleyiniz."
   ]
  },
  {
   "cell_type": "markdown",
   "id": "1daab279-3378-426f-bacb-055b90999603",
   "metadata": {},
   "source": [
    "<b>Çözüm:</b>\n",
    "\n",
    "Karar değişkenleri: $x_1=$ pilli , $x_2=$ pilsiz\n",
    "\n",
    "Amaç fonksiyonu: $P=60x_1+40x_2$ $\\to$ maksimum olmasını istiyoruz\n",
    "\n",
    "Kısıt fonksiyonları: Tablodan bakılarak oluşturulur\n",
    "- $x_1+2x_2≤6$\n",
    "- $2x_1+x_2≤8$\n",
    "- $x_1+x_2≤7$\n",
    "\n",
    "Negatif olmayan kısıtlar: $x_1≥0, x_2 ≥0$"
   ]
  },
  {
   "cell_type": "markdown",
   "id": "6b86c19f-2235-49d8-8a60-f7972c9a4977",
   "metadata": {},
   "source": [
    "<div style=\"float: left;\">\n",
    "    <table>\n",
    "        <thead>\n",
    "            <tr>\n",
    "                <th style=\"width: 25%;\">Tablo</th>\n",
    "                <th style=\"width: 18%;\">$M_1$</th>\n",
    "                <th style=\"width: 18%;\">$M_2$</th>\n",
    "                <th style=\"width: 18%;\">$M_3$</th>\n",
    "                <th style=\"width: 21%;\">Kar</th>\n",
    "            </tr>\n",
    "        </thead>\n",
    "        <tbody>\n",
    "            <tr>\n",
    "                <td style=\"width: 25%;\">Pilli $x_1$</td>\n",
    "                <td style=\"width: 18%;\">1</td>\n",
    "                <td style=\"width: 18%;\">2</td>\n",
    "                <td style=\"width: 18%;\">1</td>\n",
    "                <td style=\"width: 21%;\">60 TL</td>\n",
    "            </tr>\n",
    "            <tr>\n",
    "                <td style=\"width: 25%;\">Pilsiz $x_2$</td>\n",
    "                <td style=\"width: 18%;\">2</td>\n",
    "                <td style=\"width: 18%;\">1</td>\n",
    "                <td style=\"width: 18%;\">1</td>\n",
    "                <td style=\"width: 21%;\">40 TL</td>\n",
    "            </tr>\n",
    "            <tr>\n",
    "                <td style=\"width: 25%;\">max çalışma süresi</td>\n",
    "                <td style=\"width: 18%;\">6</td>\n",
    "                <td style=\"width: 18%;\">8</td>\n",
    "                <td style=\"width: 18%;\">7</td>\n",
    "                <td style=\"width: 21%;\"></td>\n",
    "            </tr>\n",
    "        </tbody>\n",
    "    </table>\n",
    "</div>\n"
   ]
  },
  {
   "cell_type": "markdown",
   "id": "d9e02825-a8de-43b1-bb78-95fb3bffe0fe",
   "metadata": {},
   "source": [
    "<hr style='border: 0.5px solid gray; margin: 25px 0;'>"
   ]
  },
  {
   "cell_type": "markdown",
   "id": "7c3909aa-585b-450a-9e7d-7b61a2e0109f",
   "metadata": {},
   "source": [
    "<b></b>"
   ]
  },
  {
   "cell_type": "markdown",
   "id": "5beb320b-341f-4dfb-8f1d-544add397d4d",
   "metadata": {},
   "source": [
    "### Kullanılan Kaynaklar\n",
    "[Kaynak1](https://tr.wikipedia.org/wiki/Do%C4%9Frusal_programlama), [Kaynak2](https://tr.wikipedia.org/wiki/Do%C4%9Frusal_fonksiyon_(kalk%C3%BCl%C3%BCs)), [Kaynak3](https://www.ekolar.com/dogrusal-programlama/), [Kaynak4](https://www.youtube.com/watch?v=D7_DHhpIF4M&list=PLcNWqzWzYG2tMf8yy0_m1q4VLkNiHqurz&index=2), [öneri kaynak1](https://www.matematiksel.org/diyet-problemi-ve-dogrusal-programlama/), [öneri kaynak2](https://www.youtube.com/watch?v=jinOTSB6_eE&list=PLcNWqzWzYG2tMf8yy0_m1q4VLkNiHqurz&index=3)"
   ]
  }
 ],
 "metadata": {
  "kernelspec": {
   "display_name": "Python 3 (ipykernel)",
   "language": "python",
   "name": "python3"
  },
  "language_info": {
   "codemirror_mode": {
    "name": "ipython",
    "version": 3
   },
   "file_extension": ".py",
   "mimetype": "text/x-python",
   "name": "python",
   "nbconvert_exporter": "python",
   "pygments_lexer": "ipython3",
   "version": "3.9.16"
  }
 },
 "nbformat": 4,
 "nbformat_minor": 5
}
