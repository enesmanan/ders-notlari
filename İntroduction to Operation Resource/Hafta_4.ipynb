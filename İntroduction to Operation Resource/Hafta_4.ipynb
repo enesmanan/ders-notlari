{
 "cells": [
  {
   "cell_type": "markdown",
   "id": "621bc58a-996d-4f4f-8292-e1c307b865f4",
   "metadata": {},
   "source": [
    "# Introduction to Operations Research 4. Hafta"
   ]
  },
  {
   "cell_type": "markdown",
   "id": "592be3fc-e6ff-400f-9dd6-b014bd7e19cc",
   "metadata": {},
   "source": [
    "# Simplex Algoritmasına Giriş\n",
    "\n",
    "## Simplex Algoritması Nedir?\n",
    "\n",
    "Doğrusal programlama problemlerinde optimum çözümü pratik olarak bulmak amacıyla George Dantzig tarafından 1947 yılında geliştirilen bir algoritmadır. Bu algoritma, kısıtlamalardan ortaya çıkan çokgenleri (iki değişkenli problemde \"uygunluk alanı\") olarak görmekte ve bu çokgenlerde kesişme noktalarını (iki değişkenli problemde kısıtlama çizgilerinin kesişme noktalarını) birer mümkün çözüm olarak görmektedir. Bundan sonra bir köşeden başlayıp bu köşeyi belirleyen kenarlar takip edilerek amaç fonksiyonun iyileşmesini sağlayan kenarlar tespit edilmekte; bunlardan amaç fonksiyonuna en iyi sonuç çıkaracak kenar takip edilip bir diğer çokgen köşesi bulunmaktadır. Bu yeni bulunan çokgen köşesi de aynı yöntem kullanılarak daha iyi bir başka köşeye gidebilme imkânı aranmaktadır. Eğer elde bulunan bir çokgen köşesinden daha iyi amaç sonucu sağlayan bir köşeye gitme imkânı yoksa, bu son köşe optimum çözüm olarak kabul edilmektedir."
   ]
  },
  {
   "cell_type": "markdown",
   "id": "44f2b925-6a8b-4374-b977-cb7f2aca20ca",
   "metadata": {},
   "source": [
    "## Simplex Algoritması İle Grafik Çözümün Karşılaştırılması"
   ]
  },
  {
   "cell_type": "markdown",
   "id": "7778f12a-7999-4902-bed8-d8b657e8e3b0",
   "metadata": {},
   "source": [
    "<div style=\"float: left;\">\n",
    "<table>\n",
    "  <tr>\n",
    "    <th>Simplex Algoritması</th>\n",
    "    <th>Grafik Çözüm</th>\n",
    "  </tr>\n",
    "  <tr>\n",
    "    <td>Her türlü doğrusal programlama problemine uygulanabilir</td>\n",
    "    <td>Sadece iki değişkenli problemlere uygulanabilir</td>\n",
    "  </tr>\n",
    "  <tr>\n",
    "    <td>Tablo üzerinden iterasyonlar yaparak optimum çözümü bulur</td>\n",
    "    <td>Çizim yaparak uygunluk alanını ve optimum noktayı belirler</td>\n",
    "  </tr>\n",
    "  <tr>\n",
    "    <td>Hesaplama hatalarına karşı duyarlıdır</td>\n",
    "    <td>Çizim hatalarına karşı duyarlıdır</td>\n",
    "  </tr>\n",
    "  <tr>\n",
    "    <td>Alternatif optimal çözümleri tespit edebilir</td>\n",
    "    <td>Alternatif optimal çözümleri görsel olarak fark etmek zordur</td>\n",
    "  </tr>\n",
    "  <tr>\n",
    "    <td>İteratif bir yöntemdir</td>\n",
    "    <td>Grafik çizilerek adımlar belirlenir</td>\n",
    "  </tr>\n",
    "  <tr>\n",
    "    <td>Büyük problemleri çözmek için etkilidir</td>\n",
    "    <td>Küçük problemler için uygundur</td>\n",
    "  </tr>\n",
    "  <tr>\n",
    "    <td>Kısıtların türüne bakmaksızın uygulanabilir</td>\n",
    "    <td>Sadece doğrusal kısıtlarla uygulanabilir</td>\n",
    "  </tr>\n",
    "</table>\n"
   ]
  },
  {
   "cell_type": "markdown",
   "id": "7b6a94fd-0182-4cf0-8843-3fd59be75dca",
   "metadata": {},
   "source": [
    "## Simplex algoritmasının özellikleri:\n",
    "\n",
    "+ Doğrusal programlama problemlerinde optimum çözümü bulmak için kullanılır.\n",
    "+ Kısıtlamalardan ortaya çıkan çokgenlerin köşelerini mümkün çözümler olarak kabul eder.\n",
    "+ Bir köşeden başlayarak amaç fonksiyonunu iyileştiren kenarları takip eder.\n",
    "+ Daha iyi bir köşeye gidilemediği zaman optimum çözümü bulmuş olur.\n",
    "+ Standart formda uygulanır.\n",
    "+ Denklemlerin tabloya yerleştirilip iterasyonların tablo üzerinden yapılmasına dayanır.\n",
    "+ Sınırlı optimizasyon problemlerinin ve oyun teorisi temelli problemlerin çözümünde kullanılır."
   ]
  },
  {
   "cell_type": "markdown",
   "id": "769cd64f-e868-4f23-a9da-7f43da43c780",
   "metadata": {},
   "source": [
    "## Simplex Algoritmasını Kullanım Şartları:\n",
    "\n",
    "1. Problemin doğrusal programlama problemi olması gerekir. Yani amaç fonksiyonu ve kısıtlamalar doğrusal olmalıdır.\n",
    "2. Problemin standart formda olması gerekir. Yani tüm kısıtlamalar eşitlik şeklinde ve tüm değişkenler sıfırdan büyük veya eşit olmalıdır.\n",
    "3. Problemin olurlu bir başlangıç çözümüne sahip olması gerekir. Yani kısıtlamaları sağlayan bir değişkenler kümesi bulunmalıdır.\n",
    "4. Tüm değişkenlerin sıfırdan büyük veya eşit olması gereklidir.\n",
    "5. Simplex algoritması, problemin çözülebilir olması durumunda kullanılabilir. Yani, problemin çözümü için uygun çözüm alanı olması gereklidir."
   ]
  },
  {
   "cell_type": "markdown",
   "id": "b27d3079-625c-4cc0-8523-9413cd1a577a",
   "metadata": {},
   "source": [
    "## Simplex Algoritması Akış Şeması\n",
    "![akis](Resimler/akissema.jpg)\n",
    "\n",
    "[Şema Kaynak](https://www.youtube.com/watch?v=MiqOZcy8JDg&list=PLNVCj-z_HS4YuZA_enHEeFwJYPpnF06OE&index=8)"
   ]
  },
  {
   "cell_type": "markdown",
   "id": "f53f957a-b8ff-4bf2-a944-8009f27ab884",
   "metadata": {},
   "source": [
    "## Simplex Algoritması Kavramları\n",
    "\n",
    "+ <b>Standart form:</b> Doğrusal programlama probleminin tüm kısıtlamalarının eşitlik şeklinde ve tüm değişkenlerinin sıfırdan büyük veya eşit olacak şekilde yazılmasıdır.\n",
    "+ <b>Tablo:</b> Doğrusal programlama probleminin katsayılarını ve çözümlerini gösteren bir matristir.\n",
    "+ <b>Giren değişken:</b> Tabloda z satırına bakılarak katsayısı negatif olan bir değişkendir. Bu değişken tabloyu iyileştirmek için seçilir.\n",
    "+ <b>Çıkan değişken:</b> Tabloda giren değişkenin sütununa bakılarak oranlar hesaplanır. En küçük pozitif orana sahip satırın başındaki değişkendir. Bu değişken tablodan çıkarılır.\n",
    "+ <b>Pivot hücre:</b> Giren ve çıkan değişkenlerin kesiştiği hücredir. Bu hücrenin değeri 1 olacak şekilde tablo yeniden oluşturulur.\n",
    "+ Optimum çözüm:</b> Tabloda z satırına bakıldığında katsayısı negatif olan bir değişken olmadığı durumdur. Bu durumda tablonun sağ alt köşesindeki değer optimum amaç fonksiyonu değeridir.\n",
    "+ <b>Özel durumlar:</b> Simplex algoritmasında karşılaşılabilecek bazı sorunlardır. Örneğin, olurlu çözüm bulunamaması, sınırsız çözüm olması, alternatif optimal çözümler olması, dejenerasyon olması gibi durumlardır.\n",
    "+ <b>Dualite teorisi:</b> Her doğrusal programlama problemine karşılık gelen bir dual problem vardır. Dual problem, primal problemin amaç fonksiyonunu ve kısıtlamalarını tersine çevirerek elde edilir. Primal ve dual problemlerin optimal çözümleri arasında bir ilişki vardır."
   ]
  },
  {
   "cell_type": "markdown",
   "id": "a07caa26-ac57-4eae-9751-db9de754637e",
   "metadata": {},
   "source": [
    "+ <b>Çözüm:</b> Karar değişkenleri için değerlerin belirlenmesi\n",
    "+ <b>Olurlu Çözüm:</b> Tüm kısıtların karşılandığı çözüm\n",
    "+ <b>Olurlu Bölge:</b> Tüm olurlu çözümler kümesi\n",
    "+ <b>Optimal Çözüm:</b> Amaç fonksiyonunun en uygun değerine sahip olduğu çözüm\n",
    "+ <b>Köşe Noktası olur Çözümü:</b> Olurlu bölgenin bir köşesinde bulunan çözüm\n",
    "+ <b>Temel Değişken:</b> Modeldeki değişkenler\n",
    "+ <b>Temel Dışı Değişken:</b> Modelde sıfır değerini alan değişkenler\n",
    "+ <b>Temel Çözüm:</b> Köşe noktası çözümü\n",
    "+ <b>Temel Olurlu Çözüm:</b> Tüm değişkenlerin sıfırdan büyük veya eşit olduğu bir çözüm"
   ]
  },
  {
   "cell_type": "markdown",
   "id": "09b3686e-3854-4594-8e8e-0efc37dcd8b6",
   "metadata": {},
   "source": [
    "<hr style='border: 0.5px solid gray; margin: 25px 0;'>"
   ]
  },
  {
   "cell_type": "markdown",
   "id": "b4b642a3-1dce-449a-88b8-d10df29f9df3",
   "metadata": {},
   "source": [
    "<b></b>"
   ]
  },
  {
   "cell_type": "markdown",
   "id": "2d6e86e6-63ed-4f93-a0b2-7ade1472fb45",
   "metadata": {},
   "source": [
    "### Kullanılan Kaynaklar\n",
    "[Kaynak1](https://tr.wikipedia.org/wiki/Simpleks_algoritmas%C4%B1), [Kaynak2](https://aracbuzdolabi.net/what-is-the-simplex-method-used-for), [Kaynak3](https://www.youtube.com/watch?v=MiqOZcy8JDg&list=PLNVCj-z_HS4YuZA_enHEeFwJYPpnF06OE&index=8)"
   ]
  }
 ],
 "metadata": {
  "kernelspec": {
   "display_name": "Python 3 (ipykernel)",
   "language": "python",
   "name": "python3"
  },
  "language_info": {
   "codemirror_mode": {
    "name": "ipython",
    "version": 3
   },
   "file_extension": ".py",
   "mimetype": "text/x-python",
   "name": "python",
   "nbconvert_exporter": "python",
   "pygments_lexer": "ipython3",
   "version": "3.9.16"
  }
 },
 "nbformat": 4,
 "nbformat_minor": 5
}
