{
 "cells": [
  {
   "cell_type": "markdown",
   "id": "1b60004d-a92c-47a6-81ae-7543cb3d05b3",
   "metadata": {},
   "source": [
    "# Introduction to Operations Research 7. Hafta"
   ]
  },
  {
   "cell_type": "markdown",
   "id": "85361577-8bac-4f4d-bc0a-fd31d43d0fc0",
   "metadata": {},
   "source": [
    "## Sensitivity Analysis (Optimallik Sonrası Analiz)\n",
    "\n",
    "Matematiksel bir modelin çözümünün, modelin içindeki parametrelerin değerlerinin değiştirilmesine ne kadar duyarlı olduğunu inceleyen bir analiz yöntemidir. Bu analiz yöntemi, karar vericilere, modelin sonuçlarına ne kadar güvenebileceklerine dair bir fikir verir.\n",
    "\n",
    "+ Eğer orijinal modelin parametrelerinde bazı değişiklikler meydana gelirse optimal çözüm değişecek midir?\n",
    "+ Problemin çözümü tamamen bozulmadan yeni optimum çözümü hesaplayabilir miyiz?\n",
    "\n",
    "Bu analiz yöntemi, ayrıca, bir modelin optimal çözümünün bir kısıtlama veya parametre değerindeki bir değişiklik nedeniyle değişip değişmediğini belirlemek için de kullanılabilir. Bu tür analizler, karar vericilerin, kararlarının güvenilirliğini artırmalarına yardımcı olur ve beklenmedik durumlara karşı hazırlıklı olmalarına yardımcı olur.\n",
    "\n",
    "Model parametrelerindeki değişimler 3 şekilde karşımıza çıkabilir.\n",
    "1. Amaç fonksiyonundaki katsayıların değişimi optimum sonucuetkiler mi? Etkilerse nasıl etkiler?\n",
    "2. Kısıtların sağ yan değerlerindeki değişim optimum sonucu etkilermi? Etkilerse nasıl etkiler?\n",
    "3. Kısıtların katsayılarındaki değişim optimum sonucu etkiler mi? Etkilerse nasıl etkiler?"
   ]
  },
  {
   "cell_type": "markdown",
   "id": "33827fcf-aade-4e90-af63-dc98d2a65a75",
   "metadata": {},
   "source": [
    "<hr style='border: 0.5px solid gray; margin: 25px 0;'>"
   ]
  },
  {
   "cell_type": "markdown",
   "id": "4e304a93-efcb-45f7-a168-95535552cbcd",
   "metadata": {},
   "source": [
    "## Anlatımlı Soru Çözüm Kaynakları\n",
    "\n",
    "[Kaynak1](https://www.youtube.com/watch?v=Exoba-czjq8), [Kaynak2](https://www.youtube.com/watch?v=nPtAOefbfzY), [Kaynak3](https://www.youtube.com/watch?v=4tQfdlI1iGM), [Kaynak4](https://www.youtube.com/watch?v=t8FlA6zIJR0), [Kaynak5](https://personal.utdallas.edu/~scniu/OPRE-6201/documents/LP12-Sensitivity-Analysis.pdf)"
   ]
  }
 ],
 "metadata": {
  "kernelspec": {
   "display_name": "Python 3 (ipykernel)",
   "language": "python",
   "name": "python3"
  },
  "language_info": {
   "codemirror_mode": {
    "name": "ipython",
    "version": 3
   },
   "file_extension": ".py",
   "mimetype": "text/x-python",
   "name": "python",
   "nbconvert_exporter": "python",
   "pygments_lexer": "ipython3",
   "version": "3.9.16"
  }
 },
 "nbformat": 4,
 "nbformat_minor": 5
}
