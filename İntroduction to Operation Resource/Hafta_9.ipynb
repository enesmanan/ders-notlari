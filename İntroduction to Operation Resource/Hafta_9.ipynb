{
 "cells": [
  {
   "cell_type": "markdown",
   "id": "0f3e683e-d799-4c1c-aace-f2ccf90a0138",
   "metadata": {},
   "source": [
    "# Introduction to Operations Research 9. Hafta"
   ]
  },
  {
   "cell_type": "markdown",
   "id": "344cfda7-6b89-46a3-9f8c-1bcd5816b7ac",
   "metadata": {},
   "source": [
    "## Doğrusal Programlama Hesabında Yaşanan Sorunlar\n",
    "\n",
    "Bir LP kodu, iki temel gereksinimi karşılıyorsa sağlam kabul edilir:\n",
    "1. Hız (Speed)\n",
    "2. Doğruluk (Accuracy)"
   ]
  },
  {
   "cell_type": "markdown",
   "id": "e35fda77-0472-496b-ad2a-eac66000818b",
   "metadata": {},
   "source": [
    "**Hız:** Hız, LP probleminin çözülme süresiyle ilgilidir. Hızlı bir LP kodu, problemin çözümünü mümkün olan en kısa sürede elde etmek için etkili bir şekilde çalışır. Büyük ölçekli LP problemleri genellikle çok sayıda değişken ve kısıtlama içerir, bu nedenle hızlı bir şekilde çözüm elde etmek önemlidir. Hızlı bir LP kodu, hesaplama süresini minimize ederken, veri boyutu veya karmaşıklığından bağımsız olarak etkin bir şekilde çalışmalıdır.\n",
    "\n",
    "**Doğruluk:** Bir LP kodu, çıktı olarak doğru çözümü sağlamalıdır. Doğru bir çözüm, hedef fonksiyonu maksimize veya minimize eden değişken değerlerini ve tüm kısıtlamaları karşılayan değerleri içermelidir. LP kodu, matematiksel modelin gerektirdiği doğruluk seviyesini sağlamalıdır. Bu, çözümün yeterince hassas ve hatasız olmasını gerektirir."
   ]
  },
  {
   "cell_type": "markdown",
   "id": "fe3e53f9-db14-463d-bb47-8cf25d6075a8",
   "metadata": {},
   "source": [
    "## Optimallik Kriterleri\n",
    "\n",
    "<div style=\"float: left;\">\n",
    "\n",
    "| Yöntem | Açıklama | İyi Yönleri | Kötü Yönleri |\n",
    "| --- | --- | --- | --- |\n",
    "| Klasik              | Giriş değişkeni, tüm temel olmayan değişkenler arasında en olumlu indirgenmiş maliyeti olan değişkendir. | Hesaplama açısından ucuzdur. Basit ve kolay uygulanabilir. | İlerleme sağlanıp sağlanmadığı belli değildir. Döngü oluşma riski vardır. Bazı durumlarda yavaş olabilir.|\n",
    "| En İyi İyileşme     | Giriş değişkeni, tüm temel olmayan değişkenler arasında hedef fonksiyon değerinde en büyük toplam iyileşme sağlayan değişkendir.| Açıkça ilerleme sağlandığı görülür. Optimal çözüme daha hızlı yaklaşır. | Başlangıç noktasına bağımlı olabilir ve bazı durumlarda geçerli giriş değişkeni bulunamayabilir. Daha fazla hesaplama gerektirir.  Her j için **A_B^-1 A_j = d** ve **max x_j s.t. x_j d <= x_B = A_B^-1 b** hesaplanır. |\n",
    "| En Dik Kenar | Giriş değişkeni, tüm temel olmayan değişkenler arasında normalleştirilmiş en olumlu indirgenmiş maliyete sahip olan değişkendir.|  Mevcut çözümün bozulma miktarına göre en büyük amaç fonksiyonu iyileştirmesini verir. Pratikte iyi çalışır. En çok iyileştirmeden daha az toplam pivot gerektirdiği görülür. | Hesaplama açısından pahalıdır. En çok iyileştirmeden daha az (sadece her j için d hesaplanır, x_j değil). |\n"
   ]
  },
  {
   "cell_type": "markdown",
   "id": "68dde5b3-2f2d-4802-8b08-0bd8797f09f0",
   "metadata": {},
   "source": [
    "## Primal Simplex vs Dual Simplex"
   ]
  },
  {
   "cell_type": "markdown",
   "id": "c6026ad5-3b93-4dff-8929-c29d201dd836",
   "metadata": {},
   "source": [
    "| Algoritma           | Açıklama                                                                                  | İyi Yönleri                                                                   | Kötü Yönleri                                                                           |\n",
    "|---------------------|-------------------------------------------------------------------------------------------|-------------------------------------------------------------------------------|----------------------------------------------------------------------------------------|\n",
    "| Primal Simplex     | Temel çözüm noktasından başlayarak ilerleyen ve temel olmayan değişkenleri optimize eden bir lineer programlama algoritması.                                        | - Başlangıç noktasına bağımlı olmaksızın her zaman çözüm üretebilir. Hesaplama açısından ucuzdur. Temel olmayan değişkenler arasında en uygun indirgenmiş maliyete sahip olanı seçmek yeterlidir.                                             | - Büyük ölçekli problemlerde yavaş olabilir. Döngü oluşabilir. Dejenerasyon problemi yaratabilir. Kısıtların sayısı değişkenlerin sayısından çok fazla ise performans düşebilir.                                                       |\n",
    "| Dual Simplex       | Çift fazlı bir lineer programlama algoritmasıdır. İlk olarak dual probleme geçer ve temel çözüm noktasından başlayarak ilerler. Dual çözümü optimize ederken primal çözümünü de iyileştirir.         | - Bazı durumlarda daha hızlı bir şekilde çözüm üretebilir. Döngü oluşmaz. Dejenerasyon problemi yaratmaz. Kısıtların sayısı değişkenlerin sayısından çok fazla ise performans artabilir. Kesme düzlemleri, dallanma ve sınırlama gibi yöntemlerle uyumludur.                      | - İkinci fazın başarısız olması durumunda geri dönüş zor olabilir. Hesaplama açısından pahalıdır. |\n"
   ]
  },
  {
   "cell_type": "markdown",
   "id": "1422c086-27aa-4ca2-aedd-f1695acd99ec",
   "metadata": {},
   "source": [
    "## Revised Simplex vs Tableau Simplex"
   ]
  },
  {
   "cell_type": "markdown",
   "id": "dee1fc67-5839-40bb-8042-25c22842dd70",
   "metadata": {},
   "source": [
    "| Algoritma              | Açıklama                                                                                  | İyi Yönleri                                                                   | Kötü Yönleri                                                                           |\n",
    "|------------------------|-------------------------------------------------------------------------------------------|-------------------------------------------------------------------------------|----------------------------------------------------------------------------------------|\n",
    "| Revised Simpleks       | Primal Simpleks algoritmasının optimize edilmiş bir versiyonudur. Daha etkili ve verimli hesaplamalar yapar.                                        | - Sadece gerekli olan tablo elemanları hesaplanır. Matris işlemleri ile daha verimli çalışır. Daha hızlı çözüm üretebilir.                                              | - Büyük ölçekli problemlerde bile yavaş olabilir. Uygulaması zordur. Tablo üzerinde doğrudan işlem yapılmaz. Baz matrisinin tersinin bulunması gereklidir.                                                       |\n",
    "| Tableau Simpleks       | Simpleks tablosu kullanarak adımları gösteren bir algoritmadır. Simpleks tablosu üzerinde pivotlama işlemi yaparak çözümü optimize eder. Her iterasyonda tüm simpleks tablosunu günceller.         | - Adımları daha net ve görsel olarak takip etmeyi sağlar. Uygulaması kolaydır. Tablo üzerinde doğrudan işlem yapılır.                      | - Pivotlama işlemi hesaplama gereksinimlerini artırabilir. |\n"
   ]
  },
  {
   "cell_type": "markdown",
   "id": "846e3b67-5258-42a6-bf0d-2cc64a713746",
   "metadata": {},
   "source": [
    "## Barrier (interior point) Algorithm vs Simplex Algorithm "
   ]
  },
  {
   "cell_type": "markdown",
   "id": "35db62f7-2007-44f0-a052-c95920d63664",
   "metadata": {},
   "source": [
    "| Algoritma | Çalışma şekli | Avantajları | Dezavantajları |\n",
    "| --- | --- | --- | --- |\n",
    "| Barrier (interior point) | Kısıtları bir bariyer fonksiyonu ile kodlar. Uygun bölgenin içindeki noktalardan optimal çözüme ulaşır. | Kötü durumda polinomiyel karmaşıklığa sahiptir. Büyük problemler için daha hızlıdır. Matris işlemleri ile daha verimli çalışır. Paralelleştirilebilir. | Sıcak başlatma yapamaz. Kesme düzlemleri, dallanma ve sınırlama gibi yöntemlerle uyumsuzdur. Bariyer parametresinin ayarlanması zordur. |\n",
    "| Simplex | Uygun bölgenin köşe noktalarını ziyaret eder. En uygun olanını bulur. | Uygulaması kolaydır. Sıcak başlatma yapabilir. Kesme düzlemleri, dallanma ve sınırlama gibi yöntemlerle uyumludur. Küçük problemler için daha hızlıdır. | Kötü durumda kombinatoriyel karmaşıklığa sahiptir. Büyük problemler için daha yavaştır. Döngü oluşabilir. Dejenerasyon problemi yaratabilir. |\n"
   ]
  },
  {
   "cell_type": "markdown",
   "id": "bdb8b257-9df0-4820-b97c-8fd38f775175",
   "metadata": {},
   "source": [
    "**Sıcak başlatma**, bir optimizasyon problemi için başlangıç noktası olarak, benzer veya basitleştirilmiş bir optimizasyon problemi için elde edilmiş bir çözümü kullanma tekniğidir. Başlangıç noktasının optimuma yakın olması durumunda, iteratif yöntemlerin çalışma süresini azaltmaya yardımcı olur. Özellikle aynı yapıda ancak farklı parametrelerle veya kısıtlarla tanımlanmış bir dizi optimizasyon problemi çözülmesi gerektiğinde faydalıdır. Örneğin, doğrusal programlama problemlerinde, simplex algoritması sıcak başlatma yapabilirken, barrier algoritması yapamaz."
   ]
  },
  {
   "cell_type": "markdown",
   "id": "d50ea3ec-d79e-4ee5-82ba-b766e9276e68",
   "metadata": {},
   "source": [
    "## Degeneracy (Dejenerasyon) Nedir?\n",
    "Dejenerasyon, optimizasyon problemlerinde bir temel değişkenin sıfır değerine sahip olması durumudur. Optimal çözümün bulunmasını zorlaştırabilir veya imkansız hale getirebilir. Dejenerasyonu önlemek için bazı yöntemler vardır, örneğin antisiklik kural, çiftlik yöntemi veya pertürbasyon yöntemi gibi."
   ]
  },
  {
   "cell_type": "markdown",
   "id": "c8004f26-2727-4f74-9d13-81d17058d349",
   "metadata": {},
   "source": [
    "## Input Model Conditioning (pre-solving) Nedir?\n",
    "\n",
    "Optimizasyon problemlerinde girdi modelinin bazı basitleştirme veya iyileştirme işlemlerinden geçirilmesi işlemidir. Optimizasyon algoritmasının performansını ve yakınsamasını artırmak için kullanılır. Input model conditioning yöntemleri arasında şunlar sayılabilir:\n",
    "\n",
    "+ **Model ölçeklendirme:** Bu yöntem, modelin değişkenlerini veya kısıtlarını belirli bir aralığa veya ölçeğe getirmek için kullanılır. Model ölçeklendirme, sayısal kararlılığı ve hassasiyeti artırmaya yardımcı olur.\n",
    "+ **Model sadeleştirme:** Bu yöntem, modelin gereksiz veya önemsiz değişkenlerini veya kısıtlarını çıkarmak için kullanılır. Model sadeleştirme, hesaplama maliyetini ve karmaşıklığını azaltmaya yardımcı olur.\n",
    "+ **Model dönüştürme:** Bu yöntem, modelin daha uygun veya daha kolay çözülebilen bir forma getirilmesi için kullanılır. Model dönüştürme, optimizasyon algoritmasının etkinliğini ve yakınsama hızını artırmaya yardımcı olur."
   ]
  },
  {
   "cell_type": "markdown",
   "id": "daf68663-b0b6-43a9-bff4-08fbe769db77",
   "metadata": {},
   "source": [
    "![pre_gorsel](Resimler/pre_solver.jpg)"
   ]
  },
  {
   "cell_type": "markdown",
   "id": "4f1a0a40-6b3b-4ab4-8f71-25700348cc2b",
   "metadata": {},
   "source": [
    "Son olarak bilgisayarların gelişimi yüksek hacimli LP problemlerininin çözülebilmesine olanak sağlamıştır."
   ]
  },
  {
   "cell_type": "markdown",
   "id": "a59fd34b-c212-409c-8b7f-59fd24efc409",
   "metadata": {},
   "source": [
    "<hr style='border: 0.5px solid gray; margin: 25px 0;'>"
   ]
  },
  {
   "cell_type": "markdown",
   "id": "ab9623c5-782b-4f7b-91fa-f4593129c57a",
   "metadata": {},
   "source": [
    "### Kullanılan Kaynaklar\n",
    "[Kaynak1](https://ocw.mit.edu/courses/15-053-optimization-methods-in-management-science-spring-2013/1542510abf20fa6145dfb0b1551be6c2_MIT15_053S13_tut07.pdf), [Kaynak2](https://en.wikipedia.org/wiki/Simplex_algorithm), [Kaynak3](https://en.wikipedia.org/wiki/Bland%27s_rule),[Kaynak4](https://en.wikipedia.org/wiki/Interior-point_method), [Kaynak5](https://en.wikipedia.org/wiki/Revised_simplex_method)"
   ]
  }
 ],
 "metadata": {
  "kernelspec": {
   "display_name": "Python 3 (ipykernel)",
   "language": "python",
   "name": "python3"
  },
  "language_info": {
   "codemirror_mode": {
    "name": "ipython",
    "version": 3
   },
   "file_extension": ".py",
   "mimetype": "text/x-python",
   "name": "python",
   "nbconvert_exporter": "python",
   "pygments_lexer": "ipython3",
   "version": "3.9.16"
  }
 },
 "nbformat": 4,
 "nbformat_minor": 5
}
