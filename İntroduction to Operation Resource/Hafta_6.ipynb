{
 "cells": [
  {
   "cell_type": "markdown",
   "id": "f4b2a48f-aef3-4043-92e1-87c1932e1ae9",
   "metadata": {},
   "source": [
    "# Introduction to Operations Research 6. Hafta"
   ]
  },
  {
   "cell_type": "markdown",
   "id": "10eda184-81d8-40d8-98de-0559250bc775",
   "metadata": {},
   "source": [
    "# Büyük M Metodu \n",
    "\n",
    "Model kısıtlarında $=$ veya $≥$ olması durumunda yapay başlangıç çözümün bulunması için büyük M metodu ya da iki aşamalı yöntemden birisinin kullanılması gerekir. Büyük M metodu, model kısıtlarına yapay değişkenler ekleyerek ve amaç fonksiyonuna çok büyük bir sayı olan M katsayısı ile çarparak çalışır. Bu yöntemin temel amacı, mümkün olduğu kadar ilk evrelerde M katsayılı yapay değişkenleri çözümden çıkarmaktır."
   ]
  },
  {
   "cell_type": "markdown",
   "id": "3b2efde3-9aa5-47ea-85a2-f1e5e0b2d335",
   "metadata": {},
   "source": [
    "## Yapay Değişken Nedir?\n",
    "\n",
    "Yapay değişken, doğrusal programlama modelinde eşitlik veya büyük eşit kısıtlamaları için kullanılan bir değişken türüdür. \n",
    "\n",
    "Yapay değişkenler, ilk temel uygulanabilir çözümü elde etmek için modele eklenir ve amaç fonksiyonunda çok büyük bir sayı olan M katsayısı ile çarpılır. Yapay değişkenlerin fiziksel bir anlamı yoktur ve simpleks algoritmasının sonraki yinelemelerinde sıfır değerini alarak temel dışına çıkmaları beklenir."
   ]
  },
  {
   "cell_type": "markdown",
   "id": "cb76bef6-fc0d-4414-8cae-64635634a873",
   "metadata": {},
   "source": [
    "## Artifical Starting Solution nedir?\n",
    "\n",
    "Artifical starting solution, doğrusal programlama problemlerinde eşitlik veya büyük eşitlik kısıtlamaları olan modellerde başlangıç çözümü bulmak için kullanılan bir yöntemdir. \n",
    "\n",
    "Bu yöntemde, yapay değişkenler adı verilen ek değişkenler kısıtlamalara eklenir ve çok büyük bir ceza katsayısı ile amaç fonksiyonuna dahil edilir. Bu şekilde, yapay değişkenlerin optimal çözümde sıfır olması sağlanır. Artifical starting solution’un iki yakın yöntemi vardır: **M-metodu** ve **iki aşamalı metod**. M-metodu, yapay değişkenlerin katsayılarını M olarak adlandırılan çok büyük bir sayı ile belirler. İki aşamalı metod ise yapay değişkenleri ortadan kaldırmak için iki ayrı simpleks tablosu kullanır"
   ]
  },
  {
   "cell_type": "markdown",
   "id": "ffc2caee-a9a0-4bcc-82bd-9e882b8162db",
   "metadata": {},
   "source": [
    "![mresim](Resimler/Mmetod.jpg)"
   ]
  },
  {
   "cell_type": "markdown",
   "id": "75937ccd-bc9f-4ec4-a275-c5e51bd48193",
   "metadata": {},
   "source": [
    "<hr style='border: 0.5px solid gray; margin: 25px 0;'>"
   ]
  },
  {
   "cell_type": "markdown",
   "id": "f891a7b2-fe6d-4dfd-a562-19d2ab93bb94",
   "metadata": {},
   "source": [
    "**Örnek:**\n",
    "\n",
    "Minimize $z = 4x_1 + x_2$ \n",
    "\n",
    "$3x_1 + x_2 = 3$ \n",
    "\n",
    "$4x_1 + 3x_2 ≥ 6$ \n",
    "\n",
    "$x_1 + 2x_2 ≤ 4$\n",
    "\n",
    "$X_1,X_2 ≥ 0 $"
   ]
  },
  {
   "cell_type": "markdown",
   "id": "ef12b641-6a47-4ae4-bcd1-0b31606fb32a",
   "metadata": {},
   "source": [
    "## Python İle Çözüm"
   ]
  },
  {
   "cell_type": "code",
   "execution_count": 1,
   "id": "0eaed7ad-5cdc-4b55-ab0a-d4206e184a79",
   "metadata": {},
   "outputs": [
    {
     "name": "stdout",
     "output_type": "stream",
     "text": [
      "Eniyi Çözüm:  3.6000000000000005\n",
      "Eniyi Değişkenler:  [0.6 1.2]\n"
     ]
    }
   ],
   "source": [
    "from scipy.optimize import linprog\n",
    "import warnings \n",
    "warnings.filterwarnings(\"ignore\")\n",
    "\n",
    "# Amaç fonksiyonu katsayıları\n",
    "obj = [4, 1]\n",
    "\n",
    "# Eşitlik kısıtı katsayıları\n",
    "lhs_eq = [[3, 1],\n",
    "          [4, 3]]\n",
    "rhs_eq = [3, 6]\n",
    "\n",
    "# Eşitsizlik kısıtı katsayıları\n",
    "lhs_ineq = [[1, 2]]\n",
    "rhs_ineq = [4]\n",
    "\n",
    "# Değişkenlerin sınırları\n",
    "bnd = [(0, float(\"inf\")), (0, float(\"inf\"))]\n",
    "\n",
    "# Linprog fonksiyonu kullanarak çözüm\n",
    "opt = linprog(c=obj, A_eq=lhs_eq, b_eq=rhs_eq, A_ub=lhs_ineq, b_ub=rhs_ineq, bounds=bnd, method=\"simplex\")\n",
    "print(\"Eniyi Çözüm: \", opt.fun)\n",
    "print(\"Eniyi Değişkenler: \", opt.x)"
   ]
  },
  {
   "cell_type": "markdown",
   "id": "23f546dd-2b97-4261-ad6a-dfcc4d8a7587",
   "metadata": {},
   "source": [
    "<hr style='border: 0.5px solid gray; margin: 25px 0;'>"
   ]
  },
  {
   "attachments": {},
   "cell_type": "markdown",
   "id": "ea93c3b6",
   "metadata": {},
   "source": [
    "## El İle Çözüm Örnek Soru"
   ]
  },
  {
   "attachments": {},
   "cell_type": "markdown",
   "id": "07aa00b0-e19a-44e6-8561-c7116cc70bf5",
   "metadata": {},
   "source": [
    "> ## ![El ile çözüm örneği](Resimler/Msoru.png)\n",
    "\n",
    "> ## [Konu Anlatım Videosu](https://www.youtube.com/watch?v=E-x-oQYnqzo&list=PLNVCj-z_HS4YuZA_enHEeFwJYPpnF06OE&index=11)"
   ]
  },
  {
   "cell_type": "markdown",
   "id": "b4d46c83-eb5f-489a-8cbf-c85e76d2b068",
   "metadata": {},
   "source": [
    "<hr style='border: 0.5px solid gray; margin: 25px 0;'>"
   ]
  },
  {
   "attachments": {},
   "cell_type": "markdown",
   "id": "627451db-2476-47eb-aada-4669b3a8ce60",
   "metadata": {},
   "source": [
    "### Kullanılan Kaynaklar\n",
    "[Kaynak1](https://tr.wikipedia.org/wiki/B%C3%BCy%C3%BCk_M_y%C3%B6ntemi), [Kaynak2](https://web.itu.edu.tr/~cebife/Buyuk_M(6).pdf), [Kaynak3](https://www.youtube.com/watch?v=E-x-oQYnqzo&list=PLNVCj-z_HS4YuZA_enHEeFwJYPpnF06OE&index=11),[Kaynak4](https://drive.google.com/uc?export=download&id=1X2KDny7DA1YD1LsVYpwPepktl8Ohcsuu)"
   ]
  }
 ],
 "metadata": {
  "kernelspec": {
   "display_name": "Python 3 (ipykernel)",
   "language": "python",
   "name": "python3"
  },
  "language_info": {
   "codemirror_mode": {
    "name": "ipython",
    "version": 3
   },
   "file_extension": ".py",
   "mimetype": "text/x-python",
   "name": "python",
   "nbconvert_exporter": "python",
   "pygments_lexer": "ipython3",
   "version": "3.9.16"
  }
 },
 "nbformat": 4,
 "nbformat_minor": 5
}
