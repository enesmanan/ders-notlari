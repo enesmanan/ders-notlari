{
 "cells": [
  {
   "cell_type": "markdown",
   "id": "635736ba-a04b-4d33-b85e-d4b7568bc5d0",
   "metadata": {},
   "source": [
    "# Introduction to Operations Research 2. Hafta"
   ]
  },
  {
   "cell_type": "markdown",
   "id": "c63f8955-cf0f-457d-a0f0-b4c5dde6f7bf",
   "metadata": {},
   "source": [
    "## Yöneylem Araştırmasında Modelleme Yaklaşımı\n",
    "Bir OR çalışmasının genellikle (örtüşen) aşamalarını özetlemenin bir yolu şöyledir: \n",
    "1. <b>Problem tanımı:</b> Karşılaşılan sorun tanımlanır ve analiz edilir. Karar verici, problemi çözmek için hedefleri, kısıtlamaları, kaynakları ve diğer faktörleri belirler.\n",
    "2. <b>Model oluşturma:</b> Karar vericinin belirlediği hedefler ve kısıtlamalar dikkate alınarak bir matematiksel model oluşturulur. Bu model, sorunun özünü yansıtan denklemler, kısıtlamalar ve değişkenlerden oluşur. \n",
    "3. <b>Çözüm:</b> Problemin çözümlerini modelden türetmek için bilgisayar tabanlı bir prosedür geliştirilir. Çözüm, optimal çözümün yanı sıra alternatif çözümler de sağlayabilir. \n",
    "4. <b>Test:</b> Modelin test edilmesi ve gerektiğinde iyileştirilmesi. \n",
    "5. <b>Hazırlık:</b> Yönetim tarafından belirtilen şekilde modelin sürekli uygulanması için hazırlık yapılması. \n",
    "6. <b>Uygulama:</b> Modelin uygulanışı."
   ]
  },
  {
   "cell_type": "markdown",
   "id": "fe56ab37-36fe-4dc5-83f7-21408967a041",
   "metadata": {},
   "source": [
    "### Örnek Uygulama\n",
    "\n",
    "San Francisco Polis Departmanı için yapılan bir Yöneylem Araştırması, polis devriyelerinin en uygun şekilde planlanması ve dağılımı için bilgisayar tabanlı bir sistem geliştirilmesi sonucuna ulaşıldı. Yeni kurulan sistem, yıllık 11 milyon dolar tasarruf sağladı, yıllık 3 milyon dolar trafik cezası gelirlerinde artışa neden oldu ve yanıt sürelerinde %20’lik bir iyileştirme sağladı. Bu çalışma için uygun hedefleri değerlendirirken, üç temel hedef belirlendi:\n",
    "1. Vatandaş güvenliğini yüksek seviyede tutmak.\n",
    "2. Polis motivasyonunu yüksek seviyede tutmak.\n",
    "3. Operasyon maliyetini minimize etmek.\n",
    "\n",
    "Birinci hedefi karşılamak için, polis departmanı ve şehir yönetimi birlikte bir koruma seviyesi belirlemişler ve matematiksel model bu koruma seviyesinin sağlanması gerekliliğini ortaya koymuştur. Benzer şekilde, ikinci hedef için çalışanlar arasında iş yükünün adil şekilde dengelenmesi gerekliliği de modele dahil edilmiştir. Son olarak, üçüncü hedef, ilk iki hedefi karşılamak için gerekli olan personel sayısının en aza indirilmesi uzun vadeli hedefi benimsenerek dahil edilmiştir."
   ]
  },
  {
   "cell_type": "markdown",
   "id": "c559d57b-2b5c-49f7-a7f7-484af8adb474",
   "metadata": {},
   "source": [
    "## Model Nedir?\n",
    "Bir sistemin değişen koşullar altındaki davranışlarını incelemek, kontrol etmek ve \n",
    "geleceği hakkında varsayımlarda bulunmak amacı ile sistemin elemanları arasındaki \n",
    "bağıntıları kelimeler ya da matematik formüllerle belirleyen ifadeler topluluğuna “model” adı\n",
    "verilir. "
   ]
  },
  {
   "cell_type": "markdown",
   "id": "d24af283-77e6-4b31-98e5-f102bab02417",
   "metadata": {},
   "source": [
    "## Matematiksel Model Nedir?\n",
    "Matematiksel modelleme, bir sistemin matematiksel kavramlar ve dil kullanılarak tanımlanmasıdır. Bir matematiksel model, bir fenomenin veya iki veya daha fazla değişken arasındaki ilişkinin matematiksel denklemler, fonksiyonlar veya formüller aracılığıyla basitleştirilmiş bir temsilidir."
   ]
  },
  {
   "cell_type": "markdown",
   "id": "c87dbcd0-cef0-4d05-b546-bc3f1cda7276",
   "metadata": {},
   "source": [
    "## Karar Modeli Nedir\n",
    "Sistemin yöneticisinin kontrolü altında olup, karar değişkeni olarak \n",
    "isimlendirilen değişkenlere, hangi değerlerin verilmesi gerektiğini belirlemek amacıyla \n",
    "kullanılan matematiksel modellere “karar modeli” adı verilir. "
   ]
  },
  {
   "cell_type": "markdown",
   "id": "c39059d8-137e-40fb-9ff5-b6c5e12c4b85",
   "metadata": {},
   "source": [
    "## Yöneylem Araştırmasında Matematiksel Bir Modeli Formüle Etmek\n",
    "Gerçek hayattaki bir problemin matematiksel ifadesini oluşturmaktır. Bu süreç, problemi çözmek için gerekli olan matematiksel denklemleri, değişkenleri ve kısıtlamaları tanımlamak ve bu öğeleri bir araya getirerek bir modele dönüştürmek ile gerçekleştirilir.\n",
    "\n",
    "Matematiksel bir modelin formülasyonu, problemi anlamak ve çözümleme için bir çerçeve sağlamak için önemlidir. Bu aşamada, problemi etkileyen faktörler ve bu faktörler arasındaki ilişkiler açık bir şekilde tanımlanır. Daha sonra, değişkenler, amaç fonksiyonu ve kısıtlamalar tanımlanır.\n",
    "\n",
    "Bu süreç, modele uygulanacak çözümleme tekniklerinin seçimini de etkiler. Model doğru şekilde formüle edildiğinde, uygun bir optimizasyon algoritması kullanılarak problemin optimal çözümü elde edilebilir."
   ]
  },
  {
   "cell_type": "markdown",
   "id": "13b6d319-b95a-4e01-bd1e-fc8b1af2e0be",
   "metadata": {},
   "source": [
    "## Matematiksel Bir Modelin Ana Unsurları\n",
    "1. <b>Karar Değişkenleri:</b> Karar değişkenleri, matematiksel bir modelde alınması gereken kararları ifade eden niceliklerdir. Örneğin, bir üretim şirketi için, üretilecek her bir ürün türü için ne kadar malzeme kullanılacağı, ne kadar işçi istihdam edileceği veya ürünlerin ne kadar stokta tutulacağı gibi kararlar alınması gerekebilir. Bu kararlar, matematiksel bir modelde karar değişkenleri olarak ifade edilir. Genellikle harflerle gösterilir x1, x2, x3 gibi. Bu değişkenlerin değerleri, modelin çözümü sırasında belirlenir.\n",
    "\n",
    "2. <b>Amaç Fonksiyonu:</b> Karar değişkenlerinden ve bu değişkenlerin parametrelerinden oluşan en iyi çözümün (maksimum ya da minimum) elde edilmesini sağlayan doğrusal bir fonksiyondur. Modelin ana hedefini belirtir Örneğin, bir üretim şirketinin karlılığını artırmak için üretim planlaması yapması gerekiyorsa, üretim planlaması için belirli karar değişkenleri belirlenir. Bu karar değişkenlerinin değerleri, belirli bir amaç fonksiyonu aracılığıyla ölçülür. Bu amaç fonksiyonu, örneğin toplam kar ya da toplam üretim maliyetleri gibi belirli bir ölçütü ifade eder ve belirli bir formül aracılığıyla hesaplanır.\n",
    "\n",
    "3. <b>Kısıtlamalar:</b>  Bir matematiksel modeldeki karar değişkenleri ya da karar değişkenleri ile parametreler arasındaki zorunlu ilişkilerin her birine “kısıt” adı verilir. Kullanılan faktör ya da hammadde miktarlarıdır. Kısıtlamalar genellikle matematiksel eşitlikler veya eşitsizlikler şeklinde ifade edilir. Örneğin, bir üretim planlama problemi için, bir fabrikanın belirli bir dönemde üretim kapasitesi sınırlı olabilir ve üretilen toplam ürün sayısı bu kapasiteyi aşmamalıdır. Bu durumda, üretim kapasitesi kısıtlaması matematiksel olarak $x1 + x2 + ... + xn ≤ C$ şeklinde ifade edilebilir, burada $x1, x2, ..., xn$ sırasıyla üretilen her ürünün miktarını, $C$ ise fabrikanın üretim kapasitesini ifade eder.\n",
    "\n",
    "4. <b>Parametreler:</b> Parametreler, bir matematiksel modelde kullanılan sabit değerlerdir. Bu sabit değerler, modelin karar değişkenleri ve kısıtlamaları ile birlikte kullanılarak amaç fonksiyonu formüle edilir. Parametreler, modeldeki karar değişkenlerinin kısıtlamaları ve amaç fonksiyonunun şekillendirilmesinde kullanılır. Parametreler, genellikle model oluşturma aşamasında sabit olarak kabul edilir ve çözüme yönelik bir adım sırasında değiştirilmezler. Ancak bazı durumlarda, parametrelerin değerleri belirli bir dönemde veya belirli bir iş koşulunda değişebilir ve modelin güncellenmesi gerekebilir."
   ]
  },
  {
   "cell_type": "markdown",
   "id": "bdf4bbd0-e45f-468b-8720-ce06f87c1964",
   "metadata": {},
   "source": [
    "## Duyarlılık (Postoptimality) Analizi Nedir?\n",
    "Matematiksel bir modelin çözümünün, modelin içindeki parametrelerin değerlerinin değiştirilmesine ne kadar duyarlı olduğunu inceleyen bir analiz yöntemidir. Bu analiz yöntemi, karar vericilere, modelin sonuçlarına ne kadar güvenebileceklerine dair bir fikir verir.\n",
    "\n",
    "Duyarlılık analizi, bir modelin çözümü üzerindeki parametrelerin etkisini belirlemek için kullanılır. Örneğin, bir üretim planlama problemi için, hammaddelerin maliyeti, üretim kapasitesi ve talep gibi parametreler, modelin sonuçlarını etkileyebilir. Duyarlılık analizi, bu parametrelerin değerlerinin ne kadar değişebileceğini ve sonuçların ne kadar değişeceğini belirleyebilir.\n",
    "\n",
    "Bu analiz yöntemi, ayrıca, bir modelin optimal çözümünün bir kısıtlama veya parametre değerindeki bir değişiklik nedeniyle değişip değişmediğini belirlemek için de kullanılabilir. Bu tür analizler, karar vericilerin, kararlarının güvenilirliğini artırmalarına yardımcı olur ve beklenmedik durumlara karşı hazırlıklı olmalarına yardımcı olur."
   ]
  },
  {
   "cell_type": "markdown",
   "id": "a19389be-3b62-4911-9afe-943bd492b802",
   "metadata": {},
   "source": [
    "## Doğrusal Programlama Modeli Nedir?\n",
    "\n",
    "Doğrusal programlama modeli, birçok işletme ve endüstriyel problemin çözümünde kullanılan bir matematiksel modeldir. Bu model, bir amaç fonksiyonu ve belirli kısıtlamalar altında optimize edilmek istenen karar değişkenlerinden oluşur.\n",
    "\n",
    "Doğrusal programlama modelinde, amaç fonksiyonu ve kısıtlamalar tüm karar değişkenleri ile doğrusal ilişkiler içinde ifade edilir. Amaç fonksiyonu, maksimize edilmek veya minimize edilmek istenen bir hedefi temsil ederken, kısıtlamalar, problemi gerçekçi kılmak için uygulanması gereken sınırlamaları ifade eder."
   ]
  },
  {
   "cell_type": "markdown",
   "id": "244cd510-4502-4f43-b87b-a9ffc777e53e",
   "metadata": {},
   "source": [
    "Örneğin, bir şirketin üretim maliyetlerini azaltmak için kullanılabilir. Şirket, üretim sürecinde kullanılan iki farklı malzemeden ürünler üretmektedir. Malzeme A, 5 TL’ye mal olur ve her birim ürün için 2 birim gereklidir. Malzeme B, 7 TL’ye mal olur ve her birim ürün için 3 birim gereklidir. Şirketin, 1000 TL’lik bir bütçesi var ve en az 200 birim ürün üretmek istiyor. Bu durumda, şirketin ne kadar malzeme A ve B kullanması gerektiğini belirlemek için bir doğrusal programlama modeli oluşturabiliriz. Bu model, aşağıdaki gibi olabilir:\n",
    "\n",
    "```\n",
    "Minimize 5A + 7B\n",
    "Subject to:\n",
    "2A + 3B >= 200\n",
    "5A + 7B <= 1000\n",
    "A, B >= 0\n",
    "\n",
    "```\n",
    "\n",
    "Bu modelde, A ve B, sırasıyla malzeme A ve B’nin miktarını temsil eder. İlk kısıt denklemi, şirketin en az 200 birim ürün üretmek istediğini belirtir. İkinci kısıt denklemi, şirketin 1000 TL’lik bir bütçesi olduğunu ve bu bütçe dahilinde kalmak zorunda olduğunu belirtir. A ve B’nin sıfırdan büyük olması gerektiği, üretim sürecinde hiçbir malzemenin kullanılmaması gerektiği anlamına gelir. Bu modeli çözmek için, bir doğrusal programlama yazılımı kullanabilirsiniz. Bu yazılım, A ve B’nin değerlerini belirleyerek, şirketin üretim maliyetlerini en aza indirecek bir çözüm sağlayacaktır.\n",
    "\n",
    "Bu modelin çözümü, A = 50 ve B = 100 olacaktır. Bu, şirketin 50 birim malzeme A ve 100 birim malzeme B kullanarak en az 200 birim ürün üretebileceği ve 1000 TL’lik bütçesini aşmayacağı anlamına gelir."
   ]
  },
  {
   "cell_type": "markdown",
   "id": "2c0c7e05-533d-4732-9957-18f4b32b36e4",
   "metadata": {},
   "source": [
    "## Model Doğrulama Nedir?\n",
    "Yöneylem araştırması ile büyük bir matematiksel model geliştirmek, bilgisayar programı geliştirmeye benzer. İlk versiyonlar hata yönünden zengin olabilir, bu hatalar testler ile tamamen belirlenip düzeltilmelidir. Modelin doğruluğunu artırmak için model doğrulama adımları atılmalıdır. Bu adımlar modelin özelliklerine ve sorunun doğasına göre farklılaşır. Genel sürece baktığımızda, hatanın bulunması için modelin tüm detayları yeniden gözden geçirilir ve hatalar giderilir. Ayrıca modelin performansının geçmiş verilerle karşılaştırılması, modelin gelecekteki performansının öngörülmesini sağlar. \n",
    "\n",
    "Bazı yaygın model doğrulama süreçleri şunlardır:\n",
    "\n",
    "+ Modelin mantıksal tutarlılığını kontrol etmek. Modelin matematiksel formülasyonunun doğru olduğundan ve modelin kısıtlarının ve amacının problemi doğru bir şekilde tanımladığından emin olmak gerekir.\n",
    "+ Modelin duyarlılık analizini yapmak. Modelin değişkenlerinin ve parametrelerinin değerlerindeki değişikliklerin modelin sonuçlarına nasıl etki ettiğini incelemek gerekir. Böylece modelin karar verici için önemli olan faktörlere duyarlı olduğu görülebilir.\n",
    "+ Modelin geçmiş verilerle karşılaştırılması. Modelin performansının gerçek dünya verileriyle uyumlu olup olmadığını görmek için modelin geçmiş verilerle çözülmesi ve elde edilen sonuçların gerçek sonuçlarla karşılaştırılması gerekir. Böylece modelin geçerliliği test edilebilir.\n",
    "+ Modelin gelecek tahminlerinin değerlendirilmesi. Modelin gelecekteki durumları öngörebilmesi için modelin farklı senaryolar altında çözülmesi ve elde edilen sonuçların mantıklı ve tutarlı olup olmadığını görmek gerekir. Böylece modelin güvenilirliği test edilebilir.\n",
    "+ Model doğrulama sürecinin belgelenmesi. Model doğrulama sürecinde yapılan tüm adımların, kullanılan verilerin, elde edilen sonuçların ve varılan çıkarımların ayrıntılı olarak kaydedilmesi gerekir. Böylece modelin sonraki kullanıcılar için anlaşılır ve tekrarlanabilir olması sağlanabilir."
   ]
  },
  {
   "cell_type": "markdown",
   "id": "050721ff-f1d2-453f-814f-77a830444e4c",
   "metadata": {},
   "source": [
    "## Retrospektif Test Nedir?\n",
    "Retrospektif test, bir araştırma veya değerlendirme sürecinde geçmişteki verilerin veya olayların kullanılmasıdır. Mevcut durumu veya sorunu anlamak için geçmişteki nedenleri veya etkileri ortaya çıkarmayı amaçlar. \n",
    "\n",
    "## Yöneylem Araştırmasında Retrospektif Test\n",
    "Bir yöneylem araştırması modelinin geçmişteki verilerle çözülerek modelin doğruluğunun ve geçerliliğinin test edilmesidir. Örneğin:\n",
    "\n",
    "+ Bir üretim planlama problemi için bir doğrusal programlama modeli geliştirilmiş olsun. Modelin retrospektif testi için model, geçmişteki üretim verileriyle çözülür ve elde edilen sonuçlar gerçek üretim sonuçlarıyla karşılaştırılır. Böylece modelin üretim planlamasında ne kadar etkili olduğu görülebilir.\n",
    "+ Bir hastane kuyruk problemi için bir kuyruk teorisi modeli geliştirilmiş olsun. Modelin retrospektif testi için model, geçmişteki hasta giriş ve çıkış verileriyle çözülür ve elde edilen sonuçlar gerçek kuyruk durumuyla karşılaştırılır. Böylece modelin hasta bekleme sürelerini azaltmada ne kadar başarılı olduğu görülebilir."
   ]
  },
  {
   "cell_type": "markdown",
   "id": "a88c2cfc-4135-44af-9fb9-3ad7fc64d323",
   "metadata": {},
   "source": [
    "#### Kullanılan Kaynaklar\n",
    "\n",
    "[Kaynak1](https://www.youtube.com/watch?v=yfyPqIgWe4g&list=PLNVCj-z_HS4YuZA_enHEeFwJYPpnF06OE&index=2), [Kaynak2](https://tr.wikipedia.org/wiki/Matematiksel_model), [Kaynak3](https://tr.economy-pedia.com/11030332-mathematical-model), [Kaynak4](https://web.itu.edu.tr/~cebife/DP_model(2).pdf#:~:text=Karar%20Modeli%3A%20Sistemin%20y%C3%B6neticisinin%20kontrol%C3%BC%20alt%C4%B1nda%20olup%2C%20karar,amac%C4%B1yla%20kullan%C4%B1lan%20matematiksel%20modellere%20%E2%80%9Ckarar%20modeli%E2%80%9D%20ad%C4%B1%20verilir.)"
   ]
  }
 ],
 "metadata": {
  "kernelspec": {
   "display_name": "Python 3 (ipykernel)",
   "language": "python",
   "name": "python3"
  },
  "language_info": {
   "codemirror_mode": {
    "name": "ipython",
    "version": 3
   },
   "file_extension": ".py",
   "mimetype": "text/x-python",
   "name": "python",
   "nbconvert_exporter": "python",
   "pygments_lexer": "ipython3",
   "version": "3.9.16"
  }
 },
 "nbformat": 4,
 "nbformat_minor": 5
}
