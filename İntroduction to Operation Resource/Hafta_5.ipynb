{
 "cells": [
  {
   "cell_type": "markdown",
   "id": "3030591d-f13a-4561-970d-1302a1867b8a",
   "metadata": {},
   "source": [
    "# Introduction to Operations Research 5. Hafta"
   ]
  },
  {
   "cell_type": "markdown",
   "id": "09f44740-955b-4de6-9db4-203d4efed0bf",
   "metadata": {},
   "source": [
    "# Simplex Algoritması"
   ]
  },
  {
   "cell_type": "markdown",
   "id": "01e24b2f-1edb-4b84-a4b3-9218baaa1e9c",
   "metadata": {},
   "source": [
    "## Simplex Çözüm Adımları\n",
    "\n",
    "<b>1. Adım:</b> Verilen problemi standart (kanonik) formda yaz.\n",
    "\n",
    "<b>2. Adım:</b> Başlangıçta olurlu bir çözümle başla.\n",
    "\n",
    "<b>3. Adım:</b> Çözüm noktasını yakındaki bir köşe nokta ile değiştir.\n",
    "\n",
    "<b>4. Adım:</b> En iyi çözüm bulunana kadar ilk 3 adımı tekrar et."
   ]
  },
  {
   "cell_type": "markdown",
   "id": "95cc0c49-671d-4bfb-8c93-c0475ea619b5",
   "metadata": {},
   "source": [
    "<b>Örnek:</b> Aşağıdaki tanımlı doğrusal programlama modelinin simplex algoritması ile optimal çözümü bulunuz.\n",
    "\n",
    "$P: \\max $ $Z=3X_1+2X_2$\n",
    "\n",
    "$X_1+3X_2\\leq 15$\n",
    "\n",
    "$X_1+X_2\\leq 7$\n",
    "\n",
    "$2X_1+X_2\\leq 12$\n",
    "\n",
    "$X_1\\geq 0$ , $X_2\\geq 0$"
   ]
  },
  {
   "cell_type": "markdown",
   "id": "68e39bea-7448-4beb-92b9-41db47336597",
   "metadata": {},
   "source": [
    "<b>Çözüm:</b> İlk olarak problemi standart hale getirelim.\n",
    "\n",
    "$max Z = 3X_1+2X_2+0S_1+0S_2+0S_3$\n",
    "\n",
    "$X_1+3X_2+S_1= 15$\n",
    "\n",
    "$X_1+X_2+S_2= 7$\n",
    "\n",
    "$2X_1+X_2+S_1= 12$\n",
    "\n",
    "$X_1,X_2,S_1,S_2,S_3\\geq 0$ "
   ]
  },
  {
   "cell_type": "markdown",
   "id": "0e6de29a-8bc1-4943-a257-b86d26f00025",
   "metadata": {},
   "source": [
    "***Başlangıç Çözümü*** 0 noktasından başla, iyileştirmeye çalış\n",
    "<div style=\"float: left;\">\n",
    "<table>\n",
    "  <tr>\n",
    "    <th>Temel Dışı Değişkenler</th>\n",
    "    <th>Temel Değişkenler</th>\n",
    "    <th>Z değeri</th>\n",
    "  </tr>\n",
    "  <tr>\n",
    "    <td>X<sub>1</sub>=0</td>\n",
    "    <td>S<sub>1</sub>=15</td>\n",
    "    <td>Z=0</td>\n",
    "  </tr>\n",
    "  <tr>\n",
    "    <td>X<sub>2</sub>=0</td>\n",
    "    <td>S<sub>2</sub>=7</td>\n",
    "    <td></td>\n",
    "  </tr>\n",
    "  <tr>\n",
    "    <td></td>\n",
    "    <td>S<sub>3</sub>=12</td>\n",
    "    <td></td>\n",
    "  </tr>\n",
    "</table>"
   ]
  },
  {
   "cell_type": "markdown",
   "id": "a7d84206-3300-44fa-a211-b25afb782c3e",
   "metadata": {},
   "source": [
    "***Tablo Oluştur: Başlangıç Tablomuz*** \n",
    "<div style=\"float: left;\">\n",
    "<table>\n",
    "  <tr>\n",
    "    <th>Temel</th>\n",
    "    <th>Z</th>\n",
    "    <th>X<sub>1</sub></th>\n",
    "    <th>X<sub>2</sub></th>\n",
    "    <th>S<sub>1</sub></th>\n",
    "    <th>S<sub>2</sub></th>\n",
    "    <th>S<sub>3</sub></th>\n",
    "    <th>Çözüm</th>\n",
    "  </tr>\n",
    "  <tr>\n",
    "    <td>Z</td>\n",
    "    <td>1</td>\n",
    "    <td>-3</td>\n",
    "    <td>-2</td>\n",
    "    <td>0</td>\n",
    "    <td>0</td>\n",
    "    <td>0</td>\n",
    "    <td>0</td>\n",
    "  </tr>\n",
    "  <tr>\n",
    "    <td>S<sub>1</sub></td>\n",
    "    <td>0</td>\n",
    "    <td>1</td>\n",
    "    <td>3</td>\n",
    "    <td>1</td>\n",
    "    <td>0</td>\n",
    "    <td>0</td>\n",
    "    <td>15</td>\n",
    "  </tr>\n",
    "  <tr>\n",
    "    <td>S<sub>2</sub></td>\n",
    "    <td>0</td>\n",
    "    <td>1</td>\n",
    "    <td>1</td>\n",
    "    <td>0</td>\n",
    "    <td>1</td>\n",
    "    <td>0</td>\n",
    "    <td>7</td>\n",
    "  </tr>\n",
    "  <tr>\n",
    "    <td>S<sub>3</sub></td>\n",
    "    <td>0</td>\n",
    "    <td>2</td>\n",
    "    <td>1</td>\n",
    "    <td>0</td>\n",
    "    <td>0</td>\n",
    "    <td>1</td>\n",
    "    <td>12</td>\n",
    "  </tr>\n",
    "</table>"
   ]
  },
  {
   "cell_type": "markdown",
   "id": "3991b0a8-92a9-403e-a993-0fd55f0be456",
   "metadata": {},
   "source": [
    "Temel değişkenlerin altında birim matris oluşmalı.\n",
    "\n",
    "Başlangıç tablosunda optimallik şartı aranır. $X_1$ ve $X_2$ değişkenlerinin katsayıları sıfırdan küçük olduğu için optimal değildir. ($X_1,X_2<0$)"
   ]
  },
  {
   "cell_type": "markdown",
   "id": "b14a2df2-e611-479c-b37e-870bb9261732",
   "metadata": {},
   "source": [
    "***En küçük negatif değeri belirle*** $X_1 ve X_2 icinde \\to -3$ "
   ]
  },
  {
   "cell_type": "markdown",
   "id": "b2c6813b-232a-46cf-8a28-381780bd3c4a",
   "metadata": {},
   "source": [
    "<div style=\"float: left;\">\n",
    "<table>\n",
    "  <tr>\n",
    "    <th>Temel</th>\n",
    "    <th>Z</th>\n",
    "    <th>X<sub>1</sub></th>\n",
    "    <th>X<sub>2</sub></th>\n",
    "    <th>S<sub>1</sub></th>\n",
    "    <th>S<sub>2</sub></th>\n",
    "    <th>S<sub>3</sub></th>\n",
    "    <th>Çözüm</th>\n",
    "  </tr>\n",
    "  <tr>\n",
    "    <td>Z</td>\n",
    "    <td>1</td>\n",
    "    <td style=\"color: red;\">-3</td>\n",
    "    <td>-2</td>\n",
    "    <td>0</td>\n",
    "    <td>0</td>\n",
    "    <td>0</td>\n",
    "    <td>0</td>\n",
    "  </tr>\n",
    "  <tr>\n",
    "    <td>S<sub>1</sub></td>\n",
    "    <td>0</td>\n",
    "    <td style=\"color: red;\">1</td>\n",
    "    <td>3</td>\n",
    "    <td>1</td>\n",
    "    <td>0</td>\n",
    "    <td>0</td>\n",
    "    <td>15</td>\n",
    "  </tr>\n",
    "  <tr>\n",
    "    <td>S<sub>2</sub></td>\n",
    "    <td>0</td>\n",
    "    <td style=\"color: red;\">1</td>\n",
    "    <td>1</td>\n",
    "    <td>0</td>\n",
    "    <td>1</td>\n",
    "    <td>0</td>\n",
    "    <td>7</td>\n",
    "  </tr>\n",
    "  <tr>\n",
    "    <td>S<sub>3</sub></td>\n",
    "    <td>0</td>\n",
    "    <td style=\"color: red;\">2</td>\n",
    "    <td>1</td>\n",
    "    <td>0</td>\n",
    "    <td>0</td>\n",
    "    <td>1</td>\n",
    "    <td>12</td>\n",
    "  </tr>\n",
    "</table>\n",
    "\n",
    "<style>\n",
    "  td:nth-child(3) {\n",
    "    color: red;\n",
    "  }\n",
    "</style>"
   ]
  },
  {
   "cell_type": "markdown",
   "id": "4eb157cb-379c-4c16-9812-087f19c4e288",
   "metadata": {},
   "source": [
    "$X_1$ sutunu pivot sutun olarak belirledik. Akabinde minimum oran testi yapıyoruz. Çözüm değerlerini anahtar sutundaki karşılıklarına bölüyoruz."
   ]
  },
  {
   "cell_type": "markdown",
   "id": "22293089-4256-42e0-b17b-e7b03e83e933",
   "metadata": {},
   "source": [
    "***Minumum Oran Testi*** Çıkan en küçük değer ve satır alınır. $\\to6$ Pivot sutun ve oran testinden belirlenen saıtırn kesiştiği sayı ise $\\to2$ sayısıdır ve anahtar (pivot) eleman olarak isimlendirilir.\n",
    "<div style=\"float: left;\">\n",
    "    <table>\n",
    "        <thead>\n",
    "            <tr>\n",
    "                <th>Temel</th>\n",
    "                <th>Z</th>\n",
    "                <th style=\"color: red;\">X<sub>1</sub></th>\n",
    "                <th>X<sub>2</sub></th>\n",
    "                <th>S<sub>1</sub></th>\n",
    "                <th>S<sub>2</sub></th>\n",
    "                <th>S<sub>3</sub></th>\n",
    "                <th>Çözüm</th>\n",
    "                <th>Minimum Oran Testi</th>\n",
    "            </tr>\n",
    "        </thead>\n",
    "        <tbody>\n",
    "            <tr>\n",
    "                <td>Z</td>\n",
    "                <td>1</td>\n",
    "                <td style=\"color: red;\">-3</td>\n",
    "                <td> -2</td>\n",
    "                <td>0</td>\n",
    "                <td>0</td>\n",
    "                <td>0</td>\n",
    "                <td>0</td>\n",
    "                <td></td>\n",
    "            </tr>\n",
    "            <tr>\n",
    "                <td>S<sub>1</sub></td>\n",
    "                <td>0</td>\n",
    "                <td style=\"color: red;\">1</td>\n",
    "                <td>3</td>\n",
    "                <td>1</td>\n",
    "                <td>0</td>\n",
    "                <td>0</td>\n",
    "                <td>15</td>\n",
    "                <td>15/1=15</td>\n",
    "            </tr>\n",
    "            <tr>\n",
    "                <td>S<sub>2</sub></td>\n",
    "                <td>0</td>\n",
    "                <td style=\"color: red;\">1</td>\n",
    "                <td>1</td>\n",
    "                <td>0</td>\n",
    "                <td>1</td>\n",
    "                <td>0</td>\n",
    "                <td>7</td>\n",
    "                <td>7/1=7</td>\n",
    "            </tr>\n",
    "            <tr>\n",
    "                <td>S<sub>3</sub></td>\n",
    "                <td>0</td>\n",
    "                <td style=\"color: yellow;\">2</td>\n",
    "                <td>1</td>\n",
    "                <td>0</td>\n",
    "                <td>0</td>\n",
    "                <td>1</td>\n",
    "                <td>12</td>\n",
    "                <td style=\"color: blue;\">12/2=6</td>\n",
    "            </tr>\n",
    "        </tbody>\n",
    "    </table>\n",
    "</div>\n"
   ]
  },
  {
   "cell_type": "markdown",
   "id": "aa677ded-e3cc-44a7-949d-c9398986d3fb",
   "metadata": {},
   "source": [
    "Tabloda giren değişken $X_1$ çıkan değişken ise $S_3$'tür.\n",
    "\n",
    "Anahtar eleman her zaman 1 olmalıdır. Anahtar elemanı 1 yapmak için elemanter satır işlemleri kullanılır.\n",
    "\n",
    "Anahtar sütun içerisiden birim vektör aranır."
   ]
  },
  {
   "cell_type": "markdown",
   "id": "0a2d5de2-7c7c-431b-a552-efd0eff24f37",
   "metadata": {},
   "source": [
    "***1. iterasyondaki Tablo*** $Z$ satırında $X_2$'nin katsayısı $-1/2$ olduğundan dolayı optimal değildir.\n",
    "\n",
    "| Temel| Z   |$X_1$|$X_2$|$S_1$|$S_2$|$S_3$|Çözüm|İşlemler|\n",
    "|------|-----|-----|-----|-----|-----|-----|-----|--------|\n",
    "|  $Z$ |  1  |  0  |$-1/2$|  0 | 0   |$-3/2$| 18 |$X_1*(3)+Z\\to Z$      |\n",
    "| $S_1$|  0  |  0  |$5/2$|  1  | 0   |$-1/2$| 9  |$X_1*(-1)+S_1\\to S_1$ |\n",
    "| $S_2$|  0  |  0  |$1/2$|  0  | 1   |$1/2$ | 1  |$X_1*(-1)+S_2\\to S_2$ |\n",
    "|$X_1$ |  0  |  1  |$1/2$|  0  | 0   |$1/2$ | 6  |$S_3/2\\to X_1$        |"
   ]
  },
  {
   "cell_type": "markdown",
   "id": "62bac1c0-0a6a-4e75-9d1c-804263363a86",
   "metadata": {},
   "source": [
    "Tekrardan minimum oran testi yapılır $X_2$ girin değişken $S_2$ ise çıkan değişken olur. "
   ]
  },
  {
   "cell_type": "markdown",
   "id": "e01cd9c5-81b3-443b-8412-b8a518a24cbf",
   "metadata": {},
   "source": [
    "***Optimal midir?*** Optimaldir çünkü Z satırında herhangi bir negatif değer yoktur.\n",
    "\n",
    "| Temel| Z   |$X_1$|$X_2$|$S_1$|$S_2$|$S_3$|Çözüm|İşlemler|\n",
    "|------|-----|-----|-----|-----|-----|-----|-----|--------|\n",
    "|  $Z$ |  1  |  0  |0|  0 | 1  |1| 19|$X_2*(1/2)+Z \\to Z$  |\n",
    "| $S_1$|  0  |  0  |0|  1  | -5   |2| 4  |$X_2*(-5/2)+S_1 \\to S_1$ |\n",
    "| $X_2$|  0  |  0  |1|  0  | 2   |-1 | 2  |$X_2*(2) \\to X_2$ |\n",
    "|$X_1$ |  0  |  1  |0|  0  | -1   |1| 5  |$X_2*(-1/2)+X_1 \\to X_1$  |"
   ]
  },
  {
   "cell_type": "markdown",
   "id": "0213fc26-1c96-49d1-ad10-f958d325a66f",
   "metadata": {},
   "source": [
    "***Sonuç***\n",
    "\n",
    "$Z \\to 19$ Problemin maksimum çözümü 19'dur.\n",
    "\n",
    "$X_1 \\to 5$ \n",
    "\n",
    "$X_2 \\to 5$"
   ]
  },
  {
   "cell_type": "raw",
   "id": "8094adc0-eadf-4cc5-9f37-969962d7ae85",
   "metadata": {},
   "source": [
    "Çözüm linki:\n",
    "\n",
    "https://www.pmcalculators.com/simplex-method-calculator/?problem=('cr![-10341014201.6co!-302.~s!-*~*~*6r!-1507012.~o!'Maximizar')*≤'-['.']0'~4.,-6]~\u0001640.-*_"
   ]
  },
  {
   "cell_type": "markdown",
   "id": "aaca9da1-9d98-4a2e-a87c-ce3e81201c6c",
   "metadata": {},
   "source": [
    "<hr style='border: 0.5px solid gray; margin: 25px 0;'>"
   ]
  },
  {
   "cell_type": "markdown",
   "id": "ff9ee23d-0799-409a-8647-167ff4b14a99",
   "metadata": {},
   "source": [
    "<b></b>"
   ]
  },
  {
   "cell_type": "markdown",
   "id": "a5c0ad2e-02f3-4abb-86b7-749085c98b34",
   "metadata": {},
   "source": [
    "## Python İle çözüm"
   ]
  },
  {
   "cell_type": "code",
   "execution_count": 1,
   "id": "d7309070-4dbb-445a-82f7-fb5103bdd577",
   "metadata": {},
   "outputs": [
    {
     "name": "stdout",
     "output_type": "stream",
     "text": [
      "Optimal çözüm: [5. 2.]\n",
      "Optimal değer: 19.0\n"
     ]
    },
    {
     "data": {
      "image/png": "[encoded data removed]",
      "text/plain": [
       "<Figure size 800x600 with 1 Axes>"
      ]
     },
     "metadata": {},
     "output_type": "display_data"
    }
   ],
   "source": [
    "# SciPy ve matplotlib kütüphanelerini import edelim\n",
    "from scipy.optimize import linprog # linear programlama için\n",
    "import matplotlib.pyplot as plt# görselleştirme için\n",
    "import numpy as np # linear cebir işlemleri için\n",
    "\n",
    "# Sorunun parametrelerini tanımlayalım\n",
    "c = [-3, -2] # Amaç fonksiyonunun katsayıları (maksimum için negatif)\n",
    "A_ub = [[1, 3], [1, 1], [2, 1]] # Eşitsizlik kısıtlarının katsayıları\n",
    "b_ub = [15, 7, 12] # Eşitsizlik kısıtlarının sağ tarafı\n",
    "bounds = [(0, None), (0, None)] # Karar değişkenlerinin sınırları\n",
    "\n",
    "# Lineer programlama problemi çözelim\n",
    "result = linprog(c, A_ub=A_ub, b_ub=b_ub, bounds=bounds)\n",
    "\n",
    "# Optimal çözümü ve değeri yazdıralım\n",
    "print(\"Optimal çözüm:\", result.x)\n",
    "print(\"Optimal değer:\", -result.fun) # Negatif alınması gerekiyor\n",
    "\n",
    "# Mümkün bölgeyi çizelim\n",
    "x = np.linspace(0, 10, 100) # x eksenindeki değerler\n",
    "plt.figure(figsize=(8, 6)) # Grafik boyutu\n",
    "plt.xlabel(\"x1\") # x ekseninin etiketi\n",
    "plt.ylabel(\"x2\") # y ekseninin etiketi\n",
    "plt.xlim(0, 10) # x ekseninin sınırları\n",
    "plt.ylim(0, 10) # y ekseninin sınırları\n",
    "\n",
    "# Her bir kısıt için y değerlerini hesaplayalım\n",
    "y1 = (15 - x) / 3 # x1 + 3x2 <= 15\n",
    "y2 = 7 - x # x1 + x2 <= 7\n",
    "y3 = (12 - 2 * x) / 1 # 2x1 + x2 <= 12\n",
    "\n",
    "# Kısıtları grafik üzerinde çizelim\n",
    "plt.plot(x, y1, label=\"x1 + 3x2 <= 15\")\n",
    "plt.plot(x, y2, label=\"x1 + x2 <= 7\")\n",
    "plt.plot(x, y3, label=\"2x1 + x2 <= 12\")\n",
    "\n",
    "# Mümkün bölgeyi renklendirelim\n",
    "y4 = np.minimum(y1, y2) # İlk iki kısıtın minimumu\n",
    "y5 = np.minimum(y4, y3) # Üçüncü kısıt ile minimumu\n",
    "plt.fill_between(x, y5, color=\"grey\", alpha=0.5) # Gri renk ile dolduralım\n",
    "\n",
    "# Optimal noktayı işaretleyelim\n",
    "plt.plot(result.x[0], result.x[1], \"ro\") # Kırmızı nokta ile gösterelim\n",
    "\n",
    "# Efsaneyi gösterelim\n",
    "plt.legend()\n",
    "\n",
    "# Grafiği gösterelim\n",
    "plt.show()"
   ]
  },
  {
   "cell_type": "markdown",
   "id": "6cca47d7-9414-402f-91e0-c209d1cb9082",
   "metadata": {},
   "source": [
    "<hr style='border: 0.5px solid gray; margin: 25px 0;'>"
   ]
  },
  {
   "cell_type": "markdown",
   "id": "f74a25dc-0253-40e0-ae15-6f6035f7d018",
   "metadata": {},
   "source": [
    "### Kullanılan Kaynaklar\n",
    "[Kaynak1](https://www.youtube.com/watch?v=wzV1OBGkH1E&list=PLNVCj-z_HS4YuZA_enHEeFwJYPpnF06OE&index=8), [Kaynak2](https://drive.google.com/file/d/1IYFC_SjT1vJDZvGXrqGQZUaRH-burWGn/view)\n",
    "\n",
    "[öneri kaynak](https://www.youtube.com/watch?v=fZ8_I2TMTpE&list=PLNVCj-z_HS4YuZA_enHEeFwJYPpnF06OE&index=9)"
   ]
  }
 ],
 "metadata": {
  "kernelspec": {
   "display_name": "Python 3 (ipykernel)",
   "language": "python",
   "name": "python3"
  },
  "language_info": {
   "codemirror_mode": {
    "name": "ipython",
    "version": 3
   },
   "file_extension": ".py",
   "mimetype": "text/x-python",
   "name": "python",
   "nbconvert_exporter": "python",
   "pygments_lexer": "ipython3",
   "version": "3.9.16"
  }
 },
 "nbformat": 4,
 "nbformat_minor": 5
}
