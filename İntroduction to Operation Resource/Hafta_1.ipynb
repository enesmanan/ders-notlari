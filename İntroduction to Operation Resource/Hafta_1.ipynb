{
 "cells": [
  {
   "cell_type": "markdown",
   "id": "88ab3e20-3716-4af2-bf51-d08d746591e7",
   "metadata": {},
   "source": [
    "# Introduction to Operations Research - Yöneylem Araştırması"
   ]
  },
  {
   "cell_type": "markdown",
   "id": "4f90932a-87cf-4fa7-9e67-825f9020ba49",
   "metadata": {},
   "source": [
    "## Yöneylem Araştırması Nedir?\n",
    "Yöneylem araştırması, belirli kısıtların olduğu bir durumda, belirli bir amaca yönelik en uygun çözümün bulunması için geliştirilmiş bir yöntemdir. Bu yöntem, matematiksel modelleme, istatistik ve algoritma gibi bilimsel yöntemleri kullanarak, bir organizasyon içinde operasyonların koordinasyonu ve yürütmesi ile ilgili dünyanın gerçek karmaşık sorunları için fikir üretmeyi amaçlar. Yöneylem araştırması, belli kısıtlamaların altında, belli bir hedefi gerçekleştirmeye, problemi çözmeye yönelik en iyi çözümün bulunduğu, en uygun yöntemin araştırıldığı disiplinlerarası bir bilim dalıdır.\n",
    "\n",
    "Yöneylem araştırması, birçok alanda kullanılmaktadır. Örneğin, işletme, endüstri, sağlık, ulaşım, askeri, enerji, telekomünikasyon, finans, çevre, tarım, turizm, eğitim, hukuk, sosyal bilimler, vb. alanlarda kullanılmaktadır."
   ]
  },
  {
   "cell_type": "markdown",
   "id": "758093c2-b3eb-446e-9ff6-48a19b9d5693",
   "metadata": {},
   "source": [
    "### Optimizasyon Nedir?\n",
    "Optimizasyon, bir fonksiyonun minimize veya maksimize edilmesi olarak tanımlanabilir. En basit anlamıyla, optimizasyon eldeki kısıtlı kaynakları en optimum biçimde kullanmak olarak tanımlanabilir.Optimizasyon, birçok farklı teknikle uygulanabilir. Örneğin, lineer programlama, tamsayı programlama, dinamik programlama, kuyruk teorisi, simülasyon, vb. gibi teknikler kullanılabilir."
   ]
  },
  {
   "cell_type": "markdown",
   "id": "f7a1b440-2ba6-4eac-86a0-528c7fdab677",
   "metadata": {},
   "source": [
    "## Yöneylem Araştırmasının Tarihi?\n",
    "Yöneylem araştırması, modern alanı II. Dünya Savaşı sırasında ortaya çıkmıştır. İngiltere'de (Patrick Blackett, Cecil Gordon, C. H. Waddington, Owen Wansbrough-Jones ve Frank Yates de aralarındaydı) ve ABD'deki (George Dantzig) bilimciler, lojistik ve talim çizelgelerinde daha iyi kararlar verebilmek için yollar aramaya başladılar. Bu çalışmalar, askeri operasyonların planlanması ve yönetimi için kullanıldı. II. Dünya Savaşı'nın ardından, yöneylem araştırması, işletme, endüstri, sağlık, ulaşım, askeri, enerji, telekomünikasyon, finans, çevre, tarım, turizm, eğitim, hukuk, sosyal bilimler, vb. alanlarda kullanılmaya başlandı."
   ]
  },
  {
   "cell_type": "markdown",
   "id": "5c8a20c5-0060-4ab1-ada9-463ea7eb59c0",
   "metadata": {},
   "source": [
    "### Ortaya Çıkış Hikayesi\n",
    "İkinci Dünya Savaşı sırasında, Birleşik Devletler ordusu, savaşın kazanılması için stratejik kararlar vermek zorundaydı. Bu kararlar, askeri liderlerin ülkenin askeri kaynaklarını nasıl en iyi şekilde kullanacaklarını belirlemeleri gerektiği için son derece zorlu bir görevdi. Bu zorlu görev, ordunun işletmelerden farklı olarak, hayatta kalmak ve zafer kazanmak için sürekli hareket etmesi gerektiğinden daha da zor hale gelmişti. Bu nedenle, askeri liderler, doğru kararlar vermek için matematikçi ve istatistikçilerin yardımına başvurdular. Matematikçiler, askeri liderlere yardımcı olmak için matematiksel modeller ve analizler geliştirdiler. Bu modeller, askeri kaynakların etkin kullanımını ve stratejik planların optimize edilmesini sağlamak için kullanıldı. Örneğin, askeri liderlerin savaş alanına kaç asker göndermeleri gerektiği, hangi kaynakların hangi birimlere tahsis edilmesi gerektiği gibi zorlu kararlar, matematiksel modeller kullanılarak optimize edildi. Askeri liderlerin bu matematiksel modeller sayesinde, daha hızlı ve daha etkili kararlar vermeleri sağlandı. Bu süreç, savaşın kazanılmasına katkıda bulundu ve sonrasında iş dünyasında da kullanılmaya başlandı. Yöneylem Araştırması, endüstriyel işletmelerde, lojistik ve ulaşım sektörlerinde, finansal planlama ve sağlık hizmetlerinde kullanılmaya başlandı."
   ]
  },
  {
   "cell_type": "markdown",
   "id": "1f1e02a5-05e2-4775-90b0-24162143a4cb",
   "metadata": {},
   "source": [
    "## Yöneylem Araştırmasının Kullanım Alanları Nelerdir?\n",
    "öneylem Araştırması pek çok farklı alanda uygulanabilir. Burada bazı yöneylem araştırması örnekleri verilmiştir:\n",
    "\n",
    "+ <b>Üretim Planlama:</b> Üretim faaliyetlerinin yönetimi, stok seviyeleri ve üretim kapasitesi gibi faktörler göz önüne alınarak optimize edilebilir.\n",
    "+ <b>Lojistik:</b> Malzeme, ürün ve bilgi akışı yönetimi, rotalama ve dağıtım planlaması gibi konularda optimize edilmiş çözümler sağlanabilir.\n",
    "+ <b>Finansal Planlama:</b> Bütçe, yatırım ve risk yönetimi, portföy optimizasyonu gibi konular yöneylem araştırması yöntemleriyle ele alınabilir.\n",
    "+ <b>İşletme Yönetimi:</b> Kaynak tahsisi, personel planlaması, envanter yönetimi, tedarik zinciri yönetimi, karar analizi gibi konularda optimize edilmiş çözümler elde edilebilir.\n",
    "+ <b>Sağlık Hizmetleri:</b> Hastane, klinik ve sağlık tesislerinin kaynak yönetimi, hastaların tedavi süreci planlaması, hasta bekleme sürelerinin azaltılması gibi konular yöneylem araştırması yöntemleriyle ele alınabilir.\n",
    "+ <b>Ulaşım:</b> Trafik akışı yönetimi, güzergah planlaması, taşıma kapasitesi ve zamanlama gibi konular optimize edilebilir."
   ]
  },
  {
   "cell_type": "markdown",
   "id": "a492b81d-6b3f-4773-b6e9-202ff8f15c64",
   "metadata": {},
   "source": [
    "## Yöneylem Araştırmasının Doğası\n",
    "Yöneylem Araştırması, genellikle karmaşık sorunların çözümüne odaklanır. Bu sorunlar, genellikle birçok karar ve kısıtlama içerir ve çok sayıda değişkeni etkiler. Bu tür sorunların çözümü, genellikle manuel olarak yapılması zor olan hesaplamalar ve analizler gerektirir.\n",
    "\n",
    "Bu nedenle, Yöneylem Araştırması, bu karmaşık sorunları çözmek için matematiksel modeller, simülasyonlar, optimizasyon teknikleri ve diğer analitik yöntemler kullanır. Bu yöntemler, bir işletmenin kaynaklarını en verimli şekilde kullanmasına yardımcı olurken, aynı zamanda doğru ve kararlı sonuçlar elde etmeyi de sağlar.\n",
    "\n",
    "Yöneylem Araştırması, aynı zamanda, işletmelerin karar alma süreçlerinde objektif bir yaklaşım benimsemelerine yardımcı olur. Bu objektif yaklaşım, duygusal veya kişisel faktörlerin karar verme sürecinde etkisini azaltır ve daha doğru ve verimli kararlar alınmasını sağlar."
   ]
  },
  {
   "cell_type": "markdown",
   "id": "d1e254ec-ea59-48ba-bd30-3e1854606eb1",
   "metadata": {},
   "source": [
    "## Yöneylem Araştırmasının Etkisi\n",
    "Yöneylem araştırması, bir sistemin herhangi bir bölümündeki değişikliklerin sistemin performansı üzerindeki etkisini bir bütün olarak değerlendirmeye ve bir bölümünde ortaya çıkan bir sorunun nedenlerini başka bölümlerde veya aralarındaki ilişkilerde aramaya çalışır ve tüm sistemin iyileşmesi için çözüm arar.\n",
    "\n",
    "1. <b>Verimlilik Artışı:</b> Yöneylem Araştırması, bir işletmenin kaynaklarını en verimli şekilde kullanmasına yardımcı olur. Bu, işletmenin verimliliğini artırır, işlemlerin daha hızlı ve daha etkili hale gelmesini sağlar.\n",
    "2. <b>Maliyet Düşürme:</b> Yöneylem Araştırması, işletmelerin maliyetlerini düşürmelerine yardımcı olur. İşletmelerin kaynaklarını daha iyi yönetmeleri ve daha etkili kararlar almaları, işletmelerin daha az maliyetle faaliyet göstermelerini sağlar.\n",
    "3. <b>Karar Verme Süreçlerinin İyileştirilmesi:</b> Yöneylem Araştırması, işletmelerin karar verme süreçlerini iyileştirmelerine yardımcı olur. Bu, işletmelerin daha doğru, verimli ve kararlı kararlar almasını sağlar.\n",
    "4. <b>Rekabet Avantajı:</b> Yöneylem Araştırması, işletmelerin rekabet avantajı elde etmelerine yardımcı olur. İşletmelerin daha verimli ve etkili hale gelmesi, işletmelerin rakiplerine karşı daha avantajlı hale gelmesini sağlar.\n",
    "5. <b>Risk Azaltma:</b> Yöneylem Araştırması, işletmelerin risklerini azaltmalarına yardımcı olur. İşletmelerin daha etkili ve verimli kararlar alması, işletmelerin risklerini azaltır ve daha az riskli bir işletme haline gelmesini sağlar.\n",
    "6. <b>İnovasyon:</b> Yöneylem Araştırması, işletmelerin inovasyonlarını artırmasına yardımcı olur. İşletmelerin daha iyi kararlar alması, işletmelerin daha yenilikçi hale gelmesini ve yeni fikirlerin keşfedilmesini sağlar."
   ]
  },
  {
   "cell_type": "markdown",
   "id": "55a6d19f-db4a-4691-a677-40f4a841b82c",
   "metadata": {},
   "source": [
    "## ÖDEV\n",
    "[Tablo 1.1](https://github.com/enesmanan/ders-notlari/blob/main/%C4%B0ntroduction%20to%20Operation%20Resource/Resimler/Tablo%201.1.pdf)’de listelenen işletme araştırması uygulamalarından birini seçin. Üçüncü sütunda belirtilen yıla ait Interfaces’in Ocak-Şubat sayısında uygulamayı açıklayan makaleyi okuyun. Uygulama ve sağladığı faydalar (finansal olmayan faydalar dahil) hakkında iki sayfalık bir özet yazın."
   ]
  },
  {
   "cell_type": "markdown",
   "id": "e2becf0d-ac68-4f88-8362-45edb99661a1",
   "metadata": {},
   "source": [
    "## Çözüm:\n",
    "Tabloya [buradan](https://github.com/enesmanan/ders-notlari/blob/main/%C4%B0ntroduction%20to%20Operation%20Resource/Resimler/Tablo%201.1.pdf) ulaşabilirsin.\n",
    "\n",
    "Makalenin bulunduğu siteye [buradan](https://www.informs.org/) ulaşabilirsin."
   ]
  },
  {
   "cell_type": "markdown",
   "id": "031752b5-950e-4244-a442-803448fa2a95",
   "metadata": {},
   "source": [
    "### Kısa Çözüm\n",
    "Seçtiğim uygulama IBM'in yaptığı bir çalışma. Seçtiğin uygulama 1990 yılında gerçekleştirilmiş ve bu çalışmada IBM, müşterilerinin daha iyi hizmet alabilmesi için ülke genelinde bir yedek parça envanteri oluşturmayı amaçlamıştır.\n",
    "\n",
    "Bu çalışmada, yedek parça envanteri yönetimindeki hataların giderilmesi için bir optimizasyon modeli geliştirilmiştir. Yeni model, stok miktarını azaltarak ve gereksiz yere yedek parça alımlarını önleyerek daha düşük stok maliyetleri sağlamıştır. Aynı zamanda, müşteri hizmetlerindeki performans artırılmış, yani yedek parça temin süreleri önemli ölçüde azaltılmıştır. Bu sayede müşteri memnuniyeti artmış ve müşteri kaybı önlenmiştir.\n",
    "\n",
    "Bu çalışmanın non-finansal faydaları arasında, müşterilerin beklemek zorunda kalmadan hızlı bir şekilde yedek parça temin edebilmesi, daha az stok yönetimi ihtiyacı ve daha iyi hizmet kalitesi bulunmaktadır. Bu uygulama, IBM'in müşterilerine daha iyi hizmet sunmasına ve rekabet avantajı elde etmesine yardımcı olmuştur."
   ]
  },
  {
   "cell_type": "markdown",
   "id": "59cb3839-a1bf-4707-8c46-067d358973dd",
   "metadata": {},
   "source": [
    "#### Kullanılan Kaynaklar"
   ]
  },
  {
   "cell_type": "markdown",
   "id": "6111383f-91c7-468f-ab9b-f48c3c37c3e0",
   "metadata": {},
   "source": [
    "[Kaynak1](https://tr.wikipedia.org/wiki/Y%C3%B6neylem_ara%C5%9Ft%C4%B1rmas%C4%B1), [Kaynak2](https://turkiyeemt.com/blog/yoneylem-arastirmasi-nedir/), [Kaynak3](https://tazemuhendis.com/yoneylem-arastirmasi-nedir-nerelerde-kullanilir/), [Kaynak4](https://search.trdizin.gov.tr/yayin/detay/191891/), [Kaynak5](https://dergipark.org.tr/tr/pub/alphanumeric/issue/1675/20745)"
   ]
  }
 ],
 "metadata": {
  "kernelspec": {
   "display_name": "Python 3 (ipykernel)",
   "language": "python",
   "name": "python3"
  },
  "language_info": {
   "codemirror_mode": {
    "name": "ipython",
    "version": 3
   },
   "file_extension": ".py",
   "mimetype": "text/x-python",
   "name": "python",
   "nbconvert_exporter": "python",
   "pygments_lexer": "ipython3",
   "version": "3.9.16"
  }
 },
 "nbformat": 4,
 "nbformat_minor": 5
}
