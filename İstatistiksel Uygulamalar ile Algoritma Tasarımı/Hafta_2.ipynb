{
 "cells": [
  {
   "cell_type": "markdown",
   "id": "697ee256-b47b-4aca-bdef-c59f5fbd531f",
   "metadata": {},
   "source": [
    "# İSTATİSTİKSEL UYGULAMALAR İLE ALGORİTMA TASARIMI HAFTA 2"
   ]
  },
  {
   "cell_type": "markdown",
   "id": "da699863-9d14-446a-8c66-afa9fe63935d",
   "metadata": {},
   "source": [
    "## SORU 1: Bir mobilya atölyesinde 5 farklı tür koltuk üretilmektedir. Her koltuk türüne aynı gün içerisinde birden fazla sipariş gelebilmektedir. Siparişler, günlük olarak alınmaktadır. Bir yılsonunda siparişi alınan koltuk türüne göre miktarları belirleyen algoritmayı oluşturunuz.\n",
    "\n",
    "1. Adım: Başla\n",
    "2. Adım: Koltuk türü için başlangıç değeri = 1 (Tür=1) \n",
    "3. Adım: Koltuk toplam değeri = 0 (K)\n",
    "4. Adım: Gün için başlangıç değeri = 1 (Gün=1)\n",
    "5. Adım: Koltuk türü için sipariş var mı? Evet ise Adım 6’ya; Hayır ise Adım 9’a git. \n",
    "6. Adım: Girilen sipariş miktarını oku. (S)\n",
    "7. Adım: Sipariş miktarını koltuk miktarına ekle. (K=K+S) \n",
    "8. Adım: Başka sipariş var mı? Evet ise Adım 6’ya git.\n",
    "9. Adım: Gün değeri 365'ten küçük mü? Evet ise Adım 10'a; Hayır ise Adım 12'ye git.\n",
    "10. Adım: Gün değerini 1 artır. (Gün = Gün + 1)\n",
    "11. Adım: Adım 5'e git.\n",
    "12. Adım: Koltuk türüne göre yıllık sipariş miktarını döndür (print K)\n",
    "13. Adım: Koltuk türü 5'ten küçük mü? Evet ise Adım 14' git. Hayır ise Adım 17'ye git.\n",
    "14. Adım: Koltuk türünü 1 atrır. (Tür = Tür + 1)\n",
    "15. Adım: Koltuk sipariş değerini sıfırla (K = 0)\n",
    "16. Adım: Adım 4'e git.\n",
    "17. Adım: Bitir"
   ]
  },
  {
   "cell_type": "markdown",
   "id": "272ffdfd-10a8-47ce-8816-36393353c779",
   "metadata": {},
   "source": [
    "### 2. Algoritma\n",
    "\n",
    "1. Adım: Başla\n",
    "2. Adım: 5 farklı tür koltuk için siparişleri tutacak dizi oluştur\n",
    "3. Adım: Sipariş gün sayısı = 0\n",
    "4. Adım: Siparişlerin toplam sayısı = 0\n",
    "5. Adım: Sipariş gün sayısını artır\n",
    "6. Adım: Koltuk türünü oku\n",
    "7. Adım: Bu koltuk türünden kaç adet sipariş verildiğini oku\n",
    "8. Adım: Siparişleri koltuk türüne göre ilgili diziye ekle\n",
    "9. Adım: Siparişlerin toplam sayısını artır\n",
    "10. Adım: Sipariş gün sayısı < 365 mi? Evet ise Adım 5'e git, hayır ise Adım 11'e git\n",
    "11. Adım: Her koltuk türünden toplam kaç adet sipariş alındığını belirle\n",
    "12. Adım: En çok sipariş verilen koltuk türünü belirle\n",
    "13. Adım: En az sipariş verilen koltuk türünü belirle\n",
    "14. Adım: Bitir, sonuçları yazdır."
   ]
  },
  {
   "cell_type": "markdown",
   "id": "21f4248a-b4fa-40c8-be0c-1bd7c504e7f1",
   "metadata": {},
   "source": [
    "### 3. Algoritma\n",
    "1. Adım: Başla\n",
    "2. Adım: Her koltuk türü için toplam miktarı sıfır al.(K1=0, K2=0; K3=0; K4=0; K5=0) \n",
    "3. Adım: Gün değerini 0 al. (Gun=0)\n",
    "4. Adım: Gün değerini 1 arttır.\n",
    "5. Adım: Hangi koltuk türü için sipariş verildiğini öğren.\n",
    "6. Adım: Koltuk sipariş adedini öğren.\n",
    "7. Adım: Eğer ürün türü K1 ise K1 değerini sipariş adedi kadar artır.\n",
    "8. Adım: Eğer ürün türü K2 ise K2 değerini sipariş adedi kadar artır.\n",
    "9. Adım: Eğer ürün türü K3 ise K3 değerini sipariş adedi kadar artır.\n",
    "10. Adım: Eğer ürün türü K4 ise K4 değerini sipariş adedi kadar artır.\n",
    "11. Adım: Eğer ürün türü K5 ise K5 değerini sipariş adedi kadar artır.\n",
    "12. Adım: Başka sipariş var mı? Evet ise Adım 5’e git.\n",
    "13. Adım: Gün değeri 365’ten küçük mü? Evet ise Adım 4’e git.\n",
    "14. Adım: 1. tür koltuğun yıllık sipariş miktarını belirt.\n",
    "15. Adım: 2. tür koltuğun yıllık sipariş miktarını belirt.\n",
    "16. Adım: 3. tür koltuğun yıllık sipariş miktarını belirt.\n",
    "17. Adım: 4. tür koltuğun yıllık sipariş miktarını belirt.\n",
    "18. Adım: 5. tür koltuğun yıllık sipariş miktarını belirt.\n",
    "18. Adım: Bitir"
   ]
  },
  {
   "cell_type": "markdown",
   "id": "39d2ed32-3301-46c9-ac1b-4184fdc9d4a1",
   "metadata": {},
   "source": [
    "## Python Kodu"
   ]
  },
  {
   "cell_type": "markdown",
   "id": "b643e72f-17fc-4e17-a567-ff6b325cc9e4",
   "metadata": {},
   "source": [
    "```python\n",
    "# Koltuk türlerinin başlangıç değerlerini sıfıra eşitliyoruz\n",
    "koltuk1, koltuk2, koltuk3, koltuk4, koltuk5  = 0, 0, 0, 0, 0\n",
    "\n",
    "# Bir yıllık siparişlerin alınması\n",
    "for i in range(3):\n",
    "    # Kullanıcıdan siparişlerin alınması\n",
    "    koltuk_tipi = input(\"Hangi koltuk tipi için sipariş vermek istersiniz? \")\n",
    "    adet = int(input(\"Kaç adet sipariş vermek istersiniz? \"))\n",
    "\n",
    "    # Koltuk türüne göre miktarların güncellenmesi\n",
    "    if koltuk_tipi == \"koltuk1\":\n",
    "        koltuk1 += adet\n",
    "    elif koltuk_tipi == \"koltuk2\":\n",
    "        koltuk2 += adet\n",
    "    elif koltuk_tipi == \"koltuk3\":\n",
    "        koltuk3 += adet\n",
    "    elif koltuk_tipi == \"koltuk4\":\n",
    "        koltuk4 += adet\n",
    "    elif koltuk_tipi == \"koltuk5\":\n",
    "        koltuk5 += adet\n",
    "    else:\n",
    "        print(\"Geçersiz bir koltuk tipi girdiniz.\")\n",
    "        \n",
    "# Sonuçların yazdırılması\n",
    "print(\"Koltuk1 üretim miktarı:\", koltuk1, \"\\nKoltuk2 üretim miktarı:\", koltuk2,\n",
    "      \"\\nKoltuk3 üretim miktarı:\", koltuk3, \"\\nKoltuk4 üretim miktarı:\", koltuk4,\n",
    "      \"\\nKoltuk5 üretim miktarı:\", koltuk5)\n",
    "```"
   ]
  },
  {
   "cell_type": "markdown",
   "id": "23893298-8554-4966-be37-c1bce90433cf",
   "metadata": {},
   "source": [
    "## C# Kodu"
   ]
  },
  {
   "cell_type": "markdown",
   "id": "80629ecd-fce2-4913-960c-c7caa33a9eb3",
   "metadata": {},
   "source": [
    "```c#\n",
    "using System;\n",
    "\n",
    "class Program\n",
    "{\n",
    "    static void Main(string[] args)\n",
    "    {\n",
    "        // Adım 2\n",
    "        int K1 = 0;\n",
    "        int K2 = 0;\n",
    "        int K3 = 0;\n",
    "        int K4 = 0;\n",
    "        int K5 = 0;\n",
    "\n",
    "        // Adım 3\n",
    "        int Gun = 0;\n",
    "\n",
    "        while (Gun < 365)\n",
    "        {\n",
    "            // Adım 4\n",
    "            Gun++;\n",
    "\n",
    "            // Adım 5\n",
    "            Console.WriteLine(\"Sipariş verilen koltuk türünü giriniz (K1, K2, K3, K4, K5):\");\n",
    "            string koltukTuru = Console.ReadLine();\n",
    "\n",
    "            // Adım 6\n",
    "            Console.WriteLine(\"Sipariş adedini giriniz:\");\n",
    "            int siparisAdedi = int.Parse(Console.ReadLine());\n",
    "\n",
    "            // Adım 7-11\n",
    "            if (koltukTuru == \"K1\")\n",
    "            {\n",
    "                K1 += siparisAdedi;\n",
    "            }\n",
    "            else if (koltukTuru == \"K2\")\n",
    "            {\n",
    "                K2 += siparisAdedi;\n",
    "            }\n",
    "            else if (koltukTuru == \"K3\")\n",
    "            {\n",
    "                K3 += siparisAdedi;\n",
    "            }\n",
    "            else if (koltukTuru == \"K4\")\n",
    "            {\n",
    "                K4 += siparisAdedi;\n",
    "            }\n",
    "            else if (koltukTuru == \"K5\")\n",
    "            {\n",
    "                K5 += siparisAdedi;\n",
    "            }\n",
    "\n",
    "        }\n",
    "\n",
    "        // Adım 14-18\n",
    "        Console.WriteLine(\"K1 koltuğunun yıllık sipariş miktarı: \" + K1);\n",
    "        Console.WriteLine(\"K2 koltuğunun yıllık sipariş miktarı: \" + K2);\n",
    "        Console.WriteLine(\"K3 koltuğunun yıllık sipariş miktarı: \" + K3);\n",
    "        Console.WriteLine(\"K4 koltuğunun yıllık sipariş miktarı: \" + K4);\n",
    "        Console.WriteLine(\"K5 koltuğunun yıllık sipariş miktarı: \" + K5);\n",
    "    }\n",
    "}\n",
    "\n",
    "```"
   ]
  },
  {
   "cell_type": "markdown",
   "id": "c0422ee5-dde6-4043-83ef-de3b70e7c6eb",
   "metadata": {},
   "source": [
    "<hr style=\"border: 0.5px solid gray; margin: 25px 0;\">"
   ]
  },
  {
   "cell_type": "markdown",
   "id": "2ee22b4c-615d-4332-97cc-b1fe728871a7",
   "metadata": {},
   "source": [
    "![resimadfs](resimler/hafta2-algoritma-1.png)"
   ]
  },
  {
   "cell_type": "markdown",
   "id": "642c104c-cace-43aa-b135-d29892c29694",
   "metadata": {},
   "source": [
    "<hr style=\"border: 0.5px solid gray; margin: 25px 0;\">"
   ]
  },
  {
   "cell_type": "markdown",
   "id": "35eb0d81-c89c-46d4-8549-cc942055fa8d",
   "metadata": {},
   "source": [
    "## SORU 2: Bir iş yerine personel alımı yapılacaktır. Adayların başvuruları toplanmaktadır. Başvuruda bulunanların İngilizce dil yeterliliğini sağlamış olmaları (İngilizce dil puanı en az 80 olmalıdır), 35 yaşını aşmamış olmaları, lisans diplomasına sahip olmaları ve erkek adayların askerliklerini yapmış olmaları gerekmektedir. Koşulları sağlayan aday sayısını belirleyen algoritmayı tasarlayınız.\n",
    "\n",
    "1. Adım: Başla\n",
    "2. Adım: Girilen başvuru sayısını oku\n",
    "3. Adım: Geçerli başvuru sayısı = 0\n",
    "4. Adım: Aday sayısı = 1\n",
    "5. Adım: Adayın İngilizce dil puanı yeterli mi? Evet ise Adım 6'ya git. Hayır ise Adım 11'e git.\n",
    "6. Adım: Aday 35 yaşından küçük mü? Evet ise Adım 7'ye git. Hayır ise Adım 11'e git.\n",
    "7. Adım: Aday lisans diplomasına sahip mi? Evet ise Adım 8'e git. Hayır ise Adım 11'e git.\n",
    "8. Adım: Aday kadın mı? Evet ise Adım 10'a git. Hayır ise Adım 9'a git.\n",
    "9. Adım: Aday askerliğini yapmış mı? Evet ise Adım 10'a git. Hayır ise Adım 11'e git.\n",
    "10. Adım: Geçerli başvuru sayısını 1 artır.\n",
    "11. Adım: Aday sayısı başvuru sayısından küçük mü? Evet ise Adım 12'ye git. Hayır ise Adım 13'e git.\n",
    "12. Adım: Aday sayısını 1 artır. Adım 5'e git.\n",
    "13. Adım: Geçerli başvuru sayısını döndür.\n",
    "14. Adım: Bitir"
   ]
  },
  {
   "cell_type": "markdown",
   "id": "d9e1f3fa-cc30-4e9d-a9fa-90b68e19c25f",
   "metadata": {},
   "source": [
    "## Python Kodu"
   ]
  },
  {
   "cell_type": "markdown",
   "id": "49b50fdb-fa78-4381-9923-387458ccd5f7",
   "metadata": {},
   "source": [
    "```python\n",
    "def gecerli_basvuru_sayisi(basvuru_sayisi):\n",
    "    gecerli_sayi = 0\n",
    "    aday_sayisi = 1\n",
    "    while aday_sayisi <= basvuru_sayisi:\n",
    "        ingilizce_puani = int(input(f\"{aday_sayisi}. adayın İngilizce puanını giriniz: \"))\n",
    "        yas = int(input(f\"{aday_sayisi}. adayın yaşını giriniz: \"))\n",
    "        lisans = input(f\"{aday_sayisi}. adayın lisans diploması var mı? (E/H): \").lower()\n",
    "        cinsiyet = input(f\"{aday_sayisi}. adayın cinsiyeti nedir? (E/K): \").lower()\n",
    "        askerlik = input(f\"{aday_sayisi}. adayın askerlik durumu nedir? (E/H): \").lower()\n",
    "\n",
    "        if ingilizce_puani >= 80 and yas <= 35 and lisans == \"e\" and cinsiyet == \"e\" and askerlik == \"e\":\n",
    "            gecerli_sayi += 1\n",
    "            \n",
    "        if ingilizce_puani >= 80 and yas <= 35 and lisans == \"e\" and cinsiyet == \"k\" and askerlik == \"h\":\n",
    "            gecerli_sayi += 1\n",
    "        \n",
    "        aday_sayisi += 1\n",
    "        \n",
    "    return gecerli_sayi\n",
    "\n",
    "print(gecerli_basvuru_sayisi(5))  # Örnek olarak 5 başvuru için çalıştırıyoruz.\n",
    "```"
   ]
  },
  {
   "cell_type": "markdown",
   "id": "7626d062-670a-4ecf-847d-50796ed52be0",
   "metadata": {},
   "source": [
    "## C# Kodu"
   ]
  },
  {
   "cell_type": "markdown",
   "id": "c8e6ff07-5ff1-476b-bc0b-fb5abd320402",
   "metadata": {},
   "source": [
    "```c#\n",
    "using System;\n",
    "\n",
    "public class Program\n",
    "{\n",
    "    public static int GecerliBasvuruSayisi(int basvuruSayisi)\n",
    "    {\n",
    "        int gecerliSayi = 0;\n",
    "        int adaySayisi = 1;\n",
    "\n",
    "        while (adaySayisi <= basvuruSayisi)\n",
    "        {\n",
    "            Console.Write($\"{adaySayisi}. adayın İngilizce puanını giriniz: \");\n",
    "            int ingilizcePuani = int.Parse(Console.ReadLine());\n",
    "\n",
    "            Console.Write($\"{adaySayisi}. adayın yaşını giriniz: \");\n",
    "            int yas = int.Parse(Console.ReadLine());\n",
    "\n",
    "            Console.Write($\"{adaySayisi}. adayın lisans diploması var mı? (E/H): \");\n",
    "            char lisans = char.Parse(Console.ReadLine().ToLower());\n",
    "\n",
    "            Console.Write($\"{adaySayisi}. adayın cinsiyeti nedir? (E/K): \");\n",
    "            char cinsiyet = char.Parse(Console.ReadLine().ToLower());\n",
    "\n",
    "            Console.Write($\"{adaySayisi}. adayın askerlik durumu nedir? (E/H): \");\n",
    "            char askerlik = char.Parse(Console.ReadLine().ToLower());\n",
    "\n",
    "            if (ingilizcePuani >= 80 && yas <= 35 && lisans == 'e' && cinsiyet == 'e' && askerlik == 'e')\n",
    "            {\n",
    "                gecerliSayi++;\n",
    "            }\n",
    "            else if (ingilizcePuani >= 80 && yas <= 35 && lisans == 'e' && cinsiyet == 'k' && askerlik == 'h')\n",
    "            {\n",
    "                gecerliSayi++;\n",
    "            }\n",
    "\n",
    "            adaySayisi++;\n",
    "        }\n",
    "\n",
    "        return gecerliSayi;\n",
    "    }\n",
    "\n",
    "    public static void Main()\n",
    "    {\n",
    "        int basvuruSayisi = 5; // Örnek olarak 5 başvuru için çalıştırıyoruz.\n",
    "        int gecerliSayi = GecerliBasvuruSayisi(basvuruSayisi);\n",
    "        Console.WriteLine($\"Geçerli başvuru sayısı: {gecerliSayi}\");\n",
    "    }\n",
    "}\n",
    "\n",
    "\n",
    "```"
   ]
  },
  {
   "cell_type": "markdown",
   "id": "4bea24b3-6591-4966-9dda-37c814d81c08",
   "metadata": {},
   "source": [
    "![resimbir](resimler/hafta2-algoritma-2.png)"
   ]
  },
  {
   "cell_type": "markdown",
   "id": "23f330d4-e3e2-43fc-b5ee-fbb1378d4a6d",
   "metadata": {},
   "source": [
    "<hr style=\"border: 0.5px solid gray; margin: 25px 0;\">"
   ]
  },
  {
   "cell_type": "markdown",
   "id": "9c8e967e-8f23-41ab-8320-f172e410f5a2",
   "metadata": {},
   "source": [
    "## Akış Diyagramları"
   ]
  },
  {
   "cell_type": "markdown",
   "id": "98462e08-bf31-4604-9d74-ce75bd35316f",
   "metadata": {},
   "source": [
    "![diyagram](Resimler/akıs.jpg)\n",
    "[kaynak](https://www.uzaktanegitim.com/blog/algoritma-nedir-akis-semasi-nedir)"
   ]
  },
  {
   "cell_type": "markdown",
   "id": "681e3133-1381-4779-8edb-3816cc2cd267",
   "metadata": {},
   "source": [
    "<hr style=\"border: 0.5px solid gray; margin: 25px 0;\">"
   ]
  },
  {
   "cell_type": "markdown",
   "id": "17e00577-fd78-44e5-8731-43ea2d14513b",
   "metadata": {},
   "source": [
    "## SORU 3: Bilinmeyen sayıda girilen verilerin ortalamasını ve varyansını bulduran akış şemasını tasarlayınız.\n",
    "\n",
    "1. Adım: Başlangıç düğümünden başla.\n",
    "2. Adım: Veri toplama işlemleri için bir toplam değişkeni (toplam) oluştur ve değerini sıfıra ayarla.\n",
    "3. Adım: Bir sayacı (sayac) oluştur ve değerini sıfıra ayarla.\n",
    "4. Adım: Kullanıcıdan bir sayı (veri) iste.\n",
    "5. Adım: Toplam değişkenini veri ile güncelle (toplam = toplam + veri).\n",
    "6. Adım: Sayacı bir artır (sayac = sayac + 1).\n",
    "7. Adım: Kullanıcının daha fazla veri girmek isteyip istemediğini sor. Eğer evet ise adım 4'e dön, aksi takdirde adıma 8 geç.\n",
    "8. Adım: Verilerin ortalama değerini hesapla (ortalama = toplam / sayac).\n",
    "9. Adım: Varyans hesabı için bir varyans değişkeni (varyans) oluştur ve değerini sıfıra ayarla.\n",
    "10. Adım: Kullanıcıdan bir sayı (veri) iste.\n",
    "11. Adım:Her veri için şu adımları uygula:\n",
    "    - Verinin ortalama değerden farkını hesapla (fark = veri - ortalama).\n",
    "    - Farkın karesini al (kare_fark = fark * fark).\n",
    "    - Kare farkı varyans değişkenine ekle (varyans = varyans + kare_fark).\n",
    "12. Adım:Varyansı hesapla (varyans = varyans / sayac).\n",
    "13. Adım:Ortalama ve varyansı kullanıcıya göster.\n",
    "14. Adım:Programı sonlandır."
   ]
  },
  {
   "cell_type": "markdown",
   "id": "eaae85de-7674-4446-b600-21b253c463c5",
   "metadata": {},
   "source": [
    "## Python Kodu 1"
   ]
  },
  {
   "cell_type": "markdown",
   "id": "50bfdd16-b222-4bf7-8774-cccf96ffab68",
   "metadata": {},
   "source": [
    "```python\n",
    "n = 0  # veri sayısı\n",
    "mean = 0.0  # verilerin ortalaması\n",
    "M2 = 0.0  # 2. moment (varyans için kullanılacak)\n",
    "\n",
    "while True:\n",
    "    veri= str(input(\"Lütfen bir sayı girin (çıkmak için q'ya basın): \"))\n",
    "    if veri == 'q':\n",
    "        break\n",
    "    veri = float(veri)\n",
    "    n += 1\n",
    "    delta = veri - mean\n",
    "    mean += delta / n\n",
    "    M2 += delta * (veri - mean)\n",
    "\n",
    "if n < 2:\n",
    "    print(\"En az iki sayı girilmeli.\")\n",
    "else:\n",
    "    variance = M2 / (n - 1)\n",
    "    print(f\"Ortalama: {mean:.2f}\")\n",
    "    print(f\"Varyans: {variance:.2f}\")\n",
    "\n",
    "```"
   ]
  },
  {
   "cell_type": "markdown",
   "id": "2f319b59-7763-4de4-a847-429145407bec",
   "metadata": {},
   "source": [
    "## Python Kodu 2"
   ]
  },
  {
   "cell_type": "markdown",
   "id": "495edf01-9378-4f7d-aedd-90819a46d4a7",
   "metadata": {},
   "source": [
    "```python \n",
    "import statistics\n",
    "\n",
    "veri = []  # girilen verileri saklamak için bir liste\n",
    "\n",
    "while True:\n",
    "    sayı = input(\"Lütfen bir sayı girin (çıkmak için q'ya basın): \")\n",
    "    if sayı == 'q':\n",
    "        break\n",
    "    \n",
    "    sayı = float(sayı)\n",
    "    veri.append(sayı)\n",
    "\n",
    "if len(veri) < 2:\n",
    "    print(\"En az iki sayı girilmeli.\")\n",
    "else:\n",
    "    mean = statistics.mean(veri)\n",
    "    variance = statistics.variance(veri)\n",
    "    print(f\"Ortalama: {mean:.2f}\")\n",
    "    print(f\"Varyans: {variance:.2f}\")\n",
    "```"
   ]
  },
  {
   "cell_type": "markdown",
   "id": "7384dd71-414c-4f44-ba5f-48bed11a85b5",
   "metadata": {},
   "source": [
    "## C# Kodu"
   ]
  },
  {
   "cell_type": "markdown",
   "id": "f0cb88cb-72e3-454b-86ad-293f1a92a555",
   "metadata": {},
   "source": [
    "```c#\n",
    "using System;\n",
    "\n",
    "class Program\n",
    "{\n",
    "    static void Main(string[] args)\n",
    "    {\n",
    "        int n = 0;       // veri sayısı\n",
    "        double mean = 0.0; // verilerin ortalaması\n",
    "        double M2 = 0.0;   // 2. moment (varyans için kullanılacak)\n",
    "\n",
    "        while (true)\n",
    "        {\n",
    "            Console.Write(\"Lütfen bir sayı girin (çıkmak için q'ya basın): \");\n",
    "            string veri_str = Console.ReadLine();\n",
    "            if (veri_str == \"q\")\n",
    "            {\n",
    "                break;\n",
    "            }\n",
    "            double veri = Convert.ToDouble(veri_str);\n",
    "            n += 1;\n",
    "            double delta = veri - mean;\n",
    "            mean += delta / n;\n",
    "            M2 += delta * (veri - mean);\n",
    "        }\n",
    "\n",
    "        if (n < 2)\n",
    "        {\n",
    "            Console.WriteLine(\"En az iki sayı girilmeli.\");\n",
    "        }\n",
    "        else\n",
    "        {\n",
    "            double variance = M2 / (n - 1);\n",
    "            Console.WriteLine(\"Ortalama: {0:F2}\", mean);\n",
    "            Console.WriteLine(\"Varyans: {0:F2}\", variance);\n",
    "        }\n",
    "    }\n",
    "}\n",
    "\n",
    "```"
   ]
  },
  {
   "cell_type": "markdown",
   "id": "12bfa2e7-9ea6-40bf-9286-f3eb308dd052",
   "metadata": {},
   "source": [
    "## Akış Diyagramı"
   ]
  },
  {
   "cell_type": "markdown",
   "id": "e4e47e23-855e-4432-b1a0-a20ce6475e0d",
   "metadata": {},
   "source": [
    "![diyagram](Resimler/diyagram.png)"
   ]
  }
 ],
 "metadata": {
  "kernelspec": {
   "display_name": "Python 3 (ipykernel)",
   "language": "python",
   "name": "python3"
  },
  "language_info": {
   "codemirror_mode": {
    "name": "ipython",
    "version": 3
   },
   "file_extension": ".py",
   "mimetype": "text/x-python",
   "name": "python",
   "nbconvert_exporter": "python",
   "pygments_lexer": "ipython3",
   "version": "3.9.16"
  }
 },
 "nbformat": 4,
 "nbformat_minor": 5
}
