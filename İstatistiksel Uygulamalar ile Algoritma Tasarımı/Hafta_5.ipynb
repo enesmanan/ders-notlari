{
 "cells": [
  {
   "cell_type": "markdown",
   "id": "dec2e9dc-268b-441a-83b2-40658fc5d8ba",
   "metadata": {},
   "source": [
    "# İSTATİSTİKSEL UYGULAMALAR İLE ALGORİTMA TASARIMI HAFTA 5\n"
   ]
  },
  {
   "cell_type": "markdown",
   "id": "42f9863d-c56f-45ec-b600-286cc9df7b98",
   "metadata": {},
   "source": [
    "<b>SORU:</b> Klavyeden girilen pozitif sayının faktöriyel değerini hesaplayan ve dış ortama aktaran algoritmayı tasarlayınız. Algoritmanın özellikleri: \n",
    "+ Negatif giriş kontrolü yapmalı \n",
    "+ 0 ve 1 durumları göz önünde bulundurulmalı "
   ]
  },
  {
   "cell_type": "markdown",
   "id": "c671a399-4f8f-453e-af53-56cb2e0a3e22",
   "metadata": {},
   "source": [
    "## SPARKS KODU"
   ]
  },
  {
   "cell_type": "markdown",
   "id": "8bf86f31-c060-4d58-ad65-b1b673d5b96d",
   "metadata": {},
   "source": [
    "```c#\n",
    "    Faktorıyel←1 \n",
    "1:  PRINT 'Lütfen bir sayı giriniz:' \n",
    "    READ Sayi \n",
    "    IF Sayi<0 THEN GOTO 1 ENDIF \n",
    "    IF Sayi=0 | Sayi=1 THEN \n",
    "        PRINT 'Girdiğiniz sayının faktöryel değeri 1\\'dir' \n",
    "        GOTO 3 \n",
    "    ENDIF \n",
    "    K←2 \n",
    "    Faktorıyel←Faktorıyel*K \n",
    "2:  IF K<Sayi THEN \n",
    "        K←K+1 \n",
    "        GOTO 2 \n",
    "    ENDIF \n",
    "    PRINT Sayi, 'sayısının faktöriyeli=', Faktorıyel \n",
    "3:  END \n",
    "```"
   ]
  },
  {
   "cell_type": "markdown",
   "id": "93182399-ed08-4b4d-8f12-0e3ceea53705",
   "metadata": {},
   "source": [
    "## IF-ELSE-ENDIF YAPISI\n",
    "```c\n",
    "IF <Koşul> THEN \n",
    "    İŞLEM/İŞLEMLER \n",
    "ELSE IF <Koşul> THEN \n",
    "    İŞLEM/İŞLEMLER\n",
    "    .\n",
    "    .\n",
    "    .\n",
    "ELSE \n",
    "    İŞLEM/İŞLEMLER \n",
    "ENDIF \n",
    "```"
   ]
  },
  {
   "cell_type": "markdown",
   "id": "c3cb5419-c390-446b-8dc6-4cd0b8682bda",
   "metadata": {},
   "source": [
    "```c\n",
    "+----+     +-------+     +------+\n",
    "| IF |---->|ELSE IF|---->| ELSE |\n",
    "+----+     +-------+     +------+\n",
    "  |          |              |\n",
    "  v          v              v\n",
    "İŞLEM/    İŞLEM/        İŞLEM/\n",
    "İŞLEMLER  İŞLEMLER      İŞLEMLER\n",
    "  |          |              |\n",
    "  v          v              v\n",
    "+-------+     +-------+\n",
    "|ELSE IF|---->|ELSE IF|\n",
    "+-------+     +-------+\n",
    "  |          |\n",
    "  v          v\n",
    "İŞLEM/    İŞLEM/\n",
    "İŞLEMLER  İŞLEMLER\n",
    "  |          |\n",
    "  v          v\n",
    "+------+\n",
    "|ENDIF |\n",
    "+------+\n",
    "```"
   ]
  },
  {
   "cell_type": "markdown",
   "id": "6480bf96-7363-43d0-b02d-9ee33a1ac38a",
   "metadata": {},
   "source": [
    "## IF-ELSE-ENDIF YAPISI İLE SPARKS KODU"
   ]
  },
  {
   "cell_type": "markdown",
   "id": "a5ad74c3-77a5-4552-8c9b-6e2f93253dab",
   "metadata": {},
   "source": [
    "```c#\n",
    "    Faktorıyel←1 \n",
    "1:  PRINT 'Lütfen bir sayı giriniz:' \n",
    "    READ Sayi \n",
    "    IF Sayi<0 THEN \n",
    "        GOTO 1  \n",
    "    ELSE IF Sayi=0 | Sayi=1 THEN \n",
    "        PRINT 'Girdiğiniz sayının faktöryel değeri 1\\'dir'  \n",
    "    ELSE \n",
    "        K←2 \n",
    "        Faktorıyel←Faktorıyel*K \n",
    "2:      IF K<Sayi THEN \n",
    "            K←K+1 \n",
    "            GOTO 2 \n",
    "        ENDIF \n",
    "        PRINT Sayi, 'sayısının faktöriyeli=', Faktorıyel \n",
    "    ENDIF\n",
    "3:  END \n",
    "```"
   ]
  },
  {
   "cell_type": "markdown",
   "id": "d711ce84-a22f-45c0-a1b6-dfae16f0aef6",
   "metadata": {},
   "source": [
    "## PYTHON KODU"
   ]
  },
  {
   "cell_type": "markdown",
   "id": "c48a1450-292a-4eda-a00a-439f22759be5",
   "metadata": {},
   "source": [
    "```python\n",
    "sayi = int(input('Bir sayı girin: '))\n",
    "\n",
    "if sayi < 0:\n",
    "    print('Negatif sayıların faktöriyeli hesaplanamaz.')\n",
    "elif sayi == 0 or sayi == 1:\n",
    "    print('Faktöriyel = 1')\n",
    "else:\n",
    "    fact = 1\n",
    "    for i in range(1, sayi+1):\n",
    "        fact = fact * i\n",
    "    print('Faktöriyel = ', fact)\n",
    "```"
   ]
  },
  {
   "cell_type": "markdown",
   "id": "31eec7cb-daf0-4e8e-a8a3-18d4b767cb14",
   "metadata": {},
   "source": [
    "## C# KODU"
   ]
  },
  {
   "cell_type": "markdown",
   "id": "bbb58ffa-6cb3-46fc-ab83-657109fab086",
   "metadata": {},
   "source": [
    "```c#\n",
    "using System;\n",
    "\n",
    "class Program {\n",
    "    static void Main(string[] args) {\n",
    "        Console.Write(\"Bir sayı girin: \");\n",
    "        int sayi = int.Parse(Console.ReadLine());\n",
    "\n",
    "        if (sayi < 0) {\n",
    "            Console.WriteLine(\"Negatif sayıların faktöriyeli hesaplanamaz.\");\n",
    "        } else if (sayi == 0 || sayi == 1) {\n",
    "            Console.WriteLine(\"Faktöriyel = 1\");\n",
    "        } else {\n",
    "            int fact = 1;\n",
    "            for (int i = 1; i <= sayi; i++) {\n",
    "                fact *= i;\n",
    "            }\n",
    "            Console.WriteLine(\"Faktöriyel = \" + fact);\n",
    "        }\n",
    "    }\n",
    "}\n",
    "```"
   ]
  },
  {
   "cell_type": "markdown",
   "id": "817996a4-4714-4adc-a1bb-481a5d88cec7",
   "metadata": {},
   "source": [
    "<hr style='border: 0.5px solid gray; margin: 25px 0;'>"
   ]
  },
  {
   "cell_type": "markdown",
   "id": "53c53620-1ce4-4b8c-b559-70f4307c3aa4",
   "metadata": {},
   "source": [
    "<b>SORU:</b>  Bir algoritmada, işlemler dışarıdan veri girişi yapılarak yürütülmektedir. Veri girişi 0 sayısı girildiğinde sonlandırılmaktadır. Algoritmada pozitif sayı girişi istenmektedir. \n",
    "+ Girilen sayının pozitif olup olmadığı kontrol edilmekte ve gerekli yönlendirme yapılmaktadır. \n",
    "\n",
    "Aşağıdaki değerleri bulan ve dış ortama aktaran algoritmayı SPARKS dilinde tasarlayınız. \n",
    "+ Girilen tek sayıların toplamı ve kaç adet olduğu \n",
    "+ Çift sayıların harmonik ortalaması \n",
    "+ Tüm sayıların ortalaması "
   ]
  },
  {
   "cell_type": "markdown",
   "id": "874c6634-dbc6-4ff0-84a1-7e45374d12d3",
   "metadata": {},
   "source": [
    "## SPARKS KODU"
   ]
  },
  {
   "cell_type": "markdown",
   "id": "164f4278-20d9-4ff0-913f-7b6e4bca81fd",
   "metadata": {},
   "source": [
    "```c#\n",
    "    TS←0; CS←0; TekToplam←0; CiftToplam←0; Toplam←0 \n",
    "1:  PRINT 'Lütfen bir sayı giriniz:' \n",
    "    READ Sayi \n",
    "    IF Sayi<0 THEN \n",
    "        GOTO 1 \n",
    "    ELSE IF Sayi>0 THEN \n",
    "        K←Sayi \n",
    "        IF K=1 THEN \n",
    "            TS←TS+1 \n",
    "            TekToplam←TekToplam+k \n",
    "            Toplam←Toplam*K \n",
    "            GOTO 1 \n",
    "        ENDIF \n",
    "2:      K←K-2 \n",
    "        IF K>=2 THEN \n",
    "            GOTO 2 \n",
    "        ENDIF \n",
    "        IF K=0 THEN \n",
    "            CS←CS+1 \n",
    "            CiftToplam←CiftToplam+1/Sayi \n",
    "            Toplam←Toplam+Sayi \n",
    "            GOTO 1 \n",
    "        ELSE \n",
    "            TS←TS+1 \n",
    "            TekToplam←TekToplam+Sayi \n",
    "            Toplame←Toplam+Sayi \n",
    "            GOTO 1 \n",
    "        ENDIF \n",
    "    ELSE \n",
    "        PRINT 'Tek sayıların toplamı=', TekToplam \n",
    "        PRINT 'Çift sayıların harmonik ortalaması=', CS/CiftToplam \n",
    "        PRINT 'Girilen sayıların ortalaması=', Toplam/(TS+CS) \n",
    "    ENDIF \n",
    "    END \n",
    "```"
   ]
  },
  {
   "cell_type": "markdown",
   "id": "e2f34e4c-3eec-434d-b52b-202c40105ed6",
   "metadata": {},
   "source": [
    "## PYTHON KODU"
   ]
  },
  {
   "cell_type": "markdown",
   "id": "d58eed8b-7e18-4ac0-af8e-1382716ed985",
   "metadata": {},
   "source": [
    "```python\n",
    "tek_toplam, tek_sayac, cift_toplam, cift_sayac, toplam, adet = 0, 0, 0, 0, 0, 0\n",
    "\n",
    "while True:\n",
    "    sayi = int(input(\"Pozitif bir sayı girin (0 girerek çıkış yapabilirsiniz): \"))\n",
    "    if sayi == 0:\n",
    "        break\n",
    "    elif sayi < 0:\n",
    "        print(\"Negatif sayı girdiniz, pozitif sayı girin.\")\n",
    "        continue\n",
    "    \n",
    "    toplam += sayi\n",
    "    adet += 1\n",
    "    \n",
    "    if sayi % 2 == 0:\n",
    "        cift_toplam += 1/sayi\n",
    "        cift_sayac += 1\n",
    "    else:\n",
    "        tek_toplam += sayi\n",
    "        tek_sayac += 1\n",
    "\n",
    "if tek_sayac > 0:\n",
    "    tek_ortalama = tek_toplam / tek_sayac\n",
    "    print(\"Girilen tek sayıların toplamı:\", tek_toplam)\n",
    "    print(\"Girilen tek sayıların adedi:\", tek_sayac)\n",
    "else:\n",
    "    print(\"Girilen tek sayı yok.\")\n",
    "    \n",
    "if cift_sayac > 0:\n",
    "    cift_ortalama = cift_sayac / cift_toplam\n",
    "    print(\"Girilen çift sayıların harmonik ortalaması:\", cift_ortalama)\n",
    "    print(\"Girilen çift sayıların adedi:\", cift_sayac)\n",
    "else:\n",
    "    print(\"Girilen çift sayı yok.\")\n",
    "    \n",
    "if adet > 0:\n",
    "    ortalama = toplam / adet\n",
    "    print(\"Tüm sayıların ortalaması:\", ortalama)\n",
    "    print(\"Girilen toplam sayı adedi:\", adet)\n",
    "else:\n",
    "    print(\"Hiç sayı girilmedi.\")\n",
    "```"
   ]
  },
  {
   "cell_type": "markdown",
   "id": "3e489091-b1e6-4508-8674-55cfff1780b0",
   "metadata": {},
   "source": [
    "## C# KODU"
   ]
  },
  {
   "cell_type": "markdown",
   "id": "5bd2d911-af24-401a-b88e-17d2071c8cce",
   "metadata": {},
   "source": [
    "```c#\n",
    "using System;\n",
    "\n",
    "class Program {\n",
    "    static void Main(string[] args) {\n",
    "        int tek_toplam = 0, tek_sayac = 0, cift_sayac = 0, adet = 0;\n",
    "        double cift_toplam = 0, toplam = 0;\n",
    "\n",
    "        while (true) {\n",
    "            Console.Write(\"Pozitif bir sayı girin (0 girerek çıkış yapabilirsiniz): \");\n",
    "            int sayi = int.Parse(Console.ReadLine());\n",
    "\n",
    "            if (sayi == 0) {\n",
    "                break;\n",
    "            }\n",
    "            else if (sayi < 0) {\n",
    "                Console.WriteLine(\"Negatif sayı girdiniz, pozitif sayı girin.\");\n",
    "                continue;\n",
    "            }\n",
    "\n",
    "            toplam += sayi;\n",
    "            adet += 1;\n",
    "\n",
    "            if (sayi % 2 == 0) {\n",
    "                cift_toplam += 1.0 / sayi;\n",
    "                cift_sayac += 1;\n",
    "            }\n",
    "            else {\n",
    "                tek_toplam += sayi;\n",
    "                tek_sayac += 1;\n",
    "            }\n",
    "        }\n",
    "\n",
    "        if (tek_sayac > 0) {\n",
    "            double tek_ortalama = (double)tek_toplam / tek_sayac;\n",
    "            Console.WriteLine(\"Girilen tek sayıların toplamı: \" + tek_toplam);\n",
    "            Console.WriteLine(\"Girilen tek sayıların adedi: \" + tek_sayac);\n",
    "        }\n",
    "        else {\n",
    "            Console.WriteLine(\"Girilen tek sayı yok.\");\n",
    "        }\n",
    "\n",
    "        if (cift_sayac > 0) {\n",
    "            double cift_ortalama = cift_sayac / cift_toplam;\n",
    "            Console.WriteLine(\"Girilen çift sayıların harmonik ortalaması: \" + cift_ortalama);\n",
    "            Console.WriteLine(\"Girilen çift sayıların adedi: \" + cift_sayac);\n",
    "        }\n",
    "        else {\n",
    "            Console.WriteLine(\"Girilen çift sayı yok.\");\n",
    "        }\n",
    "\n",
    "        if (adet > 0) {\n",
    "            double ortalama = toplam / adet;\n",
    "            Console.WriteLine(\"Tüm sayıların ortalaması: \" + ortalama);\n",
    "            Console.WriteLine(\"Girilen toplam sayı adedi: \" + adet);\n",
    "        }\n",
    "        else {\n",
    "            Console.WriteLine(\"Hiç sayı girilmedi.\");\n",
    "        }\n",
    "    }\n",
    "}\n",
    "\n",
    "\n",
    "```"
   ]
  },
  {
   "cell_type": "markdown",
   "id": "0c5a6aca-e9dc-4572-8f6a-44d9a49c1801",
   "metadata": {},
   "source": [
    "<hr style='border: 0.5px solid gray; margin: 25px 0;'>"
   ]
  },
  {
   "cell_type": "markdown",
   "id": "aed58df1-76c5-4886-807f-3bc9baa24a38",
   "metadata": {},
   "source": [
    "<b>SORU:</b> Kaç adet x,y ve z üçlüsünün girileceği bilgisi algoritma içerisinde soru sorularak belirlenmektedir. T değişkenin değeri girilen x, y ve z üçlülerine göre aşağıdaki gibi belirlenmektedir: "
   ]
  },
  {
   "cell_type": "markdown",
   "id": "1d08ab47-5f85-4df4-8cfc-700616fc36e5",
   "metadata": {},
   "source": [
    "![soru](resimler/SORU.png)"
   ]
  },
  {
   "cell_type": "markdown",
   "id": "7ee7ee23-5a04-4a75-baec-ed865e290e61",
   "metadata": {},
   "source": [
    "## SPARKS KODU"
   ]
  },
  {
   "cell_type": "markdown",
   "id": "144e9dd2-686f-4438-adfd-8181f4e6708c",
   "metadata": {},
   "source": [
    "```c#\n",
    "    PRINT 'Kaç adet x,y,z üçlüsü girmek istiyorsunuz:' \n",
    "    READ Adet \n",
    "    K←0; Toplam←; a←1 ;case1←0; case2←0; case3←0; Toplam2←0; Toplam3←0; s←0 \n",
    "1:  PRINT 'x,y ve z üçlülerini giriniz:' \n",
    "    READ x,y,z \n",
    "    K←K+1 \n",
    "    IF x>y THEN \n",
    "        IF x+z^=0 THEN \n",
    "            T←y^x/ (3*(x+2)) \n",
    "            case1←case1+1 \n",
    "            ToplameToplam+T \n",
    "            IF a=1 THEN \n",
    "                Min←T; a←0 \n",
    "            ELSE \n",
    "                IF Min←T THEN \n",
    "                    Min←T \n",
    "                ENDIF \n",
    "            ENDIF \n",
    "        ENDIF \n",
    "        IF K<Adet THEN GOTO 1 ENDIF \n",
    "    ENDIF \n",
    "    IF x<z THEN \n",
    "        IF x*y^=0 THEN \n",
    "            T←(2*y*z+x^2)/(x*y) \n",
    "            Toplam2←Toplam2+T \n",
    "            case2←case2+1 \n",
    "            Toplam←Toplam+T \n",
    "        ENDIF \n",
    "        IF K<Adet THEN GOTO 1 ENDIF \n",
    "    ENDIF \n",
    "    IF y<z THEN \n",
    "        T←(z*y)*^2+x^3 \n",
    "        Toplam←Toplam+T \n",
    "        case3←case3+1 \n",
    "        T1←T \n",
    "        IF T1<=-3 THEN T1←T1*(-1) ENDIF \n",
    "        IF T1>=3 THEN \n",
    "2:          T1<T1-3 \n",
    "            IF T1>=3 THEN GOTO 2 ENDIF \n",
    "        ENDIF \n",
    "        IF T1=0 THEN >y \n",
    "            Toplam3←Toplam3+T \n",
    "            s←s+1 \n",
    "        ENDIF \n",
    "        IF K<Adet THEN GOTO 1 ENDIF \n",
    "    ENDIF \n",
    "    PRINT 'x>y iken en küçük T değeri=' ,Min \n",
    "    PRINT 'x<z iken hesaplanan T değerlerinin toplamı—' ,Toplam2 \n",
    "    PRINT 'y<z iken hesaplanan 3 ile bölünen T değerlerinin ortalaması=' ,Toplam3/s \n",
    "    PRINT 'Tüm hesaplanan T değerlerinin ortalaması=', Toplam/(caseltcase2*case3) \n",
    "    END\n",
    "```"
   ]
  },
  {
   "cell_type": "markdown",
   "id": "819045ce-13f2-4ef7-bd79-9eccd2121d73",
   "metadata": {},
   "source": [
    "<hr style='border: 0.5px solid gray; margin: 25px 0;'>"
   ]
  },
  {
   "cell_type": "markdown",
   "id": "db68f3ff-a01c-4dbd-8516-4ab838d61f96",
   "metadata": {},
   "source": [
    "<b>SORU:</b> Kullanıcı tarafından belirsiz sayıda girilen pozitif değerlerin kaç tanesinin asal sayı olduğunu bulan algoritmayı tasarlayınız. "
   ]
  },
  {
   "cell_type": "markdown",
   "id": "dcb9a513-bcb4-45c6-9ed7-be77fb2965a9",
   "metadata": {},
   "source": [
    "## SPARKS KODU"
   ]
  },
  {
   "cell_type": "markdown",
   "id": "280c82a2-f8ed-47da-8c8f-8b776b6350c2",
   "metadata": {},
   "source": [
    "```c#\n",
    "    Asal←0 \n",
    "    1: PRINT 'Lütfen bir sayı giriniz:'\n",
    "    READ S \n",
    "    IF S<0 THEN GOTO 1 ENDIF \n",
    "    Adet←0 \n",
    "    IF S>1 THEN \n",
    "        A←2 \n",
    "3:      K←S \n",
    "2:      K←K-A \n",
    "    IF K>=A THEN GOTO 2 ENDIF \n",
    "    IF K=0 THEN \n",
    "            Adet←Adet+1 \n",
    "        ENDIF \n",
    "        A←A+1 \n",
    "        IF A<S THEN GOTO 3 ENDIF \n",
    "    ENDIF \n",
    "    IF Adet=0 THEN \n",
    "        PRINT S,  'asal sayıdır.' \n",
    "        Asal←Asal+1 \n",
    "    ENDIF \n",
    "    PRINT 'Başka sayı girmek istiyor musunuz? E/H' \n",
    "    READ Cevap \n",
    "    IF Cevap-'E' | Cevap='e' THEN GOTO 1 ENDIF \n",
    "    PRINT 'Girilen sayılardan', Adet, 'tane sayı asaldır.' \n",
    "    END\n",
    "```"
   ]
  },
  {
   "cell_type": "markdown",
   "id": "72916c37-6473-43b3-9815-640d8cd6c4d1",
   "metadata": {},
   "source": [
    "## PYTHON KODU"
   ]
  },
  {
   "cell_type": "markdown",
   "id": "9c54f17f-725d-4139-a052-43bacecaa378",
   "metadata": {},
   "source": [
    "```python\n",
    "girilen_sayilar = input(\"Lütfen pozitif sayıları aralarında birer boşluk bırakarak girin: \")\n",
    "sayilar_listesi = girilen_sayilar.split()\n",
    "\n",
    "asal_sayi_sayisi = 0\n",
    "for sayi in sayilar_listesi:\n",
    "    if int(sayi) < 2:\n",
    "        continue\n",
    "    asal_mi = True\n",
    "    for i in range(2, int(int(sayi) ** 0.5) + 1):\n",
    "        if int(sayi) % i == 0:\n",
    "            asal_mi = False\n",
    "            break\n",
    "    if asal_mi:\n",
    "        asal_sayi_sayisi += 1\n",
    "\n",
    "print(\"Girilen sayıların\", asal_sayi_sayisi, \"tanesi asal sayıdır.\")\n",
    "```"
   ]
  },
  {
   "cell_type": "markdown",
   "id": "ef309f78-8b0b-4655-b5d7-6d32ae7256c6",
   "metadata": {},
   "source": [
    "## C# KODU"
   ]
  },
  {
   "cell_type": "markdown",
   "id": "90418204-8389-46ac-8519-d4415485bdad",
   "metadata": {},
   "source": [
    "```c#\n",
    "using System;\n",
    "\n",
    "class Program {\n",
    "    static bool AsalMi(int sayi) {\n",
    "        /*\n",
    "         * Verilen sayının asal olup olmadığını kontrol eden bir fonksiyon.\n",
    "         */\n",
    "        if (sayi < 2)\n",
    "            return false;\n",
    "        for (int i = 2; i <= Math.Sqrt(sayi); i++) {\n",
    "            if (sayi % i == 0)\n",
    "                return false;\n",
    "        }\n",
    "        return true;\n",
    "    }\n",
    "\n",
    "    static void Main(string[] args) {\n",
    "        Console.Write(\"Lütfen pozitif sayıları aralarında birer boşluk bırakarak girin: \");\n",
    "        string girilenSayilar = Console.ReadLine();\n",
    "        string[] sayilarDizisi = girilenSayilar.Split();\n",
    "\n",
    "        int asalSayiSayisi = 0;\n",
    "        foreach (string sayi in sayilarDizisi) {\n",
    "            if (AsalMi(int.Parse(sayi)))\n",
    "                asalSayiSayisi++;\n",
    "        }\n",
    "\n",
    "        Console.WriteLine(\"Girilen sayıların {0} tanesi asal sayıdır.\", asalSayiSayisi);\n",
    "    }\n",
    "}\n",
    "\n",
    "```"
   ]
  },
  {
   "cell_type": "markdown",
   "id": "6a305fac-47e0-4124-8831-7d88b19f8103",
   "metadata": {},
   "source": [
    "<hr style='border: 0.5px solid gray; margin: 25px 0;'>"
   ]
  }
 ],
 "metadata": {
  "kernelspec": {
   "display_name": "Python 3 (ipykernel)",
   "language": "python",
   "name": "python3"
  },
  "language_info": {
   "codemirror_mode": {
    "name": "ipython",
    "version": 3
   },
   "file_extension": ".py",
   "mimetype": "text/x-python",
   "name": "python",
   "nbconvert_exporter": "python",
   "pygments_lexer": "ipython3",
   "version": "3.9.16"
  }
 },
 "nbformat": 4,
 "nbformat_minor": 5
}
