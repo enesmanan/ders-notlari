{
 "cells": [
  {
   "cell_type": "markdown",
   "id": "697ee256-b47b-4aca-bdef-c59f5fbd531f",
   "metadata": {},
   "source": [
    "# İSTATİSTİKSEL UYGULAMALAR İLE ALGORİTMA TASARIMI HAFTA 3"
   ]
  },
  {
   "cell_type": "markdown",
   "id": "da699863-9d14-446a-8c66-afa9fe63935d",
   "metadata": {},
   "source": [
    "## Soru 1: Klavyeden girilen bir üst sınıra kadar aşağıdaki toplamın değerini bulan ve sonucu dış ortama aktaran algoritmayı ve akış şemasını oluşturunuz.\n",
    "\n",
    "$$ \\sum_{x=1}^{n} \\frac{(2x+5)^3}{3}  $$\n",
    "\n",
    "\n",
    "1. Adım: Başla\n",
    "2. Adım: Üst sınır değerini giriniz: (n) \n",
    "3. Adım: Üst sınır değeri sıfırdan büyük mü? Hayır ise Adım 2'ye git. \n",
    "4. Adım: Toplam = 0\n",
    "5. Adım: Değişkenin değerini 1 al. (x-1)  \n",
    "6. Adım: Toplamın değerini $(\\frac{(2xdegisken+5)^3}{3})$ kadar artır $(Toplam=Toplam+\\frac{(2xdegisken+5)^3}{3})$. \n",
    "7. Adım: Değişkenin değeri üst sınır değerinden küçük mü? Evet ise Adım 8'e Hayır ise Adım 9'a git. \n",
    "8. Adım: Değişken değerini 1 artır (x=x+1) ve Adım 6'ya git. \n",
    "9. Adım: Toplamın değerini döndür\n",
    "10. Adım: Bitir"
   ]
  },
  {
   "cell_type": "markdown",
   "id": "39d2ed32-3301-46c9-ac1b-4184fdc9d4a1",
   "metadata": {},
   "source": [
    "## Python Kodu"
   ]
  },
  {
   "cell_type": "markdown",
   "id": "b643e72f-17fc-4e17-a567-ff6b325cc9e4",
   "metadata": {},
   "source": [
    "```python\n",
    "n = int(input(\"Üst sınır değerini giriniz: \"))\n",
    "\n",
    "if n <= 0:\n",
    "    print(\"Üst sınır değeri sıfırdan büyük olmalıdır.\")\n",
    "else:\n",
    "    toplam = 0\n",
    "    x = 1\n",
    "    \n",
    "    while x < n:\n",
    "        terim = ((2*x + 5)**3)/3\n",
    "        toplam += terim\n",
    "        x += 1\n",
    "    \n",
    "    print(f\"Toplam: {toplam}\")\n",
    "\n",
    "```"
   ]
  },
  {
   "cell_type": "markdown",
   "id": "23893298-8554-4966-be37-c1bce90433cf",
   "metadata": {},
   "source": [
    "## C# Kodu"
   ]
  },
  {
   "cell_type": "markdown",
   "id": "80629ecd-fce2-4913-960c-c7caa33a9eb3",
   "metadata": {},
   "source": [
    "```c#\n",
    "using System;\n",
    "\n",
    "class MainClass {\n",
    "  public static void Main (string[] args) {\n",
    "    Console.Write(\"Üst sınır değerini giriniz: \");\n",
    "    int n = Convert.ToInt32(Console.ReadLine());\n",
    "\n",
    "    if (n <= 0) {\n",
    "      Console.WriteLine(\"Üst sınır değeri sıfırdan büyük olmalıdır.\");\n",
    "    }\n",
    "    else {\n",
    "      double toplam = 0;\n",
    "      int x = 1;\n",
    "      \n",
    "      while (x < n) {\n",
    "        double terim = Math.Pow(2*x + 5, 3)/3;\n",
    "        toplam += terim;\n",
    "        x += 1;\n",
    "      }\n",
    "      \n",
    "      Console.WriteLine(\"Toplam: {0}\", toplam);\n",
    "    }\n",
    "  }\n",
    "}\n",
    "\n",
    "```"
   ]
  },
  {
   "cell_type": "markdown",
   "id": "bb9d912c-c2e5-4c08-935c-0c1ea643337f",
   "metadata": {},
   "source": [
    "## Akış Diyagramı"
   ]
  },
  {
   "cell_type": "markdown",
   "id": "3873193f-2672-4a4b-89c7-daf43419d784",
   "metadata": {},
   "source": [
    "![haf3diyagram](resimler/hafta3_diyagram.png)"
   ]
  },
  {
   "cell_type": "markdown",
   "id": "c0422ee5-dde6-4043-83ef-de3b70e7c6eb",
   "metadata": {},
   "source": [
    "<hr style=\"border: 0.5px solid gray; margin: 25px 0;\">"
   ]
  },
  {
   "cell_type": "markdown",
   "id": "938085fd-4e61-4c2e-a4c0-93a0467bd24a",
   "metadata": {},
   "source": [
    "## Soru 2: Bir fabrikada günde 500 kg domates salçası üretilmektedir. Domatesin kilosu 35 TL'dir. Fabrikanın bir gün için kaç kilo domates aldığını ve karşılığında ödemesi gereken tutarı belirleyen ve sonucu dış ortama aktaran algoritmanın akış şemasını oluşturunuz. \n",
    "\n",
    "1. Adım: Başla\n",
    "2. Adım: Toplam = 0\n",
    "3. Adım: Kaç kilo domates alınacağını giriniz\n",
    "4. Adım: Toplamın değerini $35xkilo$ kadar artır\n",
    "5. Adım: Başka sipariş verilecek mi? Evet ise Adım 3'e git. Hayır ise Adım 6'ya git\n",
    "6. Adım: Ödenmesi gereken toplam tutarı döndür\n",
    "7. Adım: Bitir"
   ]
  },
  {
   "cell_type": "markdown",
   "id": "b52d4099-60e4-4873-a36a-e57911271e28",
   "metadata": {},
   "source": [
    "### Algoritma 2\n",
    "\n",
    "1. Adım: Başla\n",
    "2. Adım: Domates miktarını hesapla: 500 kg\n",
    "3. Adım: Bir kilo domatesin fiyatını hesapla: 35 TL\n",
    "4. Adım: Toplam tutarı hesapla: domates miktarı * bir kilo domatesin fiyatı\n",
    "5. Adım: Sonucu ekrana yazdır: \"Fabrika bugün {domates miktarı} kg domates aldı ve {toplam tutar} TL ödeme yapacak.\"\n",
    "6. Adım: Bitir"
   ]
  },
  {
   "cell_type": "markdown",
   "id": "d9e1f3fa-cc30-4e9d-a9fa-90b68e19c25f",
   "metadata": {},
   "source": [
    "## Python Kodu"
   ]
  },
  {
   "cell_type": "markdown",
   "id": "49b50fdb-fa78-4381-9923-387458ccd5f7",
   "metadata": {},
   "source": [
    "```python\n",
    "toplam = 0\n",
    "while True:\n",
    "    kilo = float(input(\"Kaç kilo domates alınacak? \"))\n",
    "    toplam += kilo * 35\n",
    "    \n",
    "    devam = input(\"Başka sipariş verilecek mi? (E/H): \")\n",
    "    if devam.lower() == \"h\":\n",
    "        break\n",
    "        \n",
    "print(f\"Ödenmesi gereken toplam tutar: {toplam} TL\")\n",
    "\n",
    "```"
   ]
  },
  {
   "cell_type": "markdown",
   "id": "7626d062-670a-4ecf-847d-50796ed52be0",
   "metadata": {},
   "source": [
    "## C# Kodu"
   ]
  },
  {
   "cell_type": "markdown",
   "id": "c8e6ff07-5ff1-476b-bc0b-fb5abd320402",
   "metadata": {},
   "source": [
    "```c#\n",
    "double toplam = 0;\n",
    "while (true)\n",
    "{\n",
    "    Console.Write(\"Kaç kilo domates alınacak? \");\n",
    "    double kilo = Convert.ToDouble(Console.ReadLine());\n",
    "    toplam += kilo * 35;\n",
    "\n",
    "    Console.Write(\"Başka sipariş verilecek mi? (E/H): \");\n",
    "    string devam = Console.ReadLine();\n",
    "    if (devam.ToLower() == \"h\")\n",
    "    {\n",
    "        break;\n",
    "    }\n",
    "}\n",
    "\n",
    "Console.WriteLine($\"Ödenmesi gereken toplam tutar: {toplam} TL\");\n",
    "\n",
    "\n",
    "```"
   ]
  },
  {
   "cell_type": "markdown",
   "id": "c3a39655-cd7d-4ed4-8ee3-31e0b49e4251",
   "metadata": {},
   "source": [
    "## Akış Diyagramı"
   ]
  },
  {
   "cell_type": "markdown",
   "id": "313df6cc-a1da-4531-b4ff-d0a0b8db0884",
   "metadata": {},
   "source": [
    "![akısdiyagram_2](resimler/akısdiyagram_2.png)"
   ]
  },
  {
   "cell_type": "markdown",
   "id": "7562f2f3-f370-475d-96e2-92d587086c95",
   "metadata": {},
   "source": [
    "<hr style=\"border: 0.5px solid gray; margin: 25px 0;\">\n"
   ]
  },
  {
   "cell_type": "markdown",
   "id": "8e925743-9bf8-4c49-a690-1e207cb18df8",
   "metadata": {},
   "source": [
    "## Soru 3: Klavyeden girilen bir sayının 9 ile kalansız bölünüp bölünmediğini belirleyen ve sonucu dış ortama aktarmak için gerekli olan akış şemasını oluşturunuz. \n",
    "1. Adım: Başla\n",
    "2. Adım: Bir sayı giriniz\n",
    "3. Adım: Eğer kalan 0 ise, \"9 ile tam bölünür\" yazdır. Değilse \"9 ile tam bölünmez\" yazdır. \n",
    "4. Adım: Bitir"
   ]
  },
  {
   "cell_type": "markdown",
   "id": "f4b4e74d-9fc5-4a43-948b-42b503fce534",
   "metadata": {},
   "source": [
    "## Python Kodu"
   ]
  },
  {
   "cell_type": "markdown",
   "id": "e3c9a061-6a24-4ec9-83a1-a12abb39f3f8",
   "metadata": {},
   "source": [
    "```python\n",
    "sayi = int(input(\"Bir sayı giriniz: \"))\n",
    "if sayi % 9 == 0:\n",
    "    print(\"9 ile tam bölünür.\")\n",
    "else:\n",
    "    print(\"9 ile tam bölünmez.\")\n",
    "\n",
    "```"
   ]
  },
  {
   "cell_type": "markdown",
   "id": "115ad8f7-b823-44d7-bbb7-6b1b31b05171",
   "metadata": {},
   "source": [
    "## C# Kodu"
   ]
  },
  {
   "cell_type": "markdown",
   "id": "3354a679-4a8e-4e44-9b0c-f610a93e8ad5",
   "metadata": {},
   "source": [
    "```c#\n",
    "Console.Write(\"Bir sayı giriniz: \");\n",
    "int sayi = Convert.ToInt32(Console.ReadLine());\n",
    "\n",
    "if (sayi % 9 == 0) \n",
    "{\n",
    "    Console.WriteLine(\"9 ile tam bölünür\");\n",
    "}\n",
    "else\n",
    "{\n",
    "    Console.WriteLine(\"9 ile tam bölünmez\");\n",
    "}\n",
    "\n",
    "\n",
    "```"
   ]
  },
  {
   "cell_type": "markdown",
   "id": "bfc0f296-1062-4666-948c-9e3078e55ceb",
   "metadata": {},
   "source": [
    "## Akış Diyagramı"
   ]
  },
  {
   "cell_type": "markdown",
   "id": "880176fd",
   "metadata": {},
   "source": [
    "![akısdiyagram_2](resimler/hafta3_diyagram3.png)"
   ]
  },
  {
   "cell_type": "markdown",
   "id": "c2cb421e-8cf6-4f1e-8ff4-8f6ac516a320",
   "metadata": {},
   "source": [
    "## Akış Diyagramının Python Kodu"
   ]
  },
  {
   "cell_type": "markdown",
   "id": "79eba852-c9e7-44af-982e-6ac7885dae8c",
   "metadata": {},
   "source": [
    "```python\n",
    "sayi = int(input('Bir sayi giriniz: '))\n",
    "if (sayi < 0):\n",
    "    sayi = sayi * -1\n",
    "else:\n",
    "    while True:\n",
    "        if (sayi < 9):\n",
    "            if (sayi == 0):\n",
    "                print('Girilen sayi 9 ile kalansiz bolunur.')\n",
    "                break\n",
    "            else:\n",
    "                print('Girilen sayi 9 ile kalansiz bolunemez.')\n",
    "                break\n",
    "        else:\n",
    "            sayi = sayi -9\n",
    "```"
   ]
  },
  {
   "cell_type": "markdown",
   "id": "fe2251b4-d689-46a1-8208-efcf80d64b9e",
   "metadata": {},
   "source": [
    "<hr style=\"border: 0.5px solid gray; margin: 25px 0;\">\n"
   ]
  },
  {
   "cell_type": "markdown",
   "id": "7b79d6f3-8a89-4fba-a9bf-ac08fe3d067d",
   "metadata": {},
   "source": [
    "## Soru 4: Klavyeden bir aralığın alt ve üst sınırları giriliyor. Belirtilen aralıkta 3 ile tam olarak bölünebilen sayıların miktarını ve toplamını bulan bir algoritma yazınız.\n",
    "\n",
    "\n",
    "1. Adım: Başla\n",
    "2. Adım: Alt sınır değerini giriniz (altSinir)\n",
    "3. Adım: Üst sınır değerini giriniz (ustSinir)\n",
    "4. Adım: Toplam = 0, Sayac = 0\n",
    "5. Adım: Alt sınır değerinden başlayarak üst sınır değerine kadar tüm sayıları kontrol et\n",
    "6. Adım: Sayı 3'e tam olarak bölünür mü? Eğer evet ise Adım 7'ye git, aksi halde Adım 8'e git\n",
    "7. Adım: Toplam değerini sayıya ekle ve sayacı 1 artır.\n",
    "8. Adım: Bir sonraki sayıya geç (sayı = sayı + 1). Eğer sayı üst sınır değerine ulaşmadıysa Adım 6'ya git, aksi halde Adım 9'a git.\n",
    "9. Adım: Sayacı ve toplamı döndür\n",
    "10. Adım: Bitir"
   ]
  },
  {
   "cell_type": "markdown",
   "id": "a27b903d-8c33-4381-aa2b-a19da50d3a90",
   "metadata": {},
   "source": [
    "## Python Kodu"
   ]
  },
  {
   "cell_type": "markdown",
   "id": "b3026845-cfd6-4619-8af7-2d61b7a28cee",
   "metadata": {},
   "source": [
    "```python\n",
    "altSinir = int(input(\"Alt sınır değerini giriniz: \"))\n",
    "ustSinir = int(input(\"Üst sınır değerini giriniz: \"))\n",
    "\n",
    "toplam = 0\n",
    "sayac = 0\n",
    "\n",
    "for i in range(altSinir, ustSinir+1):\n",
    "    if i % 3 == 0:\n",
    "        toplam += i\n",
    "        sayac += 1\n",
    "\n",
    "print(f\"Belirtilen aralıkta 3 ile tam olarak bölünebilen sayıların miktarı: {sayac}\")\n",
    "print(f\"Belirtilen aralıkta 3 ile tam olarak bölünebilen sayıların toplamı: {toplam}\")\n",
    "```"
   ]
  },
  {
   "cell_type": "markdown",
   "id": "818ee562-fd63-4449-95ff-a974bc6d5084",
   "metadata": {},
   "source": [
    "## C# Kodu"
   ]
  },
  {
   "cell_type": "markdown",
   "id": "f4236c4f-f26f-4fb0-b721-d69783402b6e",
   "metadata": {},
   "source": [
    "```c#\n",
    "using System;\n",
    "\n",
    "class Program {\n",
    "    static void Main(string[] args) {\n",
    "        Console.Write(\"Alt sınır değerini giriniz: \");\n",
    "        int altSinir = int.Parse(Console.ReadLine());\n",
    "\n",
    "        Console.Write(\"Üst sınır değerini giriniz: \");\n",
    "        int ustSinir = int.Parse(Console.ReadLine());\n",
    "\n",
    "        int toplam = 0;\n",
    "        int sayac = 0;\n",
    "\n",
    "        for (int sayi = altSinir; sayi <= ustSinir; sayi++) {\n",
    "            if (sayi % 3 == 0) {\n",
    "                toplam += sayi;\n",
    "                sayac++;\n",
    "            }\n",
    "        }\n",
    "\n",
    "        Console.WriteLine($\"Belirtilen aralıkta 3'e tam bölünen {sayac} adet sayı vardır ve bu sayıların toplamı {toplam}'dir.\");\n",
    "\n",
    "        Console.ReadLine();\n",
    "    }\n",
    "}\n",
    "\n",
    "```"
   ]
  },
  {
   "cell_type": "markdown",
   "id": "762a23d0-f227-4d9d-849d-ba8b4f42da33",
   "metadata": {},
   "source": [
    "## Akış Diyagramı"
   ]
  },
  {
   "cell_type": "markdown",
   "id": "5d4ec17d-774c-4f08-9f81-ae1b84974099",
   "metadata": {},
   "source": [
    "![3ebolunme](resimler/hafta3_3ebolunme.png)"
   ]
  },
  {
   "cell_type": "markdown",
   "id": "a429f24f-b1f0-4b43-9094-e150344548a7",
   "metadata": {},
   "source": [
    "<hr style=\"border: 0.5px solid gray; margin: 25px 0;\">\n"
   ]
  },
  {
   "cell_type": "markdown",
   "id": "2b6ae263-cf6e-4048-b037-94fd3a2d642b",
   "metadata": {},
   "source": [
    "## Soru 5: Bilinmeyen sayıda klavyeden girilen $(a,b,c)$ üçlüleri için $y=ab+c^2$ değerlerinden en küçük olan $y$ değerini bulan bir algoritma yazınız ve akış şemasını oluşturunuz. \n",
    "\n",
    "1. Adım: Başla\n",
    "2. Adım: Üçlü sayısını gir\n",
    "3. Adım: $(a,b,c)$ değerlerini gir \n",
    "4. Adım: y değerini hesapla $y=ab+c^2$ \n",
    "5. Adım: y'nin değerini minimum olarak belirle \n",
    "6. Adım: Sayı adedi = 1\n",
    "7. Adım: Sayı adedi, girilmesi gereken üçlü adedinden küçük mü? Evet ise Adım 8'e git. Hayır ise Adım 14'e git \n",
    "8. Adım: Sayı adedini 1 artır \n",
    "9. Adım: $(a,b,c)$ değerlerini oku\n",
    "10. Adım: y değerini hesapla $y=ab+c^2$ \n",
    "11. Adım: y değeri minimumdan küçük mü? Evet ise Adım 12'ye, Hayır ise Adım 7'ye git\n",
    "12. Adım: minimum değerini y'nin değeri ile güncelle\n",
    "13. Adım: Adım 7'ye git \n",
    "14. Adım: En küçük y değerini döndür \n",
    "15. Adım: Bitir"
   ]
  },
  {
   "cell_type": "markdown",
   "id": "cade3ba8-8e58-441d-b16b-0891513fa38a",
   "metadata": {},
   "source": [
    "## Python Kodu"
   ]
  },
  {
   "cell_type": "markdown",
   "id": "626cf7ed-02b1-4025-9797-34333f0bcee6",
   "metadata": {},
   "source": [
    "```python\n",
    "n = int(input(\"Üçlü sayısını giriniz: \"))\n",
    "minimum_y = float('inf')\n",
    "sayac = 1\n",
    "while sayac <= n:\n",
    "    a, b, c = input(\"{}. üçlüyü giriniz (a,b,c): \".format(sayac)).split(\",\")\n",
    "    a = int(a)\n",
    "    b = int(b)\n",
    "    c = int(c)\n",
    "\n",
    "    y = a * b + c ** 2\n",
    "\n",
    "    if y < minimum_y:\n",
    "        minimum_y = y\n",
    "\n",
    "    sayac += 1\n",
    "    \n",
    "print(\"En küçük y değeri: \", minimum_y)\n",
    "# 11. Adım: Bitir\n",
    "```"
   ]
  },
  {
   "cell_type": "markdown",
   "id": "d015fe91-c16d-4bf2-80f4-046245f5db7c",
   "metadata": {},
   "source": [
    "## C# Kodu"
   ]
  },
  {
   "cell_type": "markdown",
   "id": "b56c3d05-8516-4364-95ad-836d0fb75b6f",
   "metadata": {},
   "source": [
    "```c#\n",
    "using System;\n",
    "\n",
    "class Program {\n",
    "    static void Main(string[] args) {\n",
    "        Console.WriteLine(\"Üçlü sayısını girin:\");\n",
    "        int n = Convert.ToInt32(Console.ReadLine());\n",
    "\n",
    "        int sayiAdedi = 1;\n",
    "        int minimum = int.MaxValue;\n",
    "\n",
    "        while (sayiAdedi <= n) {\n",
    "            Console.WriteLine(\"a değerini girin:\");\n",
    "            int a = Convert.ToInt32(Console.ReadLine());\n",
    "\n",
    "            Console.WriteLine(\"b değerini girin:\");\n",
    "            int b = Convert.ToInt32(Console.ReadLine());\n",
    "\n",
    "            Console.WriteLine(\"c değerini girin:\");\n",
    "            int c = Convert.ToInt32(Console.ReadLine());\n",
    "\n",
    "            int y = a * b + c * c;\n",
    "\n",
    "            if (y < minimum) {\n",
    "                minimum = y;\n",
    "            }\n",
    "\n",
    "            sayiAdedi++;\n",
    "        }\n",
    "\n",
    "        Console.WriteLine(\"En küçük y değeri: \" + minimum);\n",
    "    }\n",
    "}\n",
    "\n",
    "```"
   ]
  },
  {
   "cell_type": "markdown",
   "id": "8a265072-1da8-44e2-bb7f-611ff7eba50b",
   "metadata": {},
   "source": [
    "## Akış Diyagramı"
   ]
  },
  {
   "cell_type": "markdown",
   "id": "ddab5d85-fec9-47a0-8596-6566337ab5f0",
   "metadata": {},
   "source": [
    "![son_diyagram](resimler/hafta3_sondiyagram.png)"
   ]
  }
 ],
 "metadata": {
  "kernelspec": {
   "display_name": "Python 3 (ipykernel)",
   "language": "python",
   "name": "python3"
  },
  "language_info": {
   "codemirror_mode": {
    "name": "ipython",
    "version": 3
   },
   "file_extension": ".py",
   "mimetype": "text/x-python",
   "name": "python",
   "nbconvert_exporter": "python",
   "pygments_lexer": "ipython3",
   "version": "3.9.16"
  }
 },
 "nbformat": 4,
 "nbformat_minor": 5
}
