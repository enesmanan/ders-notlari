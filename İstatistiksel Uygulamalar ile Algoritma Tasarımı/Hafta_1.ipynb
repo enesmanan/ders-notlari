{
 "cells": [
  {
   "cell_type": "markdown",
   "id": "697ee256-b47b-4aca-bdef-c59f5fbd531f",
   "metadata": {},
   "source": [
    "# İSTATİSTİKSEL UYGULAMALAR İLE ALGORİTMA TASARIMI"
   ]
  },
  {
   "cell_type": "markdown",
   "id": "da699863-9d14-446a-8c66-afa9fe63935d",
   "metadata": {},
   "source": [
    "## Soru 1: İki sayının çarpımını bulan algoritmayı tasarlayınız.\n",
    "\n",
    "1. Adım: Başla\n",
    "2. Adım: İlk sayıyı oku\n",
    "3. Adım: İkinci sayıyı oku\n",
    "4. Adım: İki sayıyı çarp \n",
    "5. Adım: Sonucu döndür \n",
    "6. Adım: Bitir"
   ]
  },
  {
   "cell_type": "markdown",
   "id": "39d2ed32-3301-46c9-ac1b-4184fdc9d4a1",
   "metadata": {},
   "source": [
    "## Python Kodu"
   ]
  },
  {
   "cell_type": "markdown",
   "id": "b643e72f-17fc-4e17-a567-ff6b325cc9e4",
   "metadata": {},
   "source": [
    "```python\n",
    "# İki sayıyı kullanıcıdan al\n",
    "sayi1 = int(input(\"İlk sayıyı giriniz: \"))\n",
    "sayi2 = int(input(\"İkinci sayıyı giriniz: \"))\n",
    "\n",
    "# İki sayıyı çarp ve sonucu yazdır\n",
    "carp = sayi1 * sayi2\n",
    "print(\"Sonuc: \", carp)\n",
    "```"
   ]
  },
  {
   "cell_type": "markdown",
   "id": "23893298-8554-4966-be37-c1bce90433cf",
   "metadata": {},
   "source": [
    "## C# Kodu"
   ]
  },
  {
   "cell_type": "markdown",
   "id": "80629ecd-fce2-4913-960c-c7caa33a9eb3",
   "metadata": {},
   "source": [
    "```c#\n",
    "using System;\n",
    "\n",
    "class Program {\n",
    "    static void Main(string[] args) {\n",
    "        // İki sayıyı kullanıcıdan al\n",
    "        Console.Write(\"İlk sayıyı giriniz: \");\n",
    "        int sayi1 = int.Parse(Console.ReadLine());\n",
    "\n",
    "        Console.Write(\"İkinci sayıyı giriniz: \");\n",
    "        int sayi2 = int.Parse(Console.ReadLine());\n",
    "\n",
    "        // İki sayıyı çarp ve sonucu yazdır\n",
    "        int carp = sayi1 * sayi2;\n",
    "        Console.WriteLine(\"Sonuc: \" + carp);\n",
    "    }\n",
    "}\n",
    "\n",
    "```"
   ]
  },
  {
   "cell_type": "markdown",
   "id": "c0422ee5-dde6-4043-83ef-de3b70e7c6eb",
   "metadata": {},
   "source": [
    "<hr style=\"border: 0.5px solid gray; margin: 25px 0;\">"
   ]
  },
  {
   "cell_type": "markdown",
   "id": "938085fd-4e61-4c2e-a4c0-93a0467bd24a",
   "metadata": {},
   "source": [
    "## Soru 2: Klavyeden girilen 50 sayının ortalamasını bulan algoritmayı tasarlayınız.\n",
    "\n",
    "1. Adım: Başla\n",
    "2. Adım: Sayı adedi = 0\n",
    "3. Adım: Toplam değer = 0\n",
    "4. Adım: Girilen sayıyı oku \n",
    "5. Adım: Sayı adedini 1 artır \n",
    "6. Adım: Toplamın değerini girilen sayının değeri kadar artır\n",
    "7. Adım: Sayı adedi 50'den küçük mü? Evet ise Adım 4'e git\n",
    "8. Adım: Ortalamayı toplamın değerini sayı adedine bölerek belirle\n",
    "9. Adım: Ortalamayı döndür\n",
    "10. Adım: Bitir"
   ]
  },
  {
   "cell_type": "markdown",
   "id": "2ee22b4c-615d-4332-97cc-b1fe728871a7",
   "metadata": {},
   "source": [
    "![resim1](Resimler\\hafta_1_algoritma_2.png)"
   ]
  },
  {
   "cell_type": "markdown",
   "id": "d9e1f3fa-cc30-4e9d-a9fa-90b68e19c25f",
   "metadata": {},
   "source": [
    "## Python Kodu"
   ]
  },
  {
   "cell_type": "markdown",
   "id": "49b50fdb-fa78-4381-9923-387458ccd5f7",
   "metadata": {},
   "source": [
    "```python\n",
    "# Adım 1: Başla\n",
    "# Adım 2: Sayı adedi = 0\n",
    "sayi_adedi = 0\n",
    "\n",
    "# Adım 3: Toplam değer = 0\n",
    "toplam = 0\n",
    "\n",
    "# Adım 7: Sayı adedi 50'den küçük mü? Evet ise Adım 4'e git\n",
    "while sayi_adedi < 5:\n",
    "    # Adım 4: Girilen sayıyı oku \n",
    "    girilen_sayi = int(input(\"Sayı giriniz: \"))\n",
    "\n",
    "    # Adım 5: Sayı adedini 1 artır \n",
    "    sayi_adedi += 1\n",
    "\n",
    "    # Adım 6: Toplamın değerini girilen sayının değeri kadar artır\n",
    "    toplam += girilen_sayi\n",
    "\n",
    "# Adım 8: Ortalamayı toplamın değerini sayı adedine bölerek belirle\n",
    "ortalama = toplam / sayi_adedi\n",
    "\n",
    "# Adım 9: Ortalamayı döndür\n",
    "print(\"Ortalama: \", ortalama)\n",
    "\n",
    "# Adım 10: Bitir\n",
    "```"
   ]
  },
  {
   "cell_type": "markdown",
   "id": "7626d062-670a-4ecf-847d-50796ed52be0",
   "metadata": {},
   "source": [
    "## C# Kodu"
   ]
  },
  {
   "cell_type": "markdown",
   "id": "c8e6ff07-5ff1-476b-bc0b-fb5abd320402",
   "metadata": {},
   "source": [
    "```c#\n",
    "using System;\n",
    "\n",
    "class Program {\n",
    "    static void Main(string[] args) {\n",
    "        // Adım 2: Sayı adedi = 0\n",
    "        int sayi_adedi = 0;\n",
    "\n",
    "        // Adım 3: Toplam değer = 0\n",
    "        int toplam = 0;\n",
    "\n",
    "        // Adım 7: Sayı adedi 50'den küçük mü? Evet ise Adım 4'e git\n",
    "        while (sayi_adedi < 50) {\n",
    "            // Adım 4: Girilen sayıyı oku \n",
    "            Console.Write(\"Sayı giriniz: \");\n",
    "            int girilen_sayi = int.Parse(Console.ReadLine());\n",
    "\n",
    "            // Adım 5: Sayı adedini 1 artır \n",
    "            sayi_adedi++;\n",
    "\n",
    "            // Adım 6: Toplamın değerini girilen sayının değeri kadar artır\n",
    "            toplam += girilen_sayi;\n",
    "        }\n",
    "\n",
    "        // Adım 8: Ortalamayı toplamın değerini sayı adedine bölerek belirle\n",
    "        double ortalama = (double)toplam / sayi_adedi;\n",
    "\n",
    "        // Adım 9: Ortalamayı döndür\n",
    "        Console.WriteLine(\"Ortalama: \" + ortalama);\n",
    "\n",
    "        // Adım 10: Bitir\n",
    "    }\n",
    "}\n",
    "\n",
    "\n",
    "```"
   ]
  },
  {
   "cell_type": "markdown",
   "id": "30e3f20c-3c44-4488-805f-45c3e1312b70",
   "metadata": {},
   "source": [
    "<table>\n",
    "  <tr>\n",
    "    <td><b>Adım</b></td>\n",
    "    <td><b>Değişkenler</b></td>\n",
    "    <td><b>Ekran Çıktısı</b></td>\n",
    "  </tr>\n",
    "  <tr>\n",
    "    <td>1</td>\n",
    "    <td>-</td>\n",
    "    <td>Başla</td>\n",
    "  </tr>\n",
    "  <tr>\n",
    "    <td>2</td>\n",
    "    <td>sayi_adedi = 0</td>\n",
    "    <td>-</td>\n",
    "  </tr>\n",
    "  <tr>\n",
    "    <td>3</td>\n",
    "    <td>toplam = 0</td>\n",
    "    <td>-</td>\n",
    "  </tr>\n",
    "  <tr>\n",
    "    <td>4</td>\n",
    "    <td>girilen_sayi = Okunan değer</td>\n",
    "    <td>-</td>\n",
    "  </tr>\n",
    "  <tr>\n",
    "    <td>5</td>\n",
    "    <td>sayi_adedi = sayi_adedi + 1</td>\n",
    "    <td>-</td>\n",
    "  </tr>\n",
    "  <tr>\n",
    "    <td>6</td>\n",
    "    <td>toplam = toplam + girilen_sayi</td>\n",
    "    <td>-</td>\n",
    "  </tr>\n",
    "  <tr>\n",
    "    <td>7</td>\n",
    "    <td>-</td>\n",
    "    <td>Sayı adedi 50'den küçük mü? Evet ise Adım 4'e git</td>\n",
    "  </tr>\n",
    "  <tr>\n",
    "    <td>8</td>\n",
    "    <td>ortalama = toplam / sayi_adedi</td>\n",
    "    <td>-</td>\n",
    "  </tr>\n",
    "  <tr>\n",
    "    <td>9</td>\n",
    "    <td>-</td>\n",
    "    <td>Ortalama: ortalama</td>\n",
    "  </tr>\n",
    "  <tr>\n",
    "    <td>10</td>\n",
    "    <td>-</td>\n",
    "    <td>Bitir</td>\n",
    "  </tr>\n",
    "</table>\n"
   ]
  },
  {
   "cell_type": "markdown",
   "id": "7562f2f3-f370-475d-96e2-92d587086c95",
   "metadata": {},
   "source": [
    "<hr style=\"border: 0.5px solid gray; margin: 25px 0;\">\n"
   ]
  },
  {
   "cell_type": "markdown",
   "id": "8e925743-9bf8-4c49-a690-1e207cb18df8",
   "metadata": {},
   "source": [
    "## Soru 3: Bir giyim mağazasında bir günde 10 farklı elbisenin satış biktarları verilmiştir. Toplam satış miktarını ve elde edilen hasılatı belirleyen algoritmayı tasarlayınız\n",
    "\n",
    "1. Adım: Başla\n",
    "2. Adım: Elbise türü = 1\n",
    "3. Adım: Toplam satış miktarı = 0\n",
    "4. Adım: Toplam satış hasılatı = 0\n",
    "5. Adım: Girilen satış miktarını oku\n",
    "6. Adım: Girilen birim satış fiyatını oku\n",
    "7. Adım: Toplam satış miktarını girilen satış miktarı kadar artır\n",
    "8. Adım: Elbisenin günlük hasılatını, satış miktarı ve birim satış fiyatı ile çarparak belirle\n",
    "9. Adım: Toplam satış hasılatını elbisenin günlük hasılatı kadar artır\n",
    "10. Adım: Elbise türünü 1 atrır\n",
    "11. Adım: Elbise türü 10'dan küçük veya 10'a eşit mi? Evet ise Adım 5'e git\n",
    "12. Adım: Toplam satış miktarını döndür\n",
    "13. Adım: Toplam satış hasılatını döndür\n",
    "14. Adım: Bitir"
   ]
  },
  {
   "cell_type": "markdown",
   "id": "4bea24b3-6591-4966-9dda-37c814d81c08",
   "metadata": {},
   "source": [
    "![resim2](Resimler\\hafta_1_algoritma_3.png)"
   ]
  },
  {
   "cell_type": "markdown",
   "id": "f4b4e74d-9fc5-4a43-948b-42b503fce534",
   "metadata": {},
   "source": [
    "## Python Kodu"
   ]
  },
  {
   "cell_type": "markdown",
   "id": "e3c9a061-6a24-4ec9-83a1-a12abb39f3f8",
   "metadata": {},
   "source": [
    "```python\n",
    "toplam_satis_miktari = 0\n",
    "toplam_hasilat = 0\n",
    "\n",
    "# 10 farklı elbise için döngü oluştur\n",
    "for i in range(1, 11):\n",
    "    # kullanıcıdan elbise miktarını ve birim fiyatını iste\n",
    "    elbise_miktari = int(input(\"Elbise {} için satış miktarını girin:\".format(i)))\n",
    "    birim_fiyat = float(input(\"Elbise {} için birim fiyatını girin:\".format(i)))\n",
    "    \n",
    "    # Toplam satış miktarını güncelle\n",
    "    toplam_satis_miktari += elbise_miktari\n",
    "    \n",
    "    # Elbise günlük hasılatını hesapla ve toplam hasılatı güncelle\n",
    "    gunluk_hasilat = elbise_miktari * birim_fiyat\n",
    "    toplam_hasilat += gunluk_hasilat\n",
    "\n",
    "# Toplam satış miktarını ve hasılatı yazdır\n",
    "print(\"Toplam satış miktarı:\", toplam_satis_miktari)\n",
    "print(\"Toplam hasılat:\", toplam_hasilat)\n",
    "```"
   ]
  },
  {
   "cell_type": "markdown",
   "id": "115ad8f7-b823-44d7-bbb7-6b1b31b05171",
   "metadata": {},
   "source": [
    "## C# Kodu"
   ]
  },
  {
   "cell_type": "markdown",
   "id": "3354a679-4a8e-4e44-9b0c-f610a93e8ad5",
   "metadata": {},
   "source": [
    "```c#\n",
    "using System;\n",
    "\n",
    "public class Program\n",
    "{\n",
    "    public static void Main()\n",
    "    {\n",
    "        int toplamSatisMiktari = 0;\n",
    "        double toplamHasilat = 0.0;\n",
    "\n",
    "        // 10 farklı elbise için döngü oluştur\n",
    "        for (int i = 1; i <= 10; i++)\n",
    "        {\n",
    "            // kullanıcıdan elbise miktarını ve birim fiyatını iste\n",
    "            Console.Write(\"Elbise \" + i + \" için satış miktarını girin: \");\n",
    "            int elbiseMiktari = Convert.ToInt32(Console.ReadLine());\n",
    "\n",
    "            Console.Write(\"Elbise \" + i + \" için birim fiyatını girin: \");\n",
    "            double birimFiyat = Convert.ToDouble(Console.ReadLine());\n",
    "            \n",
    "            // Toplam satış miktarını güncelle\n",
    "            toplamSatisMiktari += elbiseMiktari;\n",
    "            \n",
    "            // Elbise günlük hasılatını hesapla ve toplam hasılatı güncelle\n",
    "            double gunlukHasilat = elbiseMiktari * birimFiyat;\n",
    "            toplamHasilat += gunlukHasilat;\n",
    "        }\n",
    "\n",
    "        // Toplam satış miktarını ve hasılatı yazdır\n",
    "        Console.WriteLine(\"Toplam satış miktarı: \" + toplamSatisMiktari);\n",
    "        Console.WriteLine(\"Toplam hasılat: \" + toplamHasilat);\n",
    "    }\n",
    "}\n",
    "\n",
    "```"
   ]
  },
  {
   "cell_type": "markdown",
   "id": "fe2251b4-d689-46a1-8208-efcf80d64b9e",
   "metadata": {},
   "source": [
    "<hr style=\"border: 0.5px solid gray; margin: 25px 0;\">\n"
   ]
  },
  {
   "cell_type": "markdown",
   "id": "7b79d6f3-8a89-4fba-a9bf-ac08fe3d067d",
   "metadata": {},
   "source": [
    "## Soru 4: Bir sınıftaki öğrencilerin başarı ortalaması ve varyansı belirlenmek istenmektedir. Bunun için öğrencilerin başarı skorları istenmekte ve değerler öğrenildikten sonra hesaplamalar yaptırılmakta ve sonuç belirtilmektedir. Bu işlemleri yapacak algoritmayı tasarlayınız.\n",
    "\n",
    "1. Adım: Başla\n",
    "2. Adım: Girilen öğrenci sayısını oku\n",
    "3. Adım: Adet = 0\n",
    "4. Adım: Toplam = 0\n",
    "5. Adım: Kareler toplamı = 0\n",
    "6. Adım: Girilen notu oku \n",
    "7. Adım: Toplam değerini sayının değeri kadar artır\n",
    "8. Adım: Kareler toplamını sayının karesi kadar artır\n",
    "9. Adım: Adedi 1 artır\n",
    "10. Adım: Adet < öğrenci sayısı mı? Evet ise adım 6'ya git\n",
    "11. Adım: Not ortalamasını, Toplam değerini öğrenci sayısına bölerek belirle\n",
    "12. Adım: Kareler toplamından, toplamın karesinin öğrenci sayısı ile bölümünü çıkar\n",
    "13. Adım: Adım 12’deki farkı, öğrenci sayısının 1 eksiği ile bölerek varyansı hesapla\n",
    "14. Adım: Not ortalamasını döndür\n",
    "15. Adım: Varyansı döndür\n",
    "16. Adım: Bitir"
   ]
  },
  {
   "cell_type": "markdown",
   "id": "3ae521cd-0a27-4e5b-a2de-c33581fcfe40",
   "metadata": {},
   "source": [
    "## $\\text{varyans} = \\frac{\\sum_{i=1}^{n}(x_i - \\bar{x})^2}{n-1}$"
   ]
  },
  {
   "cell_type": "markdown",
   "id": "f05519c5-e130-4fbf-87db-34561e645894",
   "metadata": {},
   "source": [
    "![resim3](Resimler\\hafta_1_algoritma_4.png)"
   ]
  },
  {
   "cell_type": "markdown",
   "id": "a27b903d-8c33-4381-aa2b-a19da50d3a90",
   "metadata": {},
   "source": [
    "## Python Kodu"
   ]
  },
  {
   "cell_type": "markdown",
   "id": "b3026845-cfd6-4619-8af7-2d61b7a28cee",
   "metadata": {},
   "source": [
    "```python\n",
    "ogrenci_sayisi = int(input(\"Öğrenci sayısını giriniz: \"))\n",
    "adet = 0\n",
    "toplam = 0\n",
    "kareler_toplami = 0\n",
    "\n",
    "while adet < ogrenci_sayisi:\n",
    "    notu = float(input(\"Notu giriniz: \"))\n",
    "    toplam += notu\n",
    "    kareler_toplami += notu ** 2\n",
    "    adet += 1\n",
    "\n",
    "not_ortalamasi = toplam / ogrenci_sayisi\n",
    "varyans = (kareler_toplami - (toplam ** 2) / ogrenci_sayisi) / (ogrenci_sayisi - 1)\n",
    "\n",
    "print(\"Not ortalaması:\", not_ortalamasi)\n",
    "print(\"Varyans:\", varyans)\n",
    "```"
   ]
  },
  {
   "cell_type": "markdown",
   "id": "818ee562-fd63-4449-95ff-a974bc6d5084",
   "metadata": {},
   "source": [
    "## C# Kodu"
   ]
  },
  {
   "cell_type": "markdown",
   "id": "f4236c4f-f26f-4fb0-b721-d69783402b6e",
   "metadata": {},
   "source": [
    "```c#\n",
    "using System;\n",
    "\n",
    "class Program\n",
    "{\n",
    "    static void Main(string[] args)\n",
    "    {\n",
    "        Console.Write(\"Öğrenci sayısını giriniz: \");\n",
    "        int ogrenciSayisi = int.Parse(Console.ReadLine());\n",
    "        double toplam = 0, karelerToplami = 0;\n",
    "        for (int i = 1; i <= ogrenciSayisi; i++)\n",
    "        {\n",
    "            Console.Write(\"{0}. öğrencinin notunu giriniz: \", i);\n",
    "            double not = double.Parse(Console.ReadLine());\n",
    "            toplam += not;\n",
    "            karelerToplami += not * not;\n",
    "        }\n",
    "        double ortalama = toplam / ogrenciSayisi;\n",
    "        double varyans = (karelerToplami - (toplam * toplam) / ogrenciSayisi) / (ogrenciSayisi - 1);\n",
    "        Console.WriteLine(\"Not ortalaması: {0}\", ortalama);\n",
    "        Console.WriteLine(\"Varyans: {0}\", varyans);\n",
    "    }\n",
    "}\n",
    "```"
   ]
  },
  {
   "cell_type": "markdown",
   "id": "a429f24f-b1f0-4b43-9094-e150344548a7",
   "metadata": {},
   "source": [
    "<hr style=\"border: 0.5px solid gray; margin: 25px 0;\">\n"
   ]
  },
  {
   "cell_type": "markdown",
   "id": "2b6ae263-cf6e-4048-b037-94fd3a2d642b",
   "metadata": {},
   "source": [
    "## Soru 5: Beş arkadaştan içlerinde en uzun boylu olan belirlenmek isteniyor. Bunu belirleyecek algoritmayı tasarlayınız.\n",
    "\n",
    "1. Adım: Başla\n",
    "2. Adım: Kişi sayısı = 0\n",
    "3. Adım: Girilen ilk boy uzunluğunu oku\n",
    "4. Adım: Bu değeri en uzun boy olarak belirle\n",
    "5. Adım: Kişi sayısını 1 artır\n",
    "6. Adım: Boy uzunluğunu oku\n",
    "7. Adım: Boy uzunluğu, en uzun boydan büyük mü? Evet ise Adım 8'e git, Hayır ise Adım 9'a git\n",
    "8. Adım: En uzun boyu, boy uzunluğu ile güncelle\n",
    "9. Adım: Kişi sayısı<5 mi? Evet ise Adım 5’e git\n",
    "10. Adım: En uzun boyu döndür\n",
    "11. Adım: Bitir"
   ]
  },
  {
   "cell_type": "markdown",
   "id": "cade3ba8-8e58-441d-b16b-0891513fa38a",
   "metadata": {},
   "source": [
    "## Python Kodu"
   ]
  },
  {
   "cell_type": "markdown",
   "id": "626cf7ed-02b1-4025-9797-34333f0bcee6",
   "metadata": {},
   "source": [
    "```python\n",
    "# 1. Adım: Başla\n",
    "# 2. Adım: Kişi sayısı = 0\n",
    "kisi_sayisi = 0\n",
    "\n",
    "# 3. Adım: Girilen ilk boy uzunluğunu oku\n",
    "# 4. Adım: Bu değeri en uzun boy olarak belirle\n",
    "en_uzun_boy = float(input(\"Boy uzunluğunu giriniz: \"))\n",
    "\n",
    "# 5. Adım: Kişi sayısını 1 artır\n",
    "kisi_sayisi += 1\n",
    "\n",
    "while kisi_sayisi < 5:\n",
    "    # 6. Adım: Boy uzunluğunu oku\n",
    "    boy = float(input(\"Boy uzunluğunu giriniz: \"))\n",
    "    \n",
    "    if boy > en_uzun_boy:\n",
    "        # 8. Adım: En uzun boyu, boy uzunluğu ile güncelle\n",
    "        en_uzun_boy = boy\n",
    "    \n",
    "    # 9. Adım: Kişi sayısı<5 mi? Evet ise Adım 5’e git\n",
    "    \n",
    "    # 5. Adım: Kişi sayısını 1 artır\n",
    "    kisi_sayisi += 1\n",
    "\n",
    "# 10. Adım: En uzun boyu döndür\n",
    "print(f\"En uzun boy: {en_uzun_boy}\")\n",
    "\n",
    "# 11. Adım: Bitir\n",
    "```"
   ]
  },
  {
   "cell_type": "markdown",
   "id": "d015fe91-c16d-4bf2-80f4-046245f5db7c",
   "metadata": {},
   "source": [
    "## C# Kodu"
   ]
  },
  {
   "cell_type": "markdown",
   "id": "b56c3d05-8516-4364-95ad-836d0fb75b6f",
   "metadata": {},
   "source": [
    "```c#\n",
    "using System;\n",
    "\n",
    "class Program {\n",
    "    static void Main(string[] args) {\n",
    "        int kisiSayisi = 0;\n",
    "        double enUzunBoy = 0;\n",
    "\n",
    "        Console.Write(\"1. kişinin boyunu giriniz: \");\n",
    "        double boy = double.Parse(Console.ReadLine());\n",
    "        enUzunBoy = boy;\n",
    "\n",
    "        kisiSayisi++;\n",
    "\n",
    "        while (kisiSayisi < 5) {\n",
    "            Console.Write(\"{0}. kişinin boyunu giriniz: \", kisiSayisi + 1);\n",
    "            boy = double.Parse(Console.ReadLine());\n",
    "\n",
    "            if (boy > enUzunBoy) {\n",
    "                enUzunBoy = boy;\n",
    "            }\n",
    "\n",
    "            kisiSayisi++;\n",
    "        }\n",
    "\n",
    "        Console.WriteLine(\"En uzun boy: {0}\", enUzunBoy);\n",
    "    }\n",
    "}\n",
    "\n",
    "```"
   ]
  }
 ],
 "metadata": {
  "kernelspec": {
   "display_name": "Python 3 (ipykernel)",
   "language": "python",
   "name": "python3"
  },
  "language_info": {
   "codemirror_mode": {
    "name": "ipython",
    "version": 3
   },
   "file_extension": ".py",
   "mimetype": "text/x-python",
   "name": "python",
   "nbconvert_exporter": "python",
   "pygments_lexer": "ipython3",
   "version": "3.9.16"
  }
 },
 "nbformat": 4,
 "nbformat_minor": 5
}
