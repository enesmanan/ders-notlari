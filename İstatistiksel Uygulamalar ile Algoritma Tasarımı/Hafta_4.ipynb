{
 "cells": [
  {
   "cell_type": "markdown",
   "id": "72c1e364-e36b-4ceb-8232-bfdb0ef3454c",
   "metadata": {},
   "source": [
    "# İSTATİSTİKSEL UYGULAMALAR İLE ALGORİTMA TASARIMI HAFTA 4"
   ]
  },
  {
   "cell_type": "markdown",
   "id": "c3692e6d-9b67-429b-b2a1-3e0c122ba6cf",
   "metadata": {},
   "source": [
    "## SPARKS ALGORİTMA DİLİ"
   ]
  },
  {
   "cell_type": "markdown",
   "id": "a0161495-b506-430f-b059-8a2a229819b9",
   "metadata": {},
   "source": [
    "#### Aritmetik işlemciler:\n",
    "\n",
    "    a) Üs alma işlemcisi: ^\n",
    "    b) Çarpma/bölme: *, / \n",
    "    c) Toplama/ çıkarma: +, -\n",
    "#### Mantıksal işlemciler:\n",
    "\n",
    "    a) Değil: NOT veya ^\n",
    "    b) Ve: AND veya & \n",
    "    c) Veya: OR veya | \n",
    "#### İlişkisel işlemciler: \n",
    "\n",
    "    a) Eşit: = \n",
    "    b) Küçük: < \n",
    "    c) Büyük: > \n",
    "    d) Eşit değil: ^=\n",
    "    e) Küçük eşit: <= \n",
    "    f) Büyük eşit: >="
   ]
  },
  {
   "cell_type": "markdown",
   "id": "c08fb73b-761d-499f-87df-3aa97c3324ed",
   "metadata": {},
   "source": [
    "## Örnekler:\n",
    "+ $8+3*15-4=49$\n",
    "+ $(8+3)*(15-4)=41$\n",
    "+ $20/4^2*(3-7)=-5$"
   ]
  },
  {
   "cell_type": "markdown",
   "id": "ff4dd5f6-618f-4483-b7ac-b169f09c62ac",
   "metadata": {},
   "source": [
    "## İşlem önceliği\n",
    "    1.Parantez içleri\n",
    "    2.Üs alma işlemleri\n",
    "    3.Çarpma ve bölme işlemleri\n",
    "    4.Toplama ve çıkarma işlemleri\n"
   ]
  },
  {
   "cell_type": "markdown",
   "id": "cf8a018b-267d-4777-abf7-cf1c8d8918ee",
   "metadata": {},
   "source": [
    "<b>Örnek:</b> a = 5 + 6 / 3 - 2 * 4^2 + (8/2-1)\n",
    "\n",
    "Bu ifade, işlem önceliği kurallarına göre şu şekilde çözümlenir:\n",
    "\n",
    "Parantez içi: $()$\n",
    "\n",
    "$\\to$  a = 5 + 6 / 3 - 2 * 4^2 + 3\n",
    "\n",
    "Üs alma işlemi: ^\n",
    "\n",
    "$\\to$ a = 5 + 6 / 3 - 2 * 16 + 3\n",
    "\n",
    "Çarpma ve bölme işlemleri: $*, /$\n",
    "\n",
    "$\\to$ a = 5 + 2 - 32 + 3\n",
    "\n",
    "Toplama ve çıkarma işlemleri: $+, -$\n",
    "\n",
    "$\\to$  a = -22\n"
   ]
  },
  {
   "cell_type": "markdown",
   "id": "2715cf10-6a58-469b-8b74-33b68deef67b",
   "metadata": {},
   "source": [
    "### Değişkenler ve Değişkenlere Değer Atama"
   ]
  },
  {
   "cell_type": "markdown",
   "id": "66955d9f-f907-4a47-8482-ebf8a453e198",
   "metadata": {},
   "source": [
    "#### Değişken Nedir?\n",
    "Değişkenler, programın çalışması sırasında, programcı tarafından tanımlandıkları ve kullanıldıkları alanda, geçici olarak bir değer tutarlar. Değişkenler, program içinde farklı yerlerde kullanılabilir ve programın farklı yerlerinde değiştirilebilirler.\n",
    "\n",
    "Değişkenler, bir program içinde, veri işleme, matematiksel işlemler yapma, karar verme, döngüler oluşturma ve verileri saklama gibi birçok işlemde kullanılabilirler. Değişkenler, programların esnekliğini artırır ve verileri daha düzenli bir şekilde yönetmeyi sağlar."
   ]
  },
  {
   "cell_type": "markdown",
   "id": "5f6404e8-24b8-4ac1-a9ba-a69fe57508c7",
   "metadata": {},
   "source": [
    "#### Sparks dilinde değişken atama\n",
    "Değişken ←İfade (sayısal karakter veya sözel karakter)\n",
    "\n",
    "    X←2 \n",
    "    Y←-8 \n",
    "    Z←X-Y "
   ]
  },
  {
   "cell_type": "markdown",
   "id": "da9aa7e7-4ba0-4a7c-8dd3-70cec504f350",
   "metadata": {},
   "source": [
    "### Klavyeden girilen değeri okuma\n",
    "\n",
    "READ X\n",
    "\n",
    "Yukarıda 2 olarak tanımlanan X değişkenini program okudu. $X=2$'dir, dedi."
   ]
  },
  {
   "cell_type": "markdown",
   "id": "931b639d-bab6-4da7-8214-ad8e8d77387a",
   "metadata": {},
   "source": [
    "### Ekrana değer bastırma(döndürme)\n",
    "```c\n",
    "PRINT 'Lütfen bir değer giriniz: ' \n",
    "READ Z (klavyeden girilen değer) \n",
    "PRINT'Girilen değer=', Z \n",
    "```"
   ]
  },
  {
   "cell_type": "markdown",
   "id": "5c856e01-1523-479a-92ae-a6b4ff2dcb45",
   "metadata": {},
   "source": [
    "<b>Ekran görüntüsü:</b> \n",
    "```\n",
    "Lütfen bir değer giriniz: 8 \n",
    "Girilen değer = 8 \n",
    "```"
   ]
  },
  {
   "cell_type": "markdown",
   "id": "2d7bfb6c-e1f0-4121-a1f8-68ea59226136",
   "metadata": {},
   "source": [
    "<hr style=\"border: 0.5px solid gray; margin: 25px 0;\">"
   ]
  },
  {
   "cell_type": "markdown",
   "id": "06c6ae75-6943-438a-aa1e-7de9770d21e5",
   "metadata": {},
   "source": [
    "<b>ÖRNEK:</b> Alt ve üst sınırları kullanıcı tarafından belirlenen bir aralıktaki sayıların toplamı belirlenmek isteniyor. Sonucu bulan ve dış ortama aktaran algoritmayı SPARKS dilinde tasarlayınız. "
   ]
  },
  {
   "cell_type": "markdown",
   "id": "db858772-498c-41a2-ab67-66b28f318da3",
   "metadata": {},
   "source": [
    "### SPARKS KODU"
   ]
  },
  {
   "cell_type": "markdown",
   "id": "77c56e26-5974-4c77-a9d5-64d473a4144e",
   "metadata": {},
   "source": [
    "```c\n",
    "1:  PRINT 'Lütfen bir alt sınır değeri giriniz: ' \n",
    "    READ alt_sinir \n",
    "    PRINT 'Lütfen bir üst sınır değeri giriniz: ' \n",
    "    READ ust_sinir \n",
    "    IF alt_sinir >= ust_sinir THEN GOTO 1 ENDIF \n",
    "    S←alt_sinir \n",
    "    Toplam ← S \n",
    "2:  S ← S + 1\n",
    "    Toplam ← Toplam + S \n",
    "    IF S < ust_sinir THEN GOTO 2 ENDIF \n",
    "    PRINT alt_sinir, 've', ust sinir, 'arasındaki değerlerin toplamı=', Toplam \n",
    "```"
   ]
  },
  {
   "cell_type": "markdown",
   "id": "5a6fb2b7-63da-49ae-93ee-7774d23256f9",
   "metadata": {},
   "source": [
    "Eğer alt_sinir=1 ve ust_sinir=6 girilirse programın vereceği çıktı:\n",
    "```\n",
    "1 ve 6 arasındaki değerlerin toplamı= 21\n",
    "```"
   ]
  },
  {
   "cell_type": "markdown",
   "id": "6df026d5-32d2-46fd-9fde-1a85b899a5d8",
   "metadata": {},
   "source": [
    "<hr style=\"border: 0.5px solid gray; margin: 25px 0;\">"
   ]
  },
  {
   "cell_type": "markdown",
   "id": "e40a6b9d-0af5-445b-b788-6e5bde0658b8",
   "metadata": {},
   "source": [
    "## KOŞULLU İFADELER IF-ENDIF\n",
    "\n",
    "```C#\n",
    "IF <Koşul İfadesi Yaz> THEN \n",
    "    <Koşul Sağlanırsa Yapılacak İşlemler> \n",
    "ENDİIF \n",
    "GOTO <Gidilecek Satırın Numarası> \n",
    "```"
   ]
  },
  {
   "cell_type": "markdown",
   "id": "28cf9eb2-c258-4004-8ad4-901eb9d1e75e",
   "metadata": {},
   "source": [
    "<b>ÖRNEK:</b> İki pozitif sayı arasındaki tek sayıların toplamını bulan ve dış ortama aktaran algoritmayı SPARKS dilinde kodlayınız."
   ]
  },
  {
   "cell_type": "markdown",
   "id": "051e9b74-9c73-4f06-8ab5-7b3e6ccc9dc3",
   "metadata": {},
   "source": [
    "### SPARKS KODU"
   ]
  },
  {
   "cell_type": "markdown",
   "id": "e9a1e8b9-fbe7-4711-8df2-5c93af8d9a4d",
   "metadata": {},
   "source": [
    "```C#\n",
    "1:  PRINT 'İlk sayıyı giriniz:' \n",
    "    READ S1 \n",
    "    IF S1<0 THEN GOTO 1 ENDIF \n",
    "2:  PRINT 'İkinci sayıyı giriniz:' \n",
    "    READ S2 \n",
    "    IF S2<0 THEN GOTO 2 ENDIF \n",
    "    Toplam←0\n",
    "    IF S1>S2 THEN \n",
    "        alt←S2 \n",
    "        ust←S1 \n",
    "4:      k←alt \n",
    "        IF k<2 THEN \n",
    "            IF k=1 THEN \n",
    "                Toplam←Toplam+k \n",
    "            ENDIF \n",
    "        ENDIF \n",
    "        IF k>=2 THEN \n",
    "3:          k←k-2 \n",
    "            IF k>=2 THEN GOTO 3 ENDIF \n",
    "            IF k←1 THEN \n",
    "                Toplam←Toplam+alt \n",
    "            ENDIF \n",
    "        ENDIF \n",
    "        alt←alt+1 \n",
    "        IF alt<S1 THEN GOTO 4 ENDIF \n",
    "    ENDIF \n",
    "    IF S1<S2 THEN \n",
    "        alt←S1 \n",
    "        ust←S2 \n",
    "6:      k←alt \n",
    "        IF k<2 THEN \n",
    "            IF k=1 THEN \n",
    "                Toplam←Toplam+k \n",
    "            ENDIF \n",
    "        ENDIF \n",
    "        IF k>=2 THEN \n",
    "5:          k←k-2 \n",
    "            IF k>=2 THEN GOTO 5 ENDIF \n",
    "            IF k=1 THEN \n",
    "                Toplam«Toplamtalt \n",
    "            ENDIF \n",
    "        ENDIF \n",
    "        alt←alt+1 \n",
    "        IF alt<S2 THEN GOTO 6 ENDIF \n",
    "    ENDIF \n",
    "    PRINT S1, 've', S2, 'arasındaki tek sayıların toplamı=', Toplam\n",
    "\n",
    "```"
   ]
  },
  {
   "cell_type": "markdown",
   "id": "92ab7db0-8134-420c-876e-78ee8d4cd299",
   "metadata": {},
   "source": [
    "<hr style=\"border: 0.5px solid gray; margin: 25px 0;\">"
   ]
  },
  {
   "cell_type": "markdown",
   "id": "5652dc39-72e0-4ba8-9482-b901dd8b805a",
   "metadata": {},
   "source": [
    "<b>SORU:</b> 1 ile 500 arasındaki 3 ile bölünen sayıların toplamını bulan ve sonucu dış ortama aktaran algoritmayı SPARKS dilinde tasarlayınız. "
   ]
  },
  {
   "cell_type": "markdown",
   "id": "d1f7e994-016f-4925-8e29-41c197c2ed33",
   "metadata": {},
   "source": [
    "### SPARKS KODU"
   ]
  },
  {
   "cell_type": "markdown",
   "id": "73c2d559-9c7a-43ec-b62d-33e2d936fa1e",
   "metadata": {},
   "source": [
    "```c#\n",
    "    S←3 \n",
    "    Toplam←0 \n",
    "5:  Toplam←Toplam+S \n",
    "    IF S<500 THEN \n",
    "        S←S+3 \n",
    "        GOTO 5 \n",
    "    ENDIF \n",
    "    PRINT '1 ve 500 arasındaki 3 ile bölünen sayıların toplamı=', Toplam \n",
    "```"
   ]
  },
  {
   "cell_type": "markdown",
   "id": "3683a170-e978-49e8-8fb7-beaf43bbe8ac",
   "metadata": {},
   "source": [
    "### 2.YOL"
   ]
  },
  {
   "cell_type": "markdown",
   "id": "85e5b2eb-6808-4716-9683-421428bb94ff",
   "metadata": {},
   "source": [
    "```c#\n",
    "    K←3 \n",
    "    Toplam←3 \n",
    "10: IF K<500 THEN\n",
    "        K←K+1\n",
    "    ENDIF \n",
    "    S←K \n",
    "5:  S←S-3\n",
    "    IF S>=3 THEN GOTO 5 ENDIF \n",
    "    IF S=0 THEN \n",
    "        Toplam←Toplam+K\n",
    "        GOTO 10\n",
    "    ENDIF \n",
    "    PRINT '1 ve 500 arasındaki 3 ile bölünen sayıların toplamı=', Toplam \n",
    "```"
   ]
  },
  {
   "cell_type": "markdown",
   "id": "5e7494f6-1cbd-4e77-8747-05938499572f",
   "metadata": {},
   "source": [
    "<hr style=\"border: 0.5px solid gray; margin: 25px 0;\">"
   ]
  },
  {
   "cell_type": "markdown",
   "id": "a813b28c-be1a-4710-99f8-a776357739c1",
   "metadata": {},
   "source": [
    "<b>SORU:</b> Bilinmeyen sayıda girilen sayılardan 5 ile kalansız bölünen sayıların kaç adet olduğunu ve bu sayıların geometrik ortalamasını bulan ve dış ortama aktaran algoritmayı SPARKS dilinde tasarlayınız. "
   ]
  },
  {
   "cell_type": "markdown",
   "id": "06aa9ac3-b7d9-449a-a2e3-39b28aa428f9",
   "metadata": {},
   "source": [
    "### SPARKS KODU"
   ]
  },
  {
   "cell_type": "markdown",
   "id": "4fcb8478-4379-4ad0-b672-1cb22d5eeff1",
   "metadata": {},
   "source": [
    "```c#\n",
    "    NS←0\n",
    "    PS←0 \n",
    "    Carpim←1 \n",
    "1:  PRINT 'Bir sayı giriniz:'\n",
    "    READ X \n",
    "    IF X<0 THEN \n",
    "        k←(-1)*X \n",
    "        IF k>=5 THEN \n",
    "2:         k←k-5 \n",
    "            IF k>=5 GOTO 2 ENDIF \n",
    "        ENDIF \n",
    "        IF k=0 THEN \n",
    "            NS←NS+1 \n",
    "            Carpim←Carpim*X \n",
    "        ENDIF \n",
    "    ENDIF \n",
    "    IF X>=0 THEN \n",
    "        k←X \n",
    "        IF k>=5 THEN \n",
    "3:          k←k-5 \n",
    "            IF k>=5 GOTO 3 ENDIF \n",
    "        ENDIF \n",
    "        IF k=0 THEN \n",
    "            PS←PS+1 \n",
    "            Carpim←Carpim*X \n",
    "        ENDIF\n",
    "    ENDIF\n",
    "    PRINT 'Başka sayı girmek istiyor musunuz? E/e veya H/h' \n",
    "    READ Cevap \n",
    "    IF Cevap-'E:'| Cevap-'e' THEN GOTO 1 ENDIF \n",
    "    Toplam Adet←NS*PS \n",
    "    IF NS>=2 THEN\n",
    "4:      k←k-2\n",
    "        IF k>=2 THEN GOTO 4 ENDIF\n",
    "    ENDIF \n",
    "    IF NS=0 | k=0 THEN \n",
    "        Geometrik_ortalama←(Carpim)^1(1/Toplam_Adet)\n",
    "        PRINT '5 ile bölünen sayıların geometrik ortalaması', Geometrik ortalama \n",
    "    ENDIF\n",
    "    IF k=1 THEN \n",
    "        PRINT 'Çarpım negatif olduğu için geometrik ortalama hesaplanmamıştır.' \n",
    "    ENDIF \n",
    "```"
   ]
  },
  {
   "cell_type": "markdown",
   "id": "cbb205f9-7216-4bff-9c9e-b55245039f8e",
   "metadata": {},
   "source": [
    "### PYTHON KODU"
   ]
  },
  {
   "cell_type": "markdown",
   "id": "c2b69959-acba-40b5-be23-03b47eaaf1a5",
   "metadata": {},
   "source": [
    "```python\n",
    "import math # gerekli kutuphane\n",
    "sayac = 0\n",
    "carpim = 1\n",
    "\n",
    "while True:\n",
    "    girilen_sayi = input(\"Bir sayı girin (Programı sonlandırmak için 'q' ya basın): \")\n",
    "    if girilen_sayi == 'q':\n",
    "        break\n",
    "    else:\n",
    "        girilen_sayi = int(girilen_sayi)\n",
    "        if girilen_sayi % 5 == 0:\n",
    "            sayac += 1\n",
    "            carpim *= girilen_sayi\n",
    "\n",
    "if sayac == 0:\n",
    "    print(\"Girilen sayılar arasında 5'e tam bölünen bir sayı yok.\")\n",
    "else:\n",
    "    geometrik_ortalama = math.pow(carpim, 1/sayac)\n",
    "    print(\"Girilen sayılar arasında\", sayac, \"adet 5'e tam bölünen sayı var.\")\n",
    "    print(\"Bu sayıların geometrik ortalaması:\", geometrik_ortalama)\n",
    "```"
   ]
  },
  {
   "cell_type": "markdown",
   "id": "aa1bb635-7067-47cb-a315-1eed51fe1f2e",
   "metadata": {},
   "source": [
    "### C# KODU"
   ]
  },
  {
   "cell_type": "markdown",
   "id": "c6ae61b1-402a-4d49-b919-6c4c54e541b4",
   "metadata": {},
   "source": [
    "```c#\n",
    "using System;\n",
    "\n",
    "class Program {\n",
    "    static void Main(string[] args) {\n",
    "        // değişkenleri tanımla\n",
    "        int sayac = 0;\n",
    "        double carpim = 1;\n",
    "\n",
    "        // kullanıcıdan sayıları iste ve işle\n",
    "        while (true) {\n",
    "            Console.Write(\"Bir sayı girin (Programı sonlandırmak için 'q' ya basın): \");\n",
    "            string girilen_sayi = Console.ReadLine();\n",
    "            if (girilen_sayi == \"q\") {\n",
    "                break;\n",
    "            } else {\n",
    "                int sayi = int.Parse(girilen_sayi);\n",
    "                if (sayi % 5 == 0) {\n",
    "                    sayac++;\n",
    "                    carpim *= sayi;\n",
    "                }\n",
    "            }\n",
    "        }\n",
    "\n",
    "        // sonuçları ekrana yazdır\n",
    "        if (sayac == 0) {\n",
    "            Console.WriteLine(\"Girilen sayılar arasında 5'e tam bölünen bir sayı yok.\");\n",
    "        } else {\n",
    "            double geometrik_ortalama = Math.Pow(carpim, 1.0 / sayac);\n",
    "            Console.WriteLine(\"Girilen sayılar arasında {0} adet 5'e tam bölünen sayı var.\", sayac);\n",
    "            Console.WriteLine(\"Bu sayıların geometrik ortalaması: {0}\", geometrik_ortalama);\n",
    "        }\n",
    "    }\n",
    "}\n",
    "```"
   ]
  },
  {
   "cell_type": "markdown",
   "id": "dd11b9f5-9859-4e1e-bc37-615d830e7c60",
   "metadata": {},
   "source": [
    "<hr style=\"border: 0.5px solid gray; margin: 25px 0;\">"
   ]
  },
  {
   "cell_type": "markdown",
   "id": "b55f1ec4-afc3-4aaa-9fad-13588f020827",
   "metadata": {},
   "source": [
    "<b>SORU:</b> Bilinmeyen sayıda girilen sayıların ortalamasını, varyansını ve harmonik ortalamasını bulan ve dış ortama aktaran algoritmayı SPARKS dilinde tasarlayınız."
   ]
  },
  {
   "cell_type": "markdown",
   "id": "76cef9ae-5f96-4af8-8682-4227857b5c43",
   "metadata": {},
   "source": [
    "### SPARKS KODU"
   ]
  },
  {
   "cell_type": "markdown",
   "id": "6f4c80e6-8fcb-45fe-9a44-bd6061b594b1",
   "metadata": {},
   "source": [
    "```C#\n",
    "    Toplam←0 \n",
    "    HT←0\n",
    "    KareToplam←0 \n",
    "    Adet←0\n",
    "1:  PRINT 'Bir sayı giriniz:' \n",
    "    READ S \n",
    "    IF S=0 THEN \n",
    "        PRINT 'Sıfırdan farklı bir sayı giriniz.'\n",
    "        GOTO 1 \n",
    "    ENDIF \n",
    "    Toplam←Toplam+S \n",
    "    HT←HT+1/S \n",
    "    KareToplam←KareToplam+S^2 \n",
    "    Adet←Adet+1 \n",
    "    PRINT 'Başka bir sayı girmek istiyor musunuz? E/e veya H/h' \n",
    "    READ Cevap \n",
    "    IF Cevap-'E'| Cevap='e' THEN GOTO 1 ENDIF \n",
    "    PRINT 'Girilen sayıların ortalaması=', Toplam/Adet \n",
    "    PRINT 'Girilen sayıların varyansı=', (KareToplam-(Toplam^2)/Adet)/(Adet-1) \n",
    "    PRINT 'Girilen sayıların harmonik ortalaması=', Adet/HT \n",
    "```"
   ]
  },
  {
   "cell_type": "markdown",
   "id": "9867a0be-e3f1-4c63-a350-b78068ca9c29",
   "metadata": {},
   "source": [
    "### PYTHON KODU"
   ]
  },
  {
   "cell_type": "markdown",
   "id": "83ffbaf7-2d0d-4032-91da-9908632d5bb2",
   "metadata": {},
   "source": [
    "```python\n",
    "sayilar = []\n",
    "while True:\n",
    "    sayi = input(\"Bir sayı girin (çıkmak için q): \")\n",
    "    if sayi == 'q':\n",
    "        break\n",
    "    sayilar.append(float(sayi))\n",
    "\n",
    "n = len(sayilar)\n",
    "ortalama = sum(sayilar) / n\n",
    "varyans = sum((x - ortalama) ** 2 for x in sayilar) / n\n",
    "h_ortalama = n / sum(1/x for x in sayilar)\n",
    "\n",
    "print(f\"Ortalama: {ortalama}\")\n",
    "print(f\"Varyans: {varyans}\")\n",
    "print(f\"Harmonik Ortalama: {h_ortalama}\")\n",
    "```"
   ]
  },
  {
   "cell_type": "markdown",
   "id": "80ba2fce-ba06-4d56-8237-2864b9f787b9",
   "metadata": {},
   "source": [
    "### C# KODU"
   ]
  },
  {
   "cell_type": "markdown",
   "id": "53171c68-1bf2-4df1-9d58-7146ab051a1d",
   "metadata": {},
   "source": [
    "```c#\n",
    "using System;\n",
    "\n",
    "class Program\n",
    "{\n",
    "    static void Main(string[] args)\n",
    "    {\n",
    "        var sayilar = new List<double>();\n",
    "        while (true)\n",
    "        {\n",
    "            Console.Write(\"Bir sayı girin (çıkmak için q): \");\n",
    "            var girilenSayi = Console.ReadLine();\n",
    "            if (girilenSayi == \"q\")\n",
    "            {\n",
    "                break;\n",
    "            }\n",
    "            sayilar.Add(Convert.ToDouble(girilenSayi));\n",
    "        }\n",
    "\n",
    "        var n = sayilar.Count;\n",
    "        var ortalama = sayilar.Sum() / n;\n",
    "        var varyans = sayilar.Sum(x => Math.Pow(x - ortalama, 2)) / n;\n",
    "        var h_ortalama = n / sayilar.Sum(x => 1 / x);\n",
    "\n",
    "        Console.WriteLine($\"Ortalama: {ortalama}\");\n",
    "        Console.WriteLine($\"Varyans: {varyans}\");\n",
    "        Console.WriteLine($\"Harmonik Ortalama: {h_ortalama}\");\n",
    "    }\n",
    "}\n",
    "```"
   ]
  },
  {
   "cell_type": "markdown",
   "id": "38c05723-5e2d-4e27-a678-ca169aeed398",
   "metadata": {},
   "source": [
    "<hr style=\"border: 0.5px solid gray; margin: 25px 0;\">"
   ]
  }
 ],
 "metadata": {
  "kernelspec": {
   "display_name": "Python 3 (ipykernel)",
   "language": "python",
   "name": "python3"
  },
  "language_info": {
   "codemirror_mode": {
    "name": "ipython",
    "version": 3
   },
   "file_extension": ".py",
   "mimetype": "text/x-python",
   "name": "python",
   "nbconvert_exporter": "python",
   "pygments_lexer": "ipython3",
   "version": "3.9.16"
  }
 },
 "nbformat": 4,
 "nbformat_minor": 5
}
